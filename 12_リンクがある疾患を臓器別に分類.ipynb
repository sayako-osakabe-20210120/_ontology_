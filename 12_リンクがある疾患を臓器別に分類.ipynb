{
 "cells": [
  {
   "cell_type": "code",
   "execution_count": 1,
   "id": "80920fc5",
   "metadata": {},
   "outputs": [],
   "source": [
    "# ライブラリ読み込み\n",
    "import pandas as pd\n",
    "import matplotlib.pyplot as plt\n",
    "import networkx as nx\n",
    "import os\n",
    "import pickle\n",
    "from tqdm.notebook import tqdm\n",
    "import japanize_matplotlib\n",
    "import matplotlib.cm as cm"
   ]
  },
  {
   "cell_type": "markdown",
   "id": "37db8c9f",
   "metadata": {},
   "source": [
    "!pip install japanize-matplotlib"
   ]
  },
  {
   "cell_type": "code",
   "execution_count": 2,
   "id": "8f8917d4",
   "metadata": {},
   "outputs": [],
   "source": [
    "path_1 = \"./folder_05/\"\n",
    "file_mesh = 'mesh_list_2021.pickle'\n",
    "file_hsdn = \"hsdn.csv\"\n",
    "file_category =  \"category.csv\""
   ]
  },
  {
   "cell_type": "code",
   "execution_count": 3,
   "id": "a0830ef7",
   "metadata": {},
   "outputs": [],
   "source": [
    "#HSDN読込\n",
    "hsdn = pd.read_csv(path_1+file_hsdn)\n",
    "#閾値設定\n",
    "hsdn = hsdn[hsdn[\"cosine_similarity\"]>0.1]"
   ]
  },
  {
   "cell_type": "code",
   "execution_count": 4,
   "id": "5ca63d2e",
   "metadata": {},
   "outputs": [
    {
     "name": "stdout",
     "output_type": "stream",
     "text": [
      "all_mesh: 29917 disease_mesh: 4887\n"
     ]
    }
   ],
   "source": [
    "#2021_mesh\n",
    "with open(file_mesh, 'rb') as f:\n",
    "    mesh_list = pickle.load(f)\n",
    "\n",
    "#Zhouらの定義した疾患MeSH\n",
    "all_disease = [descriptor for descriptor in mesh_list for uid in descriptor[-1] if ((uid.startswith(\"C\")==True) & (uid.startswith(\"C22\")!=True)&(uid.startswith(\"C23.888\")!=True)) | (uid.startswith(\"F03\")==True) ]\n",
    "\n",
    "#重複削除\n",
    "disease_mesh = []\n",
    "[dm for dm in all_disease if dm not in disease_mesh and not disease_mesh.append(dm)]\n",
    "\n",
    "print(\"all_mesh:\", len(mesh_list), \"disease_mesh:\", len(disease_mesh))"
   ]
  },
  {
   "cell_type": "code",
   "execution_count": 5,
   "id": "e20f162a",
   "metadata": {},
   "outputs": [
    {
     "name": "stdout",
     "output_type": "stream",
     "text": [
      "12542\n"
     ]
    }
   ],
   "source": [
    "#treecode単位にMeSHデータをばらす\n",
    "each_category = [[i[1], category] for i in disease_mesh for category in i[2]]\n",
    "print(len(each_category))"
   ]
  },
  {
   "cell_type": "code",
   "execution_count": 6,
   "id": "b9a7b01d",
   "metadata": {},
   "outputs": [],
   "source": [
    "#臓器の日本語名(ja)で分類する\n",
    "#「臓器名か臓器+diseases等…」を持つメッシュ語彙を探し、その英語表記形(en)とツリー番号(treecode)を取り出したもの\n",
    "cate_ja = pd.read_csv(path_1+file_category)"
   ]
  },
  {
   "cell_type": "code",
   "execution_count": 7,
   "id": "70436c04",
   "metadata": {},
   "outputs": [
    {
     "data": {
      "text/html": [
       "<div>\n",
       "<style scoped>\n",
       "    .dataframe tbody tr th:only-of-type {\n",
       "        vertical-align: middle;\n",
       "    }\n",
       "\n",
       "    .dataframe tbody tr th {\n",
       "        vertical-align: top;\n",
       "    }\n",
       "\n",
       "    .dataframe thead th {\n",
       "        text-align: right;\n",
       "    }\n",
       "</style>\n",
       "<table border=\"1\" class=\"dataframe\">\n",
       "  <thead>\n",
       "    <tr style=\"text-align: right;\">\n",
       "      <th></th>\n",
       "      <th>ja</th>\n",
       "      <th>en</th>\n",
       "      <th>treecode</th>\n",
       "    </tr>\n",
       "  </thead>\n",
       "  <tbody>\n",
       "    <tr>\n",
       "      <th>0</th>\n",
       "      <td>胃</td>\n",
       "      <td>Stomach</td>\n",
       "      <td>A03.556.875.875</td>\n",
       "    </tr>\n",
       "    <tr>\n",
       "      <th>1</th>\n",
       "      <td>胃</td>\n",
       "      <td>Gastrointestinal Diseases</td>\n",
       "      <td>C06.405</td>\n",
       "    </tr>\n",
       "    <tr>\n",
       "      <th>2</th>\n",
       "      <td>肝臓</td>\n",
       "      <td>Liver</td>\n",
       "      <td>A03.620</td>\n",
       "    </tr>\n",
       "    <tr>\n",
       "      <th>3</th>\n",
       "      <td>肝臓</td>\n",
       "      <td>Liver Diseases</td>\n",
       "      <td>C06.552</td>\n",
       "    </tr>\n",
       "    <tr>\n",
       "      <th>4</th>\n",
       "      <td>筋肉</td>\n",
       "      <td>Muscles</td>\n",
       "      <td>A02.633</td>\n",
       "    </tr>\n",
       "  </tbody>\n",
       "</table>\n",
       "</div>"
      ],
      "text/plain": [
       "    ja                           en         treecode\n",
       "0   胃                      Stomach   A03.556.875.875\n",
       "1   胃    Gastrointestinal Diseases           C06.405\n",
       "2  肝臓                        Liver           A03.620\n",
       "3  肝臓               Liver Diseases           C06.552\n",
       "4  筋肉                      Muscles           A02.633"
      ]
     },
     "execution_count": 7,
     "metadata": {},
     "output_type": "execute_result"
    }
   ],
   "source": [
    "cate_ja[:5]"
   ]
  },
  {
   "cell_type": "code",
   "execution_count": 8,
   "id": "ba91af08",
   "metadata": {},
   "outputs": [
    {
     "name": "stdout",
     "output_type": "stream",
     "text": [
      "3441\n"
     ]
    }
   ],
   "source": [
    "#treecode単位でばらしたMeSHデータのうち日本語分類cate_jaのtreecodeに属しているもの を取り出す\n",
    "cate_ja_df = pd.DataFrame()\n",
    "for term in each_category:\n",
    "    for ja, treecode in zip(cate_ja[\"ja\"], cate_ja[\"treecode\"]):\n",
    "        if term[1].startswith(treecode):\n",
    "            tmp_df = pd.DataFrame([term[0], term[1], ja, treecode]).T\n",
    "            cate_ja_df = pd.concat([cate_ja_df, tmp_df], axis=0)\n",
    "cate_ja_df.columns=[\"disease_2\", \"mesh_treecode\", \"ja\", \"ja_mesh_treecode\"]\n",
    "cate_ja_df = cate_ja_df.reset_index(drop=True)\n",
    "print(len(cate_ja_df))"
   ]
  },
  {
   "cell_type": "code",
   "execution_count": 9,
   "id": "0d2f638b",
   "metadata": {},
   "outputs": [
    {
     "data": {
      "text/plain": [
       "[['Abdominal Injuries', 'C26.017'],\n",
       " ['Abdominal Neoplasms', 'C04.588.033'],\n",
       " ['Abetalipoproteinemia', 'C16.320.565.398.500.440.500']]"
      ]
     },
     "execution_count": 9,
     "metadata": {},
     "output_type": "execute_result"
    }
   ],
   "source": [
    "each_category[:3]"
   ]
  },
  {
   "cell_type": "code",
   "execution_count": 10,
   "id": "ca2642b3",
   "metadata": {
    "scrolled": true
   },
   "outputs": [
    {
     "data": {
      "text/html": [
       "<div>\n",
       "<style scoped>\n",
       "    .dataframe tbody tr th:only-of-type {\n",
       "        vertical-align: middle;\n",
       "    }\n",
       "\n",
       "    .dataframe tbody tr th {\n",
       "        vertical-align: top;\n",
       "    }\n",
       "\n",
       "    .dataframe thead th {\n",
       "        text-align: right;\n",
       "    }\n",
       "</style>\n",
       "<table border=\"1\" class=\"dataframe\">\n",
       "  <thead>\n",
       "    <tr style=\"text-align: right;\">\n",
       "      <th></th>\n",
       "      <th>disease_2</th>\n",
       "      <th>mesh_treecode</th>\n",
       "      <th>ja</th>\n",
       "      <th>ja_mesh_treecode</th>\n",
       "    </tr>\n",
       "  </thead>\n",
       "  <tbody>\n",
       "    <tr>\n",
       "      <th>0</th>\n",
       "      <td>Acantholysis</td>\n",
       "      <td>C17.800.865.070</td>\n",
       "      <td>皮膚</td>\n",
       "      <td>C17.800</td>\n",
       "    </tr>\n",
       "    <tr>\n",
       "      <th>1</th>\n",
       "      <td>Acanthosis Nigricans</td>\n",
       "      <td>C17.800.621.430.530.100</td>\n",
       "      <td>皮膚</td>\n",
       "      <td>C17.800</td>\n",
       "    </tr>\n",
       "    <tr>\n",
       "      <th>2</th>\n",
       "      <td>Drug Resistant Epilepsy</td>\n",
       "      <td>C10.228.140.490.125</td>\n",
       "      <td>脳</td>\n",
       "      <td>C10.228.140</td>\n",
       "    </tr>\n",
       "  </tbody>\n",
       "</table>\n",
       "</div>"
      ],
      "text/plain": [
       "                 disease_2            mesh_treecode   ja ja_mesh_treecode\n",
       "0             Acantholysis          C17.800.865.070  皮膚           C17.800\n",
       "1     Acanthosis Nigricans  C17.800.621.430.530.100  皮膚           C17.800\n",
       "2  Drug Resistant Epilepsy      C10.228.140.490.125   脳       C10.228.140"
      ]
     },
     "execution_count": 10,
     "metadata": {},
     "output_type": "execute_result"
    }
   ],
   "source": [
    "cate_ja_df[:3]"
   ]
  },
  {
   "cell_type": "code",
   "execution_count": 11,
   "id": "11b8b6f2",
   "metadata": {},
   "outputs": [],
   "source": [
    "#targetの疾患名のMeSH表記形リストを作成\n",
    "target_list = [\"Diabetes Mellitus, Type 2\", \"Diabetes Mellitus, Type 1\", \"Arthritis, Rheumatoid\",\"Schizophrenia\" ]\n",
    "#指定された疾患\n",
    "#Type 2 Diabetes, →Diabetes Mellitus, Type 2\n",
    "#Type1 Diabetes, →Diabetes Mellitus, Type 1\n",
    "#Rheumatoid arthritis, →Arthritis, Rheumatoid\n",
    "#Schizophrenia →Schizophrenia"
   ]
  },
  {
   "cell_type": "code",
   "execution_count": 12,
   "id": "3715dd99",
   "metadata": {},
   "outputs": [
    {
     "ename": "NameError",
     "evalue": "name 'np' is not defined",
     "output_type": "error",
     "traceback": [
      "\u001b[0;31m---------------------------------------------------------------------------\u001b[0m",
      "\u001b[0;31mNameError\u001b[0m                                 Traceback (most recent call last)",
      "\u001b[0;32m<ipython-input-12-ba6b7aabdf43>\u001b[0m in \u001b[0;36m<module>\u001b[0;34m\u001b[0m\n\u001b[1;32m      4\u001b[0m \u001b[0;34m\u001b[0m\u001b[0m\n\u001b[1;32m      5\u001b[0m \u001b[0msize\u001b[0m\u001b[0;34m=\u001b[0m\u001b[0;34m(\u001b[0m\u001b[0;36m5\u001b[0m\u001b[0;34m,\u001b[0m\u001b[0;36m4\u001b[0m\u001b[0;34m)\u001b[0m \u001b[0;31m#凡例を配置するため横長に\u001b[0m\u001b[0;34m\u001b[0m\u001b[0;34m\u001b[0m\u001b[0m\n\u001b[0;32m----> 6\u001b[0;31m \u001b[0mcol\u001b[0m\u001b[0;34m=\u001b[0m\u001b[0mcm\u001b[0m\u001b[0;34m.\u001b[0m\u001b[0mPastel1\u001b[0m\u001b[0;34m(\u001b[0m\u001b[0mnp\u001b[0m\u001b[0;34m.\u001b[0m\u001b[0marange\u001b[0m\u001b[0;34m(\u001b[0m\u001b[0mcate_ja\u001b[0m\u001b[0;34m[\u001b[0m\u001b[0;34m\"ja\"\u001b[0m\u001b[0;34m]\u001b[0m\u001b[0;34m.\u001b[0m\u001b[0mnunique\u001b[0m\u001b[0;34m(\u001b[0m\u001b[0;34m)\u001b[0m\u001b[0;34m)\u001b[0m\u001b[0;34m/\u001b[0m\u001b[0;34m(\u001b[0m\u001b[0mcate_ja\u001b[0m\u001b[0;34m[\u001b[0m\u001b[0;34m\"ja\"\u001b[0m\u001b[0;34m]\u001b[0m\u001b[0;34m.\u001b[0m\u001b[0mnunique\u001b[0m\u001b[0;34m(\u001b[0m\u001b[0;34m)\u001b[0m\u001b[0;34m)\u001b[0m\u001b[0;34m)\u001b[0m\u001b[0;34m\u001b[0m\u001b[0;34m\u001b[0m\u001b[0m\n\u001b[0m\u001b[1;32m      7\u001b[0m \u001b[0;31m#colormap\u001b[0m\u001b[0;34m\u001b[0m\u001b[0;34m\u001b[0m\u001b[0;34m\u001b[0m\u001b[0m\n\u001b[1;32m      8\u001b[0m \u001b[0;31m#https://matplotlib.org/2.0.2/examples/color/colormaps_reference.html\u001b[0m\u001b[0;34m\u001b[0m\u001b[0;34m\u001b[0m\u001b[0;34m\u001b[0m\u001b[0m\n",
      "\u001b[0;31mNameError\u001b[0m: name 'np' is not defined"
     ]
    }
   ],
   "source": [
    "#グラフの設定\n",
    "plt.style.use('ggplot')\n",
    "plt.rcParams.update({'font.size':8})\n",
    "\n",
    "size=(5,4) #凡例を配置するため横長に\n",
    "col=cm.Pastel1(np.arange(cate_ja[\"ja\"].nunique())/(cate_ja[\"ja\"].nunique())) \n",
    "#colormap\n",
    "#https://matplotlib.org/2.0.2/examples/color/colormaps_reference.html"
   ]
  },
  {
   "cell_type": "code",
   "execution_count": null,
   "id": "3d599a53",
   "metadata": {},
   "outputs": [],
   "source": [
    "#円グラフ作成関数の定義\n",
    "\n",
    "def make_pie(target):\n",
    "    \n",
    "    #disease_1列がtargetのもの\n",
    "    tmp_df = hsdn[(hsdn[\"disease_1\"]==target)].reset_index(drop=True)\n",
    "    #disease_2列がtargetのもの\n",
    "    tmptmp_df = hsdn[(hsdn[\"disease_2\"]==target)][[\"disease_2\", \"disease_1\",\"cosine_similarity\"]].reset_index(drop=True)\n",
    "    #tmp_dfと合体させるため列名を変更\n",
    "    tmptmp_df = tmptmp_df.rename(columns={\"disease_2\":\"disease_1\", \"disease_1\":\"disease_2\"})\n",
    "    #合体\n",
    "    df = pd.concat([tmp_df, tmptmp_df], axis=0)\n",
    "    df = df.sort_values(by=\"cosine_similarity\", ascending=False)\n",
    "    df = df.reset_index(drop=True)\n",
    "    #print(len(tmp_df), len(tmptmp_df), len(df),\"重複件数:\", len(df[df.duplicated()]))\n",
    "    target_with_category= pd.merge(df, cate_ja_df, on=\"disease_2\")\n",
    "    target_with_category.to_csv(target+\".csv\", index=False)\n",
    "    \n",
    "    data = target_with_category.value_counts(\"ja\")\n",
    "    label=target_with_category.value_counts(\"ja\").index\n",
    "\n",
    "    plt.figure(figsize=size, dpi=100)\n",
    "    plt.pie(data, colors=col,\n",
    "            counterclock=False,\n",
    "            startangle=90,\n",
    "            autopct=lambda p:'{:.1f}%'.format(p) if p>=3 else '', #autopct='%1.1f%%',\n",
    "           )\n",
    "    plt.subplots_adjust(left=0,\n",
    "                        right=0.7)\n",
    "    plt.legend(label,\n",
    "               fancybox=True,\n",
    "               loc='center left',\n",
    "               bbox_to_anchor=(0.9,0.5),\n",
    "              )\n",
    "    plt.axis('equal') \n",
    "    plt.savefig(target+'.png',bbox_inches='tight',pad_inches=0.05)\n",
    "    plt.title(target)\n",
    "    plt.show()   "
   ]
  },
  {
   "cell_type": "code",
   "execution_count": null,
   "id": "9d7f6901",
   "metadata": {},
   "outputs": [],
   "source": [
    "#実行\n",
    "for target in target_list:\n",
    "    make_pie(target)"
   ]
  },
  {
   "cell_type": "code",
   "execution_count": null,
   "id": "83cf521a",
   "metadata": {},
   "outputs": [],
   "source": []
  }
 ],
 "metadata": {
  "kernelspec": {
   "display_name": "Python 3",
   "language": "python",
   "name": "python3"
  },
  "language_info": {
   "codemirror_mode": {
    "name": "ipython",
    "version": 3
   },
   "file_extension": ".py",
   "mimetype": "text/x-python",
   "name": "python",
   "nbconvert_exporter": "python",
   "pygments_lexer": "ipython3",
   "version": "3.8.8"
  }
 },
 "nbformat": 4,
 "nbformat_minor": 5
}
