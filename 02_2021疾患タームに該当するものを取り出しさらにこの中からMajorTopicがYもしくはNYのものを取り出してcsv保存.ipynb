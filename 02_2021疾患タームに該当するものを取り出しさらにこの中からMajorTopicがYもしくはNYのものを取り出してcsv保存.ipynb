{
 "cells": [
  {
   "cell_type": "code",
   "execution_count": 11,
   "id": "bd5e99af",
   "metadata": {},
   "outputs": [],
   "source": [
    "import os\n",
    "import pickle\n",
    "import glob\n",
    "import gzip\n",
    "from tqdm.notebook import tqdm #from tqdm import tqdm_notebook as tqdm\n",
    "import pandas as pd\n",
    "import numpy as np\n",
    "import networkx as nx\n",
    "import matplotlib.pyplot as plt\n",
    "import xml.etree.ElementTree as ET\n",
    "import defusedxml.ElementTree as ET\n",
    "from collections import OrderedDict\n",
    "import collections\n",
    "from collections import Counter\n",
    "import datetime\n"
   ]
  },
  {
   "cell_type": "code",
   "execution_count": 12,
   "id": "b4aa1a0e",
   "metadata": {},
   "outputs": [
    {
     "data": {
      "text/plain": [
       "'/home/admin_user/.local/share/Trash/files/folder_001'"
      ]
     },
     "execution_count": 12,
     "metadata": {},
     "output_type": "execute_result"
    }
   ],
   "source": [
    "os.getcwd()"
   ]
  },
  {
   "cell_type": "code",
   "execution_count": 13,
   "id": "3600a2d4",
   "metadata": {},
   "outputs": [
    {
     "name": "stdout",
     "output_type": "stream",
     "text": [
      "all_mesh: 29917 disease_mesh: 4887 symptom_mesh: 394\n"
     ]
    }
   ],
   "source": [
    "#2021_mesh\n",
    "os.chdir('/home/admin_user')\n",
    "filename_mesh = 'mesh_list_2021.pickle'\n",
    "with open(filename_mesh, 'rb') as f:\n",
    "    mesh_list = pickle.load(f)\n",
    "    \n",
    "all_disease = [descriptor for descriptor in mesh_list for uid in descriptor[-1] if ((uid.startswith(\"C\")==True) & (uid.startswith(\"C22\")!=True)&(uid.startswith(\"C23.888\")!=True)) | (uid.startswith(\"F03\")==True) ]\n",
    "all_symptom = [descriptor for descriptor in mesh_list  for uid in descriptor[-1] if (uid.startswith(\"C23.888\")==True)]\n",
    "\n",
    "#重複削除\n",
    "disease_mesh = []\n",
    "[dm for dm in all_disease if dm not in disease_mesh and not disease_mesh.append(dm)]\n",
    "symptom_mesh = []\n",
    "[ms for ms in all_symptom if ms not in symptom_mesh and not symptom_mesh.append(ms)]\n",
    "\n",
    "print(\"all_mesh:\", len(mesh_list), \"disease_mesh:\", len(disease_mesh), \"symptom_mesh:\", len(symptom_mesh))\n",
    "\n",
    "#ターム名だけ抽出\n",
    "disease_mesh_name_list = [i[1] for i in disease_mesh]\n",
    "symptom_mesh_name_list = [i[1] for i in symptom_mesh]"
   ]
  },
  {
   "cell_type": "code",
   "execution_count": 14,
   "id": "03531ca1",
   "metadata": {
    "scrolled": true
   },
   "outputs": [
    {
     "data": {
      "text/plain": [
       "1062"
      ]
     },
     "execution_count": 14,
     "metadata": {},
     "output_type": "execute_result"
    }
   ],
   "source": [
    "#folder_01 : MeSH単位の文献データ\n",
    "import glob\n",
    "os.chdir('/home/admin_user/デスクトップ/folder_01')\n",
    "csv_list = sorted(glob.glob('one_desc_one_qual_*.csv'))\n",
    "len(csv_list)\n"
   ]
  },
  {
   "cell_type": "code",
   "execution_count": 15,
   "id": "2d82af70",
   "metadata": {},
   "outputs": [],
   "source": [
    "#疾患を取り出す\n",
    "\n",
    "#  疾患の選択条件\n",
    "#     Descriptor_MajorTopic=Y\n",
    "#     or\n",
    "#     Descriptor_MajorTopic=N & Qualifier_MajorTopic=Y\n",
    "\n",
    "def select_decriptor_disease(df):\n",
    "\n",
    "    if len(df)>0:\n",
    "        \n",
    "        #メッシュ単位で 疾患MeSH 抽出\n",
    "        d_index_num = [enu for enu, i in enumerate(df[\"Descriptor\"]) if i in disease_mesh_name_list] \n",
    "        tmp_df = df.iloc[d_index_num]#.reset_index(drop=True)\n",
    "        \n",
    "        #疾患MeSH MajorTopicで絞り込む\n",
    "        tmptmp_df = tmp_df[ (tmp_df[\"Descriptor_MajorTopic\"]==\"Y\") | ( (tmp_df[\"Descriptor_MajorTopic\"]==\"N\") & (tmp_df[\"Qualifier_MajorTopic\"]==\"Y\"))]#[[\"pmid\",\"pubdate\",\"dname\",\"dui\"]]\n",
    "        tmptmp_df = tmptmp_df.reset_index(drop=True)\n",
    "\n",
    "        #make csv\n",
    "        os.chdir(path_2)\n",
    "        csvname = \"d_\"+file[18:-4]+\".csv\"\n",
    "        tmptmp_df.to_csv(csvname, index=False)\n",
    "\n",
    "    else:\n",
    "        tmptmp_df = pd.DataFrame(columns=[\"PMID\",\"PubDate\",\n",
    "                                          \"Descriptor\",\"Descriptor_UI\",\"Descriptor_MajorTopic\",\n",
    "                                          \"Qualifier\",\"Qualifier_UI\",\"Qualifier_MajorTopic\",\n",
    "                                         ])\n",
    "        \n",
    "        #make csv\n",
    "        os.chdir(path_2)\n",
    "        csvname = \"d_\"+file[18:-4]+\".csv\"\n",
    "        tmptmp_df.to_csv(csvname, index=False)  \n",
    "\n",
    "    os.chdir(path_1) \n",
    "    return"
   ]
  },
  {
   "cell_type": "code",
   "execution_count": 16,
   "id": "482fdaea",
   "metadata": {},
   "outputs": [],
   "source": [
    "path_1 = '/home/admin_user/デスクトップ/folder_01'\n",
    "path_2 = '/home/admin_user/デスクトップ/folder_02'"
   ]
  },
  {
   "cell_type": "code",
   "execution_count": 17,
   "id": "be909ccd",
   "metadata": {},
   "outputs": [
    {
     "name": "stdout",
     "output_type": "stream",
     "text": [
      "1062 ['one_desc_one_qual_0001.csv']\n"
     ]
    }
   ],
   "source": [
    "os.chdir(path_1)\n",
    "csv_list = sorted(glob.glob('one_desc_one_qual_*.csv'))\n",
    "print(len(csv_list), csv_list[:1])"
   ]
  },
  {
   "cell_type": "code",
   "execution_count": 18,
   "id": "61bad9a6",
   "metadata": {},
   "outputs": [
    {
     "data": {
      "application/vnd.jupyter.widget-view+json": {
       "model_id": "4afca69ae99d47869ccca16f84fda608",
       "version_major": 2,
       "version_minor": 0
      },
      "text/plain": [
       "  0%|          | 0/1062 [00:00<?, ?it/s]"
      ]
     },
     "metadata": {},
     "output_type": "display_data"
    }
   ],
   "source": [
    "#folder_02 に疾患CSV作成\n",
    "os.chdir(path_1)\n",
    "for file in tqdm(csv_list[:]):\n",
    "    df = pd.read_csv(file, engine='python') \n",
    "    select_decriptor_disease(df)    "
   ]
  },
  {
   "cell_type": "code",
   "execution_count": null,
   "id": "a7712028",
   "metadata": {},
   "outputs": [],
   "source": [
    "#疾患データの抽出完了"
   ]
  }
 ],
 "metadata": {
  "kernelspec": {
   "display_name": "Python 3",
   "language": "python",
   "name": "python3"
  },
  "language_info": {
   "codemirror_mode": {
    "name": "ipython",
    "version": 3
   },
   "file_extension": ".py",
   "mimetype": "text/x-python",
   "name": "python",
   "nbconvert_exporter": "python",
   "pygments_lexer": "ipython3",
   "version": "3.8.8"
  }
 },
 "nbformat": 4,
 "nbformat_minor": 5
}
