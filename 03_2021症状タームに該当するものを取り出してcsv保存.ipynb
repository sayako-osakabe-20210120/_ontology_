{
 "cells": [
  {
   "cell_type": "code",
   "execution_count": 1,
   "id": "bd5e99af",
   "metadata": {},
   "outputs": [],
   "source": [
    "import os\n",
    "import pickle\n",
    "import glob\n",
    "import gzip\n",
    "from tqdm.notebook import tqdm #from tqdm import tqdm_notebook as tqdm\n",
    "import pandas as pd\n",
    "import numpy as np\n",
    "import networkx as nx\n",
    "import matplotlib.pyplot as plt\n",
    "import xml.etree.ElementTree as ET\n",
    "import defusedxml.ElementTree as ET\n",
    "from collections import OrderedDict\n",
    "import collections\n",
    "from collections import Counter\n",
    "import datetime\n"
   ]
  },
  {
   "cell_type": "code",
   "execution_count": 2,
   "id": "b4aa1a0e",
   "metadata": {},
   "outputs": [
    {
     "data": {
      "text/plain": [
       "'/home/admin_user'"
      ]
     },
     "execution_count": 2,
     "metadata": {},
     "output_type": "execute_result"
    }
   ],
   "source": [
    "os.getcwd()"
   ]
  },
  {
   "cell_type": "code",
   "execution_count": 3,
   "id": "2a8cb39e",
   "metadata": {},
   "outputs": [],
   "source": [
    "#folder_01 : MeSHが付与されている文献データ"
   ]
  },
  {
   "cell_type": "code",
   "execution_count": 4,
   "id": "3600a2d4",
   "metadata": {},
   "outputs": [
    {
     "name": "stdout",
     "output_type": "stream",
     "text": [
      "all_mesh: 29917 disease_mesh: 4887 symptom_mesh: 394\n"
     ]
    }
   ],
   "source": [
    "#2021_mesh\n",
    "os.chdir('/home/admin_user')\n",
    "filename_mesh = 'mesh_list_2021.pickle'\n",
    "with open(filename_mesh, 'rb') as f:\n",
    "    mesh_list = pickle.load(f)\n",
    "    \n",
    "all_disease = [descriptor for descriptor in mesh_list for uid in descriptor[-1] if ((uid.startswith(\"C\")==True) & (uid.startswith(\"C22\")!=True)&(uid.startswith(\"C23.888\")!=True)) | (uid.startswith(\"F03\")==True) ]\n",
    "all_symptom = [descriptor for descriptor in mesh_list  for uid in descriptor[-1] if (uid.startswith(\"C23.888\")==True)]\n",
    "\n",
    "#重複削除\n",
    "disease_mesh = []\n",
    "[dm for dm in all_disease if dm not in disease_mesh and not disease_mesh.append(dm)]\n",
    "symptom_mesh = []\n",
    "[ms for ms in all_symptom if ms not in symptom_mesh and not symptom_mesh.append(ms)]\n",
    "\n",
    "print(\"all_mesh:\", len(mesh_list), \"disease_mesh:\", len(disease_mesh), \"symptom_mesh:\", len(symptom_mesh))\n",
    "\n",
    "#ターム名だけ抽出\n",
    "disease_mesh_name_list = [i[1] for i in disease_mesh]\n",
    "symptom_mesh_name_list = [i[1] for i in symptom_mesh]"
   ]
  },
  {
   "cell_type": "code",
   "execution_count": 5,
   "id": "03531ca1",
   "metadata": {
    "scrolled": true
   },
   "outputs": [
    {
     "name": "stdout",
     "output_type": "stream",
     "text": [
      "1062 ['one_desc_one_qual_0001.csv']\n"
     ]
    }
   ],
   "source": [
    "#folder_01 : MeSH単位の文献データ\n",
    "\n",
    "import glob\n",
    "os.chdir('/home/admin_user/デスクトップ/folder_01')\n",
    "csv_list = sorted(glob.glob('one_desc_one_qual_*.csv'))\n",
    "print(len(csv_list), csv_list[:1])"
   ]
  },
  {
   "cell_type": "code",
   "execution_count": 6,
   "id": "02a85bff",
   "metadata": {},
   "outputs": [],
   "source": [
    "def select_decriptor_symptom(df):\n",
    "\n",
    "    if len(df)>0:\n",
    "        \n",
    "        #メッシュ単位で 抽出\n",
    "        s_index_num = [enu for enu, i in enumerate(df[\"Descriptor\"]) if i in symptom_mesh_name_list] \n",
    "        tmp_df = df.iloc[s_index_num]#.reset_index(drop=True)\n",
    "        \n",
    "        #症状メッシュはMajorTopicで絞り込む必要はないのでそのまま用いる\n",
    "        tmp_df = tmp_df.reset_index(drop=True)\n",
    "\n",
    "        #make csv\n",
    "        os.chdir(path_2)\n",
    "        csvname = \"s_\"+file[18:-4]+\".csv\"\n",
    "        tmp_df.to_csv(csvname, index=False)\n",
    "\n",
    "    else:\n",
    "        tmp_df = pd.DataFrame(columns=[\"PMID\",\"PubDate\",\n",
    "                                       \"Descriptor\",\"Descriptor_UI\",\"Descriptor_MajorTopic\",\n",
    "                                       \"Qualifier\",\"Qualifier_UI\",\"Qualifier_MajorTopic\",\n",
    "                                      ])\n",
    "        \n",
    "        #make csv\n",
    "        os.chdir(path_2)\n",
    "        csvname = \"s_\"+file[18:-4]+\".csv\"\n",
    "        tmp_df.to_csv(csvname, index=False)  \n",
    "\n",
    "    os.chdir(path_1) \n",
    "    return"
   ]
  },
  {
   "cell_type": "code",
   "execution_count": 7,
   "id": "eea9a02b",
   "metadata": {},
   "outputs": [],
   "source": [
    "path_1 = '/home/admin_user/デスクトップ/folder_01'\n",
    "path_2 = '/home/admin_user/デスクトップ/folder_03'"
   ]
  },
  {
   "cell_type": "code",
   "execution_count": 8,
   "id": "4eaf9d66",
   "metadata": {},
   "outputs": [
    {
     "data": {
      "application/vnd.jupyter.widget-view+json": {
       "model_id": "c7b29e09424541b0872fcd8c8a6edf83",
       "version_major": 2,
       "version_minor": 0
      },
      "text/plain": [
       "  0%|          | 0/1062 [00:00<?, ?it/s]"
      ]
     },
     "metadata": {},
     "output_type": "display_data"
    }
   ],
   "source": [
    "#folder_03 に症状CSV作成\n",
    "\n",
    "os.chdir(path_1)\n",
    "for file in tqdm(csv_list[:]):\n",
    "    df = pd.read_csv(file, engine='python') \n",
    "    select_decriptor_symptom(df)"
   ]
  },
  {
   "cell_type": "code",
   "execution_count": 9,
   "id": "984db2ad",
   "metadata": {},
   "outputs": [],
   "source": [
    "#症状データの抽出完了"
   ]
  },
  {
   "cell_type": "code",
   "execution_count": null,
   "id": "d920379c",
   "metadata": {},
   "outputs": [],
   "source": []
  }
 ],
 "metadata": {
  "kernelspec": {
   "display_name": "Python 3",
   "language": "python",
   "name": "python3"
  },
  "language_info": {
   "codemirror_mode": {
    "name": "ipython",
    "version": 3
   },
   "file_extension": ".py",
   "mimetype": "text/x-python",
   "name": "python",
   "nbconvert_exporter": "python",
   "pygments_lexer": "ipython3",
   "version": "3.8.8"
  }
 },
 "nbformat": 4,
 "nbformat_minor": 5
}
