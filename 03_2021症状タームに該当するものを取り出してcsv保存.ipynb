{
 "cells": [
  {
   "cell_type": "code",
   "execution_count": 1,
   "id": "bd5e99af",
   "metadata": {},
   "outputs": [],
   "source": [
    "import os\n",
    "import pickle\n",
    "import glob\n",
    "import gzip\n",
    "from tqdm.notebook import tqdm #from tqdm import tqdm_notebook as tqdm\n",
    "import pandas as pd\n",
    "import datetime"
   ]
  },
  {
   "cell_type": "code",
   "execution_count": 2,
   "id": "3f6d2290",
   "metadata": {},
   "outputs": [],
   "source": [
    "path_0 = \"./folder_01\"\n",
    "path_1 = '../folder_01' #input\n",
    "path_2 = '../folder_03' #output"
   ]
  },
  {
   "cell_type": "code",
   "execution_count": 3,
   "id": "3600a2d4",
   "metadata": {},
   "outputs": [
    {
     "name": "stdout",
     "output_type": "stream",
     "text": [
      "all_mesh: 29917 disease_mesh: 4887 symptom_mesh: 394\n"
     ]
    }
   ],
   "source": [
    "#2021_mesh\n",
    "os.chdir('./')\n",
    "filename_mesh = 'mesh_list_2021.pickle'\n",
    "with open(filename_mesh, 'rb') as f:\n",
    "    mesh_list = pickle.load(f)\n",
    "    \n",
    "all_disease = [descriptor for descriptor in mesh_list for uid in descriptor[-1] if ((uid.startswith(\"C\")==True) & (uid.startswith(\"C22\")!=True)&(uid.startswith(\"C23.888\")!=True)) | (uid.startswith(\"F03\")==True) ]\n",
    "all_symptom = [descriptor for descriptor in mesh_list  for uid in descriptor[-1] if (uid.startswith(\"C23.888\")==True)]\n",
    "\n",
    "#重複削除\n",
    "disease_mesh = []\n",
    "[dm for dm in all_disease if dm not in disease_mesh and not disease_mesh.append(dm)]\n",
    "symptom_mesh = []\n",
    "[ms for ms in all_symptom if ms not in symptom_mesh and not symptom_mesh.append(ms)]\n",
    "\n",
    "print(\"all_mesh:\", len(mesh_list), \"disease_mesh:\", len(disease_mesh), \"symptom_mesh:\", len(symptom_mesh))\n",
    "\n",
    "#ターム名だけ抽出\n",
    "disease_mesh_name_list = [i[1] for i in disease_mesh]\n",
    "symptom_mesh_name_list = [i[1] for i in symptom_mesh]"
   ]
  },
  {
   "cell_type": "code",
   "execution_count": 5,
   "id": "02a85bff",
   "metadata": {},
   "outputs": [],
   "source": [
    "#PubMed文献データcsvから症状を取り出す関数\n",
    "def select_decriptor_symptom(df):\n",
    "\n",
    "    if len(df)>0:#csvにデータがある場合\n",
    "        \n",
    "        #症状にあたるMeSHを抽出\n",
    "        s_index_num = [enu for enu, i in enumerate(df[\"Descriptor\"]) if i in symptom_mesh_name_list] \n",
    "        tmp_df = df.iloc[s_index_num]#.reset_index(drop=True)\n",
    "        \n",
    "        #症状メッシュはMajorTopicで絞り込む必要はないのでそのまま用いる\n",
    "        tmp_df = tmp_df.reset_index(drop=True)\n",
    "\n",
    "        #make csv\n",
    "        os.chdir(path_2)\n",
    "        csvname = \"s_\"+file[18:-4]+\".csv\"\n",
    "        tmp_df.to_csv(csvname, index=False)\n",
    "\n",
    "    else:#csvにデータがない場合\n",
    "        tmp_df = pd.DataFrame(columns=[\"PMID\",\"PubDate\",\n",
    "                                       \"Descriptor\",\"Descriptor_UI\",\"Descriptor_MajorTopic\",\n",
    "                                       \"Qualifier\",\"Qualifier_UI\",\"Qualifier_MajorTopic\",\n",
    "                                      ])\n",
    "        \n",
    "        #make csv\n",
    "        os.chdir(path_2)\n",
    "        csvname = \"s_\"+file[18:-4]+\".csv\"\n",
    "        tmp_df.to_csv(csvname, index=False)  \n",
    "\n",
    "    os.chdir(path_1) \n",
    "    return"
   ]
  },
  {
   "cell_type": "code",
   "execution_count": 7,
   "id": "03531ca1",
   "metadata": {
    "scrolled": false
   },
   "outputs": [
    {
     "name": "stdout",
     "output_type": "stream",
     "text": [
      "1 ['one_desc_one_qual_0001.csv']\n"
     ]
    }
   ],
   "source": [
    "# PubMed文献データcsvをリスト化\n",
    "os.chdir(path_0)\n",
    "csv_list = sorted(glob.glob('one_desc_one_qual_*.csv'))\n",
    "print(len(csv_list), csv_list[:1])"
   ]
  },
  {
   "cell_type": "code",
   "execution_count": 8,
   "id": "4eaf9d66",
   "metadata": {},
   "outputs": [
    {
     "data": {
      "application/vnd.jupyter.widget-view+json": {
       "model_id": "27cd7b625d1544b586bc04d78eadbefe",
       "version_major": 2,
       "version_minor": 0
      },
      "text/plain": [
       "  0%|          | 0/1 [00:00<?, ?it/s]"
      ]
     },
     "metadata": {},
     "output_type": "display_data"
    }
   ],
   "source": [
    "#folder_03 に症状CSV作成\n",
    "for file in tqdm(csv_list[:]):\n",
    "    df = pd.read_csv(file, engine='python') \n",
    "    select_decriptor_symptom(df)"
   ]
  },
  {
   "cell_type": "code",
   "execution_count": null,
   "id": "984db2ad",
   "metadata": {},
   "outputs": [],
   "source": [
    "#症状データの抽出完了"
   ]
  }
 ],
 "metadata": {
  "kernelspec": {
   "display_name": "Python 3",
   "language": "python",
   "name": "python3"
  },
  "language_info": {
   "codemirror_mode": {
    "name": "ipython",
    "version": 3
   },
   "file_extension": ".py",
   "mimetype": "text/x-python",
   "name": "python",
   "nbconvert_exporter": "python",
   "pygments_lexer": "ipython3",
   "version": "3.8.8"
  }
 },
 "nbformat": 4,
 "nbformat_minor": 5
}
