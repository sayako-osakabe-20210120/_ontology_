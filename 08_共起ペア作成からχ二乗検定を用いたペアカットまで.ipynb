{
 "cells": [
  {
   "cell_type": "code",
   "execution_count": 1,
   "id": "bd5e99af",
   "metadata": {},
   "outputs": [],
   "source": [
    "import os\n",
    "from tqdm.notebook import tqdm #from tqdm import tqdm_notebook as tqdm\n",
    "import pandas as pd\n",
    "import numpy as np\n",
    "import matplotlib.pyplot as plt\n",
    "from scipy.stats import chi2\n",
    "import sqlalchemy\n",
    "from matplotlib.ticker import ScalarFormatter"
   ]
  },
  {
   "cell_type": "code",
   "execution_count": null,
   "id": "c2e119d7",
   "metadata": {},
   "outputs": [],
   "source": [
    "path_1 = \"./folder_05\"\n",
    "os.chdir(path_1)"
   ]
  },
  {
   "cell_type": "code",
   "execution_count": 3,
   "id": "224f57ab",
   "metadata": {},
   "outputs": [],
   "source": [
    "#共起ペア読み込み\n",
    "each_ds_pair= pd.read_csv('each_ds_pair.csv', engine='python')"
   ]
  },
  {
   "cell_type": "code",
   "execution_count": 4,
   "id": "301eebe6",
   "metadata": {},
   "outputs": [
    {
     "name": "stdout",
     "output_type": "stream",
     "text": [
      "211838\n"
     ]
    }
   ],
   "source": [
    "#共起ペアと共起数\n",
    "co_occ_pair = pd.DataFrame(each_ds_pair.groupby(['symptom', 'disease']).size()).reset_index()\n",
    "co_occ_pair = co_occ_pair.rename(columns={0:'co_occurrence'})\n",
    "co_occ_pair = co_occ_pair.sort_values(by = \"co_occurrence\", ascending=False).reset_index(drop=True)\n",
    "print(len(co_occ_pair))"
   ]
  },
  {
   "cell_type": "code",
   "execution_count": 5,
   "id": "1401ecd4",
   "metadata": {},
   "outputs": [
    {
     "data": {
      "text/html": [
       "<div>\n",
       "<style scoped>\n",
       "    .dataframe tbody tr th:only-of-type {\n",
       "        vertical-align: middle;\n",
       "    }\n",
       "\n",
       "    .dataframe tbody tr th {\n",
       "        vertical-align: top;\n",
       "    }\n",
       "\n",
       "    .dataframe thead th {\n",
       "        text-align: right;\n",
       "    }\n",
       "</style>\n",
       "<table border=\"1\" class=\"dataframe\">\n",
       "  <thead>\n",
       "    <tr style=\"text-align: right;\">\n",
       "      <th></th>\n",
       "      <th>symptom</th>\n",
       "      <th>disease</th>\n",
       "      <th>co_occurrence</th>\n",
       "    </tr>\n",
       "  </thead>\n",
       "  <tbody>\n",
       "    <tr>\n",
       "      <th>0</th>\n",
       "      <td>Obesity</td>\n",
       "      <td>Obesity</td>\n",
       "      <td>256398</td>\n",
       "    </tr>\n",
       "    <tr>\n",
       "      <th>1</th>\n",
       "      <td>Seizures</td>\n",
       "      <td>Seizures</td>\n",
       "      <td>65543</td>\n",
       "    </tr>\n",
       "    <tr>\n",
       "      <th>2</th>\n",
       "      <td>Intellectual Disability</td>\n",
       "      <td>Intellectual Disability</td>\n",
       "      <td>52289</td>\n",
       "    </tr>\n",
       "  </tbody>\n",
       "</table>\n",
       "</div>"
      ],
      "text/plain": [
       "                   symptom                  disease  co_occurrence\n",
       "0                  Obesity                  Obesity         256398\n",
       "1                 Seizures                 Seizures          65543\n",
       "2  Intellectual Disability  Intellectual Disability          52289"
      ]
     },
     "execution_count": 5,
     "metadata": {},
     "output_type": "execute_result"
    }
   ],
   "source": [
    "co_occ_pair[:3]"
   ]
  },
  {
   "cell_type": "code",
   "execution_count": 6,
   "id": "5006decf",
   "metadata": {},
   "outputs": [
    {
     "name": "stderr",
     "output_type": "stream",
     "text": [
      "<ipython-input-6-928ddf1ab9b8>:11: MatplotlibDeprecationWarning: The 'basex' parameter of __init__() has been renamed 'base' since Matplotlib 3.3; support for the old name will be dropped two minor releases later.\n",
      "  plt.loglog(basex=10,basey=10)\n",
      "<ipython-input-6-928ddf1ab9b8>:11: MatplotlibDeprecationWarning: The 'basey' parameter of __init__() has been renamed 'base' since Matplotlib 3.3; support for the old name will be dropped two minor releases later.\n",
      "  plt.loglog(basex=10,basey=10)\n"
     ]
    },
    {
     "name": "stdout",
     "output_type": "stream",
     "text": [
      "ポイントの数は共起頻度数の種類数 1300\n"
     ]
    },
    {
     "data": {
      "image/png": "[encoded data removed]",
      "text/plain": [
       "<Figure size 432x288 with 1 Axes>"
      ]
     },
     "metadata": {
      "needs_background": "light"
     },
     "output_type": "display_data"
    }
   ],
   "source": [
    "#一文献につき共起する数とその文献数\n",
    "\n",
    "#両方の軸を対数スケールで設定する必要がある　loglog() 関数を使用\n",
    "#loglog() 関数\n",
    "#X 軸と Y 軸の両方に沿って対数スケーリングを行う時使える\n",
    "#X 軸と Y 軸の対数の底は、basex パラメータと basey パラメータによって設定\n",
    "\n",
    "a = pd.Series(co_occ_pair[\"co_occurrence\"].value_counts())\n",
    "\n",
    "plt.scatter(a.index, a, color=\"black\")\n",
    "plt.loglog(basex=10,basey=10)\n",
    "plt.xlabel(\"symptom disease co-occurence\")\n",
    "plt.ylabel(\"number of records\",)\n",
    "print(\"ポイントの数は共起頻度数の種類数\", len(a))\n",
    "plt.show()"
   ]
  },
  {
   "cell_type": "code",
   "execution_count": 7,
   "id": "8219080e",
   "metadata": {},
   "outputs": [],
   "source": [
    "#save to csv\n",
    "co_occ_pair.to_csv(\"co_occ_pair.csv\", index=False)"
   ]
  },
  {
   "cell_type": "code",
   "execution_count": 8,
   "id": "0c787c94",
   "metadata": {},
   "outputs": [
    {
     "data": {
      "text/plain": [
       "211838"
      ]
     },
     "execution_count": 8,
     "metadata": {},
     "output_type": "execute_result"
    }
   ],
   "source": [
    "#共起ペアのリスト\n",
    "chi2_pair = co_occ_pair[[\"symptom\",\"disease\"]].values.tolist()\n",
    "len(chi2_pair)"
   ]
  },
  {
   "cell_type": "code",
   "execution_count": 9,
   "id": "49b1d840",
   "metadata": {
    "scrolled": false
   },
   "outputs": [
    {
     "data": {
      "text/html": [
       "<div>\n",
       "<style scoped>\n",
       "    .dataframe tbody tr th:only-of-type {\n",
       "        vertical-align: middle;\n",
       "    }\n",
       "\n",
       "    .dataframe tbody tr th {\n",
       "        vertical-align: top;\n",
       "    }\n",
       "\n",
       "    .dataframe thead th {\n",
       "        text-align: right;\n",
       "    }\n",
       "</style>\n",
       "<table border=\"1\" class=\"dataframe\">\n",
       "  <thead>\n",
       "    <tr style=\"text-align: right;\">\n",
       "      <th>disease</th>\n",
       "      <th>22q11 Deletion Syndrome</th>\n",
       "      <th>46, XX Disorders of Sex Development</th>\n",
       "      <th>46, XX Testicular Disorders of Sex Development</th>\n",
       "      <th>ACTH Syndrome, Ectopic</th>\n",
       "      <th>ACTH-Secreting Pituitary Adenoma</th>\n",
       "      <th>AIDS Arteritis, Central Nervous System</th>\n",
       "      <th>AIDS Dementia Complex</th>\n",
       "      <th>AIDS-Associated Nephropathy</th>\n",
       "      <th>AIDS-Related Complex</th>\n",
       "      <th>AIDS-Related Opportunistic Infections</th>\n",
       "      <th>...</th>\n",
       "      <th>alpha-Mannosidosis</th>\n",
       "      <th>alpha-Thalassemia</th>\n",
       "      <th>beta-Mannosidosis</th>\n",
       "      <th>beta-Thalassemia</th>\n",
       "      <th>von Hippel-Lindau Disease</th>\n",
       "      <th>von Willebrand Disease, Type 1</th>\n",
       "      <th>von Willebrand Disease, Type 2</th>\n",
       "      <th>von Willebrand Disease, Type 3</th>\n",
       "      <th>von Willebrand Diseases</th>\n",
       "      <th>Total</th>\n",
       "    </tr>\n",
       "    <tr>\n",
       "      <th>symptom</th>\n",
       "      <th></th>\n",
       "      <th></th>\n",
       "      <th></th>\n",
       "      <th></th>\n",
       "      <th></th>\n",
       "      <th></th>\n",
       "      <th></th>\n",
       "      <th></th>\n",
       "      <th></th>\n",
       "      <th></th>\n",
       "      <th></th>\n",
       "      <th></th>\n",
       "      <th></th>\n",
       "      <th></th>\n",
       "      <th></th>\n",
       "      <th></th>\n",
       "      <th></th>\n",
       "      <th></th>\n",
       "      <th></th>\n",
       "      <th></th>\n",
       "      <th></th>\n",
       "    </tr>\n",
       "  </thead>\n",
       "  <tbody>\n",
       "    <tr>\n",
       "      <th>Vomiting, Anticipatory</th>\n",
       "      <td>0</td>\n",
       "      <td>0</td>\n",
       "      <td>0</td>\n",
       "      <td>0</td>\n",
       "      <td>0</td>\n",
       "      <td>0</td>\n",
       "      <td>0</td>\n",
       "      <td>0</td>\n",
       "      <td>0</td>\n",
       "      <td>0</td>\n",
       "      <td>...</td>\n",
       "      <td>0</td>\n",
       "      <td>0</td>\n",
       "      <td>0</td>\n",
       "      <td>0</td>\n",
       "      <td>0</td>\n",
       "      <td>0</td>\n",
       "      <td>0</td>\n",
       "      <td>0</td>\n",
       "      <td>0</td>\n",
       "      <td>290</td>\n",
       "    </tr>\n",
       "    <tr>\n",
       "      <th>Waterhouse-Friderichsen Syndrome</th>\n",
       "      <td>0</td>\n",
       "      <td>0</td>\n",
       "      <td>0</td>\n",
       "      <td>0</td>\n",
       "      <td>0</td>\n",
       "      <td>0</td>\n",
       "      <td>0</td>\n",
       "      <td>0</td>\n",
       "      <td>0</td>\n",
       "      <td>0</td>\n",
       "      <td>...</td>\n",
       "      <td>0</td>\n",
       "      <td>0</td>\n",
       "      <td>0</td>\n",
       "      <td>0</td>\n",
       "      <td>0</td>\n",
       "      <td>0</td>\n",
       "      <td>0</td>\n",
       "      <td>0</td>\n",
       "      <td>1</td>\n",
       "      <td>1009</td>\n",
       "    </tr>\n",
       "    <tr>\n",
       "      <th>Weight Gain</th>\n",
       "      <td>0</td>\n",
       "      <td>0</td>\n",
       "      <td>0</td>\n",
       "      <td>2</td>\n",
       "      <td>1</td>\n",
       "      <td>0</td>\n",
       "      <td>0</td>\n",
       "      <td>0</td>\n",
       "      <td>2</td>\n",
       "      <td>5</td>\n",
       "      <td>...</td>\n",
       "      <td>0</td>\n",
       "      <td>0</td>\n",
       "      <td>0</td>\n",
       "      <td>0</td>\n",
       "      <td>0</td>\n",
       "      <td>0</td>\n",
       "      <td>0</td>\n",
       "      <td>0</td>\n",
       "      <td>1</td>\n",
       "      <td>26211</td>\n",
       "    </tr>\n",
       "    <tr>\n",
       "      <th>Weight Loss</th>\n",
       "      <td>0</td>\n",
       "      <td>0</td>\n",
       "      <td>0</td>\n",
       "      <td>2</td>\n",
       "      <td>0</td>\n",
       "      <td>0</td>\n",
       "      <td>1</td>\n",
       "      <td>2</td>\n",
       "      <td>2</td>\n",
       "      <td>51</td>\n",
       "      <td>...</td>\n",
       "      <td>0</td>\n",
       "      <td>0</td>\n",
       "      <td>0</td>\n",
       "      <td>0</td>\n",
       "      <td>4</td>\n",
       "      <td>0</td>\n",
       "      <td>0</td>\n",
       "      <td>0</td>\n",
       "      <td>0</td>\n",
       "      <td>50094</td>\n",
       "    </tr>\n",
       "    <tr>\n",
       "      <th>Total</th>\n",
       "      <td>75</td>\n",
       "      <td>73</td>\n",
       "      <td>2</td>\n",
       "      <td>39</td>\n",
       "      <td>25</td>\n",
       "      <td>4</td>\n",
       "      <td>421</td>\n",
       "      <td>182</td>\n",
       "      <td>103</td>\n",
       "      <td>1850</td>\n",
       "      <td>...</td>\n",
       "      <td>63</td>\n",
       "      <td>361</td>\n",
       "      <td>19</td>\n",
       "      <td>495</td>\n",
       "      <td>160</td>\n",
       "      <td>1</td>\n",
       "      <td>19</td>\n",
       "      <td>10</td>\n",
       "      <td>293</td>\n",
       "      <td>5632191</td>\n",
       "    </tr>\n",
       "  </tbody>\n",
       "</table>\n",
       "<p>5 rows × 4717 columns</p>\n",
       "</div>"
      ],
      "text/plain": [
       "disease                           22q11 Deletion Syndrome  \\\n",
       "symptom                                                     \n",
       "Vomiting, Anticipatory                                  0   \n",
       "Waterhouse-Friderichsen Syndrome                        0   \n",
       "Weight Gain                                             0   \n",
       "Weight Loss                                             0   \n",
       "Total                                                  75   \n",
       "\n",
       "disease                           46, XX Disorders of Sex Development  \\\n",
       "symptom                                                                 \n",
       "Vomiting, Anticipatory                                              0   \n",
       "Waterhouse-Friderichsen Syndrome                                    0   \n",
       "Weight Gain                                                         0   \n",
       "Weight Loss                                                         0   \n",
       "Total                                                              73   \n",
       "\n",
       "disease                           46, XX Testicular Disorders of Sex Development  \\\n",
       "symptom                                                                            \n",
       "Vomiting, Anticipatory                                                         0   \n",
       "Waterhouse-Friderichsen Syndrome                                               0   \n",
       "Weight Gain                                                                    0   \n",
       "Weight Loss                                                                    0   \n",
       "Total                                                                          2   \n",
       "\n",
       "disease                           ACTH Syndrome, Ectopic  \\\n",
       "symptom                                                    \n",
       "Vomiting, Anticipatory                                 0   \n",
       "Waterhouse-Friderichsen Syndrome                       0   \n",
       "Weight Gain                                            2   \n",
       "Weight Loss                                            2   \n",
       "Total                                                 39   \n",
       "\n",
       "disease                           ACTH-Secreting Pituitary Adenoma  \\\n",
       "symptom                                                              \n",
       "Vomiting, Anticipatory                                           0   \n",
       "Waterhouse-Friderichsen Syndrome                                 0   \n",
       "Weight Gain                                                      1   \n",
       "Weight Loss                                                      0   \n",
       "Total                                                           25   \n",
       "\n",
       "disease                           AIDS Arteritis, Central Nervous System  \\\n",
       "symptom                                                                    \n",
       "Vomiting, Anticipatory                                                 0   \n",
       "Waterhouse-Friderichsen Syndrome                                       0   \n",
       "Weight Gain                                                            0   \n",
       "Weight Loss                                                            0   \n",
       "Total                                                                  4   \n",
       "\n",
       "disease                           AIDS Dementia Complex  \\\n",
       "symptom                                                   \n",
       "Vomiting, Anticipatory                                0   \n",
       "Waterhouse-Friderichsen Syndrome                      0   \n",
       "Weight Gain                                           0   \n",
       "Weight Loss                                           1   \n",
       "Total                                               421   \n",
       "\n",
       "disease                           AIDS-Associated Nephropathy  \\\n",
       "symptom                                                         \n",
       "Vomiting, Anticipatory                                      0   \n",
       "Waterhouse-Friderichsen Syndrome                            0   \n",
       "Weight Gain                                                 0   \n",
       "Weight Loss                                                 2   \n",
       "Total                                                     182   \n",
       "\n",
       "disease                           AIDS-Related Complex  \\\n",
       "symptom                                                  \n",
       "Vomiting, Anticipatory                               0   \n",
       "Waterhouse-Friderichsen Syndrome                     0   \n",
       "Weight Gain                                          2   \n",
       "Weight Loss                                          2   \n",
       "Total                                              103   \n",
       "\n",
       "disease                           AIDS-Related Opportunistic Infections  ...  \\\n",
       "symptom                                                                  ...   \n",
       "Vomiting, Anticipatory                                                0  ...   \n",
       "Waterhouse-Friderichsen Syndrome                                      0  ...   \n",
       "Weight Gain                                                           5  ...   \n",
       "Weight Loss                                                          51  ...   \n",
       "Total                                                              1850  ...   \n",
       "\n",
       "disease                           alpha-Mannosidosis  alpha-Thalassemia  \\\n",
       "symptom                                                                   \n",
       "Vomiting, Anticipatory                             0                  0   \n",
       "Waterhouse-Friderichsen Syndrome                   0                  0   \n",
       "Weight Gain                                        0                  0   \n",
       "Weight Loss                                        0                  0   \n",
       "Total                                             63                361   \n",
       "\n",
       "disease                           beta-Mannosidosis  beta-Thalassemia  \\\n",
       "symptom                                                                 \n",
       "Vomiting, Anticipatory                            0                 0   \n",
       "Waterhouse-Friderichsen Syndrome                  0                 0   \n",
       "Weight Gain                                       0                 0   \n",
       "Weight Loss                                       0                 0   \n",
       "Total                                            19               495   \n",
       "\n",
       "disease                           von Hippel-Lindau Disease  \\\n",
       "symptom                                                       \n",
       "Vomiting, Anticipatory                                    0   \n",
       "Waterhouse-Friderichsen Syndrome                          0   \n",
       "Weight Gain                                               0   \n",
       "Weight Loss                                               4   \n",
       "Total                                                   160   \n",
       "\n",
       "disease                           von Willebrand Disease, Type 1  \\\n",
       "symptom                                                            \n",
       "Vomiting, Anticipatory                                         0   \n",
       "Waterhouse-Friderichsen Syndrome                               0   \n",
       "Weight Gain                                                    0   \n",
       "Weight Loss                                                    0   \n",
       "Total                                                          1   \n",
       "\n",
       "disease                           von Willebrand Disease, Type 2  \\\n",
       "symptom                                                            \n",
       "Vomiting, Anticipatory                                         0   \n",
       "Waterhouse-Friderichsen Syndrome                               0   \n",
       "Weight Gain                                                    0   \n",
       "Weight Loss                                                    0   \n",
       "Total                                                         19   \n",
       "\n",
       "disease                           von Willebrand Disease, Type 3  \\\n",
       "symptom                                                            \n",
       "Vomiting, Anticipatory                                         0   \n",
       "Waterhouse-Friderichsen Syndrome                               0   \n",
       "Weight Gain                                                    0   \n",
       "Weight Loss                                                    0   \n",
       "Total                                                         10   \n",
       "\n",
       "disease                           von Willebrand Diseases    Total  \n",
       "symptom                                                             \n",
       "Vomiting, Anticipatory                                  0      290  \n",
       "Waterhouse-Friderichsen Syndrome                        1     1009  \n",
       "Weight Gain                                             1    26211  \n",
       "Weight Loss                                             0    50094  \n",
       "Total                                                 293  5632191  \n",
       "\n",
       "[5 rows x 4717 columns]"
      ]
     },
     "execution_count": 9,
     "metadata": {},
     "output_type": "execute_result"
    }
   ],
   "source": [
    "#クロス集計\n",
    "crosstab_df = pd.crosstab(each_ds_pair[\"symptom\"], each_ds_pair[\"disease\"], margins=True, margins_name=\"Total\")\n",
    "crosstab_df.tail()"
   ]
  },
  {
   "cell_type": "code",
   "execution_count": 10,
   "id": "d9e221c2",
   "metadata": {},
   "outputs": [
    {
     "data": {
      "application/vnd.jupyter.widget-view+json": {
       "model_id": "c927d856fe1141119795b74508bc3d1b",
       "version_major": 2,
       "version_minor": 0
      },
      "text/plain": [
       "  0%|          | 0/211838 [00:00<?, ?it/s]"
      ]
     },
     "metadata": {},
     "output_type": "display_data"
    }
   ],
   "source": [
    "#偶然に共起した可能性がある症状・疾患ペアがあれば計算対象から外したい\n",
    "#症状・疾患ペアに対しカイ二乗検定（独立性の検定）を行う\n",
    "#各症状・疾患ペアとその検定値・p値をまとめる\n",
    "\n",
    "#あらかじめ全共起数を算出しておく\n",
    "all_num = crosstab_df.loc[\"Total\",\"Total\"]\n",
    "\n",
    "#症状・疾患ペアに対しカイ二乗検定（独立性の検定）を行う\n",
    "chi2_list=[] \n",
    "for pair in tqdm(chi2_pair):\n",
    "    \n",
    "    #print(pair)\n",
    "        \n",
    "        #以下用いる変数とクロス集計表にした時の各変数が表す場所(例 disease=Obesity, symptom=besity)\n",
    "        #観測度数　()内は期待度数\n",
    "        #------------------------------------------\n",
    "        #disease         Obesity         not_Obesity         All\n",
    "        #symptom                                  \n",
    "        #Obesity         observed_1(expected_1)     observed_2(expected_2)       target_symptom_num\n",
    "        #not_Obesity     observed_3(expected_3)     observed_4(expected_4)       (all_num - target_symptom_num)\n",
    "        #All             target_disease_num        (all_num - target_disease_num)        all_num\n",
    "\n",
    "    #all_num はあらかじめ算出済み\n",
    "    \n",
    "    #観測度数 observed\n",
    "    observed_1 = crosstab_df.loc[pair[0], pair[1]]\n",
    "    target_symptom_num = crosstab_df.loc[pair[0], \"Total\"]\n",
    "    target_disease_num = crosstab_df.loc[\"Total\", pair[1]]\n",
    "    observed_2 = target_symptom_num - observed_1\n",
    "    observed_3 = target_disease_num- observed_1\n",
    "    observed_4 = all_num - (observed_1 + observed_2 + observed_3)\n",
    "        \n",
    "    #期待度数 expected\n",
    "    expected_1 = target_symptom_num / all_num * target_disease_num \n",
    "    expected_2 = target_symptom_num / all_num * (all_num - target_disease_num)\n",
    "    expected_3 = (all_num - target_symptom_num) / all_num * target_disease_num \n",
    "    expected_4 = (all_num - target_symptom_num) / all_num * (all_num - target_disease_num)\n",
    "        \n",
    "    #print(observed_1, observed_2, observed_3, observed_4) #観測度数\n",
    "    #print(expected_1, expected_2, expected_3, expected_4) #期待度数\n",
    "        \n",
    "    #計算\n",
    "    #χ2 = （【観測度数-期待度数】の二乗）÷期待度数　の総和\n",
    "    chai_value = (((observed_1 - expected_1)**2)/expected_1) + (((observed_2 - expected_2)**2)/expected_2) + (((observed_3 - expected_3)**2)/expected_3) + (((observed_4 - expected_4)**2)/expected_4)\n",
    "    #p値\n",
    "    p_value = chi2.sf(chai_value, df=1) #1-sp.stats.chi2.cdf(x = chai_value ,df = 1)\n",
    "    \n",
    "    #各症状・疾患ペアとその検定値・p値をまとめる\n",
    "    chi2_list.append([pair[0], pair[-1], chai_value, p_value ])\n",
    "\n",
    "#データフレームにする\n",
    "chi2_df = pd.DataFrame(chi2_list)"
   ]
  },
  {
   "cell_type": "code",
   "execution_count": 11,
   "id": "2903c4b9",
   "metadata": {},
   "outputs": [
    {
     "data": {
      "text/html": [
       "<div>\n",
       "<style scoped>\n",
       "    .dataframe tbody tr th:only-of-type {\n",
       "        vertical-align: middle;\n",
       "    }\n",
       "\n",
       "    .dataframe tbody tr th {\n",
       "        vertical-align: top;\n",
       "    }\n",
       "\n",
       "    .dataframe thead th {\n",
       "        text-align: right;\n",
       "    }\n",
       "</style>\n",
       "<table border=\"1\" class=\"dataframe\">\n",
       "  <thead>\n",
       "    <tr style=\"text-align: right;\">\n",
       "      <th></th>\n",
       "      <th>0</th>\n",
       "      <th>1</th>\n",
       "      <th>2</th>\n",
       "      <th>3</th>\n",
       "    </tr>\n",
       "  </thead>\n",
       "  <tbody>\n",
       "    <tr>\n",
       "      <th>0</th>\n",
       "      <td>Abdomen, Acute</td>\n",
       "      <td>46, XX Disorders of Sex Development</td>\n",
       "      <td>2.454944</td>\n",
       "      <td>0.117155</td>\n",
       "    </tr>\n",
       "    <tr>\n",
       "      <th>1</th>\n",
       "      <td>Abdomen, Acute</td>\n",
       "      <td>AIDS-Related Opportunistic Infections</td>\n",
       "      <td>2.639858</td>\n",
       "      <td>0.104213</td>\n",
       "    </tr>\n",
       "    <tr>\n",
       "      <th>2</th>\n",
       "      <td>Abdomen, Acute</td>\n",
       "      <td>Abdominal Abscess</td>\n",
       "      <td>2601.302103</td>\n",
       "      <td>0.000000</td>\n",
       "    </tr>\n",
       "    <tr>\n",
       "      <th>3</th>\n",
       "      <td>Abdomen, Acute</td>\n",
       "      <td>Abdominal Injuries</td>\n",
       "      <td>16087.394838</td>\n",
       "      <td>0.000000</td>\n",
       "    </tr>\n",
       "    <tr>\n",
       "      <th>4</th>\n",
       "      <td>Abdomen, Acute</td>\n",
       "      <td>Abdominal Neoplasms</td>\n",
       "      <td>1997.817541</td>\n",
       "      <td>0.000000</td>\n",
       "    </tr>\n",
       "  </tbody>\n",
       "</table>\n",
       "</div>"
      ],
      "text/plain": [
       "                0                                      1             2  \\\n",
       "0  Abdomen, Acute    46, XX Disorders of Sex Development      2.454944   \n",
       "1  Abdomen, Acute  AIDS-Related Opportunistic Infections      2.639858   \n",
       "2  Abdomen, Acute                      Abdominal Abscess   2601.302103   \n",
       "3  Abdomen, Acute                     Abdominal Injuries  16087.394838   \n",
       "4  Abdomen, Acute                    Abdominal Neoplasms   1997.817541   \n",
       "\n",
       "          3  \n",
       "0  0.117155  \n",
       "1  0.104213  \n",
       "2  0.000000  \n",
       "3  0.000000  \n",
       "4  0.000000  "
      ]
     },
     "execution_count": 11,
     "metadata": {},
     "output_type": "execute_result"
    }
   ],
   "source": [
    "chi2_df = chi2_df.sort_values(by=[0,1]).reset_index(drop=True)\n",
    "chi2_df.head()"
   ]
  },
  {
   "cell_type": "code",
   "execution_count": 12,
   "id": "d4c49976",
   "metadata": {},
   "outputs": [],
   "source": [
    "#chi2_df整形\n",
    "chi2_df = chi2_df.reset_index(drop=True)\n",
    "chi2_df.columns=[\"symptom\", \"disease\", \"chi2\", \"p\"]\n",
    "chi2_df[\"1-p\"] = 1-chi2_df[\"p\"]\n",
    "chi2_df = chi2_df.sort_values(by=\"1-p\", ascending=True).reset_index(drop=True)\n",
    "chi2_df[\"Np\"] = chi2_df.index"
   ]
  },
  {
   "cell_type": "code",
   "execution_count": 13,
   "id": "98cadfbd",
   "metadata": {},
   "outputs": [
    {
     "name": "stdout",
     "output_type": "stream",
     "text": [
      "0.8485460851230835\n",
      "index number:  10592\n"
     ]
    },
    {
     "data": {
      "text/html": [
       "<div>\n",
       "<style scoped>\n",
       "    .dataframe tbody tr th:only-of-type {\n",
       "        vertical-align: middle;\n",
       "    }\n",
       "\n",
       "    .dataframe tbody tr th {\n",
       "        vertical-align: top;\n",
       "    }\n",
       "\n",
       "    .dataframe thead th {\n",
       "        text-align: right;\n",
       "    }\n",
       "</style>\n",
       "<table border=\"1\" class=\"dataframe\">\n",
       "  <thead>\n",
       "    <tr style=\"text-align: right;\">\n",
       "      <th></th>\n",
       "      <th>symptom</th>\n",
       "      <th>disease</th>\n",
       "      <th>chi2</th>\n",
       "      <th>p</th>\n",
       "      <th>1-p</th>\n",
       "      <th>Np</th>\n",
       "    </tr>\n",
       "  </thead>\n",
       "  <tbody>\n",
       "    <tr>\n",
       "      <th>10592</th>\n",
       "      <td>Overweight</td>\n",
       "      <td>Varicocele</td>\n",
       "      <td>0.036471</td>\n",
       "      <td>0.848546</td>\n",
       "      <td>0.151454</td>\n",
       "      <td>10592</td>\n",
       "    </tr>\n",
       "  </tbody>\n",
       "</table>\n",
       "</div>"
      ],
      "text/plain": [
       "          symptom     disease      chi2         p       1-p     Np\n",
       "10592  Overweight  Varicocele  0.036471  0.848546  0.151454  10592"
      ]
     },
     "execution_count": 13,
     "metadata": {},
     "output_type": "execute_result"
    }
   ],
   "source": [
    "#p値でカットオフ 95％のところにあるp値\n",
    "\n",
    "num = np.percentile(np.array(chi2_df[\"p\"]), 95) \n",
    "print(num)\n",
    "#その値に最も近いp値のインデックスを取得\n",
    "index = np.abs(chi2_df[\"p\"] - num).argsort()[0].tolist()\n",
    "#５％のところにある1-pでも同じ\n",
    "#index = np.abs(chi2_df[\"1-p\"] -np.percentile(np.array(chi2_df[\"1-p\"]), 5)).argsort()[0].tolist()\n",
    "\n",
    "print(\"index number: \", index)\n",
    "chi2_df[index:index+1]"
   ]
  },
  {
   "cell_type": "code",
   "execution_count": 14,
   "id": "70afda0a",
   "metadata": {},
   "outputs": [
    {
     "name": "stdout",
     "output_type": "stream",
     "text": [
      "0 0 → 0.1514539148769165 10592\n"
     ]
    }
   ],
   "source": [
    "#プロット\n",
    "\n",
    "def calc_slope_intersept(x1, y1, x2, y2):\n",
    "    a = (y1 - y2) / (x1 - x2)\n",
    "    b = y1 - a * x1\n",
    "    return (a, b)\n",
    "\n",
    "#座標の最小値と最大値を設定\n",
    "x1 = 0\n",
    "y1 = 0\n",
    "x2 = chi2_df.loc[index, \"1-p\"]\n",
    "y2 = chi2_df.loc[index, \"Np\"]\n",
    "print(x1, y1, \"→\", x2, y2)\n",
    "\n",
    "if __name__ == \"__main__\":\n",
    "    a, b = calc_slope_intersept(x1, y1, x2, y2)"
   ]
  },
  {
   "cell_type": "code",
   "execution_count": 15,
   "id": "d84ccc8b",
   "metadata": {
    "scrolled": true
   },
   "outputs": [
    {
     "data": {
      "image/png": "[encoded data removed]",
      "text/plain": [
       "<Figure size 576x360 with 1 Axes>"
      ]
     },
     "metadata": {
      "needs_background": "light"
     },
     "output_type": "display_data"
    }
   ],
   "source": [
    "fig = plt.figure(figsize=(8,5))\n",
    "plt.style.use('seaborn-whitegrid')\n",
    "ax = fig.add_subplot(1,1,1)\n",
    "ax.set_xticks([i/10 for i in range(0,12,1)])\n",
    "ax.yaxis.set_major_formatter(ScalarFormatter(useMathText=True))\n",
    "ax.ticklabel_format(style=\"sci\",  axis=\"y\",scilimits=(0,0))\n",
    "#ax.set_title(\"\")\n",
    "ax.set_xlabel('1-p')\n",
    "ax.set_ylabel('Np')\n",
    "\n",
    "#曲線\n",
    "x2 = chi2_df[\"1-p\"]\n",
    "y2 = chi2_df[\"Np\"]\n",
    "plt.plot(x2, y2, linewidth=5, color=\"c\", alpha=0.5)\n",
    "\n",
    "#(0,0)と最大値の2点を直線で結ぶ\n",
    "plt.plot([0, 1.1], [0, a*1.1],  linewidth=3, color=\"hotpink\", alpha=1)\n",
    "plt.grid(True)\n",
    "plt.show()"
   ]
  },
  {
   "cell_type": "code",
   "execution_count": 16,
   "id": "038ad8b7",
   "metadata": {},
   "outputs": [
    {
     "data": {
      "text/html": [
       "<div>\n",
       "<style scoped>\n",
       "    .dataframe tbody tr th:only-of-type {\n",
       "        vertical-align: middle;\n",
       "    }\n",
       "\n",
       "    .dataframe tbody tr th {\n",
       "        vertical-align: top;\n",
       "    }\n",
       "\n",
       "    .dataframe thead th {\n",
       "        text-align: right;\n",
       "    }\n",
       "</style>\n",
       "<table border=\"1\" class=\"dataframe\">\n",
       "  <thead>\n",
       "    <tr style=\"text-align: right;\">\n",
       "      <th></th>\n",
       "      <th>symptom</th>\n",
       "      <th>disease</th>\n",
       "      <th>chi2</th>\n",
       "      <th>p</th>\n",
       "      <th>1-p</th>\n",
       "      <th>Np</th>\n",
       "    </tr>\n",
       "  </thead>\n",
       "  <tbody>\n",
       "  </tbody>\n",
       "</table>\n",
       "</div>"
      ],
      "text/plain": [
       "Empty DataFrame\n",
       "Columns: [symptom, disease, chi2, p, 1-p, Np]\n",
       "Index: []"
      ]
     },
     "execution_count": 16,
     "metadata": {},
     "output_type": "execute_result"
    }
   ],
   "source": [
    "chi2_df[chi2_df.duplicated()] #重複行は無し"
   ]
  },
  {
   "cell_type": "code",
   "execution_count": 17,
   "id": "c3c17e3c",
   "metadata": {},
   "outputs": [],
   "source": [
    "#共起ペアを減らす準備（P値は0.05未満のもののみを抽出）"
   ]
  },
  {
   "cell_type": "code",
   "execution_count": 18,
   "id": "e4160f2e",
   "metadata": {},
   "outputs": [
    {
     "data": {
      "text/plain": [
       "(118834, 10592)"
      ]
     },
     "execution_count": 18,
     "metadata": {},
     "output_type": "execute_result"
    }
   ],
   "source": [
    "len(chi2_df[chi2_df[\"p\"]<0.05]), len(chi2_df[:10592])"
   ]
  },
  {
   "cell_type": "code",
   "execution_count": 19,
   "id": "3458d6b6",
   "metadata": {},
   "outputs": [],
   "source": [
    "#0.05で切った共起ぺアに共起数を追加\n",
    "\n",
    "#χ二乗検定のp値0.05未満のデータと co_occ_pair をマージ、共通のデータだけにする\n",
    "cutoff_pair = chi2_df[chi2_df[\"p\"]<0.05].merge(co_occ_pair, on=[\"symptom\", \"disease\"])\n",
    "#共起数でソート\n",
    "cutoff_pair = cutoff_pair.sort_values(by='co_occurrence', ascending=False).reset_index(drop=True)"
   ]
  },
  {
   "cell_type": "code",
   "execution_count": 20,
   "id": "4fd4c1df",
   "metadata": {},
   "outputs": [],
   "source": [
    "cutoff_pair.to_csv(\"cutoff_pair.csv\", index=False)"
   ]
  },
  {
   "cell_type": "code",
   "execution_count": 21,
   "id": "b27507e2",
   "metadata": {},
   "outputs": [],
   "source": [
    "#カットオフ前後比較"
   ]
  },
  {
   "cell_type": "code",
   "execution_count": 22,
   "id": "f43adc1c",
   "metadata": {},
   "outputs": [
    {
     "name": "stdout",
     "output_type": "stream",
     "text": [
      "カットオフ前\n",
      "共起数: 5632191\n",
      "共起ペアの件数: 211838\n",
      "疾患タームの数: 4716\n",
      "症状タームの数: 384\n"
     ]
    }
   ],
   "source": [
    "print(\"カットオフ前\")\n",
    "print(\"共起数:\", co_occ_pair[\"co_occurrence\"].sum())\n",
    "print(\"共起ペアの件数:\", len(co_occ_pair))\n",
    "print(\"疾患タームの数:\", co_occ_pair[\"disease\"].nunique())\n",
    "print(\"症状タームの数:\", co_occ_pair[\"symptom\"].nunique())"
   ]
  },
  {
   "cell_type": "code",
   "execution_count": 23,
   "id": "9498e768",
   "metadata": {
    "scrolled": true
   },
   "outputs": [
    {
     "name": "stdout",
     "output_type": "stream",
     "text": [
      "カットオフ後\n",
      "共起数: 5234673\n",
      "共起ペアの件数: 118834\n",
      "疾患タームの数: 4716\n",
      "症状タームの数: 384\n"
     ]
    }
   ],
   "source": [
    "print(\"カットオフ後\")\n",
    "print(\"共起数:\", cutoff_pair[\"co_occurrence\"].sum())\n",
    "print(\"共起ペアの件数:\", len(cutoff_pair))\n",
    "print(\"疾患タームの数:\", cutoff_pair[\"disease\"].nunique())\n",
    "print(\"症状タームの数:\", cutoff_pair[\"symptom\"].nunique())"
   ]
  },
  {
   "cell_type": "code",
   "execution_count": null,
   "id": "a0f45e73",
   "metadata": {},
   "outputs": [],
   "source": []
  }
 ],
 "metadata": {
  "kernelspec": {
   "display_name": "Python 3",
   "language": "python",
   "name": "python3"
  },
  "language_info": {
   "codemirror_mode": {
    "name": "ipython",
    "version": 3
   },
   "file_extension": ".py",
   "mimetype": "text/x-python",
   "name": "python",
   "nbconvert_exporter": "python",
   "pygments_lexer": "ipython3",
   "version": "3.8.8"
  }
 },
 "nbformat": 4,
 "nbformat_minor": 5
}
