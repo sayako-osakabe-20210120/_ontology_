{
 "cells": [
  {
   "cell_type": "code",
   "execution_count": 14,
   "id": "a673a347",
   "metadata": {},
   "outputs": [],
   "source": [
    "import glob\n",
    "import os\n",
    "from tqdm.notebook import tqdm\n",
    "import pandas as pd\n",
    "import itertools"
   ]
  },
  {
   "cell_type": "code",
   "execution_count": 15,
   "id": "e74c0f88",
   "metadata": {},
   "outputs": [
    {
     "data": {
      "text/plain": [
       "1062"
      ]
     },
     "execution_count": 15,
     "metadata": {},
     "output_type": "execute_result"
    }
   ],
   "source": [
    "os.chdir('/home/admin_user/デスクトップ/folder_01')\n",
    "csv_list = sorted(glob.glob('one_desc_one_qual_*.csv'))\n",
    "len(csv_list)"
   ]
  },
  {
   "cell_type": "code",
   "execution_count": 57,
   "id": "51425e81",
   "metadata": {
    "scrolled": true
   },
   "outputs": [
    {
     "data": {
      "application/vnd.jupyter.widget-view+json": {
       "model_id": "04b03df255a44d1cb6f53191ad9fd835",
       "version_major": 2,
       "version_minor": 0
      },
      "text/plain": [
       "0it [00:00, ?it/s]"
      ]
     },
     "metadata": {},
     "output_type": "display_data"
    },
    {
     "name": "stdout",
     "output_type": "stream",
     "text": [
      "['1781-01-01'] ['2020-12-12']\n"
     ]
    }
   ],
   "source": [
    "#出版日付 最古・最新\n",
    "min_date = []\n",
    "max_date = []\n",
    "for enu, file in tqdm(enumerate(csv_list[:])):\n",
    "    df = pd.read_csv(file, engine='python') [\"PubDate\"]    \n",
    "    if enu==0:\n",
    "        min_date.append(df.min())\n",
    "        max_date.append(df.max())\n",
    "    else:\n",
    "        if df.min() <= min_date[0]:\n",
    "            min_date[0]=df.min()\n",
    "        elif  max_date[0] <= df.max():\n",
    "            max_date[0]=df.max() \n",
    "print(min_date, max_date)"
   ]
  },
  {
   "cell_type": "code",
   "execution_count": 11,
   "id": "ef30c926",
   "metadata": {},
   "outputs": [
    {
     "data": {
      "application/vnd.jupyter.widget-view+json": {
       "model_id": "5a45a12b65ec45c09517a936a6bc8c87",
       "version_major": 2,
       "version_minor": 0
      },
      "text/plain": [
       "0it [00:00, ?it/s]"
      ]
     },
     "metadata": {},
     "output_type": "display_data"
    },
    {
     "name": "stdout",
     "output_type": "stream",
     "text": [
      "31849086\n"
     ]
    }
   ],
   "source": [
    "#PMID\n",
    "import itertools\n",
    "pmid_lst_2d = []\n",
    "for enu, file in tqdm(enumerate(csv_list[:])):\n",
    "    pmid_df = pd.read_csv(file, engine='python') [\"PMID\"]\n",
    "    pmid_lst_2d.append(pmid_df.unique().tolist())\n",
    "pmid_lst = list(itertools.chain.from_iterable(pmid_lst_2d))\n",
    "print(len(pmid_lst))"
   ]
  },
  {
   "cell_type": "code",
   "execution_count": 13,
   "id": "49ffee03",
   "metadata": {},
   "outputs": [
    {
     "data": {
      "text/plain": [
       "([1, 2, 3], [33307596, 33307597, 33307598])"
      ]
     },
     "execution_count": 13,
     "metadata": {},
     "output_type": "execute_result"
    }
   ],
   "source": [
    "pmid_lst[:3], pmid_lst[-3:]"
   ]
  },
  {
   "cell_type": "code",
   "execution_count": null,
   "id": "958954b1",
   "metadata": {},
   "outputs": [],
   "source": []
  }
 ],
 "metadata": {
  "kernelspec": {
   "display_name": "Python 3",
   "language": "python",
   "name": "python3"
  },
  "language_info": {
   "codemirror_mode": {
    "name": "ipython",
    "version": 3
   },
   "file_extension": ".py",
   "mimetype": "text/x-python",
   "name": "python",
   "nbconvert_exporter": "python",
   "pygments_lexer": "ipython3",
   "version": "3.8.8"
  }
 },
 "nbformat": 4,
 "nbformat_minor": 5
}
