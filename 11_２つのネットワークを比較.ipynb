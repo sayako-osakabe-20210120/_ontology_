{
 "cells": [
  {
   "cell_type": "code",
   "execution_count": 1,
   "id": "952baded",
   "metadata": {},
   "outputs": [],
   "source": [
    "# ライブラリ読み込み\n",
    "import pandas as pd\n",
    "import numpy as np\n",
    "import matplotlib.pyplot as plt\n",
    "import pronto\n",
    "import copy\n",
    "import networkx as nx\n",
    "import os\n",
    "import pickle\n",
    "import glob\n",
    "import gzip\n",
    "from tqdm.notebook import tqdm\n",
    "import itertools\n",
    "#from collections import OrderedDict\n",
    "#import collections\n",
    "#from collections import Counter"
   ]
  },
  {
   "cell_type": "code",
   "execution_count": 2,
   "id": "31a20698",
   "metadata": {},
   "outputs": [],
   "source": [
    "#HSDN (Pubed_MeSH_network)\n",
    "os.chdir(\"/home/admin_user/デスクトップ/folder_05\")\n",
    "hpo = pd.read_csv(\"hpo.csv\")\n",
    "hsdn_df = pd.read_csv(\"hsdn.csv\")"
   ]
  },
  {
   "cell_type": "code",
   "execution_count": 58,
   "id": "8d620d04",
   "metadata": {},
   "outputs": [
    {
     "data": {
      "text/html": [
       "<div>\n",
       "<style scoped>\n",
       "    .dataframe tbody tr th:only-of-type {\n",
       "        vertical-align: middle;\n",
       "    }\n",
       "\n",
       "    .dataframe tbody tr th {\n",
       "        vertical-align: top;\n",
       "    }\n",
       "\n",
       "    .dataframe thead th {\n",
       "        text-align: right;\n",
       "    }\n",
       "</style>\n",
       "<table border=\"1\" class=\"dataframe\">\n",
       "  <thead>\n",
       "    <tr style=\"text-align: right;\">\n",
       "      <th></th>\n",
       "      <th>disease_1</th>\n",
       "      <th>disease_2</th>\n",
       "      <th>cosine_similarity</th>\n",
       "    </tr>\n",
       "  </thead>\n",
       "  <tbody>\n",
       "    <tr>\n",
       "      <th>0</th>\n",
       "      <td>MESH:D000326</td>\n",
       "      <td>MESH:D000130</td>\n",
       "      <td>0.045566</td>\n",
       "    </tr>\n",
       "    <tr>\n",
       "      <th>1</th>\n",
       "      <td>MESH:D000755</td>\n",
       "      <td>MESH:D000742</td>\n",
       "      <td>0.726524</td>\n",
       "    </tr>\n",
       "    <tr>\n",
       "      <th>2</th>\n",
       "      <td>MESH:D000795</td>\n",
       "      <td>MESH:D000130</td>\n",
       "      <td>0.031456</td>\n",
       "    </tr>\n",
       "  </tbody>\n",
       "</table>\n",
       "</div>"
      ],
      "text/plain": [
       "      disease_1     disease_2  cosine_similarity\n",
       "0  MESH:D000326  MESH:D000130           0.045566\n",
       "1  MESH:D000755  MESH:D000742           0.726524\n",
       "2  MESH:D000795  MESH:D000130           0.031456"
      ]
     },
     "execution_count": 58,
     "metadata": {},
     "output_type": "execute_result"
    }
   ],
   "source": [
    "hpo[:3]"
   ]
  },
  {
   "cell_type": "code",
   "execution_count": 3,
   "id": "03613386",
   "metadata": {},
   "outputs": [
    {
     "data": {
      "text/html": [
       "<div>\n",
       "<style scoped>\n",
       "    .dataframe tbody tr th:only-of-type {\n",
       "        vertical-align: middle;\n",
       "    }\n",
       "\n",
       "    .dataframe tbody tr th {\n",
       "        vertical-align: top;\n",
       "    }\n",
       "\n",
       "    .dataframe thead th {\n",
       "        text-align: right;\n",
       "    }\n",
       "</style>\n",
       "<table border=\"1\" class=\"dataframe\">\n",
       "  <thead>\n",
       "    <tr style=\"text-align: right;\">\n",
       "      <th></th>\n",
       "      <th>disease_1</th>\n",
       "      <th>disease_2</th>\n",
       "      <th>cosine_similarity</th>\n",
       "    </tr>\n",
       "  </thead>\n",
       "  <tbody>\n",
       "    <tr>\n",
       "      <th>0</th>\n",
       "      <td>46, XX Testicular Disorders of Sex Development</td>\n",
       "      <td>46, XX Disorders of Sex Development</td>\n",
       "      <td>0.150058</td>\n",
       "    </tr>\n",
       "    <tr>\n",
       "      <th>1</th>\n",
       "      <td>ACTH Syndrome, Ectopic</td>\n",
       "      <td>46, XX Disorders of Sex Development</td>\n",
       "      <td>0.299644</td>\n",
       "    </tr>\n",
       "    <tr>\n",
       "      <th>2</th>\n",
       "      <td>ACTH-Secreting Pituitary Adenoma</td>\n",
       "      <td>22q11 Deletion Syndrome</td>\n",
       "      <td>0.058832</td>\n",
       "    </tr>\n",
       "  </tbody>\n",
       "</table>\n",
       "</div>"
      ],
      "text/plain": [
       "                                        disease_1  \\\n",
       "0  46, XX Testicular Disorders of Sex Development   \n",
       "1                          ACTH Syndrome, Ectopic   \n",
       "2                ACTH-Secreting Pituitary Adenoma   \n",
       "\n",
       "                             disease_2  cosine_similarity  \n",
       "0  46, XX Disorders of Sex Development           0.150058  \n",
       "1  46, XX Disorders of Sex Development           0.299644  \n",
       "2              22q11 Deletion Syndrome           0.058832  "
      ]
     },
     "execution_count": 3,
     "metadata": {},
     "output_type": "execute_result"
    }
   ],
   "source": [
    "hsdn_df[:3]"
   ]
  },
  {
   "cell_type": "code",
   "execution_count": 4,
   "id": "d3b8265c",
   "metadata": {},
   "outputs": [
    {
     "data": {
      "application/vnd.jupyter.widget-view+json": {
       "model_id": "6f466863f0c348e5ae7942fc49bb2197",
       "version_major": 2,
       "version_minor": 0
      },
      "text/plain": [
       "  0%|          | 0/29917 [00:00<?, ?it/s]"
      ]
     },
     "metadata": {},
     "output_type": "display_data"
    },
    {
     "data": {
      "application/vnd.jupyter.widget-view+json": {
       "model_id": "b6dba9a09aa14e61976ad44e7a115c4c",
       "version_major": 2,
       "version_minor": 0
      },
      "text/plain": [
       "  0%|          | 0/29917 [00:00<?, ?it/s]"
      ]
     },
     "metadata": {},
     "output_type": "display_data"
    },
    {
     "data": {
      "text/plain": [
       "(29917, 4887, 394)"
      ]
     },
     "execution_count": 4,
     "metadata": {},
     "output_type": "execute_result"
    }
   ],
   "source": [
    "#hsdnはメッシュ名のネットワークなので、メッシュIDのネットワークに整える\n",
    "\n",
    "#MeSH 読込\n",
    "os.chdir('/home/admin_user')\n",
    "with open('mesh_list_2021.pickle', 'rb') as f:\n",
    "    mesh_list = pickle.load(f)\n",
    "\n",
    "#メッシュから　メッシュIDと疾患/症状メッシュ、TreeNumber を取り出す\n",
    "#疾患メッシュ：Cのうち C22（動物)とC23.888（症状）を除外したもの）＋F03（精神障害）\n",
    "#症状メッシュ：C23.888\n",
    "mesh_diseases = [descriptor for descriptor in tqdm(mesh_list) for uid in descriptor[-1] if ((uid.startswith(\"C\")==True) & (uid.startswith(\"C22\")!=True)&(uid.startswith(\"C23.888\")!=True)) | (uid.startswith(\"F03\")==True) ]\n",
    "mesh_symptoms = [descriptor for descriptor in tqdm(mesh_list)  for uid in descriptor[-1] if (uid.startswith(\"C23.888\")==True)]\n",
    "#さらにメッシュ名だけにする＋重複削除\n",
    "mesh_diseases= pd.DataFrame(mesh_diseases)[1].drop_duplicates(keep='last').reset_index(drop=True).values.tolist()\n",
    "mesh_symptoms= pd.DataFrame(mesh_symptoms)[1].drop_duplicates(keep='last').reset_index(drop=True).values.tolist()\n",
    "\n",
    "len(mesh_list),len(mesh_diseases), len(mesh_symptoms)"
   ]
  },
  {
   "cell_type": "code",
   "execution_count": 5,
   "id": "875e86fd",
   "metadata": {},
   "outputs": [
    {
     "data": {
      "application/vnd.jupyter.widget-view+json": {
       "model_id": "c8c2ce46fde64a788f3befffcb4137c8",
       "version_major": 2,
       "version_minor": 0
      },
      "text/plain": [
       "  0%|          | 0/4887 [00:00<?, ?it/s]"
      ]
     },
     "metadata": {},
     "output_type": "display_data"
    }
   ],
   "source": [
    "#id取り出し\n",
    "mesh_disease_id = [ [s[0],s[1] ] for i in tqdm(mesh_diseases) for s in mesh_list if i ==s[1] ]\n",
    "\n",
    "#mesh_id_hsdn([HSDN]) 作成\n",
    "mesh_id_1 = pd.merge( pd.DataFrame(mesh_disease_id, columns=[\"mesh_id\", \"disease_1\"]) , hsdn_df[\"disease_1\"], how=\"right\", on = \"disease_1\")\n",
    "mesh_id_2 = pd.merge( pd.DataFrame(mesh_disease_id, columns=[\"mesh_id\", \"disease_2\"]) , hsdn_df[\"disease_2\"], how=\"right\", on = \"disease_2\")\n"
   ]
  },
  {
   "cell_type": "code",
   "execution_count": 6,
   "id": "984c1420",
   "metadata": {},
   "outputs": [
    {
     "name": "stdout",
     "output_type": "stream",
     "text": [
      "7804331\n"
     ]
    }
   ],
   "source": [
    "# \"MeSH_ID, MeSH_ID, コサイン類似度\" のデータフレームにする\n",
    "hsdn_id = pd.concat([mesh_id_1[\"mesh_id\"], mesh_id_2[\"mesh_id\"]], axis=1)\n",
    "hsdn = pd.concat([hsdn_id, hsdn_df[\"cosine_similarity\"]], axis=1)\n",
    "hsdn.set_axis(['disease_1', 'disease_2','cosine_similarity'], axis='columns', inplace=True)\n",
    "print(len(hsdn))"
   ]
  },
  {
   "cell_type": "code",
   "execution_count": 7,
   "id": "9aa7106d",
   "metadata": {},
   "outputs": [
    {
     "name": "stdout",
     "output_type": "stream",
     "text": [
      "hsdn_G: Name: \n",
      "Type: Graph\n",
      "Number of nodes: 4716\n",
      "Number of edges: 7804331\n",
      "Average degree: 3309.7248 \n",
      "\n",
      "hpo_G: Name: \n",
      "Type: Graph\n",
      "Number of nodes: 310\n",
      "Number of edges: 9763\n",
      "Average degree:  62.9871 \n",
      "\n"
     ]
    }
   ],
   "source": [
    "#エッジリスト読込・ネットワーク作成\n",
    "import networkx as nx\n",
    "\n",
    "#hsdn\n",
    "hsdn_G = nx.from_pandas_edgelist(hsdn, \"disease_1\", \"disease_2\" )\n",
    "#benchmark\n",
    "hpo_G = nx.from_pandas_edgelist( hpo,\"disease_1\", \"disease_2\" )\n",
    "\n",
    "print(\"hsdn_G:\", nx.info(hsdn_G), \"\\n\")\n",
    "print(\"hpo_G:\", nx.info(hpo_G), \"\\n\")"
   ]
  },
  {
   "cell_type": "code",
   "execution_count": 8,
   "id": "a4ad70bd",
   "metadata": {},
   "outputs": [
    {
     "name": "stdout",
     "output_type": "stream",
     "text": [
      "N: 303\n"
     ]
    }
   ],
   "source": [
    "#共通ノード数: N\n",
    "co_node = list(set([i for i in hsdn_G.nodes()]) & set([i for i in hpo_G.nodes()]))\n",
    "N = len(co_node)\n",
    "print(\"N:\", N) "
   ]
  },
  {
   "cell_type": "code",
   "execution_count": 9,
   "id": "1dc7d41e",
   "metadata": {},
   "outputs": [
    {
     "name": "stdout",
     "output_type": "stream",
     "text": [
      "303 303\n"
     ]
    }
   ],
   "source": [
    "hsdn_co_node = sorted([i for i in hsdn_G.degree()  if i[0] in co_node])\n",
    "hpo_co_node = sorted([i for i in hpo_G.degree()  if i[0] in co_node])\n",
    "print(len(hsdn_co_node), len(hpo_co_node)) "
   ]
  },
  {
   "cell_type": "code",
   "execution_count": 10,
   "id": "3fafed6d",
   "metadata": {},
   "outputs": [
    {
     "name": "stdout",
     "output_type": "stream",
     "text": [
      "L_possible: 45753.0\n"
     ]
    }
   ],
   "source": [
    "#あらかじめ、L_possible=N*(N-1)/2 を計算しておく\n",
    "L_possible = N*(N - 1)/2\n",
    "print(\"L_possible:\", L_possible)"
   ]
  },
  {
   "cell_type": "code",
   "execution_count": 11,
   "id": "54170d55",
   "metadata": {
    "scrolled": true
   },
   "outputs": [
    {
     "name": "stdout",
     "output_type": "stream",
     "text": [
      "7804331 9763\n",
      "  disease_1 disease_2  cosine_similarity\n",
      "0   D058531   D058489           0.150058\n",
      "1   D000182   D058489           0.299644\n",
      "2   D049913   D058165           0.058832 \n",
      "   disease_1 disease_2  cosine_similarity\n",
      "0   D000326   D000130           0.045566\n",
      "1   D000755   D000742           0.726524\n",
      "2   D000795   D000130           0.031456\n"
     ]
    }
   ],
   "source": [
    "print(len(hsdn),len(hpo))\n",
    "print(hsdn[:3], \"\\n\", hpo[:3])"
   ]
  },
  {
   "cell_type": "code",
   "execution_count": 12,
   "id": "33b7bef1",
   "metadata": {},
   "outputs": [
    {
     "data": {
      "application/vnd.jupyter.widget-view+json": {
       "model_id": "6cd5dad3e4b446bea8dfad1ff127b0ce",
       "version_major": 2,
       "version_minor": 0
      },
      "text/plain": [
       "0it [00:00, ?it/s]"
      ]
     },
     "metadata": {},
     "output_type": "display_data"
    },
    {
     "data": {
      "application/vnd.jupyter.widget-view+json": {
       "model_id": "bc9805a7ea22445e8cfa73b2f48f1775",
       "version_major": 2,
       "version_minor": 0
      },
      "text/plain": [
       "0it [00:00, ?it/s]"
      ]
     },
     "metadata": {},
     "output_type": "display_data"
    },
    {
     "name": "stdout",
     "output_type": "stream",
     "text": [
      "L_HSDN: 33371\n",
      "L_HPO: 9480\n"
     ]
    }
   ],
   "source": [
    "#両者の共通部分のリンク数: L_both を求める\n",
    "\n",
    "#共通ノードを同士のペアからなるネットワークに縮小\n",
    "#Number of edges: 7804331\n",
    "hsdn_index = [ enu for enu, i in tqdm(enumerate(hsdn.values.tolist())) if (i[0] in co_node) & (i[1] in co_node) ]\n",
    "#Number of edges: 9763\n",
    "hpo_index = [ enu for enu, i in tqdm(enumerate(hpo.values.tolist())) if (i[0] in co_node) & (i[1] in co_node) ]\n",
    "\n",
    "hsdn_co = hsdn.iloc[hsdn_index].reset_index(drop=True)\n",
    "hpo_co = hpo.iloc[hpo_index].reset_index(drop=True)\n",
    "\n",
    "#HSDNでのリンク数を L_HSDN とする\n",
    "L_HSDN = len(hsdn_co)\n",
    "#HPOのリンク数を L_HPO とする\n",
    "L_HPO = len(hpo_co)\n",
    "\n",
    "print(\"L_HSDN:\", L_HSDN)\n",
    "print(\"L_HPO:\", L_HPO)"
   ]
  },
  {
   "cell_type": "code",
   "execution_count": 13,
   "id": "0d2446b5",
   "metadata": {},
   "outputs": [
    {
     "name": "stdout",
     "output_type": "stream",
     "text": [
      "4842\n"
     ]
    }
   ],
   "source": [
    "#合わせる\n",
    "same_dd_pair_1 = pd.merge(hsdn_co, hpo_co, on=[\"disease_1\", \"disease_2\"])\n",
    "same_dd_pair_1 = same_dd_pair_1.rename(columns={\"cosine_similarity_x\": \"cosine_similarity_HSDN\", \"cosine_similarity_y\": \"cosine_similarity_hpo\"})\n",
    "print(len(same_dd_pair_1))"
   ]
  },
  {
   "cell_type": "code",
   "execution_count": 14,
   "id": "0c33e3d9",
   "metadata": {},
   "outputs": [
    {
     "name": "stdout",
     "output_type": "stream",
     "text": [
      "3089\n"
     ]
    }
   ],
   "source": [
    "#順番を逆にして合わせる\n",
    "hpo_co_rev = hpo_co[[\"disease_2\", \"disease_1\", \"cosine_similarity\"]]\n",
    "hpo_co_rev = hpo_co_rev.rename(columns={\"disease_2\":\"disease_1\", \"disease_1\":\"disease_2\"})\n",
    "\n",
    "same_dd_pair_2 = pd.merge(hsdn_co, hpo_co_rev, on=[\"disease_1\", \"disease_2\"])\n",
    "same_dd_pair_2 = same_dd_pair_2.rename(columns={\"cosine_similarity_x\": \"cosine_similarity_HSDN\", \"cosine_similarity_y\": \"cosine_similarity_hpo\"})\n",
    "print(len(same_dd_pair_2)) "
   ]
  },
  {
   "cell_type": "code",
   "execution_count": 15,
   "id": "d1dce5ff",
   "metadata": {
    "scrolled": true
   },
   "outputs": [
    {
     "name": "stdout",
     "output_type": "stream",
     "text": [
      "7931\n",
      "L_both: 7931\n"
     ]
    }
   ],
   "source": [
    "same_dd_pair = pd.concat([same_dd_pair_1, same_dd_pair_2], axis=0)\n",
    "same_dd_pair = same_dd_pair.reset_index(drop=True)\n",
    "print(len(same_dd_pair)) #6671\n",
    "\n",
    "L_both = len(same_dd_pair)\n",
    "print(\"L_both:\", L_both)"
   ]
  },
  {
   "cell_type": "code",
   "execution_count": 16,
   "id": "fbf97343",
   "metadata": {},
   "outputs": [
    {
     "data": {
      "text/html": [
       "<div>\n",
       "<style scoped>\n",
       "    .dataframe tbody tr th:only-of-type {\n",
       "        vertical-align: middle;\n",
       "    }\n",
       "\n",
       "    .dataframe tbody tr th {\n",
       "        vertical-align: top;\n",
       "    }\n",
       "\n",
       "    .dataframe thead th {\n",
       "        text-align: right;\n",
       "    }\n",
       "</style>\n",
       "<table border=\"1\" class=\"dataframe\">\n",
       "  <thead>\n",
       "    <tr style=\"text-align: right;\">\n",
       "      <th></th>\n",
       "      <th>disease_1</th>\n",
       "      <th>disease_2</th>\n",
       "      <th>cosine_similarity_HSDN</th>\n",
       "      <th>cosine_similarity_hpo</th>\n",
       "    </tr>\n",
       "  </thead>\n",
       "  <tbody>\n",
       "    <tr>\n",
       "      <th>0</th>\n",
       "      <td>D055673</td>\n",
       "      <td>D000130</td>\n",
       "      <td>0.093254</td>\n",
       "      <td>0.131298</td>\n",
       "    </tr>\n",
       "    <tr>\n",
       "      <th>1</th>\n",
       "      <td>D000326</td>\n",
       "      <td>D000130</td>\n",
       "      <td>0.082216</td>\n",
       "      <td>0.045566</td>\n",
       "    </tr>\n",
       "    <tr>\n",
       "      <th>2</th>\n",
       "      <td>D058540</td>\n",
       "      <td>D000130</td>\n",
       "      <td>0.138097</td>\n",
       "      <td>0.312423</td>\n",
       "    </tr>\n",
       "  </tbody>\n",
       "</table>\n",
       "</div>"
      ],
      "text/plain": [
       "  disease_1 disease_2  cosine_similarity_HSDN  cosine_similarity_hpo\n",
       "0   D055673   D000130                0.093254               0.131298\n",
       "1   D000326   D000130                0.082216               0.045566\n",
       "2   D058540   D000130                0.138097               0.312423"
      ]
     },
     "execution_count": 16,
     "metadata": {},
     "output_type": "execute_result"
    }
   ],
   "source": [
    "same_dd_pair[:3]"
   ]
  },
  {
   "cell_type": "code",
   "execution_count": 17,
   "id": "1166f7a9",
   "metadata": {},
   "outputs": [
    {
     "data": {
      "text/html": [
       "<div>\n",
       "<style scoped>\n",
       "    .dataframe tbody tr th:only-of-type {\n",
       "        vertical-align: middle;\n",
       "    }\n",
       "\n",
       "    .dataframe tbody tr th {\n",
       "        vertical-align: top;\n",
       "    }\n",
       "\n",
       "    .dataframe thead th {\n",
       "        text-align: right;\n",
       "    }\n",
       "</style>\n",
       "<table border=\"1\" class=\"dataframe\">\n",
       "  <thead>\n",
       "    <tr style=\"text-align: right;\">\n",
       "      <th></th>\n",
       "      <th>disease_1</th>\n",
       "      <th>disease_2</th>\n",
       "      <th>cosine_similarity_HSDN</th>\n",
       "      <th>cosine_similarity_hpo</th>\n",
       "    </tr>\n",
       "  </thead>\n",
       "  <tbody>\n",
       "  </tbody>\n",
       "</table>\n",
       "</div>"
      ],
      "text/plain": [
       "Empty DataFrame\n",
       "Columns: [disease_1, disease_2, cosine_similarity_HSDN, cosine_similarity_hpo]\n",
       "Index: []"
      ]
     },
     "execution_count": 17,
     "metadata": {},
     "output_type": "execute_result"
    }
   ],
   "source": [
    "#重複チェック\n",
    "same_dd_pair[same_dd_pair.duplicated()]"
   ]
  },
  {
   "cell_type": "code",
   "execution_count": 18,
   "id": "435801cc",
   "metadata": {},
   "outputs": [
    {
     "name": "stdout",
     "output_type": "stream",
     "text": [
      "p_HSDN: 0.7293729372937293\n",
      "p_HPO: 0.20719952789980986\n"
     ]
    }
   ],
   "source": [
    "#p_HSDN=L_HSDN/L_possible を計算する\n",
    "p_HSDN=L_HSDN/L_possible\n",
    "#p_HPO=L_HPO/L_possible を計算する\n",
    "p_HPO=L_HPO/L_possible \n",
    "\n",
    "print(\"p_HSDN:\", p_HSDN)\n",
    "print(\"p_HPO:\", p_HPO)\n"
   ]
  },
  {
   "cell_type": "code",
   "execution_count": 19,
   "id": "3c0ff973",
   "metadata": {
    "scrolled": true
   },
   "outputs": [
    {
     "name": "stdout",
     "output_type": "stream",
     "text": [
      "L_expected: 6914.455445544554\n"
     ]
    }
   ],
   "source": [
    "#p_HSDN * p_HPO * L_possible = L_expected を計算する\n",
    "L_expected = p_HSDN * p_HPO * L_possible\n",
    "print(\"L_expected:\", L_expected)\n"
   ]
  },
  {
   "cell_type": "code",
   "execution_count": 20,
   "id": "d887f183",
   "metadata": {
    "scrolled": false
   },
   "outputs": [
    {
     "name": "stdout",
     "output_type": "stream",
     "text": [
      "N: 303\n",
      "L_possible: 45753.0\n",
      "L_HSDN: 33371\n",
      "L_HPO: 9480\n",
      "p_HSDN: 0.7293729372937293\n",
      "p_HPO: 0.20719952789980986\n",
      "L_both: 7931\n",
      "L_expected: 6914.455445544554\n"
     ]
    },
    {
     "data": {
      "text/plain": [
       "5.1630076789569366e-39"
      ]
     },
     "execution_count": 20,
     "metadata": {},
     "output_type": "execute_result"
    }
   ],
   "source": [
    "#二項分布Binom(n, p)を仮定して、 L_both が得られる確率 P-value を求める\n",
    "#二項分布のn: L_possible\n",
    "#二項分布のp: L_expected/L_possible \n",
    "\n",
    "print(\"N:\", N)\n",
    "print(\"L_possible:\", L_possible)\n",
    "print(\"L_HSDN:\", L_HSDN)\n",
    "print(\"L_HPO:\", L_HPO)\n",
    "\n",
    "print(\"p_HSDN:\", p_HSDN)\n",
    "print(\"p_HPO:\", p_HPO)\n",
    "print(\"L_both:\", L_both)\n",
    "print(\"L_expected:\", L_expected)\n",
    "\n",
    "from scipy import stats\n",
    "stats.binom_test(L_both, \n",
    "                 n=L_possible, \n",
    "                 p=L_expected/L_possible, \n",
    "                 alternative='greater')\n",
    "#scipy.stats.binom_test(x, n=None, p=0.5, alternative='two-sided')[source]\n",
    "#x = The number of successes\n",
    "#n = The number of trials.\n",
    "#p = The hypothesized probability of success \n",
    "#alternative = The default value is ‘two-sided’.\n"
   ]
  },
  {
   "cell_type": "code",
   "execution_count": 106,
   "id": "b1266484",
   "metadata": {
    "scrolled": false
   },
   "outputs": [
    {
     "name": "stdout",
     "output_type": "stream",
     "text": [
      "Zhou_N: 898\n",
      "Zhou_L_possible: 402753\n",
      "Zhou_L_HSDN: 372509\n",
      "Zhou_L_HPO: 111923\n",
      "Zhou_p_HSDN: 0.9249068287511204\n",
      "Zhou_p_HPO: 0.2778948884303779\n",
      "Zhou_L_both: 107098\n",
      "Zhou_L_expected: 103518.34699431164\n"
     ]
    },
    {
     "data": {
      "text/plain": [
       "3.8610006936573684e-38"
      ]
     },
     "execution_count": 106,
     "metadata": {},
     "output_type": "execute_result"
    }
   ],
   "source": [
    "#Zhou\n",
    "Zhou_N = 898\n",
    "Zhou_L_possible = 402753\n",
    "Zhou_L_HSDN = 372509\n",
    "Zhou_L_HPO = 111923\n",
    "Zhou_p_HSDN = Zhou_L_HSDN/Zhou_L_possible\n",
    "Zhou_p_HPO = Zhou_L_HPO/Zhou_L_possible\n",
    "Zhou_L_both = 107098\n",
    "Zhou_L_expected = Zhou_p_HSDN * Zhou_p_HPO * Zhou_L_possible\n",
    "\n",
    "print(\"Zhou_N:\", Zhou_N)\n",
    "print(\"Zhou_L_possible:\", Zhou_L_possible)\n",
    "print(\"Zhou_L_HSDN:\", Zhou_L_HSDN)\n",
    "print(\"Zhou_L_HPO:\", Zhou_L_HPO)\n",
    "print(\"Zhou_p_HSDN:\", Zhou_p_HSDN)\n",
    "print(\"Zhou_p_HPO:\", Zhou_p_HPO)\n",
    "print(\"Zhou_L_both:\", Zhou_L_both)\n",
    "print(\"Zhou_L_expected:\", Zhou_L_expected)\n",
    "\n",
    "stats.binom_test(Zhou_L_both, \n",
    "                 n=Zhou_L_possible, \n",
    "                 p=Zhou_L_expected/Zhou_L_possible, \n",
    "                 alternative='greater')\n",
    "#Zhou et al., (2014)ではP-value = 2.2 × 10-16 "
   ]
  }
 ],
 "metadata": {
  "kernelspec": {
   "display_name": "Python 3",
   "language": "python",
   "name": "python3"
  },
  "language_info": {
   "codemirror_mode": {
    "name": "ipython",
    "version": 3
   },
   "file_extension": ".py",
   "mimetype": "text/x-python",
   "name": "python",
   "nbconvert_exporter": "python",
   "pygments_lexer": "ipython3",
   "version": "3.8.8"
  }
 },
 "nbformat": 4,
 "nbformat_minor": 5
}
