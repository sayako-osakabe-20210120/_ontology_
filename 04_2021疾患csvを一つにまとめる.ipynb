{
 "cells": [
  {
   "cell_type": "code",
   "execution_count": null,
   "id": "bd5e99af",
   "metadata": {},
   "outputs": [],
   "source": [
    "import os\n",
    "import glob\n",
    "from tqdm.notebook import tqdm #from tqdm import tqdm_notebook as tqdm\n",
    "import pandas as pd"
   ]
  },
  {
   "cell_type": "code",
   "execution_count": null,
   "id": "251e9882",
   "metadata": {},
   "outputs": [],
   "source": [
    "path_1 = \"./folder_02\" #input\n",
    "path_2 = \"../folder_04\" #output(症状もここに保存)"
   ]
  },
  {
   "cell_type": "code",
   "execution_count": null,
   "id": "e20859f4",
   "metadata": {
    "scrolled": true
   },
   "outputs": [],
   "source": [
    "os.chdir(path_1)\n",
    "d_list = sorted(glob.glob('d_*.csv'))\n",
    "print(len(d_list))"
   ]
  },
  {
   "cell_type": "code",
   "execution_count": null,
   "id": "67378b37",
   "metadata": {},
   "outputs": [],
   "source": [
    "df = pd.DataFrame()\n",
    "for file in tqdm(d_list[:]):#1062\n",
    "    #print(file)\n",
    "    tmp_df = pd.read_csv(file, engine='python')\n",
    "    df = pd.concat([df, tmp_df])\n",
    "df = df.reset_index(drop=True)\n",
    "print(df[\"PMID\"].min(), df[\"PMID\"].max())"
   ]
  },
  {
   "cell_type": "code",
   "execution_count": null,
   "id": "36c1d904",
   "metadata": {},
   "outputs": [],
   "source": [
    "os.chdir(path_2) \n",
    "df.to_csv(\"disease.csv\", index=False)"
   ]
  }
 ],
 "metadata": {
  "kernelspec": {
   "display_name": "Python 3",
   "language": "python",
   "name": "python3"
  },
  "language_info": {
   "codemirror_mode": {
    "name": "ipython",
    "version": 3
   },
   "file_extension": ".py",
   "mimetype": "text/x-python",
   "name": "python",
   "nbconvert_exporter": "python",
   "pygments_lexer": "ipython3",
   "version": "3.8.8"
  }
 },
 "nbformat": 4,
 "nbformat_minor": 5
}
