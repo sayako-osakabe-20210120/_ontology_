{
 "cells": [
  {
   "cell_type": "code",
   "execution_count": 1,
   "id": "bd5e99af",
   "metadata": {},
   "outputs": [],
   "source": [
    "import os\n",
    "import glob\n",
    "from tqdm.notebook import tqdm #from tqdm import tqdm_notebook as tqdm\n",
    "import pandas as pd\n",
    "#import pickle\n",
    "#import gzip\n",
    "#import numpy as np\n",
    "#import networkx as nx\n",
    "#import matplotlib.pyplot as plt\n",
    "#import xml.etree.ElementTree as ET\n",
    "#import defusedxml.ElementTree as ET\n",
    "#from collections import OrderedDict\n",
    "#import collections\n",
    "#from collections import Counter\n",
    "#import datetime\n"
   ]
  },
  {
   "cell_type": "code",
   "execution_count": 3,
   "id": "2a8cb39e",
   "metadata": {},
   "outputs": [],
   "source": [
    "path_1 = '/home/admin_user/デスクトップ/folder_02' #2016個の各疾患csvの格納先\n",
    "#path_2 = '/home/admin_user/デスクトップ/folder_04' #新たな格納先(症状もここに保存)"
   ]
  },
  {
   "cell_type": "code",
   "execution_count": 4,
   "id": "e20859f4",
   "metadata": {
    "scrolled": true
   },
   "outputs": [
    {
     "name": "stdout",
     "output_type": "stream",
     "text": [
      "1062\n"
     ]
    }
   ],
   "source": [
    "os.chdir(path_1)\n",
    "d_list = sorted(glob.glob('d_*.csv'))\n",
    "print(len(d_list))"
   ]
  },
  {
   "cell_type": "code",
   "execution_count": 5,
   "id": "67378b37",
   "metadata": {},
   "outputs": [
    {
     "data": {
      "application/vnd.jupyter.widget-view+json": {
       "model_id": "457b5ac0d858407083794c750ab105c8",
       "version_major": 2,
       "version_minor": 0
      },
      "text/plain": [
       "  0%|          | 0/1062 [00:00<?, ?it/s]"
      ]
     },
     "metadata": {},
     "output_type": "display_data"
    },
    {
     "name": "stdout",
     "output_type": "stream",
     "text": [
      "22 33251842\n"
     ]
    }
   ],
   "source": [
    "df = pd.DataFrame()\n",
    "for file in tqdm(d_list[:]):#1062\n",
    "    #print(file)\n",
    "    tmp_df = pd.read_csv(file, engine='python')\n",
    "    df = pd.concat([df, tmp_df])\n",
    "df = df.reset_index(drop=True)\n",
    "print(df[\"PMID\"].min(), df[\"PMID\"].max())"
   ]
  },
  {
   "cell_type": "code",
   "execution_count": 6,
   "id": "36c1d904",
   "metadata": {},
   "outputs": [],
   "source": [
    "os.chdir(\"../folder_04\") #os.chdir(path_2)\n",
    "df.to_csv(\"disease.csv\", index=False)"
   ]
  },
  {
   "cell_type": "code",
   "execution_count": null,
   "id": "8a7e1617",
   "metadata": {},
   "outputs": [],
   "source": []
  },
  {
   "cell_type": "code",
   "execution_count": null,
   "id": "ea260993",
   "metadata": {},
   "outputs": [],
   "source": []
  }
 ],
 "metadata": {
  "kernelspec": {
   "display_name": "Python 3",
   "language": "python",
   "name": "python3"
  },
  "language_info": {
   "codemirror_mode": {
    "name": "ipython",
    "version": 3
   },
   "file_extension": ".py",
   "mimetype": "text/x-python",
   "name": "python",
   "nbconvert_exporter": "python",
   "pygments_lexer": "ipython3",
   "version": "3.8.8"
  }
 },
 "nbformat": 4,
 "nbformat_minor": 5
}
