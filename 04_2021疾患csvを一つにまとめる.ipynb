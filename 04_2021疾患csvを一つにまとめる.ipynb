{
 "cells": [
  {
   "cell_type": "code",
   "execution_count": 1,
   "id": "bd5e99af",
   "metadata": {},
   "outputs": [],
   "source": [
    "import os\n",
    "import pickle\n",
    "import glob\n",
    "import gzip\n",
    "from tqdm.notebook import tqdm #from tqdm import tqdm_notebook as tqdm\n",
    "import pandas as pd\n",
    "import numpy as np\n",
    "import networkx as nx\n",
    "import matplotlib.pyplot as plt\n",
    "import xml.etree.ElementTree as ET\n",
    "import defusedxml.ElementTree as ET\n",
    "from collections import OrderedDict\n",
    "import collections\n",
    "from collections import Counter\n",
    "import datetime\n"
   ]
  },
  {
   "cell_type": "code",
   "execution_count": 2,
   "id": "b4aa1a0e",
   "metadata": {},
   "outputs": [
    {
     "data": {
      "text/plain": [
       "'/home/admin_user'"
      ]
     },
     "execution_count": 2,
     "metadata": {},
     "output_type": "execute_result"
    }
   ],
   "source": [
    "os.getcwd()"
   ]
  },
  {
   "cell_type": "code",
   "execution_count": 3,
   "id": "2a8cb39e",
   "metadata": {},
   "outputs": [],
   "source": [
    "path_1 = '/home/admin_user/デスクトップ/folder_02' #2016個の各疾患csvの格納先\n",
    "path_2 = '/home/admin_user/デスクトップ/folder_04' #新たな格納先(症状もここに保存)"
   ]
  },
  {
   "cell_type": "code",
   "execution_count": 4,
   "id": "e20859f4",
   "metadata": {},
   "outputs": [
    {
     "name": "stdout",
     "output_type": "stream",
     "text": [
      "1062\n"
     ]
    }
   ],
   "source": [
    "os.chdir(path_1)\n",
    "d_list = sorted(glob.glob('d_*.csv'))\n",
    "print(len(d_list))"
   ]
  },
  {
   "cell_type": "code",
   "execution_count": 5,
   "id": "67378b37",
   "metadata": {},
   "outputs": [
    {
     "data": {
      "application/vnd.jupyter.widget-view+json": {
       "model_id": "457b5ac0d858407083794c750ab105c8",
       "version_major": 2,
       "version_minor": 0
      },
      "text/plain": [
       "  0%|          | 0/1062 [00:00<?, ?it/s]"
      ]
     },
     "metadata": {},
     "output_type": "display_data"
    },
    {
     "name": "stdout",
     "output_type": "stream",
     "text": [
      "22 33251842\n"
     ]
    }
   ],
   "source": [
    "df = pd.DataFrame()\n",
    "for file in tqdm(d_list[:]):#1062\n",
    "    #print(file)\n",
    "    tmp_df = pd.read_csv(file, engine='python')\n",
    "    df = pd.concat([df, tmp_df])\n",
    "df = df.reset_index(drop=True)\n",
    "print(df[\"PMID\"].min(), df[\"PMID\"].max())"
   ]
  },
  {
   "cell_type": "code",
   "execution_count": 6,
   "id": "36c1d904",
   "metadata": {},
   "outputs": [],
   "source": [
    "os.chdir(path_2)\n",
    "df.to_csv(\"disease.csv\", index=False)"
   ]
  },
  {
   "cell_type": "code",
   "execution_count": 8,
   "id": "ff4079e1",
   "metadata": {},
   "outputs": [
    {
     "name": "stdout",
     "output_type": "stream",
     "text": [
      "1902-03-01 2020-12-01\n"
     ]
    }
   ],
   "source": [
    "print(df[\"PubDate\"].min(), df[\"PubDate\"].max())"
   ]
  },
  {
   "cell_type": "code",
   "execution_count": 9,
   "id": "5e9b80bb",
   "metadata": {},
   "outputs": [
    {
     "data": {
      "text/html": [
       "<div>\n",
       "<style scoped>\n",
       "    .dataframe tbody tr th:only-of-type {\n",
       "        vertical-align: middle;\n",
       "    }\n",
       "\n",
       "    .dataframe tbody tr th {\n",
       "        vertical-align: top;\n",
       "    }\n",
       "\n",
       "    .dataframe thead th {\n",
       "        text-align: right;\n",
       "    }\n",
       "</style>\n",
       "<table border=\"1\" class=\"dataframe\">\n",
       "  <thead>\n",
       "    <tr style=\"text-align: right;\">\n",
       "      <th></th>\n",
       "      <th>PMID</th>\n",
       "      <th>PubDate</th>\n",
       "      <th>Descriptor</th>\n",
       "      <th>Descriptor_UI</th>\n",
       "      <th>Descriptor_MajorTopic</th>\n",
       "      <th>Qualifier</th>\n",
       "      <th>Qualifier_UI</th>\n",
       "      <th>Qualifier_MajorTopic</th>\n",
       "    </tr>\n",
       "  </thead>\n",
       "  <tbody>\n",
       "    <tr>\n",
       "      <th>9075048</th>\n",
       "      <td>12255534</td>\n",
       "      <td>1902-03-01</td>\n",
       "      <td>Infertility</td>\n",
       "      <td>D007246</td>\n",
       "      <td>Y</td>\n",
       "      <td>NaN</td>\n",
       "      <td>NaN</td>\n",
       "      <td>NaN</td>\n",
       "    </tr>\n",
       "  </tbody>\n",
       "</table>\n",
       "</div>"
      ],
      "text/plain": [
       "             PMID     PubDate   Descriptor Descriptor_UI  \\\n",
       "9075048  12255534  1902-03-01  Infertility       D007246   \n",
       "\n",
       "        Descriptor_MajorTopic Qualifier Qualifier_UI Qualifier_MajorTopic  \n",
       "9075048                     Y       NaN          NaN                  NaN  "
      ]
     },
     "execution_count": 9,
     "metadata": {},
     "output_type": "execute_result"
    }
   ],
   "source": [
    "df[df[\"PubDate\"]==df[\"PubDate\"].min()]"
   ]
  },
  {
   "cell_type": "code",
   "execution_count": null,
   "id": "a601a98d",
   "metadata": {},
   "outputs": [],
   "source": []
  }
 ],
 "metadata": {
  "kernelspec": {
   "display_name": "Python 3",
   "language": "python",
   "name": "python3"
  },
  "language_info": {
   "codemirror_mode": {
    "name": "ipython",
    "version": 3
   },
   "file_extension": ".py",
   "mimetype": "text/x-python",
   "name": "python",
   "nbconvert_exporter": "python",
   "pygments_lexer": "ipython3",
   "version": "3.8.8"
  }
 },
 "nbformat": 4,
 "nbformat_minor": 5
}
