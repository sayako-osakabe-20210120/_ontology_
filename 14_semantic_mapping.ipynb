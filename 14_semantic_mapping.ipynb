{
 "cells": [
  {
   "cell_type": "code",
   "execution_count": 1,
   "id": "952baded",
   "metadata": {},
   "outputs": [],
   "source": [
    "# ライブラリ読み込み\n",
    "import pandas as pd\n",
    "import pronto"
   ]
  },
  {
   "cell_type": "code",
   "execution_count": 2,
   "id": "4830ceb8",
   "metadata": {},
   "outputs": [],
   "source": [
    "path_1 = \"./UMLS2021AB/\"\n",
    "file_1=\"hp.obo\"\n",
    "#file_2 = \"phenotype.hpoa\"\n",
    "#file_3 = \"CTD_diseases.tsv.gz\"\n",
    "file_4 = \"MRFILES.RRF.gz\"\n",
    "file_5 = \"MRSTY.RRF.gz\"\n",
    "file_6 = \"MRCONSO.RRF.aa.gz\"\n",
    "file_7 = \"MRCONSO.RRF.ab.gz\"\n",
    "file_8 = \"SRFIL\"\n",
    "file_9 = \"SRDEF\""
   ]
  },
  {
   "cell_type": "markdown",
   "id": "7d7b0f57",
   "metadata": {},
   "source": [
    "path_1 = \"./UMLS2021AB/\"\n",
    "file_1=\"hp.obo\"\n",
    "file_2 = \"phenotype.hpoa\"\n",
    "file_3 = \"CTD_diseases.tsv.gz\"\n",
    "file_4 = \"MRFILES.RRF.gz\"\n",
    "file_5 = \"MRSTY.RRF.gz\"\n",
    "file_6 = \"MRCONSO.RRF.aa.gz\"\n",
    "file_7 = \"MRCONSO.RRF.ab.gz\"\n",
    "file_8 = \"SRFIL\"\n",
    "file_9 = \"SRDEF\""
   ]
  },
  {
   "cell_type": "code",
   "execution_count": 3,
   "id": "0c7af931",
   "metadata": {},
   "outputs": [
    {
     "name": "stderr",
     "output_type": "stream",
     "text": [
      "/home/admin_user/anaconda3/lib/python3.8/site-packages/pronto/ontology.py:206: UnicodeWarning: unsound encoding, assuming ISO-8859-1 (73% confidence)\n",
      "  return cls(\n"
     ]
    },
    {
     "data": {
      "text/plain": [
       "16908"
      ]
     },
     "execution_count": 3,
     "metadata": {},
     "output_type": "execute_result"
    }
   ],
   "source": [
    "ont = pronto.Ontology.from_obo_library(file_1)\n",
    "len(ont)"
   ]
  },
  {
   "cell_type": "code",
   "execution_count": 4,
   "id": "0aa3a475",
   "metadata": {},
   "outputs": [
    {
     "name": "stdout",
     "output_type": "stream",
     "text": [
      "HPの数: 11589 CUIの数: 12859 マッピングの数: 13005 13005\n"
     ]
    }
   ],
   "source": [
    "#HPOオントロジー中でXREFにUMLSを持つもの\n",
    "#UMLSへのマッピングの数\n",
    "\n",
    "hp=[]\n",
    "umls = []\n",
    "hp_umls=[]\n",
    "hp_cui = []\n",
    "\n",
    "for term in ont.terms():\n",
    "    for each_xref in term.xrefs:\n",
    "        if (\"Xref('UMLS:\" in str(each_xref)):\n",
    "            cui = str(each_xref).replace(\"Xref('UMLS:\", \"\").replace(\"')\", \"\")\n",
    "            hp.append(term.id) #HPO_id\n",
    "            umls.append( cui) #CUI\n",
    "            hp_umls.append([term.id, cui]) #HPO_id, CUI\n",
    "            hp_cui.append([term.name + '(' + term.id + ')', term.id, cui]) #HPO_id, HPO_name, CUI\n",
    "                \n",
    "hp = sorted(list(set(hp)))\n",
    "umls = sorted(list(set(umls)))\n",
    "hp_umls = sorted(list(map(list, set(map(tuple, hp_umls)))))\n",
    "hp_cui = sorted(list(map(list, set(map(tuple, hp_cui)))))\n",
    "\n",
    "print(\"HPの数:\", len(hp), \"CUIの数:\", len(umls), \"マッピングの数:\", len(hp_umls) ,len(hp_cui) )\n"
   ]
  },
  {
   "cell_type": "code",
   "execution_count": null,
   "id": "dcd18846",
   "metadata": {},
   "outputs": [],
   "source": []
  },
  {
   "cell_type": "code",
   "execution_count": 5,
   "id": "907f0ec1",
   "metadata": {},
   "outputs": [],
   "source": [
    "#2021 セマンティックタイプから,T184-CUI-HPOを調査"
   ]
  },
  {
   "cell_type": "code",
   "execution_count": 6,
   "id": "be88ecb9",
   "metadata": {},
   "outputs": [
    {
     "name": "stdout",
     "output_type": "stream",
     "text": [
      "MRFILES.RRF.gz\n"
     ]
    }
   ],
   "source": [
    "#\"MRFILES.RRF.gz\"\n",
    "print(file_4)\n",
    "mrfiles = pd.read_csv(path_1+file_4, sep=\"\\|\", header=None, engine=\"python\")\n",
    "mrfiles.columns=[\"FIL\", \"DES\", \"FMT\", \"CLS\", \"RWS\" ,\"BTS\", 0]\n",
    "mrfiles = mrfiles.iloc[:,:-1]\n",
    "\n",
    "#FILがファイル名, FMTが列名\n",
    "mrfiles[\"FMT_split\"] = mrfiles [\"FMT\"].str.split(\",\")"
   ]
  },
  {
   "cell_type": "code",
   "execution_count": 7,
   "id": "e13edf5a",
   "metadata": {},
   "outputs": [],
   "source": [
    "#列名取得\n",
    "conso_col = mrfiles[mrfiles [\"FIL\"] ==\"MRCONSO.RRF\"][\"FMT_split\"].values.tolist()[0] #2MRCONSO.RRF の列名\n",
    "mrsty_col = mrfiles[mrfiles [\"FIL\"] ==\"MRSTY.RRF\"][\"FMT_split\"].values.tolist()[0] #3\"MRSTY.RRF\"の列名"
   ]
  },
  {
   "cell_type": "code",
   "execution_count": 8,
   "id": "7abd909b",
   "metadata": {},
   "outputs": [
    {
     "name": "stdout",
     "output_type": "stream",
     "text": [
      "MRSTY.RRF.gz\n",
      "4864162\n"
     ]
    }
   ],
   "source": [
    "#\"MRSTY.RRF.gz\" Semantic Types: セマンティックタイプ\n",
    "print(file_5)\n",
    "mrsty_org = pd.read_csv(path_1+file_5, sep=\"\\|\", header=None, engine=\"python\")\n",
    "mrsty_org.columns = mrsty_col + [0]\n",
    "mrsty_org = mrsty_org.iloc[:,:len(mrsty_col)]\n",
    "#データがあるのはCUI, TUI列のみだったので２列だけに絞る\n",
    "mrsty_org = mrsty_org[[\"CUI\", \"TUI\"]]\n",
    "print(len(mrsty_org))"
   ]
  },
  {
   "cell_type": "code",
   "execution_count": 9,
   "id": "e99d5faf",
   "metadata": {},
   "outputs": [
    {
     "name": "stdout",
     "output_type": "stream",
     "text": [
      "mrsty.rrf のうち T184_CUI: 14281\n",
      "T184_CUI 紐づけらるHPO: 216\n"
     ]
    }
   ],
   "source": [
    "#T184を持つCUI\n",
    "t184_cui = mrsty_org[ mrsty_org[\"TUI\"] == \"T184\"][\"CUI\"].values.tolist()\n",
    "print(\"mrsty.rrf のうち T184_CUI:\", len(t184_cui))\n",
    "\n",
    "#UMLSのT184に紐づけられたCUI。HPOオントロジーではHPOとCUIが紐づけられているので、CUIを使ってT184とHPOがマッピングできる\n",
    "#HPO_CUIのペアのうち、T184_CUIとペアになっているHPOを取り出す\n",
    "t184_hp = sorted(list(set([ i[0] for i in hp_umls  if i[1] in t184_cui])))\n",
    "print(\"T184_CUI 紐づけらるHPO:\", len(t184_hp))\n",
    "\n",
    "#subsetのHPOのうち T184にあたるHPOの件数\n",
    "#print(\"phenotype_dfのHPOのうち T184にあたるHPOの件数:\", len(set(phenotype_df[\"HP\"].values.tolist()) & set(t184_hp)))"
   ]
  },
  {
   "cell_type": "code",
   "execution_count": 11,
   "id": "78ce8e2e",
   "metadata": {
    "scrolled": false
   },
   "outputs": [
    {
     "name": "stdout",
     "output_type": "stream",
     "text": [
      "MRCONSO.RRF.aa.gz\n"
     ]
    }
   ],
   "source": [
    "print(file_6)\n",
    "mrconso_aa_org = pd.read_csv(path_1+file_6, sep=\"\\|\", header=None, engine=\"python\")\n",
    "mrconso_aa_org.columns= conso_col + [0]\n",
    "mrconso_aa_org = mrconso_aa_org.iloc[:,:len(conso_col)]"
   ]
  },
  {
   "cell_type": "code",
   "execution_count": 12,
   "id": "1c597170",
   "metadata": {},
   "outputs": [
    {
     "name": "stdout",
     "output_type": "stream",
     "text": [
      "MRCONSO.RRF.ab.gz\n"
     ]
    }
   ],
   "source": [
    "print(file_7)\n",
    "mrconso_ab_org = pd.read_csv(path_1+file_7, sep=\"\\|\", header=None, engine=\"python\")\n",
    "mrconso_ab_org = mrconso_ab_org.reset_index() #必要\n",
    "mrconso_ab_org.columns=conso_col + [0]\n",
    "mrconso_ab_org = mrconso_ab_org.iloc[:,:len(conso_col)]"
   ]
  },
  {
   "cell_type": "code",
   "execution_count": 13,
   "id": "f9d84c5f",
   "metadata": {},
   "outputs": [
    {
     "name": "stdout",
     "output_type": "stream",
     "text": [
      "18 ['C1507708', 'ENG', 'S', 'L8533703', 'PF', 'S10618931', 'Y', 'A18343928', nan, '35548-7', nan, 'LNC', 'LC', '35548-7', 'Fusarium moniliforme IgG Ab [Mass/volume] in Serum', '0', 'N', nan]\n"
     ]
    }
   ],
   "source": [
    "#mrconso_aa_orgの最後の行のデータの続きが mrconso_ab_orgの一行目にある。\n",
    "#データをくっつけて一行にする\n",
    "data = [i for i in mrconso_aa_org[-1:].values.tolist()[0]] +  [i for i in mrconso_ab_org[:1].values.tolist()[0]]\n",
    "#[[enu,i] for enu, i in enumerate(data)]\n",
    "\n",
    "rewrite_data = data[:3] + [str(data[3])+ str(data[18])] + data[19:-3]\n",
    "#print(len(rewrite_data), rewrite_data)\n",
    "tmp_df = pd.DataFrame(data=rewrite_data).T\n",
    "tmp_df.columns=conso_col"
   ]
  },
  {
   "cell_type": "code",
   "execution_count": 14,
   "id": "e6f2be3b",
   "metadata": {},
   "outputs": [
    {
     "name": "stdout",
     "output_type": "stream",
     "text": [
      "8683998 8683997 7859674 7859674\n"
     ]
    }
   ],
   "source": [
    "#調整\n",
    "mrconso_aa = mrconso_aa_org[:-1]\n",
    "mrconso_ab = mrconso_ab_org.append(tmp_df)[1:].sort_index() #mrconso_ab_org.update(df)\n",
    "print(len(mrconso_aa_org), len(mrconso_aa), len(mrconso_ab_org), len(mrconso_ab) )"
   ]
  },
  {
   "cell_type": "code",
   "execution_count": 15,
   "id": "62a1b720",
   "metadata": {},
   "outputs": [
    {
     "name": "stdout",
     "output_type": "stream",
     "text": [
      "16543671\n"
     ]
    }
   ],
   "source": [
    "#mrconso_aa, mrconso_ab 合体\n",
    "conso = pd.concat([mrconso_aa, mrconso_ab ] )\n",
    "conso = conso.reset_index(drop=True)\n",
    "print(len(conso))#hpo[\"LAT\"].unique() #ENGのみ"
   ]
  },
  {
   "cell_type": "code",
   "execution_count": 16,
   "id": "41930d46",
   "metadata": {},
   "outputs": [],
   "source": [
    "#conso.to_csv(\"conso_2021AB.csv\", index=False)"
   ]
  },
  {
   "cell_type": "code",
   "execution_count": 91,
   "id": "f818ca6b",
   "metadata": {},
   "outputs": [
    {
     "data": {
      "text/html": [
       "<div>\n",
       "<style scoped>\n",
       "    .dataframe tbody tr th:only-of-type {\n",
       "        vertical-align: middle;\n",
       "    }\n",
       "\n",
       "    .dataframe tbody tr th {\n",
       "        vertical-align: top;\n",
       "    }\n",
       "\n",
       "    .dataframe thead th {\n",
       "        text-align: right;\n",
       "    }\n",
       "</style>\n",
       "<table border=\"1\" class=\"dataframe\">\n",
       "  <thead>\n",
       "    <tr style=\"text-align: right;\">\n",
       "      <th></th>\n",
       "      <th>CUI</th>\n",
       "      <th>STR</th>\n",
       "    </tr>\n",
       "  </thead>\n",
       "  <tbody>\n",
       "    <tr>\n",
       "      <th>0</th>\n",
       "      <td>C0000005</td>\n",
       "      <td>(131)I-Macroaggregated Albumin</td>\n",
       "    </tr>\n",
       "    <tr>\n",
       "      <th>1</th>\n",
       "      <td>C0000005</td>\n",
       "      <td>(131)I-MAA</td>\n",
       "    </tr>\n",
       "    <tr>\n",
       "      <th>2</th>\n",
       "      <td>C0000005</td>\n",
       "      <td>Macroagrégats d'albumine marquée à l'iode 131</td>\n",
       "    </tr>\n",
       "  </tbody>\n",
       "</table>\n",
       "</div>"
      ],
      "text/plain": [
       "        CUI                                            STR\n",
       "0  C0000005                 (131)I-Macroaggregated Albumin\n",
       "1  C0000005                                     (131)I-MAA\n",
       "2  C0000005  Macroagrégats d'albumine marquée à l'iode 131"
      ]
     },
     "execution_count": 91,
     "metadata": {},
     "output_type": "execute_result"
    }
   ],
   "source": [
    "conso[[\"CUI\", \"STR\"]][:3]#STR=各ソースでのCUI名"
   ]
  },
  {
   "cell_type": "code",
   "execution_count": 76,
   "id": "59b87872",
   "metadata": {},
   "outputs": [
    {
     "data": {
      "text/plain": [
       "273441"
      ]
     },
     "execution_count": 76,
     "metadata": {},
     "output_type": "execute_result"
    }
   ],
   "source": [
    "#CUI, HPO, STR(ターム名）\n",
    "\n",
    "#HPO ONTOLOGY の HPO-CUI\n",
    "hp_umls_df = pd.DataFrame(hp_umls, columns=[\"HPO\", \"CUI\"])\n",
    "#CONSO の CUI-STR(各ソースでの名前) と合わせる\n",
    "conso_hp_cui = pd.merge(hp_umls_df, conso[[\"CUI\", \"STR\"]] ) #STR=各ソースでのCUI名\n",
    "conso_hp_cui = conso_hp_cui[~conso_hp_cui.duplicated()]\n",
    "len(conso_hp_cui)"
   ]
  },
  {
   "cell_type": "code",
   "execution_count": 92,
   "id": "17bfd0f2",
   "metadata": {
    "scrolled": true
   },
   "outputs": [
    {
     "data": {
      "text/html": [
       "<div>\n",
       "<style scoped>\n",
       "    .dataframe tbody tr th:only-of-type {\n",
       "        vertical-align: middle;\n",
       "    }\n",
       "\n",
       "    .dataframe tbody tr th {\n",
       "        vertical-align: top;\n",
       "    }\n",
       "\n",
       "    .dataframe thead th {\n",
       "        text-align: right;\n",
       "    }\n",
       "</style>\n",
       "<table border=\"1\" class=\"dataframe\">\n",
       "  <thead>\n",
       "    <tr style=\"text-align: right;\">\n",
       "      <th></th>\n",
       "      <th>HPO</th>\n",
       "      <th>CUI</th>\n",
       "      <th>STR</th>\n",
       "    </tr>\n",
       "  </thead>\n",
       "  <tbody>\n",
       "    <tr>\n",
       "      <th>0</th>\n",
       "      <td>HP:0000001</td>\n",
       "      <td>C0444868</td>\n",
       "      <td>All</td>\n",
       "    </tr>\n",
       "    <tr>\n",
       "      <th>9</th>\n",
       "      <td>HP:0000001</td>\n",
       "      <td>C0444868</td>\n",
       "      <td>ALL</td>\n",
       "    </tr>\n",
       "    <tr>\n",
       "      <th>10</th>\n",
       "      <td>HP:0000001</td>\n",
       "      <td>C0444868</td>\n",
       "      <td>all</td>\n",
       "    </tr>\n",
       "    <tr>\n",
       "      <th>12</th>\n",
       "      <td>HP:0000001</td>\n",
       "      <td>C0444868</td>\n",
       "      <td>All (qualifier value)</td>\n",
       "    </tr>\n",
       "    <tr>\n",
       "      <th>13</th>\n",
       "      <td>HP:0000001</td>\n",
       "      <td>C0444868</td>\n",
       "      <td>en todo</td>\n",
       "    </tr>\n",
       "    <tr>\n",
       "      <th>14</th>\n",
       "      <td>HP:0000001</td>\n",
       "      <td>C0444868</td>\n",
       "      <td>todo</td>\n",
       "    </tr>\n",
       "    <tr>\n",
       "      <th>15</th>\n",
       "      <td>HP:0000001</td>\n",
       "      <td>C0444868</td>\n",
       "      <td>todos</td>\n",
       "    </tr>\n",
       "    <tr>\n",
       "      <th>16</th>\n",
       "      <td>HP:0000001</td>\n",
       "      <td>C0444868</td>\n",
       "      <td>todos (calificador)</td>\n",
       "    </tr>\n",
       "    <tr>\n",
       "      <th>17</th>\n",
       "      <td>HP:0000002</td>\n",
       "      <td>C4025901</td>\n",
       "      <td>Abnormality of body height</td>\n",
       "    </tr>\n",
       "    <tr>\n",
       "      <th>19</th>\n",
       "      <td>HP:0000003</td>\n",
       "      <td>C3714581</td>\n",
       "      <td>multicystické dysplastické ledviny</td>\n",
       "    </tr>\n",
       "  </tbody>\n",
       "</table>\n",
       "</div>"
      ],
      "text/plain": [
       "           HPO       CUI                                 STR\n",
       "0   HP:0000001  C0444868                                 All\n",
       "9   HP:0000001  C0444868                                 ALL\n",
       "10  HP:0000001  C0444868                                 all\n",
       "12  HP:0000001  C0444868               All (qualifier value)\n",
       "13  HP:0000001  C0444868                             en todo\n",
       "14  HP:0000001  C0444868                                todo\n",
       "15  HP:0000001  C0444868                               todos\n",
       "16  HP:0000001  C0444868                 todos (calificador)\n",
       "17  HP:0000002  C4025901          Abnormality of body height\n",
       "19  HP:0000003  C3714581  multicystické dysplastické ledviny"
      ]
     },
     "execution_count": 92,
     "metadata": {},
     "output_type": "execute_result"
    }
   ],
   "source": [
    "conso_hp_cui[:10]"
   ]
  },
  {
   "cell_type": "code",
   "execution_count": 87,
   "id": "7cefe3c8",
   "metadata": {},
   "outputs": [
    {
     "data": {
      "text/html": [
       "<div>\n",
       "<style scoped>\n",
       "    .dataframe tbody tr th:only-of-type {\n",
       "        vertical-align: middle;\n",
       "    }\n",
       "\n",
       "    .dataframe tbody tr th {\n",
       "        vertical-align: top;\n",
       "    }\n",
       "\n",
       "    .dataframe thead th {\n",
       "        text-align: right;\n",
       "    }\n",
       "</style>\n",
       "<table border=\"1\" class=\"dataframe\">\n",
       "  <thead>\n",
       "    <tr style=\"text-align: right;\">\n",
       "      <th></th>\n",
       "      <th>CUI</th>\n",
       "      <th>TUI</th>\n",
       "    </tr>\n",
       "  </thead>\n",
       "  <tbody>\n",
       "    <tr>\n",
       "      <th>0</th>\n",
       "      <td>C0000005</td>\n",
       "      <td>T116</td>\n",
       "    </tr>\n",
       "    <tr>\n",
       "      <th>1</th>\n",
       "      <td>C0000005</td>\n",
       "      <td>T121</td>\n",
       "    </tr>\n",
       "    <tr>\n",
       "      <th>2</th>\n",
       "      <td>C0000005</td>\n",
       "      <td>T130</td>\n",
       "    </tr>\n",
       "  </tbody>\n",
       "</table>\n",
       "</div>"
      ],
      "text/plain": [
       "        CUI   TUI\n",
       "0  C0000005  T116\n",
       "1  C0000005  T121\n",
       "2  C0000005  T130"
      ]
     },
     "execution_count": 87,
     "metadata": {},
     "output_type": "execute_result"
    }
   ],
   "source": [
    "mrsty_org[:3]"
   ]
  },
  {
   "cell_type": "code",
   "execution_count": 77,
   "id": "f7a0874c",
   "metadata": {},
   "outputs": [
    {
     "name": "stdout",
     "output_type": "stream",
     "text": [
      "273774 12703 33 11475\n"
     ]
    },
    {
     "data": {
      "text/html": [
       "<div>\n",
       "<style scoped>\n",
       "    .dataframe tbody tr th:only-of-type {\n",
       "        vertical-align: middle;\n",
       "    }\n",
       "\n",
       "    .dataframe tbody tr th {\n",
       "        vertical-align: top;\n",
       "    }\n",
       "\n",
       "    .dataframe thead th {\n",
       "        text-align: right;\n",
       "    }\n",
       "</style>\n",
       "<table border=\"1\" class=\"dataframe\">\n",
       "  <thead>\n",
       "    <tr style=\"text-align: right;\">\n",
       "      <th></th>\n",
       "      <th>CUI</th>\n",
       "      <th>TUI</th>\n",
       "      <th>HPO</th>\n",
       "      <th>STR</th>\n",
       "    </tr>\n",
       "  </thead>\n",
       "  <tbody>\n",
       "    <tr>\n",
       "      <th>0</th>\n",
       "      <td>C0000731</td>\n",
       "      <td>T033</td>\n",
       "      <td>HP:0003270</td>\n",
       "      <td>ABDOMENAREN BOLUMEN ALDAKETA/ABDOMEN HAUNDITZEA</td>\n",
       "    </tr>\n",
       "    <tr>\n",
       "      <th>1</th>\n",
       "      <td>C0000731</td>\n",
       "      <td>T033</td>\n",
       "      <td>HP:0003270</td>\n",
       "      <td>Břišní distenze</td>\n",
       "    </tr>\n",
       "    <tr>\n",
       "      <th>2</th>\n",
       "      <td>C0000731</td>\n",
       "      <td>T033</td>\n",
       "      <td>HP:0003270</td>\n",
       "      <td>Vzedmuté břicho</td>\n",
       "    </tr>\n",
       "    <tr>\n",
       "      <th>3</th>\n",
       "      <td>C0000731</td>\n",
       "      <td>T033</td>\n",
       "      <td>HP:0003270</td>\n",
       "      <td>Zduřené břicho</td>\n",
       "    </tr>\n",
       "    <tr>\n",
       "      <th>4</th>\n",
       "      <td>C0000731</td>\n",
       "      <td>T033</td>\n",
       "      <td>HP:0003270</td>\n",
       "      <td>AEndring af abdom omfang/udspiling</td>\n",
       "    </tr>\n",
       "  </tbody>\n",
       "</table>\n",
       "</div>"
      ],
      "text/plain": [
       "        CUI   TUI         HPO                                              STR\n",
       "0  C0000731  T033  HP:0003270  ABDOMENAREN BOLUMEN ALDAKETA/ABDOMEN HAUNDITZEA\n",
       "1  C0000731  T033  HP:0003270                                  Břišní distenze\n",
       "2  C0000731  T033  HP:0003270                                  Vzedmuté břicho\n",
       "3  C0000731  T033  HP:0003270                                   Zduřené břicho\n",
       "4  C0000731  T033  HP:0003270               AEndring af abdom omfang/udspiling"
      ]
     },
     "execution_count": 77,
     "metadata": {},
     "output_type": "execute_result"
    }
   ],
   "source": [
    "#セマンティックデータ(CUI-TUI) と合わせる\n",
    "#CUI-TUI-HPO-STR(各ソースでのCUI名）がつながる\n",
    "semtypes = pd.merge(mrsty_org, conso_hp_cui ) \n",
    "print(len(semtypes), len(semtypes[\"CUI\"].unique()), len(semtypes[\"TUI\"].unique()), len(semtypes[\"HPO\"].unique()))\n",
    "semtypes[:5]"
   ]
  },
  {
   "cell_type": "code",
   "execution_count": 78,
   "id": "01345e0b",
   "metadata": {},
   "outputs": [
    {
     "name": "stdout",
     "output_type": "stream",
     "text": [
      "273774 11475\n"
     ]
    }
   ],
   "source": [
    "#HPO名を割り当てる\n",
    "semtypes[\"HPO_name\"] = [ont[i].name for i in semtypes[\"HPO\"]]\n",
    "semtypes[\"HPO_id_name\"] = [ont[i].name + '(' + i + ')' for i in semtypes[\"HPO\"]]\n",
    "semtypes[\"CUI_STR\"] = [ i[0] + '(' + i[1] + ')' for i in semtypes[[\"CUI\", \"STR\"]].values.tolist() ]\n",
    "semtypes = semtypes[[\"HPO_id_name\", \"HPO\", \"CUI\", \"CUI_STR\",\"TUI\"]]\n",
    "print(len(semtypes), semtypes[\"HPO\"].nunique())"
   ]
  },
  {
   "cell_type": "code",
   "execution_count": 79,
   "id": "4f0d443b",
   "metadata": {},
   "outputs": [
    {
     "name": "stdout",
     "output_type": "stream",
     "text": [
      "SRFIL\n",
      "SRDEF\n"
     ]
    }
   ],
   "source": [
    "#TUI名を割り当てる\n",
    "#https://lhncbc.nlm.nih.gov/semanticnetwork/SemanticNetworkArchive.html\n",
    "#SRFILファイルから　SRDEFファイルの列名を取得\n",
    "\n",
    "print(file_8)\n",
    "srfil = pd.read_table(path_1+file_8, sep=\"\\|\", header=None, engine='python')\n",
    "srfil[\"col_name\"] = srfil [2].str.split(\",\")\n",
    "srdef_col = srfil[srfil [0] ==\"SRDEF\"][\"col_name\"].values.tolist()[0] \n",
    "\n",
    "print(file_9)\n",
    "srdef = pd.read_table(path_1+file_9, sep=\"\\|\", header=None, engine='python')\n",
    "srdef.columns= srdef_col+[0]\n",
    "srdef = srdef.iloc[:, :-1]\n",
    "srdef[ (srdef[\"RT\"] == \"STY\") & (srdef[\"UI\"] == \"T184\")]\n",
    "\n",
    "tui_name = srdef[ (srdef[\"RT\"] == \"STY\") ][[\"UI\", \"STY/RL\"]]\n",
    "tui_name = tui_name.rename(columns={\"UI\":\"TUI\", \"STY/RL\":\"TUI_name\"})\n"
   ]
  },
  {
   "cell_type": "code",
   "execution_count": 82,
   "id": "6a4d28df",
   "metadata": {
    "scrolled": true
   },
   "outputs": [
    {
     "name": "stdout",
     "output_type": "stream",
     "text": [
      "273774\n",
      "[['HPO_id_name', 11475], ['HPO', 11475], ['CUI', 12703], ['CUI_STR', 261309], ['TUI', 33], ['TUI_name', 33]]\n"
     ]
    },
    {
     "data": {
      "text/html": [
       "<div>\n",
       "<style scoped>\n",
       "    .dataframe tbody tr th:only-of-type {\n",
       "        vertical-align: middle;\n",
       "    }\n",
       "\n",
       "    .dataframe tbody tr th {\n",
       "        vertical-align: top;\n",
       "    }\n",
       "\n",
       "    .dataframe thead th {\n",
       "        text-align: right;\n",
       "    }\n",
       "</style>\n",
       "<table border=\"1\" class=\"dataframe\">\n",
       "  <thead>\n",
       "    <tr style=\"text-align: right;\">\n",
       "      <th></th>\n",
       "      <th>HPO_id_name</th>\n",
       "      <th>HPO</th>\n",
       "      <th>CUI</th>\n",
       "      <th>CUI_STR</th>\n",
       "      <th>TUI</th>\n",
       "      <th>TUI_name</th>\n",
       "    </tr>\n",
       "  </thead>\n",
       "  <tbody>\n",
       "    <tr>\n",
       "      <th>0</th>\n",
       "      <td>Abdominal distention(HP:0003270)</td>\n",
       "      <td>HP:0003270</td>\n",
       "      <td>C0000731</td>\n",
       "      <td>C0000731(ABDOMENAREN BOLUMEN ALDAKETA/ABDOMEN ...</td>\n",
       "      <td>T033</td>\n",
       "      <td>Finding</td>\n",
       "    </tr>\n",
       "    <tr>\n",
       "      <th>1</th>\n",
       "      <td>Abdominal distention(HP:0003270)</td>\n",
       "      <td>HP:0003270</td>\n",
       "      <td>C0000731</td>\n",
       "      <td>C0000731(Břišní distenze)</td>\n",
       "      <td>T033</td>\n",
       "      <td>Finding</td>\n",
       "    </tr>\n",
       "    <tr>\n",
       "      <th>2</th>\n",
       "      <td>Abdominal distention(HP:0003270)</td>\n",
       "      <td>HP:0003270</td>\n",
       "      <td>C0000731</td>\n",
       "      <td>C0000731(Vzedmuté břicho)</td>\n",
       "      <td>T033</td>\n",
       "      <td>Finding</td>\n",
       "    </tr>\n",
       "  </tbody>\n",
       "</table>\n",
       "</div>"
      ],
      "text/plain": [
       "                        HPO_id_name         HPO       CUI  \\\n",
       "0  Abdominal distention(HP:0003270)  HP:0003270  C0000731   \n",
       "1  Abdominal distention(HP:0003270)  HP:0003270  C0000731   \n",
       "2  Abdominal distention(HP:0003270)  HP:0003270  C0000731   \n",
       "\n",
       "                                             CUI_STR   TUI TUI_name  \n",
       "0  C0000731(ABDOMENAREN BOLUMEN ALDAKETA/ABDOMEN ...  T033  Finding  \n",
       "1                          C0000731(Břišní distenze)  T033  Finding  \n",
       "2                          C0000731(Vzedmuté břicho)  T033  Finding  "
      ]
     },
     "execution_count": 82,
     "metadata": {},
     "output_type": "execute_result"
    }
   ],
   "source": [
    "hpo_semtypes = pd.merge(semtypes, tui_name)\n",
    "print(len(hpo_semtypes))\n",
    "print([ [i, hpo_semtypes[i].nunique()] for i in hpo_semtypes.columns])\n",
    "hpo_semtypes[:3]"
   ]
  },
  {
   "cell_type": "code",
   "execution_count": 83,
   "id": "f4e5e30e",
   "metadata": {},
   "outputs": [
    {
     "name": "stdout",
     "output_type": "stream",
     "text": [
      "216\n",
      "218\n"
     ]
    }
   ],
   "source": [
    "print(semanitic_df[semanitic_df[\"TUI\"]==\"T184\"][\"HPO\"].nunique())\n",
    "print(semanitic_df[semanitic_df[\"TUI\"]==\"T184\"][\"CUI\"].nunique())"
   ]
  },
  {
   "cell_type": "markdown",
   "id": "fbbd541c",
   "metadata": {},
   "source": [
    "#集計\n",
    "shukei_df = hpo_semtypes.groupby([\"TUI\", \"TUI_name\"]).agg({'CUI':list, \"HPO\":list})\n",
    "\n",
    "shukei_df[\"CUI\"] = [list(set(i)) for i in shukei_df[\"CUI\"]]\n",
    "shukei_df[\"HPO\"] = [list(set(i)) for i in shukei_df[\"HPO\"]]\n",
    "\n",
    "shukei_df[\"CUI_num\"] = [len(i) for i in shukei_df[\"CUI\"]]\n",
    "shukei_df[\"HPO_num\"] = [len(i) for i in shukei_df[\"HPO\"]]\n",
    "\n",
    "shukei_df = shukei_df.reset_index()\n",
    "shukei_df[shukei_df[\"TUI\"]==\"T184\"][[\"TUI\", \"TUI_name\", \"CUI_num\", \"HPO_num\"]]\n",
    "cui_freq = shukei_df[[\"TUI\", \"TUI_name\", \"CUI_num\"]].sort_values(\"CUI_num\", ascending=False).reset_index(drop=True)\n",
    "hpid_freq= shukei_df[[\"TUI\", \"TUI_name\", \"HPO_num\"]].sort_values(\"HPO_num\", ascending=False).reset_index(drop=True)"
   ]
  }
 ],
 "metadata": {
  "kernelspec": {
   "display_name": "Python 3",
   "language": "python",
   "name": "python3"
  },
  "language_info": {
   "codemirror_mode": {
    "name": "ipython",
    "version": 3
   },
   "file_extension": ".py",
   "mimetype": "text/x-python",
   "name": "python",
   "nbconvert_exporter": "python",
   "pygments_lexer": "ipython3",
   "version": "3.8.8"
  }
 },
 "nbformat": 4,
 "nbformat_minor": 5
}
