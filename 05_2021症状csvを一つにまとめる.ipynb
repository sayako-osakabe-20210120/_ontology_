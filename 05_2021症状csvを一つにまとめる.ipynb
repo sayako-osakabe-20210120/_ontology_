{
 "cells": [
  {
   "cell_type": "code",
   "execution_count": 1,
   "id": "bd5e99af",
   "metadata": {},
   "outputs": [],
   "source": [
    "import os\n",
    "import glob\n",
    "from tqdm.notebook import tqdm #from tqdm import tqdm_notebook as tqdm\n",
    "import pandas as pd"
   ]
  },
  {
   "cell_type": "code",
   "execution_count": 2,
   "id": "75ba7131",
   "metadata": {},
   "outputs": [],
   "source": [
    "path_1 = \"./folder_03\"#input 2016個の各症状csvの格納先\n",
    "path_2 = \"../folder_04\" #output(疾患もここに保存)"
   ]
  },
  {
   "cell_type": "code",
   "execution_count": 3,
   "id": "12aba81b",
   "metadata": {},
   "outputs": [
    {
     "data": {
      "text/plain": [
       "'/home/admin_user'"
      ]
     },
     "execution_count": 3,
     "metadata": {},
     "output_type": "execute_result"
    }
   ],
   "source": [
    "os.getcwd()"
   ]
  },
  {
   "cell_type": "code",
   "execution_count": 4,
   "id": "c1cf7084",
   "metadata": {},
   "outputs": [
    {
     "name": "stdout",
     "output_type": "stream",
     "text": [
      "1\n"
     ]
    }
   ],
   "source": [
    "os.chdir(path_1)\n",
    "s_list = sorted(glob.glob('s_*.csv'))\n",
    "print(len(s_list))"
   ]
  },
  {
   "cell_type": "code",
   "execution_count": 6,
   "id": "ad99c5c5",
   "metadata": {
    "scrolled": true
   },
   "outputs": [
    {
     "data": {
      "application/vnd.jupyter.widget-view+json": {
       "model_id": "056598e6be8b4c12a822e2a0707d339b",
       "version_major": 2,
       "version_minor": 0
      },
      "text/plain": [
       "  0%|          | 0/1 [00:00<?, ?it/s]"
      ]
     },
     "metadata": {},
     "output_type": "display_data"
    },
    {
     "name": "stdout",
     "output_type": "stream",
     "text": [
      "7 30956\n"
     ]
    }
   ],
   "source": [
    "df = pd.DataFrame()\n",
    "for file in tqdm(s_list[:]):\n",
    "    #print(file)\n",
    "    tmp_df = pd.read_csv(file, engine='python')\n",
    "    df = pd.concat([df, tmp_df])\n",
    "df = df.reset_index(drop=True)\n",
    "print(df[\"PMID\"].min(), df[\"PMID\"].max())"
   ]
  },
  {
   "cell_type": "code",
   "execution_count": 7,
   "id": "bd39b797",
   "metadata": {},
   "outputs": [],
   "source": [
    "os.chdir(path_2) \n",
    "df.to_csv(\"symptom.csv\", index=False)"
   ]
  }
 ],
 "metadata": {
  "kernelspec": {
   "display_name": "Python 3",
   "language": "python",
   "name": "python3"
  },
  "language_info": {
   "codemirror_mode": {
    "name": "ipython",
    "version": 3
   },
   "file_extension": ".py",
   "mimetype": "text/x-python",
   "name": "python",
   "nbconvert_exporter": "python",
   "pygments_lexer": "ipython3",
   "version": "3.8.8"
  }
 },
 "nbformat": 4,
 "nbformat_minor": 5
}
