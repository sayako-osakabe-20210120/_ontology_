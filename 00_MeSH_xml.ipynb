{
 "cells": [
  {
   "cell_type": "code",
   "execution_count": 1,
   "metadata": {},
   "outputs": [],
   "source": [
    "import os\n",
    "import xml.etree.ElementTree as ET #XMLを解析\n",
    "import pickle"
   ]
  },
  {
   "cell_type": "code",
   "execution_count": null,
   "metadata": {},
   "outputs": [],
   "source": [
    "#現在のディレクトリに あらかじめダウンロードしておいたMeSHデータ(desc2021.xml)を格納しておく\n",
    "os.chdir('./')\n",
    "filename =\"desc2021.xml\""
   ]
  },
  {
   "cell_type": "code",
   "execution_count": 3,
   "metadata": {},
   "outputs": [
    {
     "name": "stdout",
     "output_type": "stream",
     "text": [
      "29917\n"
     ]
    }
   ],
   "source": [
    "tree = ET.parse(filename)\n",
    "root = tree.getroot()\n",
    "\n",
    "#Unique ID, MeSH Heading, Tree Number(s) 取得\n",
    "mesh_list_2021 = [[ root[i][0].text, root[i][1][0].text, [i.text for i in root[i].iter('TreeNumber')] ] for i in range(len(root))]\n",
    "print(len(mesh_list_2021))"
   ]
  },
  {
   "cell_type": "code",
   "execution_count": 4,
   "metadata": {},
   "outputs": [],
   "source": [
    "#make file\n",
    "with open(\"mesh_list_2021.pickle\", 'wb') as f:\n",
    "    pickle.dump(mesh_list_2021, f)"
   ]
  }
 ],
 "metadata": {
  "kernelspec": {
   "display_name": "Python 3",
   "language": "python",
   "name": "python3"
  },
  "language_info": {
   "codemirror_mode": {
    "name": "ipython",
    "version": 3
   },
   "file_extension": ".py",
   "mimetype": "text/x-python",
   "name": "python",
   "nbconvert_exporter": "python",
   "pygments_lexer": "ipython3",
   "version": "3.8.8"
  }
 },
 "nbformat": 4,
 "nbformat_minor": 2
}
