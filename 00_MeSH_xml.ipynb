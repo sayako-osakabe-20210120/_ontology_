{
 "cells": [
  {
   "cell_type": "code",
   "execution_count": 3,
   "metadata": {},
   "outputs": [],
   "source": [
    "import os\n",
    "import math\n",
    "import matplotlib.pyplot as plt\n",
    "import matplotlib.cm as cm\n",
    "import numpy as np\n",
    "import pandas as pd\n",
    "import requests #HTTP通信\n",
    "import urllib.parse #URLの解釈(パース)\n",
    "import uuid #重複しないIDを作る\n",
    "import xml.etree.ElementTree as ET #XMLを解析\n",
    "from collections import OrderedDict\n",
    "from tqdm import tqdm\n",
    "import pickle"
   ]
  },
  {
   "cell_type": "code",
   "execution_count": 4,
   "metadata": {},
   "outputs": [
    {
     "data": {
      "text/plain": [
       "'/home/admin_user'"
      ]
     },
     "execution_count": 4,
     "metadata": {},
     "output_type": "execute_result"
    }
   ],
   "source": [
    "os.getcwd()"
   ]
  },
  {
   "cell_type": "code",
   "execution_count": 6,
   "metadata": {},
   "outputs": [
    {
     "name": "stderr",
     "output_type": "stream",
     "text": [
      "\r",
      "0it [00:00, ?it/s]"
     ]
    },
    {
     "name": "stdout",
     "output_type": "stream",
     "text": [
      "desc2011.xml\n"
     ]
    },
    {
     "name": "stderr",
     "output_type": "stream",
     "text": [
      "\r",
      "1it [00:16, 16.39s/it]"
     ]
    },
    {
     "name": "stdout",
     "output_type": "stream",
     "text": [
      "mesh_list_2011 26142\n",
      "desc2021.xml\n"
     ]
    },
    {
     "name": "stderr",
     "output_type": "stream",
     "text": [
      "2it [00:32, 16.34s/it]"
     ]
    },
    {
     "name": "stdout",
     "output_type": "stream",
     "text": [
      "mesh_list_2021 29917\n"
     ]
    },
    {
     "name": "stderr",
     "output_type": "stream",
     "text": [
      "\n"
     ]
    }
   ],
   "source": [
    "years = [\"2011\", \"2021\"]\n",
    "\n",
    "mesh_list=[]\n",
    "for  enu, year in tqdm(enumerate(years)):\n",
    "    print(\"desc\"+year+\".xml\")\n",
    "    tree = ET.parse(\"desc\"+year+\".xml\")\n",
    "    root = tree.getroot()\n",
    "    exec(\"mesh_list_\"+year+\"=[[ root[i][0].text, root[i][1][0].text, [i.text for i in root[i].iter('TreeNumber')] ] for i in range(len(root))]\")\n",
    "    mesh_list.append(\"mesh_list_\"+year)\n",
    "\n",
    "    with open(\"mesh_list_\"+year+\".pickle\", 'wb') as f:\n",
    "        pickle.dump(\"mesh_list_\"+year, f)\n",
    "    print(mesh_list[enu], len(eval(\"mesh_list_\"+year)))\n",
    "          "
   ]
  },
  {
   "cell_type": "code",
   "execution_count": 8,
   "metadata": {},
   "outputs": [
    {
     "data": {
      "text/plain": [
       "[['D000001', 'Calcimycin', ['D03.633.100.221.173']],\n",
       " ['D000002',\n",
       "  'Temefos',\n",
       "  ['D02.705.400.625.800', 'D02.705.539.345.800', 'D02.886.300.692.800']],\n",
       " ['D000003', 'Abattoirs', ['J01.576.423.200.700.100', 'J03.540.020']],\n",
       " ['D000004', 'Abbreviations as Topic', ['L01.559.598.400.556.131']],\n",
       " ['D000005', 'Abdomen', ['A01.923.047']]]"
      ]
     },
     "execution_count": 8,
     "metadata": {},
     "output_type": "execute_result"
    }
   ],
   "source": [
    "mesh_list_2021[:5]"
   ]
  },
  {
   "cell_type": "code",
   "execution_count": 9,
   "metadata": {},
   "outputs": [
    {
     "data": {
      "text/plain": [
       "[['D000001', 'Calcimycin', ['D03.438.221.173']],\n",
       " ['D000002', 'Temefos', ['D02.705.539.900', 'D02.886.309.900']],\n",
       " ['D000003', 'Abattoirs', ['J01.576.423.200.700.100']],\n",
       " ['D000004', 'Abbreviations as Topic', ['L01.143.506.598.400.556.131']],\n",
       " ['D000005', 'Abdomen', ['A01.047']]]"
      ]
     },
     "execution_count": 9,
     "metadata": {},
     "output_type": "execute_result"
    }
   ],
   "source": [
    "mesh_list_2011[:5]"
   ]
  },
  {
   "cell_type": "code",
   "execution_count": null,
   "metadata": {},
   "outputs": [],
   "source": []
  }
 ],
 "metadata": {
  "kernelspec": {
   "display_name": "Python 3",
   "language": "python",
   "name": "python3"
  },
  "language_info": {
   "codemirror_mode": {
    "name": "ipython",
    "version": 3
   },
   "file_extension": ".py",
   "mimetype": "text/x-python",
   "name": "python",
   "nbconvert_exporter": "python",
   "pygments_lexer": "ipython3",
   "version": "3.8.8"
  }
 },
 "nbformat": 4,
 "nbformat_minor": 2
}
