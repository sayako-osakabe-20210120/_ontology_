{
 "cells": [
  {
   "cell_type": "code",
   "execution_count": 1,
   "metadata": {},
   "outputs": [],
   "source": [
    "import os\n",
    "from tqdm.notebook import tqdm\n",
    "import pandas as pd\n",
    "import numpy as np\n",
    "import networkx as nx\n",
    "import matplotlib.pyplot as plt"
   ]
  },
  {
   "cell_type": "code",
   "execution_count": 2,
   "metadata": {},
   "outputs": [
    {
     "name": "stdout",
     "output_type": "stream",
     "text": [
      "co_occ_pair.csv\n"
     ]
    }
   ],
   "source": [
    "path_1 = \"./folder_05\"\n",
    "filename = \"co_occ_pair.csv\" #uncut\n",
    "#\"cutoff_pair.csv\" cutted\n",
    "print(filename)"
   ]
  },
  {
   "cell_type": "code",
   "execution_count": 3,
   "metadata": {},
   "outputs": [],
   "source": [
    "#カイ二乗検定で数を減らした症状疾患ペアデータを 変数名 co_occ_pair として読み込む\n",
    "os.chdir(path_1)\n",
    "co_occ_pair = pd.read_csv(filename)\n",
    "co_occ_pair =co_occ_pair[['symptom', 'disease', 'co_occurrence']]"
   ]
  },
  {
   "cell_type": "code",
   "execution_count": 4,
   "metadata": {},
   "outputs": [
    {
     "data": {
      "text/plain": [
       "384"
      ]
     },
     "execution_count": 4,
     "metadata": {},
     "output_type": "execute_result"
    }
   ],
   "source": [
    "#symptomとペアになるdisease総数\n",
    "idf_n_i = co_occ_pair.groupby(\"symptom\").count().reset_index()[[\"symptom\", \"disease\"]].values.tolist()\n",
    "len(idf_n_i)"
   ]
  },
  {
   "cell_type": "code",
   "execution_count": 5,
   "metadata": {},
   "outputs": [
    {
     "data": {
      "application/vnd.jupyter.widget-view+json": {
       "model_id": "ffa4a1b04d5343bf8d2479b7aad6a8c9",
       "version_major": 2,
       "version_minor": 0
      },
      "text/plain": [
       "  0%|          | 0/211838 [00:00<?, ?it/s]"
      ]
     },
     "metadata": {},
     "output_type": "display_data"
    },
    {
     "name": "stdout",
     "output_type": "stream",
     "text": [
      "8103060.840157608\n"
     ]
    }
   ],
   "source": [
    "#TF-IDF\n",
    "tfidf_list=[]\n",
    "N = co_occ_pair[\"disease\"].nunique()  #全疾患の種類数\n",
    "\n",
    "for pair in tqdm(co_occ_pair.values.tolist()): #co_occ_pair：共起ペアと共起数\n",
    "    for symptom in idf_n_i: #idf_n_i：symptomとdisease総数\n",
    "        \n",
    "        if pair[0]==symptom[0]: #同じsymptomだったら\n",
    "            \n",
    "            #Zhou数式\n",
    "            W_ij = pair[-1] #diseaseとの共起数\n",
    "            n_i = symptom[1] #symptomとペアになるdisease総数\n",
    "            tfidf_value = W_ij*np.log(N /n_i) \n",
    "            \n",
    "            tfidf_list.append([pair[0],  pair[1], W_ij, n_i, tfidf_value])\n",
    "\n",
    "tfidf = pd.DataFrame(tfidf_list, columns=[\"symptom\",\"disease\",\"co_occurence\", \"disease_num\", \"tf_idf\"])\n",
    "\n",
    "#disease_num：symptomとペアになるdisease総数\n",
    "tfidf = tfidf.sort_values(by=\"tf_idf\", ascending=False).reset_index(drop=True)\n",
    "print(tfidf[\"tf_idf\"].sum())"
   ]
  },
  {
   "cell_type": "code",
   "execution_count": 6,
   "metadata": {},
   "outputs": [
    {
     "name": "stdout",
     "output_type": "stream",
     "text": [
      "8103060.840157606\n"
     ]
    }
   ],
   "source": [
    "#行列の形にする #cutted : 10308472.749203153\n",
    "pivot_tfidf_df = tfidf.pivot(index='disease', columns='symptom', values='tf_idf').fillna(0)\n",
    "print(pivot_tfidf_df.sum().sum())"
   ]
  },
  {
   "cell_type": "code",
   "execution_count": 7,
   "metadata": {},
   "outputs": [
    {
     "data": {
      "image/png": "[encoded data removed]",
      "text/plain": [
       "<Figure size 864x288 with 1 Axes>"
      ]
     },
     "metadata": {
      "needs_background": "light"
     },
     "output_type": "display_data"
    }
   ],
   "source": [
    "#疾患・症状のTFIDFがゼロより大きい値を取り出した時の可視化\n",
    "\n",
    "plt.figure(figsize=(12,4))\n",
    "\n",
    "#TFIDFの数\n",
    "#plt.subplot(121)\n",
    "each_disease_sum_vector = [sum(pivot_tfidf_df.loc[disease, :]>0) for disease in pivot_tfidf_df.index]\n",
    "plt.hist(each_disease_sum_vector,color='c', bins=len(set(each_disease_sum_vector)), alpha=0.8)\n",
    "plt.xlabel('sum')\n",
    "plt.ylabel(\"frequency\")\n",
    "plt.show()"
   ]
  },
  {
   "cell_type": "code",
   "execution_count": 8,
   "metadata": {},
   "outputs": [],
   "source": [
    "#コサイン類似度　計算"
   ]
  },
  {
   "cell_type": "code",
   "execution_count": 9,
   "metadata": {},
   "outputs": [
    {
     "name": "stdout",
     "output_type": "stream",
     "text": [
      "4716\n"
     ]
    }
   ],
   "source": [
    "#コサイン算出用データフレームを作る\n",
    "pre_cosine_df = tfidf.sort_values(['symptom', 'disease'])[['symptom', 'disease',\"tf_idf\"]].reset_index(drop=True)\n",
    "pre_cosine_df = pd.pivot_table(pre_cosine_df, index='disease', columns='symptom', values=\"tf_idf\")\n",
    "pre_cosine_df = pre_cosine_df.fillna(0)#欠損値に0を入れる\n",
    "#疾患個数\n",
    "print(len(pre_cosine_df.index))"
   ]
  },
  {
   "cell_type": "code",
   "execution_count": 10,
   "metadata": {},
   "outputs": [
    {
     "name": "stdout",
     "output_type": "stream",
     "text": [
      "22240656\n",
      "('22q11 Deletion Syndrome', '22q11 Deletion Syndrome') ('22q11 Deletion Syndrome', '46, XX Disorders of Sex Development')\n"
     ]
    }
   ],
   "source": [
    "#疾患ペア(直積ペア)を作る\n",
    "import itertools\n",
    "product_list = list(itertools.product(pre_cosine_df.index, pre_cosine_df.index))\n",
    "print(len(product_list))\n",
    "print(product_list[0], product_list[1])"
   ]
  },
  {
   "cell_type": "code",
   "execution_count": 11,
   "metadata": {},
   "outputs": [],
   "source": [
    "#tfidf行列を疾患（＝行）ごとに分けて直積ペアを作る\n",
    "vectors = [each_vectors for each_vectors in np.array(pre_cosine_df)]\n",
    "vectors_list = list(itertools.product(vectors, vectors))"
   ]
  },
  {
   "cell_type": "code",
   "execution_count": 12,
   "metadata": {
    "scrolled": false
   },
   "outputs": [
    {
     "data": {
      "application/vnd.jupyter.widget-view+json": {
       "model_id": "c94d5a8d605847e789ba0f4c6d87740b",
       "version_major": 2,
       "version_minor": 0
      },
      "text/plain": [
       "0it [00:00, ?it/s]"
      ]
     },
     "metadata": {},
     "output_type": "display_data"
    }
   ],
   "source": [
    "#コサイン類似度\n",
    "\n",
    "#計算式\n",
    "def cosine_similarity(x, y):#xとyはベクトルの成分\n",
    "    return (np.dot(x, y) / (np.sqrt(np.dot(x, x)) * np.sqrt(np.dot(y, y))))\n",
    "\n",
    "#直積ペアにコサイン類似度計算を適用 \n",
    "cosine_similarity_list = []\n",
    "for disease_pair, vector in tqdm(zip( product_list, vectors_list )):\n",
    "    cosine_similarity_list.append([disease_pair[0], disease_pair[-1], cosine_similarity(vector[0], vector[1])])"
   ]
  },
  {
   "cell_type": "code",
   "execution_count": 13,
   "metadata": {},
   "outputs": [
    {
     "name": "stdout",
     "output_type": "stream",
     "text": [
      "22240656 4716\n"
     ]
    }
   ],
   "source": [
    "#データフレーム化\n",
    "cosine_df = pd.DataFrame(cosine_similarity_list, columns=[\"disease_1\", \"disease_2\", \"cosine_similarity\"])\n",
    "cosine_df = cosine_df.sort_values(\"cosine_similarity\", ascending=False).reset_index(drop=True)\n",
    "pivot_cosine_df = cosine_df.pivot(index='disease_1', columns='disease_2', values='cosine_similarity')#.fillna(0)\n",
    "print(len(cosine_df), len(pivot_cosine_df))"
   ]
  },
  {
   "cell_type": "code",
   "execution_count": 14,
   "metadata": {},
   "outputs": [],
   "source": [
    "#インデックスを取得\n",
    "pivot_index = pivot_cosine_df.index.tolist()"
   ]
  },
  {
   "cell_type": "code",
   "execution_count": 15,
   "metadata": {
    "scrolled": false
   },
   "outputs": [],
   "source": [
    "#「同じ疾患同士」「順序が逆になっているだけで同じペアの片方」を削除\n",
    "\n",
    "#アレイに変換\n",
    "recent_array = np.array(pivot_cosine_df)\n",
    "\n",
    "#下三角行列を取得する\n",
    "#numpy.tril()の引数にnumpy.ndarrayを指定すると、対角線より上の成分をゼロとしたnumpy.ndarrayが返される。\n",
    "#対角線のコサイン値＝１は不要なので、この対角線箇所も含めてゼロにしたい。\n",
    "#numpy.tril()の第二引数のkで、境界となる対角線の位置が指定できる（正の値だと上側（右側）、負の値だと下側（左側）に移動する）\n",
    "\n",
    "recent_array = np.tril(recent_array, k=-1) \n",
    "\n",
    "#データフレームにする　対角線含む上の値がゼロになっているか確認\n",
    "repivot_cosine_df= pd.DataFrame(recent_array, index=pivot_cosine_df.index, columns=pivot_cosine_df.columns)\n"
   ]
  },
  {
   "cell_type": "code",
   "execution_count": 16,
   "metadata": {},
   "outputs": [
    {
     "name": "stdout",
     "output_type": "stream",
     "text": [
      "9798961\n"
     ]
    }
   ],
   "source": [
    "#下三角行列から コサイン値ゼロ以外の値の位置を取得\n",
    "recent_array_index_list = [[value_0,\n",
    "                            value_1] for value_0, value_1 in zip(list(np.where(recent_array>0)[0]),\n",
    "                                                                 list(np.where(recent_array>0)[1]))]\n",
    "print(len(recent_array_index_list))\n",
    "#cutted 7804331"
   ]
  },
  {
   "cell_type": "code",
   "execution_count": 17,
   "metadata": {
    "scrolled": false
   },
   "outputs": [
    {
     "data": {
      "application/vnd.jupyter.widget-view+json": {
       "model_id": "d1c22c0bc926489e8e6fc87f806fc6aa",
       "version_major": 2,
       "version_minor": 0
      },
      "text/plain": [
       "  0%|          | 0/9798961 [00:00<?, ?it/s]"
      ]
     },
     "metadata": {},
     "output_type": "display_data"
    }
   ],
   "source": [
    "#元の（半分ゼロにする前の）行列で同じ位置を指定し、そのインデックス（疾患ペア）と値（コサイン値）を取得\n",
    "#疾患a, 疾患b, abのコサイン値\n",
    "repivot_pair = [ [pivot_index[i[0]],\n",
    "                  pivot_index[i[1]], \n",
    "                  repivot_cosine_df.iloc[i[0], i[1]]] for i in tqdm(recent_array_index_list)]\n",
    "\n",
    "# 作成されるデータは\n",
    "#    「同じ疾患同士」「順序が逆になっただけの同じペアのうちの片方」「コサイン値ゼロ」これらを除いたデータ"
   ]
  },
  {
   "cell_type": "code",
   "execution_count": 18,
   "metadata": {},
   "outputs": [
    {
     "data": {
      "image/png": "[encoded data removed]",
      "text/plain": [
       "<Figure size 432x288 with 1 Axes>"
      ]
     },
     "metadata": {
      "needs_background": "light"
     },
     "output_type": "display_data"
    }
   ],
   "source": [
    "#コサイン値のヒストグラム\n",
    "plt.hist( pd.DataFrame(repivot_pair)[2], alpha=0.5, bins=20, color='c') \n",
    "plt.show()"
   ]
  },
  {
   "cell_type": "code",
   "execution_count": 19,
   "metadata": {},
   "outputs": [],
   "source": [
    "hsdn = pd.DataFrame(repivot_pair, columns=[\"disease_1\", \"disease_2\", \"cosine_similarity\"])"
   ]
  },
  {
   "cell_type": "code",
   "execution_count": 20,
   "metadata": {},
   "outputs": [
    {
     "name": "stdout",
     "output_type": "stream",
     "text": [
      "疾患・症状の共起ペアの数: 211838\n",
      "disease_MeSHの種類数: 4716\n",
      "symptom_MeSHの種類数: 384 \n",
      "\n"
     ]
    }
   ],
   "source": [
    "print(\"疾患・症状の共起ペアの数:\", len(tfidf))\n",
    "print(\"disease_MeSHの種類数:\", len(repivot_cosine_df.index))\n",
    "print(\"symptom_MeSHの種類数:\", len(idf_n_i), \"\\n\")"
   ]
  },
  {
   "cell_type": "code",
   "execution_count": 21,
   "metadata": {},
   "outputs": [
    {
     "name": "stdout",
     "output_type": "stream",
     "text": [
      "ペアとなった疾患-疾患の数: 9798961\n",
      "cos>0.1: 1804465\n",
      "cos>0.2: 749071\n",
      "cos>0.5: 119872\n"
     ]
    }
   ],
   "source": [
    "print(\"ペアとなった疾患-疾患の数:\", len(hsdn))\n",
    "print(\"cos>0.1:\", len(hsdn[hsdn[\"cosine_similarity\"]>0.1]))\n",
    "print(\"cos>0.2:\", len(hsdn[hsdn[\"cosine_similarity\"]>0.2]))\n",
    "print(\"cos>0.5:\", len(hsdn[hsdn[\"cosine_similarity\"]>0.5]))"
   ]
  },
  {
   "cell_type": "code",
   "execution_count": 22,
   "metadata": {
    "scrolled": true
   },
   "outputs": [
    {
     "name": "stdout",
     "output_type": "stream",
     "text": [
      "cos>0.1を取り出したとき\n",
      "疾患-疾患ペアの数 1804465\n",
      "disease_MeSHの種類: 4715\n",
      "cos_max: 1.0000000000000002\n",
      "cos_min: 0.10000003281230621 \n",
      "\n",
      "cos>0.1,cos<1を取り出したとき\n",
      "疾患-疾患ペアの数 1804349\n",
      "disease_MeSHの種類: 4715\n",
      "cos_max: 0.9999912867681617\n",
      "cos_min: 0.10000003281230621\n"
     ]
    }
   ],
   "source": [
    "print(\"cos>0.1を取り出したとき\")\n",
    "cos1 = hsdn[hsdn[\"cosine_similarity\"]>0.1]\n",
    "print(\"疾患-疾患ペアの数\", len(cos1))\n",
    "print(\"disease_MeSHの種類:\", len(set(cos1[\"disease_1\"].values.tolist() + cos1[\"disease_2\"].values.tolist())))\n",
    "print(\"cos_max:\", cos1[\"cosine_similarity\"].max())\n",
    "print(\"cos_min:\", cos1[\"cosine_similarity\"].min(), \"\\n\")\n",
    "\n",
    "print(\"cos>0.1,cos<1を取り出したとき\")\n",
    "cos2 = hsdn[ (hsdn[\"cosine_similarity\"]>0.1) & (hsdn[\"cosine_similarity\"]<1)]\n",
    "print(\"疾患-疾患ペアの数\", len(cos2))\n",
    "print(\"disease_MeSHの種類:\", len(set(cos2[\"disease_1\"].values.tolist() + cos2[\"disease_2\"].values.tolist())))\n",
    "print(\"cos_max:\", cos2[\"cosine_similarity\"].max())\n",
    "print(\"cos_min:\", cos2[\"cosine_similarity\"].min())"
   ]
  },
  {
   "cell_type": "code",
   "execution_count": 23,
   "metadata": {
    "scrolled": true
   },
   "outputs": [
    {
     "name": "stdout",
     "output_type": "stream",
     "text": [
      "9798961\n"
     ]
    }
   ],
   "source": [
    "# TF-IDFした後で、正のコサイン類似度を持つ疾患-疾患ペアの数は？\n",
    "print(len(hsdn))"
   ]
  },
  {
   "cell_type": "code",
   "execution_count": 24,
   "metadata": {},
   "outputs": [
    {
     "name": "stdout",
     "output_type": "stream",
     "text": [
      "Name: \n",
      "Type: Graph\n",
      "Number of nodes: 4716\n",
      "Number of edges: 9798961\n",
      "Average degree: 4155.6238\n"
     ]
    }
   ],
   "source": [
    "#networkにする\n",
    "G = nx.from_pandas_edgelist( hsdn,\"disease_1\", \"disease_2\" )\n",
    "print(nx.info(G))"
   ]
  },
  {
   "cell_type": "code",
   "execution_count": 25,
   "metadata": {
    "scrolled": true
   },
   "outputs": [
    {
     "name": "stdout",
     "output_type": "stream",
     "text": [
      "ポイントの数は共起頻度数の種類数 1300\n"
     ]
    },
    {
     "name": "stderr",
     "output_type": "stream",
     "text": [
      "<ipython-input-25-53bf47feea02>:11: MatplotlibDeprecationWarning: The 'basex' parameter of __init__() has been renamed 'base' since Matplotlib 3.3; support for the old name will be dropped two minor releases later.\n",
      "  plt.loglog(basex=10,basey=10)\n",
      "<ipython-input-25-53bf47feea02>:11: MatplotlibDeprecationWarning: The 'basey' parameter of __init__() has been renamed 'base' since Matplotlib 3.3; support for the old name will be dropped two minor releases later.\n",
      "  plt.loglog(basex=10,basey=10)\n"
     ]
    },
    {
     "data": {
      "image/png": "[encoded data removed]",
      "text/plain": [
       "<Figure size 288x144 with 1 Axes>"
      ]
     },
     "metadata": {
      "needs_background": "light"
     },
     "output_type": "display_data"
    }
   ],
   "source": [
    "#一文献につき共起する数とその文献数\n",
    "\n",
    "#両方の軸を対数スケールで設定する必要がある　loglog() 関数を使用\n",
    "#loglog() 関数\n",
    "#X 軸と Y 軸の両方に沿って対数スケーリングを行う時使える\n",
    "#X 軸と Y 軸の対数の底は、basex パラメータと basey パラメータによって設定\n",
    "\n",
    "a = pd.Series(co_occ_pair[\"co_occurrence\"].value_counts())\n",
    "plt.subplots(figsize=(4,2))\n",
    "plt.scatter(a.index, a, color=\"black\", s=10)\n",
    "plt.loglog(basex=10,basey=10)\n",
    "plt.xlabel(\"symptom disease co-occurence\")\n",
    "plt.ylabel(\"number of records\",)\n",
    "print(\"ポイントの数は共起頻度数の種類数\", len(a))\n",
    "plt.show()"
   ]
  },
  {
   "cell_type": "code",
   "execution_count": 26,
   "metadata": {},
   "outputs": [
    {
     "data": {
      "image/png": "[encoded data removed]",
      "text/plain": [
       "<Figure size 360x288 with 1 Axes>"
      ]
     },
     "metadata": {
      "needs_background": "light"
     },
     "output_type": "display_data"
    }
   ],
   "source": [
    "#次数のヒストグラムの形状\n",
    "plt.subplots(figsize=(5,4))\n",
    "bins = range(0,5000,250)\n",
    "degrees_list = [val for (node, val) in G.degree()] #plt.yscale(\"log\")\n",
    "plt.hist(degrees_list, bins=bins,density=True,log=True, color=\"SandyBrown\")\n",
    "plt.xticks([0, 500, 1000, 1500, 2000, 2500, 3000, 3500, 4000, 4500, 5000],\n",
    "           [\"0\", \"500\", \"1,000\", \"1,500\", \"2,000\", \"2,500\", \"3,000\", \"3,500\", \"4,000\", \"4,500\", \"5,000\"])\n",
    "plt.xticks(rotation=90)\n",
    "plt.yticks([1, 0.1, 0.01, 0.001],[1, 0.1, 0.01, 0.001])\n",
    "plt.title('Degree Distribution')\n",
    "plt.show()"
   ]
  },
  {
   "cell_type": "code",
   "execution_count": 27,
   "metadata": {},
   "outputs": [
    {
     "data": {
      "image/png": "[encoded data removed]",
      "text/plain": [
       "<Figure size 432x288 with 1 Axes>"
      ]
     },
     "metadata": {
      "needs_background": "light"
     },
     "output_type": "display_data"
    }
   ],
   "source": [
    "plt.yscale('log')\n",
    "plt.plot([ degree/len(G.nodes) for degree in nx.degree_histogram(G)])\n",
    "plt.yticks([0.001, 0.01, 0.1, 1])\n",
    "plt.show()"
   ]
  },
  {
   "cell_type": "code",
   "execution_count": 28,
   "metadata": {
    "scrolled": false
   },
   "outputs": [
    {
     "data": {
      "image/png": "[encoded data removed]",
      "text/plain": [
       "<Figure size 432x288 with 1 Axes>"
      ]
     },
     "metadata": {
      "needs_background": "light"
     },
     "output_type": "display_data"
    }
   ],
   "source": [
    "plt.yscale('log')\n",
    "plt.plot([ degree/len(G.nodes) for degree in nx.degree_histogram(G)], color=\"SandyBrown\")\n",
    "\n",
    "#目盛\n",
    "plt.xticks([0, 500, 1000, 1500, 2000, 2500, 3000, 3500, 4000, 4500, 5000],\n",
    "           [\"0\", \"500\", \"1,000\", \"1,500\", \"2,000\", \"2,500\", \"3,000\", \"3,500\", \"4,000\", \"4,500\", \"5,000\"])\n",
    "plt.xticks(rotation=90)\n",
    "plt.yticks([1, 0.1, 0.01, 0.001],[1, 0.1, 0.01, 0.001])\n",
    "\n",
    "#title\n",
    "plt.title('Degree Distribution')\n",
    "\n",
    "plt.show()"
   ]
  },
  {
   "cell_type": "code",
   "execution_count": 29,
   "metadata": {
    "scrolled": true
   },
   "outputs": [
    {
     "name": "stdout",
     "output_type": "stream",
     "text": [
      "disease_MeSH数の半分の数: 4716 /2= 2358.0\n",
      "disease_MeSH数の半分の数より大きい次数を持つdisease_MeSHの数: 4546\n",
      "その割合: 0.963952502120441\n"
     ]
    }
   ],
   "source": [
    "#Zhou\n",
    "#disease_MeSH数の半分の数より大きい次数を持つdisease_MeSHの数\n",
    "half_d_mesh= G.number_of_nodes()/2\n",
    "degree = pd.DataFrame(nx.degree(G))\n",
    "large_degree = degree[degree[1] > half_d_mesh ]\n",
    "print(\"disease_MeSH数の半分の数:\", G.number_of_nodes(), \"/2=\", half_d_mesh)\n",
    "print(\"disease_MeSH数の半分の数より大きい次数を持つdisease_MeSHの数:\", len(large_degree))\n",
    "print(\"その割合:\", len(large_degree)/G.number_of_nodes())"
   ]
  },
  {
   "cell_type": "code",
   "execution_count": 30,
   "metadata": {
    "scrolled": true
   },
   "outputs": [
    {
     "name": "stdout",
     "output_type": "stream",
     "text": [
      "最大エッジ数を持つdisease_MeSHとエッジ数: [('Intellectual Disability', 4710), ('Postoperative Complications', 4710), ('Hypertension', 4709)]\n",
      "最小エッジ数を持つdisease_MeSHとエッジ数: [('Vaccine-Preventable Diseases', 128), ('Narcotic-Related Disorders', 51), ('Historical Trauma', 49)]\n"
     ]
    }
   ],
   "source": [
    "#Zhou\n",
    "print(\"最大エッジ数を持つdisease_MeSHとエッジ数:\", sorted(G.degree(), key=lambda x: -x[1])[:3])\n",
    "print(\"最小エッジ数を持つdisease_MeSHとエッジ数:\", sorted(G.degree(), key=lambda x: -x[1])[-3:])"
   ]
  },
  {
   "cell_type": "code",
   "execution_count": 31,
   "metadata": {
    "scrolled": true
   },
   "outputs": [
    {
     "name": "stdout",
     "output_type": "stream",
     "text": [
      "'Hyponatremia'-'Odontoma'パスが存在するか: True\n",
      "その経路, 経路長: ['Hyponatremia', 'Odontoma'] 1\n",
      "Hyponatremia の接続疾患数 [4684]\n",
      "Odontoma の接続疾患数 [3792]\n"
     ]
    }
   ],
   "source": [
    "#Zhou\n",
    "#\"Hyponatremia', 'Odontoma\" \n",
    "SOURCE = \"Hyponatremia\"\n",
    "TARGET = \"Odontoma\"\n",
    "print(\"'Hyponatremia'-'Odontoma'パスが存在するか:\", nx.has_path(G, source=SOURCE, target=TARGET))\n",
    "print(\"その経路, 経路長:\", nx.shortest_path(G,  source=SOURCE, target=TARGET), nx.shortest_path_length(G,  source=SOURCE, target=TARGET))\n",
    "print(\"Hyponatremia の接続疾患数\", [i[1] for i in G.degree() if \"Hyponatremia\" in i])\n",
    "print(\"Odontoma の接続疾患数\", [i[1] for i in G.degree() if \"Odontoma\" in i])"
   ]
  },
  {
   "cell_type": "code",
   "execution_count": null,
   "metadata": {},
   "outputs": [],
   "source": []
  }
 ],
 "metadata": {
  "kernelspec": {
   "display_name": "Python 3",
   "language": "python",
   "name": "python3"
  },
  "language_info": {
   "codemirror_mode": {
    "name": "ipython",
    "version": 3
   },
   "file_extension": ".py",
   "mimetype": "text/x-python",
   "name": "python",
   "nbconvert_exporter": "python",
   "pygments_lexer": "ipython3",
   "version": "3.8.8"
  }
 },
 "nbformat": 4,
 "nbformat_minor": 2
}
