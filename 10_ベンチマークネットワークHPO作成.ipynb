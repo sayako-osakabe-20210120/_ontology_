{
 "cells": [
  {
   "cell_type": "code",
   "execution_count": 1,
   "id": "952baded",
   "metadata": {},
   "outputs": [],
   "source": [
    "# ライブラリ読み込み\n",
    "import pandas as pd\n",
    "import numpy as np\n",
    "import matplotlib.pyplot as plt\n",
    "import pronto\n",
    "import copy\n",
    "import networkx as nx\n",
    "import os\n",
    "import pickle\n",
    "import glob\n",
    "import gzip\n",
    "from tqdm.notebook import tqdm\n",
    "import itertools\n",
    "#from collections import OrderedDict\n",
    "#import collections\n",
    "#from collections import Counter"
   ]
  },
  {
   "cell_type": "code",
   "execution_count": 2,
   "id": "a87f79d4",
   "metadata": {},
   "outputs": [],
   "source": [
    "\n",
    "os.chdir(\"/home/admin_user/デスクトップ/UMLS2021AB\")\n",
    "\n",
    "#file_1 : pronto.Ontology.from_obo_library(\"hp.obo\")\n",
    "\n",
    "#hpoのアノテーションファイル　https://hpo.jax.org/app/download/annotation\n",
    "file_2 = \"phenotype.hpoa\" \n",
    "\n",
    " #CTDデータ　http://ctdbase.org/downloads/;jsessionid=7600406AF2DF2A88705D224826A23519\n",
    "file_3 = \"CTD_diseases.tsv.gz\"\n",
    "\n",
    "#UMLSからダウンロード\n",
    "#https://www.nlm.nih.gov/research/umls/licensedcontent/umlsknowledgesources.html\n",
    "file_4 = \"MRFILES.RRF.gz\" #含まれるファイル情報\n",
    "file_5 = \"MRSTY.RRF.gz\" #[CUI-セマンティックタイプ] の対応付け\n",
    "\n",
    "#file_6 = \"MRCONSO.RRF.aa.gz\" #今回は不要、Zhouらはセマンティックネットワークの再構築で使用\n",
    "#file_7 = \"MRCONSO.RRF.ab.gz\" #今回は不要、Zhouらはセマンティックネットワークの再構築で使用\n",
    "#file_8 = \"SRFIL\" #今回は不要、Zhouらはセマンティックネットワークの再構築で使用\n"
   ]
  },
  {
   "cell_type": "code",
   "execution_count": 3,
   "id": "97dddfde",
   "metadata": {},
   "outputs": [],
   "source": [
    "#symptom\n",
    "#HPOオントロジーのうちCUIに紐づけられるHPOタームがある。\n",
    "#UMLSのセマンティックタイプT184（症状）に紐づけられたCUIに関連付けがされたHPOタームだけを使う"
   ]
  },
  {
   "cell_type": "code",
   "execution_count": 4,
   "id": "79d97bd1",
   "metadata": {
    "scrolled": true
   },
   "outputs": [
    {
     "name": "stderr",
     "output_type": "stream",
     "text": [
      "/home/admin_user/anaconda3/lib/python3.8/site-packages/pronto/ontology.py:206: UnicodeWarning: unsound encoding, assuming ISO-8859-1 (73% confidence)\n",
      "  return cls(\n"
     ]
    },
    {
     "data": {
      "text/plain": [
       "16908"
      ]
     },
     "execution_count": 4,
     "metadata": {},
     "output_type": "execute_result"
    }
   ],
   "source": [
    "#HPOオントロジー\n",
    "\n",
    "#'hp.obo'読み込み\n",
    "#最新のタームを取り出す 20220419時点のhp.obo\n",
    "ont = pronto.Ontology.from_obo_library(\"hp.obo\")\n",
    "\n",
    "#保存\n",
    "with open(\"hp.obo\", \"wb\") as f: \n",
    "    ont.dump(f, format=\"obo\")\n",
    "len(ont)"
   ]
  },
  {
   "cell_type": "code",
   "execution_count": 5,
   "id": "bda26777",
   "metadata": {},
   "outputs": [
    {
     "name": "stdout",
     "output_type": "stream",
     "text": [
      "HPの数: 11589 CUIの数: 12859 マッピングの数: 13005 13005\n"
     ]
    }
   ],
   "source": [
    "#HPOオントロジー中でXREFにUMLSを持つもの\n",
    "#UMLSへのマッピングの数\n",
    "\n",
    "hp=[]\n",
    "umls = []\n",
    "hp_umls=[]\n",
    "hp_cui = []\n",
    "\n",
    "for term in ont.terms():\n",
    "    for each_xref in term.xrefs:\n",
    "        if (\"Xref('UMLS:\" in str(each_xref)):\n",
    "            cui = str(each_xref).replace(\"Xref('UMLS:\", \"\").replace(\"')\", \"\")\n",
    "            hp.append(term.id) #HPO_id\n",
    "            umls.append( cui) #CUI\n",
    "            hp_umls.append([term.id, cui]) #HPO_id, CUI\n",
    "            hp_cui.append([term.name + '(' + term.id + ')', term.id, cui]) #HPO_id, HPO_name, CUI\n",
    "                \n",
    "hp = sorted(list(set(hp)))\n",
    "umls = sorted(list(set(umls)))\n",
    "hp_umls = sorted(list(map(list, set(map(tuple, hp_umls)))))\n",
    "hp_cui = sorted(list(map(list, set(map(tuple, hp_cui)))))\n",
    "\n",
    "print(\"HPの数:\", len(hp), \"CUIの数:\", len(umls), \"マッピングの数:\", len(hp_umls) ,len(hp_cui) )\n"
   ]
  },
  {
   "cell_type": "code",
   "execution_count": 6,
   "id": "31616bba",
   "metadata": {},
   "outputs": [
    {
     "name": "stdout",
     "output_type": "stream",
     "text": [
      "phenotype.hpoa\n",
      "hpoaのアノテーション総数: 120331\n",
      "hpoaのOMIMの種類数: 8120\n",
      "hpoaのHPOの種類数: 8041\n"
     ]
    }
   ],
   "source": [
    "#'phenotype.hpoa'読み込み\n",
    "print(file_2)\n",
    "phenotype_df = pd.read_csv(file_2, header=4, sep=\"\\t\", engine=\"python\")\n",
    "\n",
    "#列名#DatabaseIDを OMIM に絞る\n",
    "phenotype_df = phenotype_df[phenotype_df[\"#DatabaseID\"].str.contains(\"OMIM\")]\n",
    "phenotype_df = phenotype_df.rename(columns={'#DatabaseID': \"OMIM\", \"HPO_ID\":\"HP\"})\n",
    "phenotype_df = phenotype_df[[\"HP\", \"OMIM\"]]\n",
    "print(\"hpoaのアノテーション総数:\", len(phenotype_df))\n",
    "print(\"hpoaのOMIMの種類数:\", phenotype_df[\"OMIM\"].nunique())\n",
    "print(\"hpoaのHPOの種類数:\", phenotype_df[\"HP\"].nunique())"
   ]
  },
  {
   "cell_type": "code",
   "execution_count": 7,
   "id": "0098503b",
   "metadata": {},
   "outputs": [
    {
     "data": {
      "text/html": [
       "<div>\n",
       "<style scoped>\n",
       "    .dataframe tbody tr th:only-of-type {\n",
       "        vertical-align: middle;\n",
       "    }\n",
       "\n",
       "    .dataframe tbody tr th {\n",
       "        vertical-align: top;\n",
       "    }\n",
       "\n",
       "    .dataframe thead th {\n",
       "        text-align: right;\n",
       "    }\n",
       "</style>\n",
       "<table border=\"1\" class=\"dataframe\">\n",
       "  <thead>\n",
       "    <tr style=\"text-align: right;\">\n",
       "      <th></th>\n",
       "      <th>HP</th>\n",
       "      <th>OMIM</th>\n",
       "    </tr>\n",
       "  </thead>\n",
       "  <tbody>\n",
       "    <tr>\n",
       "      <th>0</th>\n",
       "      <td>HP:0000510</td>\n",
       "      <td>OMIM:400004</td>\n",
       "    </tr>\n",
       "    <tr>\n",
       "      <th>1</th>\n",
       "      <td>HP:0004325</td>\n",
       "      <td>OMIM:614856</td>\n",
       "    </tr>\n",
       "    <tr>\n",
       "      <th>2</th>\n",
       "      <td>HP:0000365</td>\n",
       "      <td>OMIM:614856</td>\n",
       "    </tr>\n",
       "  </tbody>\n",
       "</table>\n",
       "</div>"
      ],
      "text/plain": [
       "           HP         OMIM\n",
       "0  HP:0000510  OMIM:400004\n",
       "1  HP:0004325  OMIM:614856\n",
       "2  HP:0000365  OMIM:614856"
      ]
     },
     "execution_count": 7,
     "metadata": {},
     "output_type": "execute_result"
    }
   ],
   "source": [
    "phenotype_df[:3]"
   ]
  },
  {
   "cell_type": "code",
   "execution_count": 8,
   "id": "6e7c7299",
   "metadata": {},
   "outputs": [
    {
     "name": "stdout",
     "output_type": "stream",
     "text": [
      "phenotype.hpoaにあるHPOからのCUIマッピング: 117916\n",
      "そのHPOの数: 7115\n",
      "そのOMIMの数: 8120\n"
     ]
    }
   ],
   "source": [
    "#phenotype.hpoaにあるHPOのCUIマッピング\n",
    "\n",
    "#XREFにUMLSを持つHPO\n",
    "hp_df = pd.DataFrame(hp, columns=[\"HP\"]) \n",
    "\n",
    "#phenotype_dfと合わせる\n",
    "print(\"phenotype.hpoaにあるHPOからのCUIマッピング:\", len(pd.merge(phenotype_df, hp_df)))\n",
    "print(\"そのHPOの数:\", pd.merge(phenotype_df, hp_df)[\"HP\"].nunique())\n",
    "print(\"そのOMIMの数:\", pd.merge(phenotype_df, hp_df)[\"OMIM\"].nunique())"
   ]
  },
  {
   "cell_type": "code",
   "execution_count": 9,
   "id": "23d804a9",
   "metadata": {},
   "outputs": [
    {
     "name": "stdout",
     "output_type": "stream",
     "text": [
      "MRFILES.RRF.gz\n"
     ]
    }
   ],
   "source": [
    "#セマンティックタイプから,T184-CUI-HPOを調査\n",
    "\n",
    "print(file_4)\n",
    "mrfiles = pd.read_csv(file_4, sep=\"\\|\", header=None, engine=\"python\")\n",
    "mrfiles.columns=[\"FIL\", \"DES\", \"FMT\", \"CLS\", \"RWS\" ,\"BTS\", 0]\n",
    "mrfiles = mrfiles.iloc[:,:-1]\n",
    "\n",
    "#FILがファイル名, FMTが列名\n",
    "mrfiles[\"FMT_split\"] = mrfiles [\"FMT\"].str.split(\",\")"
   ]
  },
  {
   "cell_type": "code",
   "execution_count": 10,
   "id": "7e0a8423",
   "metadata": {},
   "outputs": [
    {
     "data": {
      "text/html": [
       "<div>\n",
       "<style scoped>\n",
       "    .dataframe tbody tr th:only-of-type {\n",
       "        vertical-align: middle;\n",
       "    }\n",
       "\n",
       "    .dataframe tbody tr th {\n",
       "        vertical-align: top;\n",
       "    }\n",
       "\n",
       "    .dataframe thead th {\n",
       "        text-align: right;\n",
       "    }\n",
       "</style>\n",
       "<table border=\"1\" class=\"dataframe\">\n",
       "  <thead>\n",
       "    <tr style=\"text-align: right;\">\n",
       "      <th></th>\n",
       "      <th>FIL</th>\n",
       "      <th>DES</th>\n",
       "      <th>FMT</th>\n",
       "      <th>CLS</th>\n",
       "      <th>RWS</th>\n",
       "      <th>BTS</th>\n",
       "      <th>FMT_split</th>\n",
       "    </tr>\n",
       "  </thead>\n",
       "  <tbody>\n",
       "    <tr>\n",
       "      <th>0</th>\n",
       "      <td>AMBIGLUI.RRF</td>\n",
       "      <td>Ambiguous term identifiers</td>\n",
       "      <td>LUI,CUI</td>\n",
       "      <td>2</td>\n",
       "      <td>378168</td>\n",
       "      <td>7262285</td>\n",
       "      <td>[LUI, CUI]</td>\n",
       "    </tr>\n",
       "    <tr>\n",
       "      <th>1</th>\n",
       "      <td>AMBIGSUI.RRF</td>\n",
       "      <td>Ambiguous string identifiers</td>\n",
       "      <td>SUI,CUI</td>\n",
       "      <td>2</td>\n",
       "      <td>280926</td>\n",
       "      <td>5419566</td>\n",
       "      <td>[SUI, CUI]</td>\n",
       "    </tr>\n",
       "    <tr>\n",
       "      <th>2</th>\n",
       "      <td>CHANGE/DELETEDCUI.RRF</td>\n",
       "      <td>Deleted concepts</td>\n",
       "      <td>PCUI,PSTR</td>\n",
       "      <td>2</td>\n",
       "      <td>11747</td>\n",
       "      <td>644911</td>\n",
       "      <td>[PCUI, PSTR]</td>\n",
       "    </tr>\n",
       "  </tbody>\n",
       "</table>\n",
       "</div>"
      ],
      "text/plain": [
       "                     FIL                           DES        FMT  CLS  \\\n",
       "0           AMBIGLUI.RRF    Ambiguous term identifiers    LUI,CUI    2   \n",
       "1           AMBIGSUI.RRF  Ambiguous string identifiers    SUI,CUI    2   \n",
       "2  CHANGE/DELETEDCUI.RRF              Deleted concepts  PCUI,PSTR    2   \n",
       "\n",
       "      RWS      BTS     FMT_split  \n",
       "0  378168  7262285    [LUI, CUI]  \n",
       "1  280926  5419566    [SUI, CUI]  \n",
       "2   11747   644911  [PCUI, PSTR]  "
      ]
     },
     "execution_count": 10,
     "metadata": {},
     "output_type": "execute_result"
    }
   ],
   "source": [
    "mrfiles[:3]"
   ]
  },
  {
   "cell_type": "code",
   "execution_count": 11,
   "id": "f0ebc947",
   "metadata": {
    "scrolled": true
   },
   "outputs": [
    {
     "name": "stdout",
     "output_type": "stream",
     "text": [
      "18 ['CUI', 'LAT', 'TS', 'LUI', 'STT', 'SUI', 'ISPREF', 'AUI', 'SAUI', 'SCUI', 'SDUI', 'SAB', 'TTY', 'CODE', 'STR', 'SRL', 'SUPPRESS', 'CVF']\n",
      "6 ['CUI', 'TUI', 'STN', 'STY', 'ATUI', 'CVF']\n"
     ]
    }
   ],
   "source": [
    "#列名取得\n",
    "conso_col = mrfiles[mrfiles [\"FIL\"] ==\"MRCONSO.RRF\"][\"FMT_split\"].values.tolist()[0] #2MRCONSO.RRF の列名\n",
    "mrsty_col = mrfiles[mrfiles [\"FIL\"] ==\"MRSTY.RRF\"][\"FMT_split\"].values.tolist()[0] #3\"MRSTY.RRF\"の列名\n",
    "print(len(conso_col), conso_col)\n",
    "print(len(mrsty_col), mrsty_col)"
   ]
  },
  {
   "cell_type": "code",
   "execution_count": 12,
   "id": "3762af53",
   "metadata": {},
   "outputs": [
    {
     "name": "stdout",
     "output_type": "stream",
     "text": [
      "MRSTY.RRF.gz\n",
      "4864162\n"
     ]
    }
   ],
   "source": [
    "#3 MRSTY.RRF \tSemantic Types セマンティックタイプ\n",
    "\n",
    "print(file_5)\n",
    "mrsty_org = pd.read_csv(file_5, sep=\"\\|\", header=None, engine=\"python\")\n",
    "mrsty_org.columns = mrsty_col + [0]\n",
    "mrsty_org = mrsty_org.iloc[:,:len(mrsty_col)]\n",
    "#データがあるのはCUI, TUI列のみだったので２列だけに絞る\n",
    "mrsty_org = mrsty_org[[\"CUI\", \"TUI\"]]\n",
    "print(len(mrsty_org))"
   ]
  },
  {
   "cell_type": "code",
   "execution_count": 13,
   "id": "4a5bb4ee",
   "metadata": {},
   "outputs": [
    {
     "data": {
      "text/html": [
       "<div>\n",
       "<style scoped>\n",
       "    .dataframe tbody tr th:only-of-type {\n",
       "        vertical-align: middle;\n",
       "    }\n",
       "\n",
       "    .dataframe tbody tr th {\n",
       "        vertical-align: top;\n",
       "    }\n",
       "\n",
       "    .dataframe thead th {\n",
       "        text-align: right;\n",
       "    }\n",
       "</style>\n",
       "<table border=\"1\" class=\"dataframe\">\n",
       "  <thead>\n",
       "    <tr style=\"text-align: right;\">\n",
       "      <th></th>\n",
       "      <th>CUI</th>\n",
       "      <th>TUI</th>\n",
       "    </tr>\n",
       "  </thead>\n",
       "  <tbody>\n",
       "    <tr>\n",
       "      <th>0</th>\n",
       "      <td>C0000005</td>\n",
       "      <td>T116</td>\n",
       "    </tr>\n",
       "    <tr>\n",
       "      <th>1</th>\n",
       "      <td>C0000005</td>\n",
       "      <td>T121</td>\n",
       "    </tr>\n",
       "    <tr>\n",
       "      <th>2</th>\n",
       "      <td>C0000005</td>\n",
       "      <td>T130</td>\n",
       "    </tr>\n",
       "  </tbody>\n",
       "</table>\n",
       "</div>"
      ],
      "text/plain": [
       "        CUI   TUI\n",
       "0  C0000005  T116\n",
       "1  C0000005  T121\n",
       "2  C0000005  T130"
      ]
     },
     "execution_count": 13,
     "metadata": {},
     "output_type": "execute_result"
    }
   ],
   "source": [
    "mrsty_org[:3]"
   ]
  },
  {
   "cell_type": "code",
   "execution_count": 14,
   "id": "82c1d0d1",
   "metadata": {},
   "outputs": [
    {
     "name": "stdout",
     "output_type": "stream",
     "text": [
      "mrsty.rrf のうち T184_CUI: 14281\n",
      "T184_CUI 紐づけられるHPO: 216\n",
      "phenotype_dfのHPOのうち T184にあたるHPOの件数: 176\n"
     ]
    }
   ],
   "source": [
    "#T184を持つCUI\n",
    "t184_cui = mrsty_org[ mrsty_org[\"TUI\"] == \"T184\"][\"CUI\"].values.tolist()\n",
    "print(\"mrsty.rrf のうち T184_CUI:\", len(t184_cui))\n",
    "\n",
    "#UMLSのT184に紐づけられたCUI。HPOオントロジーではHPOとCUIが紐づけられているので、CUIを使ってT184とHPOがマッピングできる\n",
    "#HPO_CUIのペアのうち、T184_CUIとペアになっているHPOを取り出す\n",
    "t184_hp = sorted(list(set([ i[0] for i in hp_umls  if i[1] in t184_cui])))\n",
    "print(\"T184_CUI 紐づけられるHPO:\", len(t184_hp))\n",
    "\n",
    "#subsetのHPOのうち T184にあたるHPOの件数\n",
    "print(\"phenotype_dfのHPOのうち T184にあたるHPOの件数:\", len(set(phenotype_df[\"HP\"].values.tolist()) & set(t184_hp)))"
   ]
  },
  {
   "cell_type": "code",
   "execution_count": 15,
   "id": "fde933d4",
   "metadata": {},
   "outputs": [
    {
     "name": "stdout",
     "output_type": "stream",
     "text": [
      "7238 HP: 176 OMIM: 3509\n"
     ]
    }
   ],
   "source": [
    "#アノテーションデータをT184_HPOで絞り込む\n",
    "t184_index = [enu for enu, i in enumerate(phenotype_df[\"HP\"])  if i in t184_hp]\n",
    "phenotype_df_t184= phenotype_df.iloc[t184_index].reset_index(drop=True)\n",
    "print(len(phenotype_df_t184), \"HP:\", phenotype_df_t184[\"HP\"].nunique(), \"OMIM:\", phenotype_df_t184[\"OMIM\"].nunique())\n",
    "#7238 HP: 176 OMIM: 3509"
   ]
  },
  {
   "cell_type": "code",
   "execution_count": 16,
   "id": "ddd5e01d",
   "metadata": {},
   "outputs": [],
   "source": [
    "#disease\n",
    "#CTDでMESHと対応付けされたOMIM このOMIMだけを使う\n"
   ]
  },
  {
   "cell_type": "code",
   "execution_count": 17,
   "id": "96df0b1b",
   "metadata": {},
   "outputs": [
    {
     "name": "stdout",
     "output_type": "stream",
     "text": [
      "CTD_diseases.tsv.gz\n",
      "CTDレコード件数: 13144\n"
     ]
    }
   ],
   "source": [
    "#CTD\n",
    "\n",
    "print(file_3) \n",
    "all_ctd_df = pd.read_csv(file_3, sep='\\t', header=27)\n",
    "all_ctd_df = all_ctd_df[1:]\n",
    "print(\"CTDレコード件数:\", len(all_ctd_df))"
   ]
  },
  {
   "cell_type": "code",
   "execution_count": 18,
   "id": "3900d20b",
   "metadata": {},
   "outputs": [
    {
     "data": {
      "text/html": [
       "<div>\n",
       "<style scoped>\n",
       "    .dataframe tbody tr th:only-of-type {\n",
       "        vertical-align: middle;\n",
       "    }\n",
       "\n",
       "    .dataframe tbody tr th {\n",
       "        vertical-align: top;\n",
       "    }\n",
       "\n",
       "    .dataframe thead th {\n",
       "        text-align: right;\n",
       "    }\n",
       "</style>\n",
       "<table border=\"1\" class=\"dataframe\">\n",
       "  <thead>\n",
       "    <tr style=\"text-align: right;\">\n",
       "      <th></th>\n",
       "      <th># DiseaseName</th>\n",
       "      <th>DiseaseID</th>\n",
       "      <th>AltDiseaseIDs</th>\n",
       "      <th>Definition</th>\n",
       "      <th>ParentIDs</th>\n",
       "      <th>TreeNumbers</th>\n",
       "      <th>ParentTreeNumbers</th>\n",
       "      <th>Synonyms</th>\n",
       "      <th>SlimMappings</th>\n",
       "    </tr>\n",
       "  </thead>\n",
       "  <tbody>\n",
       "    <tr>\n",
       "      <th>1</th>\n",
       "      <td>10p Deletion Syndrome (Partial)</td>\n",
       "      <td>MESH:C538288</td>\n",
       "      <td>NaN</td>\n",
       "      <td>NaN</td>\n",
       "      <td>MESH:D002872|MESH:D025063</td>\n",
       "      <td>C16.131.260/C538288|C16.320.180/C538288|C23.55...</td>\n",
       "      <td>C16.131.260|C16.320.180|C23.550.210.050.500.500</td>\n",
       "      <td>Chromosome 10, 10p- Partial|Chromosome 10, mon...</td>\n",
       "      <td>Congenital abnormality|Genetic disease (inborn...</td>\n",
       "    </tr>\n",
       "    <tr>\n",
       "      <th>2</th>\n",
       "      <td>13q deletion syndrome</td>\n",
       "      <td>MESH:C535484</td>\n",
       "      <td>NaN</td>\n",
       "      <td>NaN</td>\n",
       "      <td>MESH:D002872|MESH:D025063</td>\n",
       "      <td>C16.131.260/C535484|C16.320.180/C535484|C23.55...</td>\n",
       "      <td>C16.131.260|C16.320.180|C23.550.210.050.500.500</td>\n",
       "      <td>Chromosome 13q deletion|Chromosome 13q deletio...</td>\n",
       "      <td>Congenital abnormality|Genetic disease (inborn...</td>\n",
       "    </tr>\n",
       "    <tr>\n",
       "      <th>3</th>\n",
       "      <td>15q24 Microdeletion</td>\n",
       "      <td>MESH:C579849</td>\n",
       "      <td>DO:DOID:0060395</td>\n",
       "      <td>NaN</td>\n",
       "      <td>MESH:D002872|MESH:D008607|MESH:D025063</td>\n",
       "      <td>C10.597.606.360/C579849|C16.131.260/C579849|C1...</td>\n",
       "      <td>C10.597.606.360|C16.131.260|C16.320.180|C23.55...</td>\n",
       "      <td>15q24 Deletion|15q24 Microdeletion Syndrome|In...</td>\n",
       "      <td>Congenital abnormality|Genetic disease (inborn...</td>\n",
       "    </tr>\n",
       "  </tbody>\n",
       "</table>\n",
       "</div>"
      ],
      "text/plain": [
       "                     # DiseaseName     DiseaseID    AltDiseaseIDs Definition  \\\n",
       "1  10p Deletion Syndrome (Partial)  MESH:C538288              NaN        NaN   \n",
       "2            13q deletion syndrome  MESH:C535484              NaN        NaN   \n",
       "3              15q24 Microdeletion  MESH:C579849  DO:DOID:0060395        NaN   \n",
       "\n",
       "                                ParentIDs  \\\n",
       "1               MESH:D002872|MESH:D025063   \n",
       "2               MESH:D002872|MESH:D025063   \n",
       "3  MESH:D002872|MESH:D008607|MESH:D025063   \n",
       "\n",
       "                                         TreeNumbers  \\\n",
       "1  C16.131.260/C538288|C16.320.180/C538288|C23.55...   \n",
       "2  C16.131.260/C535484|C16.320.180/C535484|C23.55...   \n",
       "3  C10.597.606.360/C579849|C16.131.260/C579849|C1...   \n",
       "\n",
       "                                   ParentTreeNumbers  \\\n",
       "1    C16.131.260|C16.320.180|C23.550.210.050.500.500   \n",
       "2    C16.131.260|C16.320.180|C23.550.210.050.500.500   \n",
       "3  C10.597.606.360|C16.131.260|C16.320.180|C23.55...   \n",
       "\n",
       "                                            Synonyms  \\\n",
       "1  Chromosome 10, 10p- Partial|Chromosome 10, mon...   \n",
       "2  Chromosome 13q deletion|Chromosome 13q deletio...   \n",
       "3  15q24 Deletion|15q24 Microdeletion Syndrome|In...   \n",
       "\n",
       "                                        SlimMappings  \n",
       "1  Congenital abnormality|Genetic disease (inborn...  \n",
       "2  Congenital abnormality|Genetic disease (inborn...  \n",
       "3  Congenital abnormality|Genetic disease (inborn...  "
      ]
     },
     "execution_count": 18,
     "metadata": {},
     "output_type": "execute_result"
    }
   ],
   "source": [
    "all_ctd_df[:3]#\"使う列は\"DiseaseID\", \"AltDiseaseIDs\""
   ]
  },
  {
   "cell_type": "code",
   "execution_count": 19,
   "id": "9b8dba41",
   "metadata": {},
   "outputs": [
    {
     "name": "stdout",
     "output_type": "stream",
     "text": [
      "AltDiseaseIDsを持つレコード件数: 6595\n"
     ]
    }
   ],
   "source": [
    "ctd_df = all_ctd_df[[\"DiseaseID\", \"AltDiseaseIDs\"]] #列を限定（→重複データなし）\n",
    "\n",
    "#AltDiseaseIDsを持つものに限定\n",
    "ctd = ctd_df[ctd_df[\"AltDiseaseIDs\"].notna()]\n",
    "ctd = ctd.reset_index(drop=True)\n",
    "print(\"AltDiseaseIDsを持つレコード件数:\", len(ctd))\n"
   ]
  },
  {
   "cell_type": "code",
   "execution_count": 20,
   "id": "dd2f16a3",
   "metadata": {},
   "outputs": [
    {
     "name": "stdout",
     "output_type": "stream",
     "text": [
      "5022\n"
     ]
    }
   ],
   "source": [
    "#DiseaseID=MESH:D\n",
    "print(len(set([i for i in all_ctd_df[\"DiseaseID\"].unique().tolist() if \"MESH:D\" in i])))\n"
   ]
  },
  {
   "cell_type": "code",
   "execution_count": 21,
   "id": "40a2c521",
   "metadata": {},
   "outputs": [
    {
     "name": "stdout",
     "output_type": "stream",
     "text": [
      "633\n"
     ]
    }
   ],
   "source": [
    "# 「DiseaseID, AltDiseaseIDs 」が「MESH：D、OMIM」もしくは「OMIM、MESH：D」\n",
    "#を持つものを探しインデックス番号を取得\n",
    "\n",
    "#（MESH：D＝Descriptor）\n",
    "m_o_map_index = [ enu for enu, i in enumerate(ctd.values.tolist()) if ((\"MESH:D\" in i[0]) & (\"OMIM\" in i[1])) | ((\"OMIM\" in i[0]) & (\"MESH:D\" in i[1]))]\n",
    "\n",
    "#インデックス番号でctdをサイズダウン\n",
    "m_o_map = ctd.iloc[m_o_map_index]\n",
    "m_o_map = m_o_map.reset_index(drop=True)\n",
    "print(len(m_o_map))\n",
    "\n",
    "#AltDiseaseIDs列のデータを要素に分割\n",
    "m_o_map[\"AltDiseaseIDs\"] = m_o_map[\"AltDiseaseIDs\"].str.split(\"|\")"
   ]
  },
  {
   "cell_type": "code",
   "execution_count": 22,
   "id": "16fd903c",
   "metadata": {},
   "outputs": [
    {
     "data": {
      "text/html": [
       "<div>\n",
       "<style scoped>\n",
       "    .dataframe tbody tr th:only-of-type {\n",
       "        vertical-align: middle;\n",
       "    }\n",
       "\n",
       "    .dataframe tbody tr th {\n",
       "        vertical-align: top;\n",
       "    }\n",
       "\n",
       "    .dataframe thead th {\n",
       "        text-align: right;\n",
       "    }\n",
       "</style>\n",
       "<table border=\"1\" class=\"dataframe\">\n",
       "  <thead>\n",
       "    <tr style=\"text-align: right;\">\n",
       "      <th></th>\n",
       "      <th>DiseaseID</th>\n",
       "      <th>AltDiseaseIDs</th>\n",
       "    </tr>\n",
       "  </thead>\n",
       "  <tbody>\n",
       "    <tr>\n",
       "      <th>0</th>\n",
       "      <td>MESH:D000012</td>\n",
       "      <td>[DO:DOID:1386, OMIM:200100]</td>\n",
       "    </tr>\n",
       "    <tr>\n",
       "      <th>1</th>\n",
       "      <td>MESH:D020642</td>\n",
       "      <td>[DO:DOID:2582, OMIM:614097]</td>\n",
       "    </tr>\n",
       "    <tr>\n",
       "      <th>2</th>\n",
       "      <td>MESH:D000130</td>\n",
       "      <td>[DO:DOID:0111158, DO:DOID:4480, OMIM:100800, O...</td>\n",
       "    </tr>\n",
       "  </tbody>\n",
       "</table>\n",
       "</div>"
      ],
      "text/plain": [
       "      DiseaseID                                      AltDiseaseIDs\n",
       "0  MESH:D000012                        [DO:DOID:1386, OMIM:200100]\n",
       "1  MESH:D020642                        [DO:DOID:2582, OMIM:614097]\n",
       "2  MESH:D000130  [DO:DOID:0111158, DO:DOID:4480, OMIM:100800, O..."
      ]
     },
     "execution_count": 22,
     "metadata": {},
     "output_type": "execute_result"
    }
   ],
   "source": [
    "m_o_map[:3]"
   ]
  },
  {
   "cell_type": "code",
   "execution_count": 23,
   "id": "952e3da8",
   "metadata": {},
   "outputs": [
    {
     "name": "stdout",
     "output_type": "stream",
     "text": [
      "CTD\n",
      "MeSH-OMIMマッピングの数: 1154\n",
      "MESHの数: 633\n",
      "OMIMの数: 1154\n"
     ]
    }
   ],
   "source": [
    "#DiseaseID(MESH)：AltDiseaseIDs(他)＝１：n なので\n",
    "#DiseaseID(MESH)：AltDiseaseIDs(OMIM)=１：１にする\n",
    "\n",
    "each_m_o_map = [ [m_o[0], each_id] for m_o in m_o_map.values.tolist() for each_id in m_o[1] if \"OMIM\" in each_id ]\n",
    "ctd = pd.DataFrame(each_m_o_map, columns=[\"MESH\", \"OMIM\"])\n",
    "\n",
    "print(\"CTD\")\n",
    "print(\"MeSH-OMIMマッピングの数:\", len(ctd))\n",
    "print(\"MESHの数:\", len(ctd[\"MESH\"].unique()))\n",
    "print(\"OMIMの数:\", len(ctd[\"OMIM\"].unique()))\n"
   ]
  },
  {
   "cell_type": "code",
   "execution_count": 24,
   "id": "48ca3670",
   "metadata": {},
   "outputs": [
    {
     "name": "stdout",
     "output_type": "stream",
     "text": [
      "3509 1154 \n",
      "\n",
      "phenotype_df_t184: \n",
      "            HP         OMIM\n",
      "0  HP:0001257  OMIM:615685\n",
      "1  HP:0002020  OMIM:613623\n",
      "2  HP:0003324  OMIM:154020 \n",
      " ctd: \n",
      "            MESH         OMIM\n",
      "0  MESH:D000012  OMIM:200100\n",
      "1  MESH:D020642  OMIM:614097\n",
      "2  MESH:D000130  OMIM:100800\n"
     ]
    }
   ],
   "source": [
    "print(phenotype_df_t184[\"OMIM\"].nunique(), ctd[\"OMIM\"].nunique(), \"\\n\")\n",
    "print(\"phenotype_df_t184:\", \"\\n\", phenotype_df_t184[:3], \"\\n\", \"ctd:\", \"\\n\", ctd[:3])"
   ]
  },
  {
   "cell_type": "code",
   "execution_count": 25,
   "id": "71dbe113",
   "metadata": {
    "scrolled": true
   },
   "outputs": [
    {
     "name": "stdout",
     "output_type": "stream",
     "text": [
      "1126\n"
     ]
    },
    {
     "data": {
      "text/plain": [
       "[['HP', 137], ['OMIM', 468], ['MESH', 317]]"
      ]
     },
     "execution_count": 25,
     "metadata": {},
     "output_type": "execute_result"
    }
   ],
   "source": [
    "#アノテーションデータを症状タームで限定した（T184にあたるHPOのみ）\n",
    "#さらに疾患タームで限定する（MESHに置換できるOMIMのみ）\n",
    "\n",
    "subset = pd.merge(phenotype_df_t184, ctd)\n",
    "print(len(subset))\n",
    "[ [i, subset[i].nunique()] for i in subset.columns]\n"
   ]
  },
  {
   "cell_type": "code",
   "execution_count": 26,
   "id": "7c6dd0a0",
   "metadata": {},
   "outputs": [
    {
     "data": {
      "text/html": [
       "<div>\n",
       "<style scoped>\n",
       "    .dataframe tbody tr th:only-of-type {\n",
       "        vertical-align: middle;\n",
       "    }\n",
       "\n",
       "    .dataframe tbody tr th {\n",
       "        vertical-align: top;\n",
       "    }\n",
       "\n",
       "    .dataframe thead th {\n",
       "        text-align: right;\n",
       "    }\n",
       "</style>\n",
       "<table border=\"1\" class=\"dataframe\">\n",
       "  <thead>\n",
       "    <tr style=\"text-align: right;\">\n",
       "      <th></th>\n",
       "      <th>HP</th>\n",
       "      <th>OMIM</th>\n",
       "      <th>MESH</th>\n",
       "    </tr>\n",
       "  </thead>\n",
       "  <tbody>\n",
       "    <tr>\n",
       "      <th>0</th>\n",
       "      <td>HP:0008070</td>\n",
       "      <td>OMIM:600628</td>\n",
       "      <td>MESH:D058247</td>\n",
       "    </tr>\n",
       "    <tr>\n",
       "      <th>1</th>\n",
       "      <td>HP:0001250</td>\n",
       "      <td>OMIM:116860</td>\n",
       "      <td>MESH:D020786</td>\n",
       "    </tr>\n",
       "    <tr>\n",
       "      <th>2</th>\n",
       "      <td>HP:0002315</td>\n",
       "      <td>OMIM:116860</td>\n",
       "      <td>MESH:D020786</td>\n",
       "    </tr>\n",
       "  </tbody>\n",
       "</table>\n",
       "</div>"
      ],
      "text/plain": [
       "           HP         OMIM          MESH\n",
       "0  HP:0008070  OMIM:600628  MESH:D058247\n",
       "1  HP:0001250  OMIM:116860  MESH:D020786\n",
       "2  HP:0002315  OMIM:116860  MESH:D020786"
      ]
     },
     "execution_count": 26,
     "metadata": {},
     "output_type": "execute_result"
    }
   ],
   "source": [
    "subset[:3]"
   ]
  },
  {
   "cell_type": "code",
   "execution_count": 27,
   "id": "9711b71c",
   "metadata": {},
   "outputs": [
    {
     "name": "stdout",
     "output_type": "stream",
     "text": [
      "MeSH-HPOペアの数: 930\n"
     ]
    },
    {
     "data": {
      "text/plain": [
       "1     833\n",
       "2      59\n",
       "3      15\n",
       "4      10\n",
       "5       4\n",
       "6       3\n",
       "7       2\n",
       "8       2\n",
       "10      1\n",
       "12      1\n",
       "Name: co_occurrence, dtype: int64"
      ]
     },
     "execution_count": 27,
     "metadata": {},
     "output_type": "execute_result"
    }
   ],
   "source": [
    "#MESH-HPOを疾患-症状の共起データとし、症状HPOを共有する疾患:疾患ネットワークを作る\n",
    "\n",
    "co_occ_pair = pd.DataFrame(subset.groupby(['HP', 'MESH']).size()).reset_index()\n",
    "co_occ_pair = co_occ_pair.rename(columns={0:'co_occurrence'})\n",
    "co_occ_pair = co_occ_pair.sort_values(by = \"co_occurrence\", ascending=False).reset_index(drop=True)\n",
    "print(\"MeSH-HPOペアの数:\", len(co_occ_pair)) \n",
    "co_occ_pair[\"co_occurrence\"].value_counts()"
   ]
  },
  {
   "cell_type": "code",
   "execution_count": 28,
   "id": "5df144f8",
   "metadata": {},
   "outputs": [],
   "source": [
    "co_occ_pair.columns=[\"symptom\",\"disease\",\"co_occurrence\"]\n",
    "#co_occ_pair.sort_values(\"co_occurrence\", ascending=False)"
   ]
  },
  {
   "cell_type": "markdown",
   "id": "178cd2f3",
   "metadata": {},
   "source": [
    "#chi2計算のみ"
   ]
  },
  {
   "cell_type": "markdown",
   "id": "64d882bc",
   "metadata": {},
   "source": [
    "chi2_pair = co_occ_pair[[\"symptom\",\"disease\"]].values.tolist()\n",
    "len(chi2_pair)"
   ]
  },
  {
   "cell_type": "markdown",
   "id": "c98e354a",
   "metadata": {},
   "source": [
    "subset.columns=[\"symptom\",\"OMIM\",\"disease\"]\n",
    "crosstab_df = pd.crosstab(subset[\"symptom\"], subset[\"disease\"], margins=True, margins_name=\"Total\")\n",
    "crosstab_df.tail()"
   ]
  },
  {
   "cell_type": "markdown",
   "id": "a8305255",
   "metadata": {},
   "source": [
    "from scipy.stats import chi2\n",
    "\n",
    "all_num = crosstab_df.loc[\"Total\",\"Total\"]\n",
    "\n",
    "chi2_list=[] \n",
    "for pair in tqdm(chi2_pair[:]):\n",
    "    #print(pair)\n",
    "        \n",
    "        #観測度数　()内は期待度数\n",
    "        #------------------------------------------\n",
    "        #disease         Obesity         not_Obesity         All\n",
    "        #symptom                                  \n",
    "        #Obesity         observed_1(expected_1)     observed_2(expected_2)       target_symptom_num\n",
    "        #not_Obesity     observed_3(expected_3)     observed_4(expected_4)       (all_num - target_symptom_num)\n",
    "        #All             target_disease_num        (all_num - target_disease_num)        all_num\n",
    "        \n",
    "        \n",
    "        #例\n",
    "        \n",
    "        #観測度数\n",
    "        #disease      Obesity  not_Obesity     All\n",
    "        #symptom                                  \n",
    "        #Obesity         5458         7965   13423\n",
    "        #not_Obesity     2368       112517  114885\n",
    "        #All             7826       120482  128308\n",
    "        \n",
    "        #期待度数: [\n",
    "        #    [   818.72056302  12604.27943698  13423.        ]\n",
    "        #    [  7007.27943698 107877.72056302 114885.        ]\n",
    "        #    [  7826.         120482.         128308.        ]]\n",
    "        \n",
    "        \n",
    "    #観測度数 observed\n",
    "    observed_1 = crosstab_df.loc[pair[0], pair[1]]\n",
    "    target_symptom_num = crosstab_df.loc[pair[0], \"Total\"]\n",
    "    target_disease_num = crosstab_df.loc[\"Total\", pair[1]]\n",
    "    #以下all_numは計算済み\n",
    "    observed_2 = target_symptom_num - observed_1\n",
    "    observed_3 = target_disease_num- observed_1\n",
    "    observed_4 = all_num - (observed_1 + observed_2 + observed_3)\n",
    "        \n",
    "    #期待度数 expected\n",
    "    expected_1 = target_symptom_num / all_num * target_disease_num \n",
    "    expected_2 = target_symptom_num / all_num * (all_num - target_disease_num)\n",
    "    expected_3 = (all_num - target_symptom_num) / all_num * target_disease_num \n",
    "    expected_4 = (all_num - target_symptom_num) / all_num * (all_num - target_disease_num)\n",
    "        \n",
    "    #print(observed_1, observed_2, observed_3, observed_4) #観測度数\n",
    "    #print(expected_1, expected_2, expected_3, expected_4) #期待度数\n",
    "        \n",
    "    #計算\n",
    "    #χ2 = （【観測度数-期待度数】の二乗）÷期待度数　の総和\n",
    "    chai_value = (((observed_1 - expected_1)**2)/expected_1) + (((observed_2 - expected_2)**2)/expected_2) + (((observed_3 - expected_3)**2)/expected_3) + (((observed_4 - expected_4)**2)/expected_4)\n",
    "    #p値\n",
    "    p_value = chi2.sf(chai_value, df=1) #1-sp.stats.chi2.cdf(x = chai_value ,df = 1)\n",
    "        \n",
    "    chi2_list.append([pair[0], pair[-1], chai_value, p_value ])\n",
    "chi2_df = pd.DataFrame(chi2_list)"
   ]
  },
  {
   "cell_type": "markdown",
   "id": "5e4dfd72",
   "metadata": {},
   "source": [
    "chi2_df = chi2_df.sort_values(by=[0,1]).reset_index(drop=True)\n",
    "chi2_df.head()"
   ]
  },
  {
   "cell_type": "markdown",
   "id": "4372ec87",
   "metadata": {},
   "source": [
    "#chi2_df整形\n",
    "chi2_df = chi2_df.reset_index(drop=True)\n",
    "chi2_df.columns=[\"symptom\", \"disease\", \"chi2\", \"p\"]\n",
    "chi2_df[\"1-p\"] = 1-chi2_df[\"p\"]\n",
    "chi2_df = chi2_df.sort_values(by=\"1-p\", ascending=True).reset_index(drop=True)\n",
    "chi2_df[\"Np\"] = chi2_df.index"
   ]
  },
  {
   "cell_type": "markdown",
   "id": "95207bf7",
   "metadata": {},
   "source": [
    "#95％のところにあるp値\n",
    "import numpy as np\n",
    "\n",
    "num = np.percentile(np.array(chi2_df[\"p\"]), 95) \n",
    "print(num)\n",
    "#その値に最も近いp値のインデックスを取得\n",
    "index = np.abs(chi2_df[\"p\"] - num).argsort()[0].tolist()\n",
    "\n",
    "#５％のところにある1-pでも同じ\n",
    "#index = np.abs(chi2_df[\"1-p\"] -np.percentile(np.array(chi2_df[\"1-p\"]), 5)).argsort()[0].tolist()\n",
    "\n",
    "print(\"index number: \", index)\n",
    "chi2_df[index:index+1]"
   ]
  },
  {
   "cell_type": "markdown",
   "id": "ff722c0d",
   "metadata": {},
   "source": [
    "#プロット\n",
    "\n",
    "def calc_slope_intersept(x1, y1, x2, y2):\n",
    "    a = (y1 - y2) / (x1 - x2)\n",
    "    b = y1 - a * x1\n",
    "    return (a, b)\n",
    "\n",
    "#座標の最小値と最大値を設定\n",
    "x1 = 0\n",
    "y1 = 0\n",
    "x2 = chi2_df.loc[index, \"1-p\"]\n",
    "y2 = chi2_df.loc[index, \"Np\"]\n",
    "print(x1, y1, \"→\", x2, y2)\n",
    "\n",
    "if __name__ == \"__main__\":\n",
    "    a, b = calc_slope_intersept(x1, y1, x2, y2)"
   ]
  },
  {
   "cell_type": "markdown",
   "id": "5756388d",
   "metadata": {},
   "source": [
    "import sqlalchemy\n",
    "from matplotlib.ticker import ScalarFormatter\n",
    "\n",
    "fig = plt.figure(figsize=(8,5))\n",
    "plt.style.use('seaborn-whitegrid')\n",
    "ax = fig.add_subplot(1,1,1)\n",
    "ax.set_xticks([i/10 for i in range(0,12,1)])\n",
    "ax.yaxis.set_major_formatter(ScalarFormatter(useMathText=True))\n",
    "ax.ticklabel_format(style=\"sci\",  axis=\"y\",scilimits=(0,0))\n",
    "#ax.set_title(\"\")\n",
    "ax.set_xlabel('1-p')\n",
    "ax.set_ylabel('Np')\n",
    "\n",
    "#曲線\n",
    "x2 = chi2_df[\"1-p\"]\n",
    "y2 = chi2_df[\"Np\"]\n",
    "plt.plot(x2, y2, linewidth=5, color=\"c\", alpha=0.5)\n",
    "\n",
    "#(0,0)と最大値の2点を直線で結ぶ\n",
    "plt.plot([0, 1.1], [0, a*1.1],  linewidth=3, color=\"hotpink\", alpha=1)\n",
    "plt.grid(True)\n",
    "plt.show()"
   ]
  },
  {
   "cell_type": "markdown",
   "id": "c3cc9cc6",
   "metadata": {},
   "source": [
    "chi2_df[chi2_df.duplicated()] #重複行は無し"
   ]
  },
  {
   "cell_type": "code",
   "execution_count": 29,
   "id": "3c79133e",
   "metadata": {},
   "outputs": [],
   "source": [
    "#ペアはカットせずに全部使う"
   ]
  },
  {
   "cell_type": "code",
   "execution_count": 30,
   "id": "90608387",
   "metadata": {},
   "outputs": [
    {
     "data": {
      "text/plain": [
       "137"
      ]
     },
     "execution_count": 30,
     "metadata": {},
     "output_type": "execute_result"
    }
   ],
   "source": [
    "#TF-IDF計算\n",
    "#symptomとペアになるdisease総数\n",
    "idf_n_i = co_occ_pair.groupby(\"symptom\").count().reset_index()[[\"symptom\", \"disease\"]].values.tolist()\n",
    "len(idf_n_i)"
   ]
  },
  {
   "cell_type": "code",
   "execution_count": 31,
   "id": "842cf398",
   "metadata": {},
   "outputs": [
    {
     "data": {
      "application/vnd.jupyter.widget-view+json": {
       "model_id": "4a072520b58d43d49014e0b0eab280bd",
       "version_major": 2,
       "version_minor": 0
      },
      "text/plain": [
       "  0%|          | 0/930 [00:00<?, ?it/s]"
      ]
     },
     "metadata": {},
     "output_type": "display_data"
    }
   ],
   "source": [
    "\n",
    "tfidf_list=[]\n",
    "N = co_occ_pair[\"disease\"].nunique() #3602 #全疾患の種類数\n",
    "\n",
    "for pair in tqdm(co_occ_pair.values.tolist()): #co_occ_pair：共起ペアと共起数\n",
    "    for symptom in idf_n_i: #idf_n_i：symptomとdisease総数\n",
    "        \n",
    "        if pair[0]==symptom[0]: #同じsymptomだったら\n",
    "            \n",
    "            #バラバシ数式\n",
    "            W_ij = pair[-1] #diseaseとの共起数\n",
    "            n_i = symptom[1] #symptomとペアになるdisease総数\n",
    "            tfidf_value = W_ij*np.log(N /n_i) \n",
    "            \n",
    "            tfidf_list.append([pair[0],  pair[1], W_ij, n_i, tfidf_value])\n",
    "\n",
    "tfidf = pd.DataFrame(tfidf_list, columns=[\"symptom\",\"disease\",\"co_occurence\", \"disease_num\", \"tf_idf\"])\n",
    "#disease_num：symptomとペアになるdisease総数\n",
    "tfidf = tfidf.sort_values(by=\"tf_idf\", ascending=False).reset_index(drop=True)\n"
   ]
  },
  {
   "cell_type": "code",
   "execution_count": 32,
   "id": "f5811d46",
   "metadata": {},
   "outputs": [
    {
     "name": "stdout",
     "output_type": "stream",
     "text": [
      "3516.162211251297\n",
      "3516.162211251296\n"
     ]
    }
   ],
   "source": [
    "print(tfidf[\"tf_idf\"].sum())\n",
    "\n",
    "#行列の形にする\n",
    "pivot_tfidf_df = tfidf.pivot(index='disease', columns='symptom', values='tf_idf').fillna(0)\n",
    "print(pivot_tfidf_df.sum().sum())\n"
   ]
  },
  {
   "cell_type": "code",
   "execution_count": 33,
   "id": "27ddf4c2",
   "metadata": {},
   "outputs": [
    {
     "data": {
      "image/png": "[encoded data removed]",
      "text/plain": [
       "<Figure size 432x288 with 1 Axes>"
      ]
     },
     "metadata": {
      "needs_background": "light"
     },
     "output_type": "display_data"
    }
   ],
   "source": [
    "#疾患・症状のTFIDFがゼロより大きい値を取り出した時の可視化\n",
    "\n",
    "#plt.figure(figsize=(12,4))\n",
    "\n",
    "#TFIDFの数\n",
    "each_disease_sum_vector = [sum(pivot_tfidf_df.loc[disease, :]>0) for disease in pivot_tfidf_df.index]\n",
    "plt.hist(each_disease_sum_vector,color='c', bins=len(set(each_disease_sum_vector)), alpha=0.8)\n",
    "plt.xlabel('sum')\n",
    "plt.ylabel(\"frequency\")\n",
    "plt.show()"
   ]
  },
  {
   "cell_type": "code",
   "execution_count": 34,
   "id": "d7d220b1",
   "metadata": {},
   "outputs": [
    {
     "name": "stdout",
     "output_type": "stream",
     "text": [
      "317\n"
     ]
    }
   ],
   "source": [
    "#コサイン類似度　計算\n",
    "\n",
    "#コサイン算出用データフレームを作る\n",
    "pre_cosine_df = tfidf.sort_values(['symptom', 'disease'])[['symptom', 'disease',\"tf_idf\"]].reset_index(drop=True)\n",
    "pre_cosine_df = pd.pivot_table(pre_cosine_df, index='disease', columns='symptom', values=\"tf_idf\")\n",
    "pre_cosine_df = pre_cosine_df.fillna(0)#欠損値に0を入れる\n",
    "#疾患個数\n",
    "print(len(pre_cosine_df.index)) \n"
   ]
  },
  {
   "cell_type": "code",
   "execution_count": 35,
   "id": "94d73e82",
   "metadata": {},
   "outputs": [
    {
     "name": "stdout",
     "output_type": "stream",
     "text": [
      "100489\n",
      "('MESH:D000080984', 'MESH:D000080984') ('MESH:D000080984', 'MESH:D000081003')\n"
     ]
    }
   ],
   "source": [
    "#疾患ペア(直積ペア)を作る\n",
    "import itertools\n",
    "product_list = list(itertools.product(pre_cosine_df.index, pre_cosine_df.index))\n",
    "print(len(product_list))#2047761\n",
    "print(product_list[0], product_list[1])"
   ]
  },
  {
   "cell_type": "code",
   "execution_count": 36,
   "id": "0ea6e543",
   "metadata": {},
   "outputs": [],
   "source": [
    "#tfidf行列を疾患（＝行）ごとに分けて直積ペアを作る\n",
    "vectors = [each_vectors for each_vectors in np.array(pre_cosine_df)]\n",
    "vectors_list = list(itertools.product(vectors, vectors))"
   ]
  },
  {
   "cell_type": "code",
   "execution_count": 37,
   "id": "13e0a916",
   "metadata": {},
   "outputs": [
    {
     "data": {
      "application/vnd.jupyter.widget-view+json": {
       "model_id": "0f8c9f26468f4f85a4e8b54d73de334a",
       "version_major": 2,
       "version_minor": 0
      },
      "text/plain": [
       "0it [00:00, ?it/s]"
      ]
     },
     "metadata": {},
     "output_type": "display_data"
    }
   ],
   "source": [
    "#コサイン類似度\n",
    "\n",
    "#計算式\n",
    "def cosine_similarity(x, y):#xとyはベクトルの成分\n",
    "    return (np.dot(x, y) / (np.sqrt(np.dot(x, x)) * np.sqrt(np.dot(y, y))))\n",
    "\n",
    "#直積ペアにコサイン類似度計算を適用 \n",
    "cosine_similarity_list = []\n",
    "for disease_pair, vector in tqdm(zip( product_list, vectors_list )):\n",
    "    cosine_similarity_list.append([disease_pair[0], disease_pair[-1], cosine_similarity(vector[0], vector[1])])"
   ]
  },
  {
   "cell_type": "code",
   "execution_count": 38,
   "id": "dd79aec8",
   "metadata": {},
   "outputs": [
    {
     "name": "stdout",
     "output_type": "stream",
     "text": [
      "100489 317\n"
     ]
    }
   ],
   "source": [
    "#データフレーム化\n",
    "cosine_df = pd.DataFrame(cosine_similarity_list, columns=[\"disease_1\", \"disease_2\", \"cosine_similarity\"])\n",
    "cosine_df = cosine_df.sort_values(\"cosine_similarity\", ascending=False).reset_index(drop=True)\n",
    "pivot_cosine_df = cosine_df.pivot(index='disease_1', columns='disease_2', values='cosine_similarity')#.fillna(0)\n",
    "print(len(cosine_df), len(pivot_cosine_df))\n",
    "#2047761 1431"
   ]
  },
  {
   "cell_type": "code",
   "execution_count": 39,
   "id": "132911e4",
   "metadata": {},
   "outputs": [],
   "source": [
    "#インデックスを取得\n",
    "pivot_index = pivot_cosine_df.index.tolist()"
   ]
  },
  {
   "cell_type": "code",
   "execution_count": 40,
   "id": "e49b0812",
   "metadata": {},
   "outputs": [],
   "source": [
    "#「同じ疾患同士」「順序が逆になっているだけで同じペアの片方」を削除\n",
    "\n",
    "#アレイに変換\n",
    "recent_array = np.array(pivot_cosine_df)\n",
    "\n",
    "#下三角行列を取得する\n",
    "#numpy.tril()の引数にnumpy.ndarrayを指定すると、対角線より上の成分をゼロとしたnumpy.ndarrayが返される。\n",
    "#対角線のコサイン値＝１は不要なので、この対角線箇所も含めてゼロにしたい。\n",
    "#numpy.tril()の第二引数のkで、境界となる対角線の位置が指定できる（正の値だと上側（右側）、負の値だと下側（左側）に移動する）\n",
    "\n",
    "recent_array = np.tril(recent_array, k=-1) \n",
    "\n",
    "#データフレームにする　対角線含む上の値がゼロになっているか確認\n",
    "repivot_cosine_df= pd.DataFrame(recent_array, index=pivot_cosine_df.index, columns=pivot_cosine_df.columns)\n"
   ]
  },
  {
   "cell_type": "code",
   "execution_count": 41,
   "id": "e13fea11",
   "metadata": {},
   "outputs": [
    {
     "data": {
      "text/html": [
       "<div>\n",
       "<style scoped>\n",
       "    .dataframe tbody tr th:only-of-type {\n",
       "        vertical-align: middle;\n",
       "    }\n",
       "\n",
       "    .dataframe tbody tr th {\n",
       "        vertical-align: top;\n",
       "    }\n",
       "\n",
       "    .dataframe thead th {\n",
       "        text-align: right;\n",
       "    }\n",
       "</style>\n",
       "<table border=\"1\" class=\"dataframe\">\n",
       "  <thead>\n",
       "    <tr style=\"text-align: right;\">\n",
       "      <th>disease_2</th>\n",
       "      <th>MESH:D000080984</th>\n",
       "      <th>MESH:D000081003</th>\n",
       "      <th>MESH:D000083143</th>\n",
       "      <th>MESH:D000130</th>\n",
       "      <th>MESH:D000141</th>\n",
       "      <th>MESH:D000326</th>\n",
       "      <th>MESH:D000361</th>\n",
       "      <th>MESH:D000474</th>\n",
       "      <th>MESH:D000742</th>\n",
       "      <th>MESH:D000755</th>\n",
       "      <th>...</th>\n",
       "      <th>MESH:D057826</th>\n",
       "      <th>MESH:D058247</th>\n",
       "      <th>MESH:D058494</th>\n",
       "      <th>MESH:D058495</th>\n",
       "      <th>MESH:D058496</th>\n",
       "      <th>MESH:D058540</th>\n",
       "      <th>MESH:D065627</th>\n",
       "      <th>MESH:D065635</th>\n",
       "      <th>MESH:D065708</th>\n",
       "      <th>MESH:D065766</th>\n",
       "    </tr>\n",
       "    <tr>\n",
       "      <th>disease_1</th>\n",
       "      <th></th>\n",
       "      <th></th>\n",
       "      <th></th>\n",
       "      <th></th>\n",
       "      <th></th>\n",
       "      <th></th>\n",
       "      <th></th>\n",
       "      <th></th>\n",
       "      <th></th>\n",
       "      <th></th>\n",
       "      <th></th>\n",
       "      <th></th>\n",
       "      <th></th>\n",
       "      <th></th>\n",
       "      <th></th>\n",
       "      <th></th>\n",
       "      <th></th>\n",
       "      <th></th>\n",
       "      <th></th>\n",
       "      <th></th>\n",
       "      <th></th>\n",
       "    </tr>\n",
       "  </thead>\n",
       "  <tbody>\n",
       "    <tr>\n",
       "      <th>MESH:D000080984</th>\n",
       "      <td>0.0</td>\n",
       "      <td>0.0</td>\n",
       "      <td>0.0</td>\n",
       "      <td>0.0</td>\n",
       "      <td>0.0</td>\n",
       "      <td>0.0</td>\n",
       "      <td>0.0</td>\n",
       "      <td>0.0</td>\n",
       "      <td>0.0</td>\n",
       "      <td>0.0</td>\n",
       "      <td>...</td>\n",
       "      <td>0.0</td>\n",
       "      <td>0.0</td>\n",
       "      <td>0.0</td>\n",
       "      <td>0.0</td>\n",
       "      <td>0.0</td>\n",
       "      <td>0.0</td>\n",
       "      <td>0.0</td>\n",
       "      <td>0.0</td>\n",
       "      <td>0.0</td>\n",
       "      <td>0.0</td>\n",
       "    </tr>\n",
       "    <tr>\n",
       "      <th>MESH:D000081003</th>\n",
       "      <td>0.0</td>\n",
       "      <td>0.0</td>\n",
       "      <td>0.0</td>\n",
       "      <td>0.0</td>\n",
       "      <td>0.0</td>\n",
       "      <td>0.0</td>\n",
       "      <td>0.0</td>\n",
       "      <td>0.0</td>\n",
       "      <td>0.0</td>\n",
       "      <td>0.0</td>\n",
       "      <td>...</td>\n",
       "      <td>0.0</td>\n",
       "      <td>0.0</td>\n",
       "      <td>0.0</td>\n",
       "      <td>0.0</td>\n",
       "      <td>0.0</td>\n",
       "      <td>0.0</td>\n",
       "      <td>0.0</td>\n",
       "      <td>0.0</td>\n",
       "      <td>0.0</td>\n",
       "      <td>0.0</td>\n",
       "    </tr>\n",
       "    <tr>\n",
       "      <th>MESH:D000083143</th>\n",
       "      <td>0.0</td>\n",
       "      <td>0.0</td>\n",
       "      <td>0.0</td>\n",
       "      <td>0.0</td>\n",
       "      <td>0.0</td>\n",
       "      <td>0.0</td>\n",
       "      <td>0.0</td>\n",
       "      <td>0.0</td>\n",
       "      <td>0.0</td>\n",
       "      <td>0.0</td>\n",
       "      <td>...</td>\n",
       "      <td>0.0</td>\n",
       "      <td>0.0</td>\n",
       "      <td>0.0</td>\n",
       "      <td>0.0</td>\n",
       "      <td>0.0</td>\n",
       "      <td>0.0</td>\n",
       "      <td>0.0</td>\n",
       "      <td>0.0</td>\n",
       "      <td>0.0</td>\n",
       "      <td>0.0</td>\n",
       "    </tr>\n",
       "    <tr>\n",
       "      <th>MESH:D000130</th>\n",
       "      <td>0.0</td>\n",
       "      <td>0.0</td>\n",
       "      <td>0.0</td>\n",
       "      <td>0.0</td>\n",
       "      <td>0.0</td>\n",
       "      <td>0.0</td>\n",
       "      <td>0.0</td>\n",
       "      <td>0.0</td>\n",
       "      <td>0.0</td>\n",
       "      <td>0.0</td>\n",
       "      <td>...</td>\n",
       "      <td>0.0</td>\n",
       "      <td>0.0</td>\n",
       "      <td>0.0</td>\n",
       "      <td>0.0</td>\n",
       "      <td>0.0</td>\n",
       "      <td>0.0</td>\n",
       "      <td>0.0</td>\n",
       "      <td>0.0</td>\n",
       "      <td>0.0</td>\n",
       "      <td>0.0</td>\n",
       "    </tr>\n",
       "    <tr>\n",
       "      <th>MESH:D000141</th>\n",
       "      <td>0.0</td>\n",
       "      <td>0.0</td>\n",
       "      <td>0.0</td>\n",
       "      <td>0.0</td>\n",
       "      <td>0.0</td>\n",
       "      <td>0.0</td>\n",
       "      <td>0.0</td>\n",
       "      <td>0.0</td>\n",
       "      <td>0.0</td>\n",
       "      <td>0.0</td>\n",
       "      <td>...</td>\n",
       "      <td>0.0</td>\n",
       "      <td>0.0</td>\n",
       "      <td>0.0</td>\n",
       "      <td>0.0</td>\n",
       "      <td>0.0</td>\n",
       "      <td>0.0</td>\n",
       "      <td>0.0</td>\n",
       "      <td>0.0</td>\n",
       "      <td>0.0</td>\n",
       "      <td>0.0</td>\n",
       "    </tr>\n",
       "  </tbody>\n",
       "</table>\n",
       "<p>5 rows × 317 columns</p>\n",
       "</div>"
      ],
      "text/plain": [
       "disease_2        MESH:D000080984  MESH:D000081003  MESH:D000083143  \\\n",
       "disease_1                                                            \n",
       "MESH:D000080984              0.0              0.0              0.0   \n",
       "MESH:D000081003              0.0              0.0              0.0   \n",
       "MESH:D000083143              0.0              0.0              0.0   \n",
       "MESH:D000130                 0.0              0.0              0.0   \n",
       "MESH:D000141                 0.0              0.0              0.0   \n",
       "\n",
       "disease_2        MESH:D000130  MESH:D000141  MESH:D000326  MESH:D000361  \\\n",
       "disease_1                                                                 \n",
       "MESH:D000080984           0.0           0.0           0.0           0.0   \n",
       "MESH:D000081003           0.0           0.0           0.0           0.0   \n",
       "MESH:D000083143           0.0           0.0           0.0           0.0   \n",
       "MESH:D000130              0.0           0.0           0.0           0.0   \n",
       "MESH:D000141              0.0           0.0           0.0           0.0   \n",
       "\n",
       "disease_2        MESH:D000474  MESH:D000742  MESH:D000755  ...  MESH:D057826  \\\n",
       "disease_1                                                  ...                 \n",
       "MESH:D000080984           0.0           0.0           0.0  ...           0.0   \n",
       "MESH:D000081003           0.0           0.0           0.0  ...           0.0   \n",
       "MESH:D000083143           0.0           0.0           0.0  ...           0.0   \n",
       "MESH:D000130              0.0           0.0           0.0  ...           0.0   \n",
       "MESH:D000141              0.0           0.0           0.0  ...           0.0   \n",
       "\n",
       "disease_2        MESH:D058247  MESH:D058494  MESH:D058495  MESH:D058496  \\\n",
       "disease_1                                                                 \n",
       "MESH:D000080984           0.0           0.0           0.0           0.0   \n",
       "MESH:D000081003           0.0           0.0           0.0           0.0   \n",
       "MESH:D000083143           0.0           0.0           0.0           0.0   \n",
       "MESH:D000130              0.0           0.0           0.0           0.0   \n",
       "MESH:D000141              0.0           0.0           0.0           0.0   \n",
       "\n",
       "disease_2        MESH:D058540  MESH:D065627  MESH:D065635  MESH:D065708  \\\n",
       "disease_1                                                                 \n",
       "MESH:D000080984           0.0           0.0           0.0           0.0   \n",
       "MESH:D000081003           0.0           0.0           0.0           0.0   \n",
       "MESH:D000083143           0.0           0.0           0.0           0.0   \n",
       "MESH:D000130              0.0           0.0           0.0           0.0   \n",
       "MESH:D000141              0.0           0.0           0.0           0.0   \n",
       "\n",
       "disease_2        MESH:D065766  \n",
       "disease_1                      \n",
       "MESH:D000080984           0.0  \n",
       "MESH:D000081003           0.0  \n",
       "MESH:D000083143           0.0  \n",
       "MESH:D000130              0.0  \n",
       "MESH:D000141              0.0  \n",
       "\n",
       "[5 rows x 317 columns]"
      ]
     },
     "execution_count": 41,
     "metadata": {},
     "output_type": "execute_result"
    }
   ],
   "source": [
    "repivot_cosine_df[:5]"
   ]
  },
  {
   "cell_type": "code",
   "execution_count": 42,
   "id": "7a4e3679",
   "metadata": {},
   "outputs": [
    {
     "name": "stdout",
     "output_type": "stream",
     "text": [
      "9763\n"
     ]
    }
   ],
   "source": [
    "#下三角行列のうち、コサイン値ゼロ以外の値の位置を取得\n",
    "recent_array_index_list = [[value_0,\n",
    "                            value_1] for value_0, value_1 in zip(list(np.where(recent_array>0)[0]),\n",
    "                                                                 list(np.where(recent_array>0)[1]))]\n",
    "print(len(recent_array_index_list))"
   ]
  },
  {
   "cell_type": "code",
   "execution_count": 43,
   "id": "7b005f5e",
   "metadata": {},
   "outputs": [
    {
     "data": {
      "application/vnd.jupyter.widget-view+json": {
       "model_id": "7d5cbc61041a4244b86d1d3fd9e029ea",
       "version_major": 2,
       "version_minor": 0
      },
      "text/plain": [
       "  0%|          | 0/9763 [00:00<?, ?it/s]"
      ]
     },
     "metadata": {},
     "output_type": "display_data"
    }
   ],
   "source": [
    "#元の（半分ゼロにする前の）行列で同じ位置を指定し、そのインデックス（疾患ペア）と値（コサイン値）を取得\n",
    "#疾患a, 疾患b, abのコサイン値\n",
    "repivot_pair = [ [pivot_index[i[0]],\n",
    "                  pivot_index[i[1]], \n",
    "                  repivot_cosine_df.iloc[i[0], i[1]]] for i in tqdm(recent_array_index_list)]\n",
    "\n",
    "# 作成されるデータは\n",
    "#    「同じ疾患同士」「順序が逆になっただけの同じペアのうちの片方」「コサイン値ゼロ」これらを除いたデータ"
   ]
  },
  {
   "cell_type": "code",
   "execution_count": 44,
   "id": "0a9a049c",
   "metadata": {},
   "outputs": [],
   "source": [
    "hpo = pd.DataFrame(repivot_pair, columns=[\"disease_1\", \"disease_2\", \"cosine_similarity\"])"
   ]
  },
  {
   "cell_type": "code",
   "execution_count": 45,
   "id": "8d620d04",
   "metadata": {},
   "outputs": [
    {
     "data": {
      "text/html": [
       "<div>\n",
       "<style scoped>\n",
       "    .dataframe tbody tr th:only-of-type {\n",
       "        vertical-align: middle;\n",
       "    }\n",
       "\n",
       "    .dataframe tbody tr th {\n",
       "        vertical-align: top;\n",
       "    }\n",
       "\n",
       "    .dataframe thead th {\n",
       "        text-align: right;\n",
       "    }\n",
       "</style>\n",
       "<table border=\"1\" class=\"dataframe\">\n",
       "  <thead>\n",
       "    <tr style=\"text-align: right;\">\n",
       "      <th></th>\n",
       "      <th>disease_1</th>\n",
       "      <th>disease_2</th>\n",
       "      <th>cosine_similarity</th>\n",
       "    </tr>\n",
       "  </thead>\n",
       "  <tbody>\n",
       "    <tr>\n",
       "      <th>0</th>\n",
       "      <td>MESH:D000326</td>\n",
       "      <td>MESH:D000130</td>\n",
       "      <td>0.045566</td>\n",
       "    </tr>\n",
       "    <tr>\n",
       "      <th>1</th>\n",
       "      <td>MESH:D000755</td>\n",
       "      <td>MESH:D000742</td>\n",
       "      <td>0.726524</td>\n",
       "    </tr>\n",
       "    <tr>\n",
       "      <th>2</th>\n",
       "      <td>MESH:D000795</td>\n",
       "      <td>MESH:D000130</td>\n",
       "      <td>0.031456</td>\n",
       "    </tr>\n",
       "  </tbody>\n",
       "</table>\n",
       "</div>"
      ],
      "text/plain": [
       "      disease_1     disease_2  cosine_similarity\n",
       "0  MESH:D000326  MESH:D000130           0.045566\n",
       "1  MESH:D000755  MESH:D000742           0.726524\n",
       "2  MESH:D000795  MESH:D000130           0.031456"
      ]
     },
     "execution_count": 45,
     "metadata": {},
     "output_type": "execute_result"
    }
   ],
   "source": [
    "hpo[:3]"
   ]
  },
  {
   "cell_type": "code",
   "execution_count": 46,
   "id": "f462fadc",
   "metadata": {},
   "outputs": [
    {
     "name": "stdout",
     "output_type": "stream",
     "text": [
      "疾患・症状ペアの数: 930\n",
      "disease_MeSH: 317\n",
      "symptom_MeSH: 137 \n",
      "\n"
     ]
    }
   ],
   "source": [
    "print(\"疾患・症状ペアの数:\", len(tfidf))\n",
    "print(\"disease_MeSH:\", len(repivot_cosine_df.index))\n",
    "print(\"symptom_MeSH:\", len(idf_n_i), \"\\n\")"
   ]
  },
  {
   "cell_type": "code",
   "execution_count": 47,
   "id": "697d2ded",
   "metadata": {
    "scrolled": true
   },
   "outputs": [
    {
     "name": "stdout",
     "output_type": "stream",
     "text": [
      "疾患・疾患ペアの数: 9763\n",
      "cos>0.1の時: 6485\n",
      "cos>0.2の時: 4166\n",
      "cos>0.5の時: 1023 \n",
      "\n"
     ]
    }
   ],
   "source": [
    "print(\"疾患・疾患ペアの数:\", len(hpo))\n",
    "print(\"cos>0.1の時:\", len(hpo[hpo[\"cosine_similarity\"]>0.1]))\n",
    "print(\"cos>0.2の時:\", len(hpo[hpo[\"cosine_similarity\"]>0.2]))\n",
    "print(\"cos>0.5の時:\", len(hpo[hpo[\"cosine_similarity\"]>0.5]), \"\\n\")"
   ]
  },
  {
   "cell_type": "code",
   "execution_count": 48,
   "id": "003ebd81",
   "metadata": {},
   "outputs": [
    {
     "name": "stdout",
     "output_type": "stream",
     "text": [
      "---cos>0.1---\n",
      "疾患・疾患ペアの数: 6485\n",
      "disaease_MeSH: 310\n",
      "max_cos: 1.0000000000000002\n",
      "min_cos: 0.10003853747163853 \n",
      "\n"
     ]
    }
   ],
   "source": [
    "print(\"---cos>0.1---\")\n",
    "cos_a = hpo[hpo[\"cosine_similarity\"]>0.1]\n",
    "print(\"疾患・疾患ペアの数:\", len(cos_a))\n",
    "print(\"disaease_MeSH:\", len(set(cos_a[\"disease_1\"].values.tolist() + cos_a[\"disease_2\"].values.tolist())))\n",
    "print(\"max_cos:\", cos_a[\"cosine_similarity\"].max())\n",
    "print(\"min_cos:\", cos_a[\"cosine_similarity\"].min(), \"\\n\")"
   ]
  },
  {
   "cell_type": "code",
   "execution_count": 49,
   "id": "28149a8c",
   "metadata": {},
   "outputs": [
    {
     "name": "stdout",
     "output_type": "stream",
     "text": [
      "---cos>0.1, cos<1---\n",
      "疾患・疾患ペアの数: 6219\n",
      "disaease_MeSH: 305\n",
      "max_cos: 0.9999999999999999\n",
      "min_cos: 0.10003853747163853 \n",
      "\n"
     ]
    }
   ],
   "source": [
    "print(\"---cos>0.1, cos<1---\")\n",
    "cos_b = hpo[ (hpo[\"cosine_similarity\"]>0.1) & (hpo[\"cosine_similarity\"]<1)]\n",
    "print(\"疾患・疾患ペアの数:\", len(cos_b))\n",
    "print(\"disaease_MeSH:\", len(set(cos_b[\"disease_1\"].values.tolist() + cos_b[\"disease_2\"].values.tolist())))\n",
    "print(\"max_cos:\", cos_b[\"cosine_similarity\"].max())\n",
    "print(\"min_cos:\", cos_b[\"cosine_similarity\"].min(), \"\\n\")"
   ]
  },
  {
   "cell_type": "code",
   "execution_count": 50,
   "id": "2dea53f7",
   "metadata": {},
   "outputs": [],
   "source": [
    "#hpo_cos MeSH 列名修正\n",
    "\n",
    "hpo[\"disease_1_id\"] = [i.replace(\"MESH:\", '') for i in hpo[\"disease_1\"] ] \n",
    "hpo[\"disease_2_id\"] = [i.replace(\"MESH:\", '') for i in hpo[\"disease_2\"] ] \n",
    "hpo = hpo[[\"disease_1_id\", \"disease_2_id\", 'cosine_similarity'] ]\n",
    "hpo.set_axis(['disease_1', 'disease_2', 'cosine_similarity'], axis='columns', inplace=True)\n"
   ]
  },
  {
   "cell_type": "code",
   "execution_count": 51,
   "id": "e0fa29d8",
   "metadata": {},
   "outputs": [
    {
     "data": {
      "text/html": [
       "<div>\n",
       "<style scoped>\n",
       "    .dataframe tbody tr th:only-of-type {\n",
       "        vertical-align: middle;\n",
       "    }\n",
       "\n",
       "    .dataframe tbody tr th {\n",
       "        vertical-align: top;\n",
       "    }\n",
       "\n",
       "    .dataframe thead th {\n",
       "        text-align: right;\n",
       "    }\n",
       "</style>\n",
       "<table border=\"1\" class=\"dataframe\">\n",
       "  <thead>\n",
       "    <tr style=\"text-align: right;\">\n",
       "      <th></th>\n",
       "      <th>disease_1</th>\n",
       "      <th>disease_2</th>\n",
       "      <th>cosine_similarity</th>\n",
       "    </tr>\n",
       "  </thead>\n",
       "  <tbody>\n",
       "    <tr>\n",
       "      <th>0</th>\n",
       "      <td>D000326</td>\n",
       "      <td>D000130</td>\n",
       "      <td>0.045566</td>\n",
       "    </tr>\n",
       "    <tr>\n",
       "      <th>1</th>\n",
       "      <td>D000755</td>\n",
       "      <td>D000742</td>\n",
       "      <td>0.726524</td>\n",
       "    </tr>\n",
       "    <tr>\n",
       "      <th>2</th>\n",
       "      <td>D000795</td>\n",
       "      <td>D000130</td>\n",
       "      <td>0.031456</td>\n",
       "    </tr>\n",
       "  </tbody>\n",
       "</table>\n",
       "</div>"
      ],
      "text/plain": [
       "  disease_1 disease_2  cosine_similarity\n",
       "0   D000326   D000130           0.045566\n",
       "1   D000755   D000742           0.726524\n",
       "2   D000795   D000130           0.031456"
      ]
     },
     "execution_count": 51,
     "metadata": {},
     "output_type": "execute_result"
    }
   ],
   "source": [
    "hpo[:3]"
   ]
  },
  {
   "cell_type": "code",
   "execution_count": 58,
   "id": "847adaae",
   "metadata": {},
   "outputs": [],
   "source": [
    "os.chdir(\"/home/admin_user/デスクトップ/folder_05\")\n",
    "hpo.to_csv(\"hpo.csv\", index=False)"
   ]
  }
 ],
 "metadata": {
  "kernelspec": {
   "display_name": "Python 3",
   "language": "python",
   "name": "python3"
  },
  "language_info": {
   "codemirror_mode": {
    "name": "ipython",
    "version": 3
   },
   "file_extension": ".py",
   "mimetype": "text/x-python",
   "name": "python",
   "nbconvert_exporter": "python",
   "pygments_lexer": "ipython3",
   "version": "3.8.8"
  }
 },
 "nbformat": 4,
 "nbformat_minor": 5
}
