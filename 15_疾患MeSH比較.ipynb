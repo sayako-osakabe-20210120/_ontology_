{
 "cells": [
  {
   "cell_type": "code",
   "execution_count": 2,
   "id": "85f69520",
   "metadata": {},
   "outputs": [],
   "source": [
    "import pandas as pd\n",
    "import networkx as nx\n",
    "import pickle\n",
    "from tqdm.notebook import tqdm"
   ]
  },
  {
   "cell_type": "code",
   "execution_count": 3,
   "id": "dae6c586",
   "metadata": {},
   "outputs": [],
   "source": [
    "path_1 = \"./folder_05/\"\n",
    "file_mesh = 'mesh_list_2021.pickle'\n",
    "file_mesh_11 = 'mesh_list_2011.pickle'\n",
    "file_hsdn = \"hsdn.csv\"\n",
    "sup_3 = \"Supplementary Data 3.txt\"\n",
    "file_co_occ = \"co_occ_pair.csv\"#カット前の全共起ペア\n",
    "file_cutoff = \"cutoff_pair.csv\"#カット後の共起ペア"
   ]
  },
  {
   "cell_type": "code",
   "execution_count": 6,
   "id": "374ad4a5",
   "metadata": {},
   "outputs": [
    {
     "name": "stdout",
     "output_type": "stream",
     "text": [
      "Index(['MeSH Symptom Term', 'MeSH Disease Term', 'PubMed occurrence',\n",
      "       'TFIDF score'],\n",
      "      dtype='object')\n",
      "147978\n"
     ]
    },
    {
     "data": {
      "text/html": [
       "<div>\n",
       "<style scoped>\n",
       "    .dataframe tbody tr th:only-of-type {\n",
       "        vertical-align: middle;\n",
       "    }\n",
       "\n",
       "    .dataframe tbody tr th {\n",
       "        vertical-align: top;\n",
       "    }\n",
       "\n",
       "    .dataframe thead th {\n",
       "        text-align: right;\n",
       "    }\n",
       "</style>\n",
       "<table border=\"1\" class=\"dataframe\">\n",
       "  <thead>\n",
       "    <tr style=\"text-align: right;\">\n",
       "      <th></th>\n",
       "      <th>MeSH Symptom Term</th>\n",
       "      <th>MeSH Disease Term</th>\n",
       "      <th>PubMed occurrence</th>\n",
       "      <th>TFIDF score</th>\n",
       "    </tr>\n",
       "  </thead>\n",
       "  <tbody>\n",
       "    <tr>\n",
       "      <th>0</th>\n",
       "      <td>Aging, Premature</td>\n",
       "      <td>Respiratory Syncytial Virus Infections</td>\n",
       "      <td>1</td>\n",
       "      <td>3.464551</td>\n",
       "    </tr>\n",
       "    <tr>\n",
       "      <th>1</th>\n",
       "      <td>Aging, Premature</td>\n",
       "      <td>Orthomyxoviridae Infections</td>\n",
       "      <td>1</td>\n",
       "      <td>3.464551</td>\n",
       "    </tr>\n",
       "    <tr>\n",
       "      <th>2</th>\n",
       "      <td>Aging, Premature</td>\n",
       "      <td>HIV Infections</td>\n",
       "      <td>3</td>\n",
       "      <td>10.393654</td>\n",
       "    </tr>\n",
       "  </tbody>\n",
       "</table>\n",
       "</div>"
      ],
      "text/plain": [
       "  MeSH Symptom Term                       MeSH Disease Term  \\\n",
       "0  Aging, Premature  Respiratory Syncytial Virus Infections   \n",
       "1  Aging, Premature             Orthomyxoviridae Infections   \n",
       "2  Aging, Premature                          HIV Infections   \n",
       "\n",
       "   PubMed occurrence  TFIDF score  \n",
       "0                  1     3.464551  \n",
       "1                  1     3.464551  \n",
       "2                  3    10.393654  "
      ]
     },
     "execution_count": 6,
     "metadata": {},
     "output_type": "execute_result"
    }
   ],
   "source": [
    "sup_3_df = pd.read_table(sup_3, engine=\"python\")\n",
    "print(sup_3_df.columns)\n",
    "print(len(sup_3_df))\n",
    "sup_3_df[:3]\n",
    "#Supplementary Data 3.txtは、全ペア（カットせず）に対しTFIDF scoreを出している？\n",
    "#ペアの数147,978あるが、カイ二乗検定を用いてカットする前の全ペアの数.\n",
    "#カットした後のペアの数は 62,820とZhou本文に記載あり"
   ]
  },
  {
   "cell_type": "code",
   "execution_count": 8,
   "id": "0a7df49d",
   "metadata": {
    "scrolled": true
   },
   "outputs": [
    {
     "name": "stdout",
     "output_type": "stream",
     "text": [
      "7804331 \n",
      "\n",
      "Name: \n",
      "Type: Graph\n",
      "Number of nodes: 4716\n",
      "Number of edges: 7804331\n",
      "Average degree: 3309.7248\n"
     ]
    }
   ],
   "source": [
    "#HSDN　エッジリスト読込・ネットワーク作成\n",
    "hsdn = pd.read_csv(path_1+file_hsdn)\n",
    "print(len(hsdn), \"\\n\")\n",
    "G = nx.from_pandas_edgelist(hsdn, \"disease_1\", \"disease_2\" )\n",
    "print(nx.info(G))"
   ]
  },
  {
   "cell_type": "code",
   "execution_count": 9,
   "id": "f7bc83a3",
   "metadata": {
    "scrolled": true
   },
   "outputs": [
    {
     "data": {
      "text/plain": [
       "Intellectual Disability             4709\n",
       "Pregnancy Complications             4706\n",
       "Hypertension                        4706\n",
       "Obesity                             4702\n",
       "Epilepsy                            4701\n",
       "                                    ... \n",
       "Piedra                               121\n",
       "Childhood-Onset Fluency Disorder      99\n",
       "Vaccine-Preventable Diseases          98\n",
       "Narcotic-Related Disorders            35\n",
       "Historical Trauma                     34\n",
       "Length: 4716, dtype: int64"
      ]
     },
     "execution_count": 9,
     "metadata": {},
     "output_type": "execute_result"
    }
   ],
   "source": [
    "#疾患リンク保有数\n",
    "ranking = pd.concat( [hsdn[\"disease_1\"], hsdn[\"disease_2\"] ], axis=0)#7804331 *2 = 15608662\n",
    "ranking.value_counts()"
   ]
  },
  {
   "cell_type": "code",
   "execution_count": null,
   "id": "66f970bc",
   "metadata": {},
   "outputs": [],
   "source": []
  },
  {
   "cell_type": "code",
   "execution_count": 10,
   "id": "be08ebcf",
   "metadata": {},
   "outputs": [],
   "source": [
    "#ネットワークの疾患MeSHを比較\n",
    "#アップデートして消えた疾患MeSH、登場した疾患MeSHを調査"
   ]
  },
  {
   "cell_type": "code",
   "execution_count": 11,
   "id": "98d12a4b",
   "metadata": {},
   "outputs": [
    {
     "name": "stdout",
     "output_type": "stream",
     "text": [
      "all_mesh: 29917 disease_mesh: 4887\n"
     ]
    }
   ],
   "source": [
    "#MeSH\n",
    "\n",
    "#2021_MeSH\n",
    "with open(file_mesh, 'rb') as f:\n",
    "    mesh_list = pickle.load(f)\n",
    "#Zhouらの定義した疾患MeSH\n",
    "all_disease = [descriptor for descriptor in mesh_list for uid in descriptor[-1] if ((uid.startswith(\"C\")==True) & (uid.startswith(\"C22\")!=True)&(uid.startswith(\"C23.888\")!=True)) | (uid.startswith(\"F03\")==True) ]\n",
    "#重複削除\n",
    "disease_mesh = []\n",
    "[dm for dm in all_disease if dm not in disease_mesh and not disease_mesh.append(dm)]\n",
    "\n",
    "print(\"all_mesh:\", len(mesh_list), \"disease_mesh:\", len(disease_mesh))"
   ]
  },
  {
   "cell_type": "code",
   "execution_count": 12,
   "id": "dc33cde8",
   "metadata": {},
   "outputs": [
    {
     "name": "stdout",
     "output_type": "stream",
     "text": [
      "all_mesh_11: 26142 disease_mesh_11: 4475\n"
     ]
    }
   ],
   "source": [
    "#2011_MeSH\n",
    "with open(file_mesh_11, 'rb') as f:\n",
    "    mesh_list_11 = pickle.load(f)\n",
    "#Zhouらの定義した疾患MeSH\n",
    "all_disease_11 = [descriptor for descriptor in mesh_list_11 for uid in descriptor[-1] if ((uid.startswith(\"C\")==True) & (uid.startswith(\"C22\")!=True)&(uid.startswith(\"C23.888\")!=True)) | (uid.startswith(\"F03\")==True) ]\n",
    "#重複削除\n",
    "disease_mesh_11 = []\n",
    "[dm_11 for dm_11 in all_disease_11 if dm_11 not in disease_mesh_11 and not disease_mesh_11.append(dm_11)]\n",
    "print(\"all_mesh_11:\", len(mesh_list_11), \"disease_mesh_11:\", len(disease_mesh_11))"
   ]
  },
  {
   "cell_type": "code",
   "execution_count": 13,
   "id": "a745917b",
   "metadata": {},
   "outputs": [
    {
     "name": "stdout",
     "output_type": "stream",
     "text": [
      "4219 4716\n"
     ]
    }
   ],
   "source": [
    "#ネットワークの疾患MeSH\n",
    "\n",
    "#zhouのHSDNの疾患MeSH :  zhouのSupplementary Data 3.txt（症状共起ペアのTFIDFデータ）の疾患MeSHを用いた\n",
    "zhou_disease_df = pd.read_table(sup_3, engine=\"python\")[\"MeSH Disease Term\"]\n",
    "zhou_disease = zhou_disease_df.unique().tolist()\n",
    "\n",
    "#アップデートしたHSDNの疾患MeSH\n",
    "hsdn_disease = ranking.unique().tolist()\n",
    "\n",
    "print(len(zhou_disease), len(hsdn_disease))"
   ]
  },
  {
   "cell_type": "code",
   "execution_count": 14,
   "id": "dc3712b5",
   "metadata": {
    "scrolled": true
   },
   "outputs": [
    {
     "name": "stdout",
     "output_type": "stream",
     "text": [
      "4218 4716\n"
     ]
    }
   ],
   "source": [
    "#MeSHの名前が変更しているかもしれないためIDにしておく\n",
    "zhou_id = list(set([ z_s[0] for z_i in zhou_disease for z_s in disease_mesh_11  if z_i == z_s[1] ]))\n",
    "hsdn_id = list(set([ s[0] for i in hsdn_disease for s in disease_mesh  if i == s[1] ]))\n",
    "print(len(zhou_id),len(hsdn_id))"
   ]
  },
  {
   "cell_type": "code",
   "execution_count": 15,
   "id": "eb5bc743",
   "metadata": {
    "scrolled": true
   },
   "outputs": [
    {
     "name": "stdout",
     "output_type": "stream",
     "text": [
      "zhou, hsdn共通疾患MeSH_ID: 4194\n",
      "zhouのみにある疾患MeSH_ID: 24\n",
      "hsdnのみにある疾患MeSH_ID: 522\n"
     ]
    }
   ],
   "source": [
    "#zhou_id　とhsdn_id　を比較. 差分や共通要素となるIDを取得\n",
    "common = list(set(zhou_id)& set(hsdn_id))\n",
    "only_zhou = list(set(zhou_id)- set(hsdn_id))\n",
    "only_hsdn = list(set(hsdn_id)- set(zhou_id))\n",
    "print(\"zhou, hsdn共通疾患MeSH_ID:\", len(common))\n",
    "print(\"zhouのみにある疾患MeSH_ID:\", len(only_zhou))\n",
    "print(\"hsdnのみにある疾患MeSH_ID:\", len(only_hsdn))"
   ]
  },
  {
   "cell_type": "code",
   "execution_count": 16,
   "id": "b8bb70dd",
   "metadata": {},
   "outputs": [],
   "source": [
    "#差分\n",
    "def compare(a_list, b_list):\n",
    "    col_name = [\"id\", \"disease\"]\n",
    "    a = pd.DataFrame(a_list, columns=col_name)    #2011MeSHにあるもの\n",
    "    b = pd.DataFrame(b_list, columns=col_name)    #2021MeSHにあるもの\n",
    "    c = pd.merge(a, b, on=col_name)    #2011, 2021どちらにもあるもの\n",
    "    \n",
    "    d = pd.concat([a,c], axis=0)\n",
    "    d_ = d.drop_duplicates(keep=False)    #2011にしかないもの\n",
    "    \n",
    "    e = pd.concat([b,c], axis=0) \n",
    "    e_ = e.drop_duplicates(keep=False)   #2021にしかないもの\n",
    "    \n",
    "    print(\"In 2011MeSH: \", len(a))\n",
    "    print(\"In 2021MeSH: \",len(b))\n",
    "    print(\"In 2011&2021MeSH:\", len(c))\n",
    "    print(\"2011MeSHにしかないもの:\", len(d_))\n",
    "    print(\"2021MeSHにしかないもの:\",len(e_))\n",
    "    print()"
   ]
  },
  {
   "cell_type": "code",
   "execution_count": 17,
   "id": "4c473bc0",
   "metadata": {},
   "outputs": [],
   "source": [
    "# そのネットワークにしかない疾患MeSH_IDから、IDに対応するDescriptor名をMeSHデータから取得\n",
    "def network_only_mesh(network_name, a_list, b_list):\n",
    "    a_list=[]\n",
    "    b_list=[]\n",
    "    for i in network_name:\n",
    "        for s in disease_mesh_11: #MeSH2011\n",
    "            if i == s[0]:\n",
    "                a_list.append([s[0],s[1]])\n",
    "                break\n",
    "        for s in disease_mesh: #2021MeSH\n",
    "            if i == s[0]:\n",
    "                b_list.append([s[0],s[1]])\n",
    "                break\n",
    "    a_list =  sorted(a_list, key=lambda x: x[0])\n",
    "    b_list =  sorted(b_list, key=lambda x: x[0])\n",
    "    \n",
    "    compare(a_list, b_list)"
   ]
  },
  {
   "cell_type": "code",
   "execution_count": 18,
   "id": "cae84fda",
   "metadata": {},
   "outputs": [
    {
     "name": "stdout",
     "output_type": "stream",
     "text": [
      "only_zhou:\n",
      "In 2011MeSH:  24\n",
      "In 2021MeSH:  2\n",
      "In 2011&2021MeSH: 2\n",
      "2011MeSHにしかないもの: 22\n",
      "2021MeSHにしかないもの: 0\n",
      "\n",
      "only_hsdn:\n",
      "In 2011MeSH:  169\n",
      "In 2021MeSH:  522\n",
      "In 2011&2021MeSH: 168\n",
      "2011MeSHにしかないもの: 1\n",
      "2021MeSHにしかないもの: 354\n",
      "\n"
     ]
    }
   ],
   "source": [
    "print(\"only_zhou:\")\n",
    "network_only_mesh(only_zhou, \"only_zhou_with_name_11\", \"only_zhou_with_name_21\")\n",
    "print(\"only_hsdn:\")\n",
    "network_only_mesh(only_hsdn, \"only_hsdn_with_name_11\", \"only_hsdn_with_name_21\")"
   ]
  },
  {
   "cell_type": "markdown",
   "id": "7182dde2",
   "metadata": {
    "scrolled": false
   },
   "source": [
    "#hsdnのみにある疾患MeSH_IDに対応するDescriptor名を取得\n",
    "only_hsdn_with_name_11 = []\n",
    "only_hsdn_with_name_21 = []\n",
    "\n",
    "for i in only_hsdn:\n",
    "    for s in disease_mesh_11:#2011MeSH\n",
    "        if i == s[0]:\n",
    "            only_hsdn_with_name_11.append([s[0],s[1]])\n",
    "            break;\n",
    "    for s in disease_mesh:#2021MeSH\n",
    "        if i == s[0]:\n",
    "            only_hsdn_with_name_21.append([s[0],s[1]])\n",
    "            break;\n",
    "only_hsdn_with_name_11 =  sorted(only_hsdn_with_name_11, key=lambda x: x[0])\n",
    "only_hsdn_with_name_21 =  sorted(only_hsdn_with_name_21, key=lambda x: x[0])\n"
   ]
  },
  {
   "cell_type": "markdown",
   "id": "0b36926a",
   "metadata": {},
   "source": [
    "def compare(name_11, name_12):\n",
    "    col_name = [\"id\", \"disease\"]\n",
    "    a = pd.DataFrame(name_11, columns=col_name)    #2011MeSHにあるもの\n",
    "    b = pd.DataFrame(name_12, columns=col_name)    #2021MeSHにあるもの\n",
    "    c = pd.merge(a, b, on=col_name)    #2011, 2021どちらにもあるもの\n",
    "    d = pd.concat([a,c], axis=0)\n",
    "    d_ = d.drop_duplicates(keep=False)    #2011にしかないもの\n",
    "    e = pd.concat([b,c], axis=0) \n",
    "    e_ = e.drop_duplicates(keep=False)   #2021にしかないもの\n",
    "    print(\"In 2011MeSH: \", len(a))\n",
    "    print(\"In 2021MeSH: \",len(b))\n",
    "    print(\"In 2011&2021MeSH:\", len(c))\n",
    "    print(\"2011MeSHにしかないもの:\", len(d_))\n",
    "    print(\"2021MeSHにしかないもの:\",len(e_))\n",
    "    print()"
   ]
  },
  {
   "cell_type": "markdown",
   "id": "5444f1b2",
   "metadata": {
    "scrolled": true
   },
   "source": [
    "print(\"**only_zhou:\", len(only_zhou))\n",
    "compare(only_zhou_with_name_11, only_zhou_with_name_21)\n",
    "print(\"\\n\",\"**only_hsdn:\", len(only_hsdn))\n",
    "compare(only_hsdn_with_name_11, only_hsdn_with_name_21)"
   ]
  },
  {
   "cell_type": "code",
   "execution_count": null,
   "id": "3717f92d",
   "metadata": {},
   "outputs": [],
   "source": []
  },
  {
   "cell_type": "code",
   "execution_count": 19,
   "id": "d660fd49",
   "metadata": {},
   "outputs": [],
   "source": [
    "#MeSHそのものについて調査\n",
    "#2011MeSH→2021MeSHで変更があったか調べる"
   ]
  },
  {
   "cell_type": "code",
   "execution_count": 20,
   "id": "d01a5c59",
   "metadata": {
    "scrolled": true
   },
   "outputs": [
    {
     "name": "stdout",
     "output_type": "stream",
     "text": [
      "2021_疾患MeSHの数: 4887\n",
      "2011_疾患MeSHの数: 4475 \n",
      "\n",
      "2011, 2021同じ: 4451\n",
      "2021でのみ見られるID: 436\n",
      "2011でのみ見られるID: 24\n"
     ]
    }
   ],
   "source": [
    "disease_id_21 = [i[0] for i in disease_mesh]\n",
    "disease_id_11 = [i_11[0] for i_11 in disease_mesh_11]\n",
    "print(\"2021_疾患MeSHの数:\", len(disease_id_21))\n",
    "print(\"2011_疾患MeSHの数:\", len(disease_id_11), \"\\n\")\n",
    "\n",
    "common = list(set(disease_id_21)& set(disease_id_11))\n",
    "only_21 = list(set(disease_id_21)- set(disease_id_11))\n",
    "only_11 = list(set(disease_id_11)- set(disease_id_21))\n",
    "print(\"2011, 2021同じ:\", len(common))\n",
    "print(\"2021でのみ見られるID:\", len(only_21))\n",
    "print(\"2011でのみ見られるID:\", len(only_11))"
   ]
  },
  {
   "cell_type": "code",
   "execution_count": 21,
   "id": "d8c6d8d3",
   "metadata": {
    "scrolled": true
   },
   "outputs": [
    {
     "name": "stdout",
     "output_type": "stream",
     "text": [
      "only_11:\n",
      "24 [['D004816', 'Epidermal Necrolysis, Toxic'], ['D048949', 'Labor Pain'], ['D001787', 'Blood Group Incompatibility']]\n",
      "only_21:\n",
      "436 [['D000077299', 'Healthcare-Associated Pneumonia'], ['D000071297', 'Acute Retroviral Syndrome'], ['D000079690', 'Postoperative Cognitive Complications']]\n"
     ]
    }
   ],
   "source": [
    "def network_has_mesh(name, c_list, disease_mesh_version):\n",
    "    for i in name:\n",
    "        for s in disease_mesh_version: #MeSH2011\n",
    "            if i == s[0]:\n",
    "                c_list.append([s[0],s[1]])\n",
    "                break\n",
    "    #c_list =  sorted(c_list, key=lambda x: x[0])\n",
    "    print(len(c_list), c_list[:3])\n",
    "\n",
    "#2011にしかないMeSHの詳細（2021では見られなかった疾患MeSH)\n",
    "print(\"only_11:\")\n",
    "disappeared=[]\n",
    "network_has_mesh(only_11, disappeared, disease_mesh_11)\n",
    "\n",
    "#2021にしかないMeSHの詳細（2011では見られなかった疾患MeSH)\n",
    "print(\"only_21:\")\n",
    "appeared=[]\n",
    "network_has_mesh(only_21, appeared, disease_mesh)"
   ]
  },
  {
   "cell_type": "code",
   "execution_count": 22,
   "id": "af84d9a5",
   "metadata": {
    "scrolled": true
   },
   "outputs": [
    {
     "name": "stdout",
     "output_type": "stream",
     "text": [
      "254\n",
      "example: [['D000087122', 'Mania'], ['D000086982', 'Blood-Borne Infections'], ['D000086966', 'Bacterial Zoonoses'], ['D000086965', 'Viral Zoonoses'], ['D000086582', 'Anosmia']]\n"
     ]
    }
   ],
   "source": [
    "#新しく登場したMeSHのうち最近のもの（桁が多い：10(D＋9)桁、　これまでは7(D＋6)桁）を取得\n",
    "new_disease = sorted([i for i in appeared  if len(i[0])>7 ], reverse=True)\n",
    "print(len(new_disease))\n",
    "print(\"example:\", new_disease[:5])"
   ]
  },
  {
   "cell_type": "code",
   "execution_count": 27,
   "id": "d4286ce7",
   "metadata": {},
   "outputs": [
    {
     "data": {
      "text/plain": [
       "[]"
      ]
     },
     "execution_count": 27,
     "metadata": {},
     "output_type": "execute_result"
    }
   ],
   "source": [
    "#2011MeSH\n",
    "[ term for term in disease_id_11 if len(term[0])>7 ]"
   ]
  },
  {
   "cell_type": "code",
   "execution_count": 23,
   "id": "e69d4235",
   "metadata": {},
   "outputs": [],
   "source": [
    "co_occ = pd.read_csv(path_1+file_co_occ)#カット前ペア\n",
    "cutoff = pd.read_csv(path_1+file_cutoff)#カット後ペア"
   ]
  },
  {
   "cell_type": "code",
   "execution_count": 24,
   "id": "1def783d",
   "metadata": {},
   "outputs": [],
   "source": [
    "#新しい疾患のうち, 症状と共起しているものはあるか. \n",
    "#ペアカット前後の共起件数\n",
    "\n",
    "target_new_disease_list = []\n",
    "for target_d in new_disease:\n",
    "    target_new_disease_list.append([target_d[0], target_d[1], len(co_occ[co_occ[\"disease\"]==target_d[1]]), len(cutoff[cutoff[\"disease\"]==target_d[1]])])\n",
    "target_new_disease_df = pd.DataFrame(target_new_disease_list, \n",
    "                                     columns=[\"id\", \n",
    "                                              \"new_disease\", \n",
    "                                              \"co_occ_num(before_cut)\", \n",
    "                                              \"co_occ_num(after_cut)\"])  "
   ]
  },
  {
   "cell_type": "code",
   "execution_count": 25,
   "id": "5ee9eca8",
   "metadata": {},
   "outputs": [
    {
     "data": {
      "text/html": [
       "<div>\n",
       "<style scoped>\n",
       "    .dataframe tbody tr th:only-of-type {\n",
       "        vertical-align: middle;\n",
       "    }\n",
       "\n",
       "    .dataframe tbody tr th {\n",
       "        vertical-align: top;\n",
       "    }\n",
       "\n",
       "    .dataframe thead th {\n",
       "        text-align: right;\n",
       "    }\n",
       "</style>\n",
       "<table border=\"1\" class=\"dataframe\">\n",
       "  <thead>\n",
       "    <tr style=\"text-align: right;\">\n",
       "      <th></th>\n",
       "      <th>id</th>\n",
       "      <th>new_disease</th>\n",
       "      <th>co_occ_num(before_cut)</th>\n",
       "      <th>co_occ_num(after_cut)</th>\n",
       "    </tr>\n",
       "  </thead>\n",
       "  <tbody>\n",
       "    <tr>\n",
       "      <th>0</th>\n",
       "      <td>D000087122</td>\n",
       "      <td>Mania</td>\n",
       "      <td>0</td>\n",
       "      <td>0</td>\n",
       "    </tr>\n",
       "    <tr>\n",
       "      <th>1</th>\n",
       "      <td>D000086982</td>\n",
       "      <td>Blood-Borne Infections</td>\n",
       "      <td>0</td>\n",
       "      <td>0</td>\n",
       "    </tr>\n",
       "    <tr>\n",
       "      <th>2</th>\n",
       "      <td>D000086966</td>\n",
       "      <td>Bacterial Zoonoses</td>\n",
       "      <td>0</td>\n",
       "      <td>0</td>\n",
       "    </tr>\n",
       "    <tr>\n",
       "      <th>3</th>\n",
       "      <td>D000086965</td>\n",
       "      <td>Viral Zoonoses</td>\n",
       "      <td>0</td>\n",
       "      <td>0</td>\n",
       "    </tr>\n",
       "    <tr>\n",
       "      <th>4</th>\n",
       "      <td>D000086582</td>\n",
       "      <td>Anosmia</td>\n",
       "      <td>0</td>\n",
       "      <td>0</td>\n",
       "    </tr>\n",
       "    <tr>\n",
       "      <th>...</th>\n",
       "      <td>...</td>\n",
       "      <td>...</td>\n",
       "      <td>...</td>\n",
       "      <td>...</td>\n",
       "    </tr>\n",
       "    <tr>\n",
       "      <th>249</th>\n",
       "      <td>D000067329</td>\n",
       "      <td>Obesity, Metabolically Benign</td>\n",
       "      <td>15</td>\n",
       "      <td>10</td>\n",
       "    </tr>\n",
       "    <tr>\n",
       "      <th>250</th>\n",
       "      <td>D000067251</td>\n",
       "      <td>Symptom Flare Up</td>\n",
       "      <td>17</td>\n",
       "      <td>16</td>\n",
       "    </tr>\n",
       "    <tr>\n",
       "      <th>251</th>\n",
       "      <td>D000067208</td>\n",
       "      <td>Shellfish Hypersensitivity</td>\n",
       "      <td>0</td>\n",
       "      <td>0</td>\n",
       "    </tr>\n",
       "    <tr>\n",
       "      <th>252</th>\n",
       "      <td>D000067073</td>\n",
       "      <td>Psychological Trauma</td>\n",
       "      <td>33</td>\n",
       "      <td>17</td>\n",
       "    </tr>\n",
       "    <tr>\n",
       "      <th>253</th>\n",
       "      <td>D000067011</td>\n",
       "      <td>Severe Acute Malnutrition</td>\n",
       "      <td>10</td>\n",
       "      <td>7</td>\n",
       "    </tr>\n",
       "  </tbody>\n",
       "</table>\n",
       "<p>254 rows × 4 columns</p>\n",
       "</div>"
      ],
      "text/plain": [
       "             id                    new_disease  co_occ_num(before_cut)  \\\n",
       "0    D000087122                          Mania                       0   \n",
       "1    D000086982         Blood-Borne Infections                       0   \n",
       "2    D000086966             Bacterial Zoonoses                       0   \n",
       "3    D000086965                 Viral Zoonoses                       0   \n",
       "4    D000086582                        Anosmia                       0   \n",
       "..          ...                            ...                     ...   \n",
       "249  D000067329  Obesity, Metabolically Benign                      15   \n",
       "250  D000067251               Symptom Flare Up                      17   \n",
       "251  D000067208     Shellfish Hypersensitivity                       0   \n",
       "252  D000067073           Psychological Trauma                      33   \n",
       "253  D000067011      Severe Acute Malnutrition                      10   \n",
       "\n",
       "     co_occ_num(after_cut)  \n",
       "0                        0  \n",
       "1                        0  \n",
       "2                        0  \n",
       "3                        0  \n",
       "4                        0  \n",
       "..                     ...  \n",
       "249                     10  \n",
       "250                     16  \n",
       "251                      0  \n",
       "252                     17  \n",
       "253                      7  \n",
       "\n",
       "[254 rows x 4 columns]"
      ]
     },
     "execution_count": 25,
     "metadata": {},
     "output_type": "execute_result"
    }
   ],
   "source": [
    "target_new_disease_df\n",
    "#D000067011 --> Date of Entry: 2015/07/01, Revision Date: 2014/10/15\n",
    "#https://meshb.nlm.nih.gov/record/ui?ui=D000067011"
   ]
  },
  {
   "cell_type": "code",
   "execution_count": 28,
   "id": "e29cae8a",
   "metadata": {},
   "outputs": [
    {
     "data": {
      "text/html": [
       "<div>\n",
       "<style scoped>\n",
       "    .dataframe tbody tr th:only-of-type {\n",
       "        vertical-align: middle;\n",
       "    }\n",
       "\n",
       "    .dataframe tbody tr th {\n",
       "        vertical-align: top;\n",
       "    }\n",
       "\n",
       "    .dataframe thead th {\n",
       "        text-align: right;\n",
       "    }\n",
       "</style>\n",
       "<table border=\"1\" class=\"dataframe\">\n",
       "  <thead>\n",
       "    <tr style=\"text-align: right;\">\n",
       "      <th></th>\n",
       "      <th>id</th>\n",
       "      <th>new_disease</th>\n",
       "      <th>co_occ_num(before_cut)</th>\n",
       "      <th>co_occ_num(after_cut)</th>\n",
       "    </tr>\n",
       "  </thead>\n",
       "  <tbody>\n",
       "    <tr>\n",
       "      <th>5</th>\n",
       "      <td>D000086382</td>\n",
       "      <td>COVID-19</td>\n",
       "      <td>0</td>\n",
       "      <td>0</td>\n",
       "    </tr>\n",
       "  </tbody>\n",
       "</table>\n",
       "</div>"
      ],
      "text/plain": [
       "           id new_disease  co_occ_num(before_cut)  co_occ_num(after_cut)\n",
       "5  D000086382    COVID-19                       0                      0"
      ]
     },
     "execution_count": 28,
     "metadata": {},
     "output_type": "execute_result"
    }
   ],
   "source": [
    "target_new_disease_df[target_new_disease_df[\"new_disease\"]==\"COVID-19\"]"
   ]
  },
  {
   "cell_type": "markdown",
   "id": "5bba9791",
   "metadata": {
    "scrolled": true
   },
   "source": [
    "target_new_disease_df.to_csv(\"new_disease.csv\", index=False)"
   ]
  },
  {
   "cell_type": "code",
   "execution_count": null,
   "id": "3ca1ffc6",
   "metadata": {},
   "outputs": [],
   "source": []
  }
 ],
 "metadata": {
  "kernelspec": {
   "display_name": "Python 3",
   "language": "python",
   "name": "python3"
  },
  "language_info": {
   "codemirror_mode": {
    "name": "ipython",
    "version": 3
   },
   "file_extension": ".py",
   "mimetype": "text/x-python",
   "name": "python",
   "nbconvert_exporter": "python",
   "pygments_lexer": "ipython3",
   "version": "3.8.8"
  }
 },
 "nbformat": 4,
 "nbformat_minor": 5
}
