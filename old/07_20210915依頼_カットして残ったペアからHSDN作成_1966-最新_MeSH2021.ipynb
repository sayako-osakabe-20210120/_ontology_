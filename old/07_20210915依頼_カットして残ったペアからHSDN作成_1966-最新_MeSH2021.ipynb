{
 "cells": [
  {
   "cell_type": "code",
   "execution_count": 1,
   "metadata": {},
   "outputs": [],
   "source": [
    "#from collections import OrderedDict\n",
    "#import collections\n",
    "#from collections import Counter\n",
    "\n",
    "import os\n",
    "import pickle\n",
    "import glob\n",
    "import gzip\n",
    "from tqdm.notebook import tqdm\n",
    "import pandas as pd\n",
    "import numpy as np\n",
    "import networkx as nx\n",
    "import matplotlib.pyplot as plt\n",
    "import matplotlib.cm as cm"
   ]
  },
  {
   "cell_type": "code",
   "execution_count": 2,
   "metadata": {},
   "outputs": [
    {
     "data": {
      "text/plain": [
       "'/home/admin_user'"
      ]
     },
     "execution_count": 2,
     "metadata": {},
     "output_type": "execute_result"
    }
   ],
   "source": [
    "os.getcwd()"
   ]
  },
  {
   "cell_type": "code",
   "execution_count": 3,
   "metadata": {},
   "outputs": [],
   "source": [
    "filename_mesh = 'mesh_list_2021.pickle'\n",
    "\n",
    "filename_1 = \"merge_limited_df_cutoff_pair.csv\" #cutoff\n",
    "filename_2 = \"merge_limited_df.csv\""
   ]
  },
  {
   "cell_type": "code",
   "execution_count": 4,
   "metadata": {
    "scrolled": true
   },
   "outputs": [
    {
     "data": {
      "application/vnd.jupyter.widget-view+json": {
       "model_id": "7e6ebf7c61b841668df7d738602b473e",
       "version_major": 2,
       "version_minor": 0
      },
      "text/plain": [
       "  0%|          | 0/29917 [00:00<?, ?it/s]"
      ]
     },
     "metadata": {},
     "output_type": "display_data"
    },
    {
     "data": {
      "application/vnd.jupyter.widget-view+json": {
       "model_id": "05effe2cf4924318b96ce578270e8859",
       "version_major": 2,
       "version_minor": 0
      },
      "text/plain": [
       "  0%|          | 0/29917 [00:00<?, ?it/s]"
      ]
     },
     "metadata": {},
     "output_type": "display_data"
    },
    {
     "data": {
      "text/plain": [
       "(29917, 4887, 394)"
      ]
     },
     "execution_count": 4,
     "metadata": {},
     "output_type": "execute_result"
    }
   ],
   "source": [
    "#MeSH 読込\n",
    "with open(filename_mesh, 'rb') as f:\n",
    "    mesh_list = pickle.load(f)\n",
    "\n",
    "#メッシュから　メッシュIDと疾患/症状メッシュ、TreeNumber を取り出す\n",
    "#疾患メッシュ：Cのうち C22（動物)とC23.888（症状）を除外したもの）＋F03（精神障害）\n",
    "#症状メッシュ：C23.888\n",
    "mesh_diseases = [descriptor for descriptor in tqdm(mesh_list) for uid in descriptor[-1] if ((uid.startswith(\"C\")==True) & (uid.startswith(\"C22\")!=True)&(uid.startswith(\"C23.888\")!=True)) | (uid.startswith(\"F03\")==True) ]\n",
    "mesh_symptoms = [descriptor for descriptor in tqdm(mesh_list)  for uid in descriptor[-1] if (uid.startswith(\"C23.888\")==True)]\n",
    "#さらにメッシュ名だけにする＋重複削除\n",
    "mesh_diseases= pd.DataFrame(mesh_diseases)[1].drop_duplicates(keep='last').reset_index(drop=True).values.tolist()\n",
    "mesh_symptoms= pd.DataFrame(mesh_symptoms)[1].drop_duplicates(keep='last').reset_index(drop=True).values.tolist()\n",
    "\n",
    "len(mesh_list),len(mesh_diseases), len(mesh_symptoms)"
   ]
  },
  {
   "cell_type": "code",
   "execution_count": 5,
   "metadata": {},
   "outputs": [],
   "source": [
    "os.chdir('/home/admin_user/デスクトップ/pubmed_after_cutoff')\n",
    "co_occ_pair = pd.read_csv(filename_1)\n",
    "co_occ_pair =co_occ_pair[['symptom', 'disease', 'co_occurrence']]"
   ]
  },
  {
   "cell_type": "code",
   "execution_count": 6,
   "metadata": {},
   "outputs": [],
   "source": [
    "#TF-IDF計算"
   ]
  },
  {
   "cell_type": "code",
   "execution_count": 7,
   "metadata": {},
   "outputs": [
    {
     "data": {
      "text/plain": [
       "384"
      ]
     },
     "execution_count": 7,
     "metadata": {},
     "output_type": "execute_result"
    }
   ],
   "source": [
    "#symptomとペアになるdisease総数\n",
    "idf_n_i = co_occ_pair.groupby(\"symptom\").count().reset_index()[[\"symptom\", \"disease\"]].values.tolist()\n",
    "len(idf_n_i)"
   ]
  },
  {
   "cell_type": "code",
   "execution_count": 8,
   "metadata": {},
   "outputs": [
    {
     "data": {
      "application/vnd.jupyter.widget-view+json": {
       "model_id": "235251870c304b6f9e0a9fb9953d32b3",
       "version_major": 2,
       "version_minor": 0
      },
      "text/plain": [
       "  0%|          | 0/87808 [00:00<?, ?it/s]"
      ]
     },
     "metadata": {},
     "output_type": "display_data"
    }
   ],
   "source": [
    "\n",
    "tfidf_list=[]\n",
    "N = co_occ_pair[\"disease\"].nunique() #3602 #全疾患の種類数\n",
    "\n",
    "for pair in tqdm(co_occ_pair.values.tolist()): #co_occ_pair：共起ペアと共起数\n",
    "    for symptom in idf_n_i: #idf_n_i：symptomとdisease総数\n",
    "        \n",
    "        if pair[0]==symptom[0]: #同じsymptomだったら\n",
    "            \n",
    "            #バラバシ数式\n",
    "            W_ij = pair[-1] #diseaseとの共起数\n",
    "            n_i = symptom[1] #symptomとペアになるdisease総数\n",
    "            tfidf_value = W_ij*np.log(N /n_i) \n",
    "            \n",
    "            tfidf_list.append([pair[0],  pair[1], W_ij, n_i, tfidf_value])\n",
    "\n",
    "tfidf = pd.DataFrame(tfidf_list, columns=[\"symptom\",\"disease\",\"co_occurence\", \"disease_num\", \"tf_idf\"])\n",
    "#disease_num：symptomとペアになるdisease総数\n",
    "tfidf = tfidf.sort_values(by=\"tf_idf\", ascending=False).reset_index(drop=True)\n"
   ]
  },
  {
   "cell_type": "code",
   "execution_count": 9,
   "metadata": {},
   "outputs": [
    {
     "data": {
      "text/plain": [
       "{'Amnesia, Transient Global'}"
      ]
     },
     "execution_count": 9,
     "metadata": {},
     "output_type": "execute_result"
    }
   ],
   "source": [
    "a = []\n",
    "for i  in tfidf[\"disease\"]:\n",
    "    if \"Global\" in i:\n",
    "        a.append(i)\n",
    "set(a)"
   ]
  },
  {
   "cell_type": "code",
   "execution_count": 10,
   "metadata": {},
   "outputs": [
    {
     "data": {
      "text/plain": [
       "(87808, 384, 4662)"
      ]
     },
     "execution_count": 10,
     "metadata": {},
     "output_type": "execute_result"
    }
   ],
   "source": [
    "len(tfidf), tfidf[\"symptom\"].nunique(), tfidf[\"disease\"].nunique()"
   ]
  },
  {
   "cell_type": "code",
   "execution_count": 11,
   "metadata": {},
   "outputs": [],
   "source": [
    "#行列の形にする\n",
    "pivot_tfidf_df = tfidf.pivot(index='disease', columns='symptom', values='tf_idf').fillna(0)"
   ]
  },
  {
   "cell_type": "code",
   "execution_count": 39,
   "metadata": {},
   "outputs": [
    {
     "data": {
      "text/html": [
       "<div>\n",
       "<style scoped>\n",
       "    .dataframe tbody tr th:only-of-type {\n",
       "        vertical-align: middle;\n",
       "    }\n",
       "\n",
       "    .dataframe tbody tr th {\n",
       "        vertical-align: top;\n",
       "    }\n",
       "\n",
       "    .dataframe thead th {\n",
       "        text-align: right;\n",
       "    }\n",
       "</style>\n",
       "<table border=\"1\" class=\"dataframe\">\n",
       "  <thead>\n",
       "    <tr style=\"text-align: right;\">\n",
       "      <th>symptom</th>\n",
       "      <th>Abdomen, Acute</th>\n",
       "      <th>Abdominal Pain</th>\n",
       "      <th>Acute Pain</th>\n",
       "      <th>Aerophagy</th>\n",
       "      <th>Ageusia</th>\n",
       "      <th>Aging, Premature</th>\n",
       "      <th>Agnosia</th>\n",
       "      <th>Agraphia</th>\n",
       "      <th>Akathisia, Drug-Induced</th>\n",
       "      <th>Albuminuria</th>\n",
       "      <th>...</th>\n",
       "      <th>Visceral Pain</th>\n",
       "      <th>Vision Disorders</th>\n",
       "      <th>Vision, Low</th>\n",
       "      <th>Vocal Cord Paralysis</th>\n",
       "      <th>Voice Disorders</th>\n",
       "      <th>Vomiting</th>\n",
       "      <th>Vomiting, Anticipatory</th>\n",
       "      <th>Waterhouse-Friderichsen Syndrome</th>\n",
       "      <th>Weight Gain</th>\n",
       "      <th>Weight Loss</th>\n",
       "    </tr>\n",
       "    <tr>\n",
       "      <th>disease</th>\n",
       "      <th></th>\n",
       "      <th></th>\n",
       "      <th></th>\n",
       "      <th></th>\n",
       "      <th></th>\n",
       "      <th></th>\n",
       "      <th></th>\n",
       "      <th></th>\n",
       "      <th></th>\n",
       "      <th></th>\n",
       "      <th></th>\n",
       "      <th></th>\n",
       "      <th></th>\n",
       "      <th></th>\n",
       "      <th></th>\n",
       "      <th></th>\n",
       "      <th></th>\n",
       "      <th></th>\n",
       "      <th></th>\n",
       "      <th></th>\n",
       "      <th></th>\n",
       "    </tr>\n",
       "  </thead>\n",
       "  <tbody>\n",
       "    <tr>\n",
       "      <th>22q11 Deletion Syndrome</th>\n",
       "      <td>0.000000</td>\n",
       "      <td>0.000000</td>\n",
       "      <td>0.0</td>\n",
       "      <td>0.0</td>\n",
       "      <td>0.0</td>\n",
       "      <td>0.0</td>\n",
       "      <td>0.0</td>\n",
       "      <td>0.0</td>\n",
       "      <td>0.0</td>\n",
       "      <td>0.0</td>\n",
       "      <td>...</td>\n",
       "      <td>0.0</td>\n",
       "      <td>0.000000</td>\n",
       "      <td>0.000000</td>\n",
       "      <td>0.0</td>\n",
       "      <td>0.0</td>\n",
       "      <td>0.000000</td>\n",
       "      <td>0.0</td>\n",
       "      <td>0.0</td>\n",
       "      <td>0.0</td>\n",
       "      <td>0.0</td>\n",
       "    </tr>\n",
       "    <tr>\n",
       "      <th>46, XX Disorders of Sex Development</th>\n",
       "      <td>2.045283</td>\n",
       "      <td>0.000000</td>\n",
       "      <td>0.0</td>\n",
       "      <td>0.0</td>\n",
       "      <td>0.0</td>\n",
       "      <td>0.0</td>\n",
       "      <td>0.0</td>\n",
       "      <td>0.0</td>\n",
       "      <td>0.0</td>\n",
       "      <td>0.0</td>\n",
       "      <td>...</td>\n",
       "      <td>0.0</td>\n",
       "      <td>0.000000</td>\n",
       "      <td>0.000000</td>\n",
       "      <td>0.0</td>\n",
       "      <td>0.0</td>\n",
       "      <td>0.000000</td>\n",
       "      <td>0.0</td>\n",
       "      <td>0.0</td>\n",
       "      <td>0.0</td>\n",
       "      <td>0.0</td>\n",
       "    </tr>\n",
       "    <tr>\n",
       "      <th>ACTH Syndrome, Ectopic</th>\n",
       "      <td>0.000000</td>\n",
       "      <td>0.000000</td>\n",
       "      <td>0.0</td>\n",
       "      <td>0.0</td>\n",
       "      <td>0.0</td>\n",
       "      <td>0.0</td>\n",
       "      <td>0.0</td>\n",
       "      <td>0.0</td>\n",
       "      <td>0.0</td>\n",
       "      <td>0.0</td>\n",
       "      <td>...</td>\n",
       "      <td>0.0</td>\n",
       "      <td>0.000000</td>\n",
       "      <td>0.000000</td>\n",
       "      <td>0.0</td>\n",
       "      <td>0.0</td>\n",
       "      <td>0.000000</td>\n",
       "      <td>0.0</td>\n",
       "      <td>0.0</td>\n",
       "      <td>0.0</td>\n",
       "      <td>0.0</td>\n",
       "    </tr>\n",
       "    <tr>\n",
       "      <th>ACTH-Secreting Pituitary Adenoma</th>\n",
       "      <td>0.000000</td>\n",
       "      <td>0.000000</td>\n",
       "      <td>0.0</td>\n",
       "      <td>0.0</td>\n",
       "      <td>0.0</td>\n",
       "      <td>0.0</td>\n",
       "      <td>0.0</td>\n",
       "      <td>0.0</td>\n",
       "      <td>0.0</td>\n",
       "      <td>0.0</td>\n",
       "      <td>...</td>\n",
       "      <td>0.0</td>\n",
       "      <td>1.598134</td>\n",
       "      <td>0.000000</td>\n",
       "      <td>0.0</td>\n",
       "      <td>0.0</td>\n",
       "      <td>0.000000</td>\n",
       "      <td>0.0</td>\n",
       "      <td>0.0</td>\n",
       "      <td>0.0</td>\n",
       "      <td>0.0</td>\n",
       "    </tr>\n",
       "    <tr>\n",
       "      <th>AIDS Arteritis, Central Nervous System</th>\n",
       "      <td>0.000000</td>\n",
       "      <td>0.000000</td>\n",
       "      <td>0.0</td>\n",
       "      <td>0.0</td>\n",
       "      <td>0.0</td>\n",
       "      <td>0.0</td>\n",
       "      <td>0.0</td>\n",
       "      <td>0.0</td>\n",
       "      <td>0.0</td>\n",
       "      <td>0.0</td>\n",
       "      <td>...</td>\n",
       "      <td>0.0</td>\n",
       "      <td>0.000000</td>\n",
       "      <td>0.000000</td>\n",
       "      <td>0.0</td>\n",
       "      <td>0.0</td>\n",
       "      <td>0.000000</td>\n",
       "      <td>0.0</td>\n",
       "      <td>0.0</td>\n",
       "      <td>0.0</td>\n",
       "      <td>0.0</td>\n",
       "    </tr>\n",
       "    <tr>\n",
       "      <th>...</th>\n",
       "      <td>...</td>\n",
       "      <td>...</td>\n",
       "      <td>...</td>\n",
       "      <td>...</td>\n",
       "      <td>...</td>\n",
       "      <td>...</td>\n",
       "      <td>...</td>\n",
       "      <td>...</td>\n",
       "      <td>...</td>\n",
       "      <td>...</td>\n",
       "      <td>...</td>\n",
       "      <td>...</td>\n",
       "      <td>...</td>\n",
       "      <td>...</td>\n",
       "      <td>...</td>\n",
       "      <td>...</td>\n",
       "      <td>...</td>\n",
       "      <td>...</td>\n",
       "      <td>...</td>\n",
       "      <td>...</td>\n",
       "      <td>...</td>\n",
       "    </tr>\n",
       "    <tr>\n",
       "      <th>von Hippel-Lindau Disease</th>\n",
       "      <td>0.000000</td>\n",
       "      <td>0.000000</td>\n",
       "      <td>0.0</td>\n",
       "      <td>0.0</td>\n",
       "      <td>0.0</td>\n",
       "      <td>0.0</td>\n",
       "      <td>0.0</td>\n",
       "      <td>0.0</td>\n",
       "      <td>0.0</td>\n",
       "      <td>0.0</td>\n",
       "      <td>...</td>\n",
       "      <td>0.0</td>\n",
       "      <td>22.373870</td>\n",
       "      <td>5.949858</td>\n",
       "      <td>0.0</td>\n",
       "      <td>0.0</td>\n",
       "      <td>0.000000</td>\n",
       "      <td>0.0</td>\n",
       "      <td>0.0</td>\n",
       "      <td>0.0</td>\n",
       "      <td>0.0</td>\n",
       "    </tr>\n",
       "    <tr>\n",
       "      <th>von Willebrand Disease, Type 1</th>\n",
       "      <td>0.000000</td>\n",
       "      <td>0.000000</td>\n",
       "      <td>0.0</td>\n",
       "      <td>0.0</td>\n",
       "      <td>0.0</td>\n",
       "      <td>0.0</td>\n",
       "      <td>0.0</td>\n",
       "      <td>0.0</td>\n",
       "      <td>0.0</td>\n",
       "      <td>0.0</td>\n",
       "      <td>...</td>\n",
       "      <td>0.0</td>\n",
       "      <td>0.000000</td>\n",
       "      <td>0.000000</td>\n",
       "      <td>0.0</td>\n",
       "      <td>0.0</td>\n",
       "      <td>0.000000</td>\n",
       "      <td>0.0</td>\n",
       "      <td>0.0</td>\n",
       "      <td>0.0</td>\n",
       "      <td>0.0</td>\n",
       "    </tr>\n",
       "    <tr>\n",
       "      <th>von Willebrand Disease, Type 2</th>\n",
       "      <td>2.045283</td>\n",
       "      <td>1.482119</td>\n",
       "      <td>0.0</td>\n",
       "      <td>0.0</td>\n",
       "      <td>0.0</td>\n",
       "      <td>0.0</td>\n",
       "      <td>0.0</td>\n",
       "      <td>0.0</td>\n",
       "      <td>0.0</td>\n",
       "      <td>0.0</td>\n",
       "      <td>...</td>\n",
       "      <td>0.0</td>\n",
       "      <td>0.000000</td>\n",
       "      <td>0.000000</td>\n",
       "      <td>0.0</td>\n",
       "      <td>0.0</td>\n",
       "      <td>1.752638</td>\n",
       "      <td>0.0</td>\n",
       "      <td>0.0</td>\n",
       "      <td>0.0</td>\n",
       "      <td>0.0</td>\n",
       "    </tr>\n",
       "    <tr>\n",
       "      <th>von Willebrand Disease, Type 3</th>\n",
       "      <td>0.000000</td>\n",
       "      <td>1.482119</td>\n",
       "      <td>0.0</td>\n",
       "      <td>0.0</td>\n",
       "      <td>0.0</td>\n",
       "      <td>0.0</td>\n",
       "      <td>0.0</td>\n",
       "      <td>0.0</td>\n",
       "      <td>0.0</td>\n",
       "      <td>0.0</td>\n",
       "      <td>...</td>\n",
       "      <td>0.0</td>\n",
       "      <td>0.000000</td>\n",
       "      <td>0.000000</td>\n",
       "      <td>0.0</td>\n",
       "      <td>0.0</td>\n",
       "      <td>0.000000</td>\n",
       "      <td>0.0</td>\n",
       "      <td>0.0</td>\n",
       "      <td>0.0</td>\n",
       "      <td>0.0</td>\n",
       "    </tr>\n",
       "    <tr>\n",
       "      <th>von Willebrand Diseases</th>\n",
       "      <td>0.000000</td>\n",
       "      <td>0.000000</td>\n",
       "      <td>0.0</td>\n",
       "      <td>0.0</td>\n",
       "      <td>0.0</td>\n",
       "      <td>0.0</td>\n",
       "      <td>0.0</td>\n",
       "      <td>0.0</td>\n",
       "      <td>0.0</td>\n",
       "      <td>0.0</td>\n",
       "      <td>...</td>\n",
       "      <td>0.0</td>\n",
       "      <td>0.000000</td>\n",
       "      <td>0.000000</td>\n",
       "      <td>0.0</td>\n",
       "      <td>0.0</td>\n",
       "      <td>0.000000</td>\n",
       "      <td>0.0</td>\n",
       "      <td>0.0</td>\n",
       "      <td>0.0</td>\n",
       "      <td>0.0</td>\n",
       "    </tr>\n",
       "  </tbody>\n",
       "</table>\n",
       "<p>4662 rows × 384 columns</p>\n",
       "</div>"
      ],
      "text/plain": [
       "symptom                                 Abdomen, Acute  Abdominal Pain  \\\n",
       "disease                                                                  \n",
       "22q11 Deletion Syndrome                       0.000000        0.000000   \n",
       "46, XX Disorders of Sex Development           2.045283        0.000000   \n",
       "ACTH Syndrome, Ectopic                        0.000000        0.000000   \n",
       "ACTH-Secreting Pituitary Adenoma              0.000000        0.000000   \n",
       "AIDS Arteritis, Central Nervous System        0.000000        0.000000   \n",
       "...                                                ...             ...   \n",
       "von Hippel-Lindau Disease                     0.000000        0.000000   \n",
       "von Willebrand Disease, Type 1                0.000000        0.000000   \n",
       "von Willebrand Disease, Type 2                2.045283        1.482119   \n",
       "von Willebrand Disease, Type 3                0.000000        1.482119   \n",
       "von Willebrand Diseases                       0.000000        0.000000   \n",
       "\n",
       "symptom                                 Acute Pain  Aerophagy  Ageusia  \\\n",
       "disease                                                                  \n",
       "22q11 Deletion Syndrome                        0.0        0.0      0.0   \n",
       "46, XX Disorders of Sex Development            0.0        0.0      0.0   \n",
       "ACTH Syndrome, Ectopic                         0.0        0.0      0.0   \n",
       "ACTH-Secreting Pituitary Adenoma               0.0        0.0      0.0   \n",
       "AIDS Arteritis, Central Nervous System         0.0        0.0      0.0   \n",
       "...                                            ...        ...      ...   \n",
       "von Hippel-Lindau Disease                      0.0        0.0      0.0   \n",
       "von Willebrand Disease, Type 1                 0.0        0.0      0.0   \n",
       "von Willebrand Disease, Type 2                 0.0        0.0      0.0   \n",
       "von Willebrand Disease, Type 3                 0.0        0.0      0.0   \n",
       "von Willebrand Diseases                        0.0        0.0      0.0   \n",
       "\n",
       "symptom                                 Aging, Premature  Agnosia  Agraphia  \\\n",
       "disease                                                                       \n",
       "22q11 Deletion Syndrome                              0.0      0.0       0.0   \n",
       "46, XX Disorders of Sex Development                  0.0      0.0       0.0   \n",
       "ACTH Syndrome, Ectopic                               0.0      0.0       0.0   \n",
       "ACTH-Secreting Pituitary Adenoma                     0.0      0.0       0.0   \n",
       "AIDS Arteritis, Central Nervous System               0.0      0.0       0.0   \n",
       "...                                                  ...      ...       ...   \n",
       "von Hippel-Lindau Disease                            0.0      0.0       0.0   \n",
       "von Willebrand Disease, Type 1                       0.0      0.0       0.0   \n",
       "von Willebrand Disease, Type 2                       0.0      0.0       0.0   \n",
       "von Willebrand Disease, Type 3                       0.0      0.0       0.0   \n",
       "von Willebrand Diseases                              0.0      0.0       0.0   \n",
       "\n",
       "symptom                                 Akathisia, Drug-Induced  Albuminuria  \\\n",
       "disease                                                                        \n",
       "22q11 Deletion Syndrome                                     0.0          0.0   \n",
       "46, XX Disorders of Sex Development                         0.0          0.0   \n",
       "ACTH Syndrome, Ectopic                                      0.0          0.0   \n",
       "ACTH-Secreting Pituitary Adenoma                            0.0          0.0   \n",
       "AIDS Arteritis, Central Nervous System                      0.0          0.0   \n",
       "...                                                         ...          ...   \n",
       "von Hippel-Lindau Disease                                   0.0          0.0   \n",
       "von Willebrand Disease, Type 1                              0.0          0.0   \n",
       "von Willebrand Disease, Type 2                              0.0          0.0   \n",
       "von Willebrand Disease, Type 3                              0.0          0.0   \n",
       "von Willebrand Diseases                                     0.0          0.0   \n",
       "\n",
       "symptom                                 ...  Visceral Pain  Vision Disorders  \\\n",
       "disease                                 ...                                    \n",
       "22q11 Deletion Syndrome                 ...            0.0          0.000000   \n",
       "46, XX Disorders of Sex Development     ...            0.0          0.000000   \n",
       "ACTH Syndrome, Ectopic                  ...            0.0          0.000000   \n",
       "ACTH-Secreting Pituitary Adenoma        ...            0.0          1.598134   \n",
       "AIDS Arteritis, Central Nervous System  ...            0.0          0.000000   \n",
       "...                                     ...            ...               ...   \n",
       "von Hippel-Lindau Disease               ...            0.0         22.373870   \n",
       "von Willebrand Disease, Type 1          ...            0.0          0.000000   \n",
       "von Willebrand Disease, Type 2          ...            0.0          0.000000   \n",
       "von Willebrand Disease, Type 3          ...            0.0          0.000000   \n",
       "von Willebrand Diseases                 ...            0.0          0.000000   \n",
       "\n",
       "symptom                                 Vision, Low  Vocal Cord Paralysis  \\\n",
       "disease                                                                     \n",
       "22q11 Deletion Syndrome                    0.000000                   0.0   \n",
       "46, XX Disorders of Sex Development        0.000000                   0.0   \n",
       "ACTH Syndrome, Ectopic                     0.000000                   0.0   \n",
       "ACTH-Secreting Pituitary Adenoma           0.000000                   0.0   \n",
       "AIDS Arteritis, Central Nervous System     0.000000                   0.0   \n",
       "...                                             ...                   ...   \n",
       "von Hippel-Lindau Disease                  5.949858                   0.0   \n",
       "von Willebrand Disease, Type 1             0.000000                   0.0   \n",
       "von Willebrand Disease, Type 2             0.000000                   0.0   \n",
       "von Willebrand Disease, Type 3             0.000000                   0.0   \n",
       "von Willebrand Diseases                    0.000000                   0.0   \n",
       "\n",
       "symptom                                 Voice Disorders  Vomiting  \\\n",
       "disease                                                             \n",
       "22q11 Deletion Syndrome                             0.0  0.000000   \n",
       "46, XX Disorders of Sex Development                 0.0  0.000000   \n",
       "ACTH Syndrome, Ectopic                              0.0  0.000000   \n",
       "ACTH-Secreting Pituitary Adenoma                    0.0  0.000000   \n",
       "AIDS Arteritis, Central Nervous System              0.0  0.000000   \n",
       "...                                                 ...       ...   \n",
       "von Hippel-Lindau Disease                           0.0  0.000000   \n",
       "von Willebrand Disease, Type 1                      0.0  0.000000   \n",
       "von Willebrand Disease, Type 2                      0.0  1.752638   \n",
       "von Willebrand Disease, Type 3                      0.0  0.000000   \n",
       "von Willebrand Diseases                             0.0  0.000000   \n",
       "\n",
       "symptom                                 Vomiting, Anticipatory  \\\n",
       "disease                                                          \n",
       "22q11 Deletion Syndrome                                    0.0   \n",
       "46, XX Disorders of Sex Development                        0.0   \n",
       "ACTH Syndrome, Ectopic                                     0.0   \n",
       "ACTH-Secreting Pituitary Adenoma                           0.0   \n",
       "AIDS Arteritis, Central Nervous System                     0.0   \n",
       "...                                                        ...   \n",
       "von Hippel-Lindau Disease                                  0.0   \n",
       "von Willebrand Disease, Type 1                             0.0   \n",
       "von Willebrand Disease, Type 2                             0.0   \n",
       "von Willebrand Disease, Type 3                             0.0   \n",
       "von Willebrand Diseases                                    0.0   \n",
       "\n",
       "symptom                                 Waterhouse-Friderichsen Syndrome  \\\n",
       "disease                                                                    \n",
       "22q11 Deletion Syndrome                                              0.0   \n",
       "46, XX Disorders of Sex Development                                  0.0   \n",
       "ACTH Syndrome, Ectopic                                               0.0   \n",
       "ACTH-Secreting Pituitary Adenoma                                     0.0   \n",
       "AIDS Arteritis, Central Nervous System                               0.0   \n",
       "...                                                                  ...   \n",
       "von Hippel-Lindau Disease                                            0.0   \n",
       "von Willebrand Disease, Type 1                                       0.0   \n",
       "von Willebrand Disease, Type 2                                       0.0   \n",
       "von Willebrand Disease, Type 3                                       0.0   \n",
       "von Willebrand Diseases                                              0.0   \n",
       "\n",
       "symptom                                 Weight Gain  Weight Loss  \n",
       "disease                                                           \n",
       "22q11 Deletion Syndrome                         0.0          0.0  \n",
       "46, XX Disorders of Sex Development             0.0          0.0  \n",
       "ACTH Syndrome, Ectopic                          0.0          0.0  \n",
       "ACTH-Secreting Pituitary Adenoma                0.0          0.0  \n",
       "AIDS Arteritis, Central Nervous System          0.0          0.0  \n",
       "...                                             ...          ...  \n",
       "von Hippel-Lindau Disease                       0.0          0.0  \n",
       "von Willebrand Disease, Type 1                  0.0          0.0  \n",
       "von Willebrand Disease, Type 2                  0.0          0.0  \n",
       "von Willebrand Disease, Type 3                  0.0          0.0  \n",
       "von Willebrand Diseases                         0.0          0.0  \n",
       "\n",
       "[4662 rows x 384 columns]"
      ]
     },
     "execution_count": 39,
     "metadata": {},
     "output_type": "execute_result"
    }
   ],
   "source": [
    "pivot_tfidf_df"
   ]
  },
  {
   "cell_type": "code",
   "execution_count": 12,
   "metadata": {
    "scrolled": true
   },
   "outputs": [
    {
     "data": {
      "text/plain": [
       "4550646.388705483"
      ]
     },
     "execution_count": 12,
     "metadata": {},
     "output_type": "execute_result"
    }
   ],
   "source": [
    "pivot_tfidf_df.sum().sum()"
   ]
  },
  {
   "cell_type": "code",
   "execution_count": null,
   "metadata": {},
   "outputs": [],
   "source": []
  },
  {
   "cell_type": "code",
   "execution_count": 13,
   "metadata": {},
   "outputs": [
    {
     "data": {
      "text/plain": [
       "Text(0, 0.5, 'frequency')"
      ]
     },
     "execution_count": 13,
     "metadata": {},
     "output_type": "execute_result"
    },
    {
     "data": {
      "image/png": "[encoded data removed]",
      "text/plain": [
       "<Figure size 864x288 with 1 Axes>"
      ]
     },
     "metadata": {
      "needs_background": "light"
     },
     "output_type": "display_data"
    }
   ],
   "source": [
    "#疾患・症状のTFIDFがゼロより大きい値を取り出した時の可視化\n",
    "\n",
    "plt.figure(figsize=(12,4))\n",
    "\n",
    "#TFIDFの数\n",
    "#plt.subplot(121)\n",
    "each_disease_sum_vector = [sum(pivot_tfidf_df.loc[disease, :]>0) for disease in pivot_tfidf_df.index]\n",
    "plt.hist(each_disease_sum_vector,color='c', bins=len(set(each_disease_sum_vector)), alpha=0.8)\n",
    "plt.xlabel('sum')\n",
    "plt.ylabel(\"frequency\")\n"
   ]
  },
  {
   "cell_type": "code",
   "execution_count": null,
   "metadata": {},
   "outputs": [],
   "source": []
  },
  {
   "cell_type": "code",
   "execution_count": 14,
   "metadata": {},
   "outputs": [],
   "source": [
    "#コサイン類似度　計算"
   ]
  },
  {
   "cell_type": "code",
   "execution_count": 15,
   "metadata": {},
   "outputs": [
    {
     "name": "stdout",
     "output_type": "stream",
     "text": [
      "4662\n"
     ]
    }
   ],
   "source": [
    "#コサイン算出用データフレームを作る\n",
    "pre_cosine_df = tfidf.sort_values(['symptom', 'disease'])[['symptom', 'disease',\"tf_idf\"]].reset_index(drop=True)\n",
    "pre_cosine_df = pd.pivot_table(pre_cosine_df, index='disease', columns='symptom', values=\"tf_idf\")\n",
    "pre_cosine_df = pre_cosine_df.fillna(0)#欠損値に0を入れる\n",
    "#疾患個数\n",
    "print(len(pre_cosine_df.index))"
   ]
  },
  {
   "cell_type": "code",
   "execution_count": 16,
   "metadata": {},
   "outputs": [
    {
     "name": "stdout",
     "output_type": "stream",
     "text": [
      "21734244\n"
     ]
    },
    {
     "data": {
      "text/plain": [
       "(('22q11 Deletion Syndrome', '22q11 Deletion Syndrome'),\n",
       " ('22q11 Deletion Syndrome', '46, XX Disorders of Sex Development'))"
      ]
     },
     "execution_count": 16,
     "metadata": {},
     "output_type": "execute_result"
    }
   ],
   "source": [
    "#疾患ペア(直積ペア)を作る\n",
    "import itertools\n",
    "product_list = list(itertools.product(pre_cosine_df.index, pre_cosine_df.index))\n",
    "print(len(product_list))\n",
    "product_list[0], product_list[1]"
   ]
  },
  {
   "cell_type": "code",
   "execution_count": 17,
   "metadata": {},
   "outputs": [],
   "source": [
    "#tfidf行列を疾患（＝行）ごとに分けて直積ペアを作る\n",
    "vectors = [each_vectors for each_vectors in np.array(pre_cosine_df)]\n",
    "vectors_list = list(itertools.product(vectors, vectors))"
   ]
  },
  {
   "cell_type": "code",
   "execution_count": 18,
   "metadata": {
    "scrolled": true
   },
   "outputs": [
    {
     "data": {
      "application/vnd.jupyter.widget-view+json": {
       "model_id": "a4d4481cb49e4af39c42622f14c2d72a",
       "version_major": 2,
       "version_minor": 0
      },
      "text/plain": [
       "0it [00:00, ?it/s]"
      ]
     },
     "metadata": {},
     "output_type": "display_data"
    }
   ],
   "source": [
    "#コサイン類似度\n",
    "\n",
    "#NonDecimal\n",
    "#from decimal import Decimal, ROUND_HALF_UP, ROUND_HALF_EVEN\n",
    "\n",
    "#計算式\n",
    "def cosine_similarity(x, y):#xとyはベクトルの成分\n",
    "    return (np.dot(x, y) / (np.sqrt(np.dot(x, x)) * np.sqrt(np.dot(y, y))))\n",
    "    #return Decimal(np.dot(x, y) / (np.sqrt(np.dot(x, x)) * np.sqrt(np.dot(y, y)))).quantize(Decimal('0.000001'),rounding=ROUND_HALF_UP)\n",
    "\n",
    "#直積ペアにコサイン類似度計算を適用 \n",
    "cosine_similarity_list = []\n",
    "for disease_pair, vector in tqdm(zip( product_list, vectors_list )):\n",
    "    cosine_similarity_list.append([disease_pair[0], disease_pair[-1], cosine_similarity(vector[0], vector[1])])"
   ]
  },
  {
   "cell_type": "code",
   "execution_count": 38,
   "metadata": {},
   "outputs": [
    {
     "data": {
      "text/html": [
       "<div>\n",
       "<style scoped>\n",
       "    .dataframe tbody tr th:only-of-type {\n",
       "        vertical-align: middle;\n",
       "    }\n",
       "\n",
       "    .dataframe tbody tr th {\n",
       "        vertical-align: top;\n",
       "    }\n",
       "\n",
       "    .dataframe thead th {\n",
       "        text-align: right;\n",
       "    }\n",
       "</style>\n",
       "<table border=\"1\" class=\"dataframe\">\n",
       "  <thead>\n",
       "    <tr style=\"text-align: right;\">\n",
       "      <th>disease_2</th>\n",
       "      <th>22q11 Deletion Syndrome</th>\n",
       "      <th>46, XX Disorders of Sex Development</th>\n",
       "      <th>ACTH Syndrome, Ectopic</th>\n",
       "      <th>ACTH-Secreting Pituitary Adenoma</th>\n",
       "      <th>AIDS Arteritis, Central Nervous System</th>\n",
       "      <th>AIDS Dementia Complex</th>\n",
       "      <th>AIDS-Associated Nephropathy</th>\n",
       "      <th>AIDS-Related Complex</th>\n",
       "      <th>AIDS-Related Opportunistic Infections</th>\n",
       "      <th>Abdominal Abscess</th>\n",
       "      <th>...</th>\n",
       "      <th>alpha 1-Antitrypsin Deficiency</th>\n",
       "      <th>alpha-Mannosidosis</th>\n",
       "      <th>alpha-Thalassemia</th>\n",
       "      <th>beta-Mannosidosis</th>\n",
       "      <th>beta-Thalassemia</th>\n",
       "      <th>von Hippel-Lindau Disease</th>\n",
       "      <th>von Willebrand Disease, Type 1</th>\n",
       "      <th>von Willebrand Disease, Type 2</th>\n",
       "      <th>von Willebrand Disease, Type 3</th>\n",
       "      <th>von Willebrand Diseases</th>\n",
       "    </tr>\n",
       "    <tr>\n",
       "      <th>disease_1</th>\n",
       "      <th></th>\n",
       "      <th></th>\n",
       "      <th></th>\n",
       "      <th></th>\n",
       "      <th></th>\n",
       "      <th></th>\n",
       "      <th></th>\n",
       "      <th></th>\n",
       "      <th></th>\n",
       "      <th></th>\n",
       "      <th></th>\n",
       "      <th></th>\n",
       "      <th></th>\n",
       "      <th></th>\n",
       "      <th></th>\n",
       "      <th></th>\n",
       "      <th></th>\n",
       "      <th></th>\n",
       "      <th></th>\n",
       "      <th></th>\n",
       "      <th></th>\n",
       "    </tr>\n",
       "  </thead>\n",
       "  <tbody>\n",
       "    <tr>\n",
       "      <th>22q11 Deletion Syndrome</th>\n",
       "      <td>1.000000</td>\n",
       "      <td>0.000000</td>\n",
       "      <td>0.000000</td>\n",
       "      <td>0.000000</td>\n",
       "      <td>0.0</td>\n",
       "      <td>0.100250</td>\n",
       "      <td>0.0</td>\n",
       "      <td>0.000000</td>\n",
       "      <td>0.000000</td>\n",
       "      <td>0.000000</td>\n",
       "      <td>...</td>\n",
       "      <td>0.000000</td>\n",
       "      <td>0.111635</td>\n",
       "      <td>0.143555</td>\n",
       "      <td>0.422251</td>\n",
       "      <td>0.064720</td>\n",
       "      <td>0.096545</td>\n",
       "      <td>0.000000</td>\n",
       "      <td>0.000000</td>\n",
       "      <td>0.000000</td>\n",
       "      <td>0.000000</td>\n",
       "    </tr>\n",
       "    <tr>\n",
       "      <th>46, XX Disorders of Sex Development</th>\n",
       "      <td>0.000000</td>\n",
       "      <td>1.000000</td>\n",
       "      <td>0.135159</td>\n",
       "      <td>0.000000</td>\n",
       "      <td>0.0</td>\n",
       "      <td>0.038676</td>\n",
       "      <td>0.0</td>\n",
       "      <td>0.000000</td>\n",
       "      <td>0.001333</td>\n",
       "      <td>0.050325</td>\n",
       "      <td>...</td>\n",
       "      <td>0.000000</td>\n",
       "      <td>0.000000</td>\n",
       "      <td>0.000000</td>\n",
       "      <td>0.000000</td>\n",
       "      <td>0.005378</td>\n",
       "      <td>0.005471</td>\n",
       "      <td>0.000000</td>\n",
       "      <td>0.014201</td>\n",
       "      <td>0.000000</td>\n",
       "      <td>0.000000</td>\n",
       "    </tr>\n",
       "    <tr>\n",
       "      <th>ACTH Syndrome, Ectopic</th>\n",
       "      <td>0.000000</td>\n",
       "      <td>0.135159</td>\n",
       "      <td>1.000000</td>\n",
       "      <td>0.000000</td>\n",
       "      <td>0.0</td>\n",
       "      <td>0.085465</td>\n",
       "      <td>0.0</td>\n",
       "      <td>0.000000</td>\n",
       "      <td>0.000000</td>\n",
       "      <td>0.036544</td>\n",
       "      <td>...</td>\n",
       "      <td>0.426354</td>\n",
       "      <td>0.000000</td>\n",
       "      <td>0.000000</td>\n",
       "      <td>0.000000</td>\n",
       "      <td>0.160612</td>\n",
       "      <td>0.041777</td>\n",
       "      <td>0.245817</td>\n",
       "      <td>0.250899</td>\n",
       "      <td>0.236190</td>\n",
       "      <td>0.087319</td>\n",
       "    </tr>\n",
       "    <tr>\n",
       "      <th>ACTH-Secreting Pituitary Adenoma</th>\n",
       "      <td>0.000000</td>\n",
       "      <td>0.000000</td>\n",
       "      <td>0.000000</td>\n",
       "      <td>1.000000</td>\n",
       "      <td>0.0</td>\n",
       "      <td>0.000000</td>\n",
       "      <td>0.0</td>\n",
       "      <td>0.000000</td>\n",
       "      <td>0.022177</td>\n",
       "      <td>0.054142</td>\n",
       "      <td>...</td>\n",
       "      <td>0.000000</td>\n",
       "      <td>0.000000</td>\n",
       "      <td>0.000000</td>\n",
       "      <td>0.000000</td>\n",
       "      <td>0.030338</td>\n",
       "      <td>0.123320</td>\n",
       "      <td>0.000000</td>\n",
       "      <td>0.000000</td>\n",
       "      <td>0.000000</td>\n",
       "      <td>0.014567</td>\n",
       "    </tr>\n",
       "    <tr>\n",
       "      <th>AIDS Arteritis, Central Nervous System</th>\n",
       "      <td>0.000000</td>\n",
       "      <td>0.000000</td>\n",
       "      <td>0.000000</td>\n",
       "      <td>0.000000</td>\n",
       "      <td>1.0</td>\n",
       "      <td>0.054500</td>\n",
       "      <td>0.0</td>\n",
       "      <td>0.000000</td>\n",
       "      <td>0.000000</td>\n",
       "      <td>0.000000</td>\n",
       "      <td>...</td>\n",
       "      <td>0.000000</td>\n",
       "      <td>0.000000</td>\n",
       "      <td>0.000000</td>\n",
       "      <td>0.000000</td>\n",
       "      <td>0.000000</td>\n",
       "      <td>0.000000</td>\n",
       "      <td>0.000000</td>\n",
       "      <td>0.000000</td>\n",
       "      <td>0.000000</td>\n",
       "      <td>0.000000</td>\n",
       "    </tr>\n",
       "    <tr>\n",
       "      <th>...</th>\n",
       "      <td>...</td>\n",
       "      <td>...</td>\n",
       "      <td>...</td>\n",
       "      <td>...</td>\n",
       "      <td>...</td>\n",
       "      <td>...</td>\n",
       "      <td>...</td>\n",
       "      <td>...</td>\n",
       "      <td>...</td>\n",
       "      <td>...</td>\n",
       "      <td>...</td>\n",
       "      <td>...</td>\n",
       "      <td>...</td>\n",
       "      <td>...</td>\n",
       "      <td>...</td>\n",
       "      <td>...</td>\n",
       "      <td>...</td>\n",
       "      <td>...</td>\n",
       "      <td>...</td>\n",
       "      <td>...</td>\n",
       "      <td>...</td>\n",
       "    </tr>\n",
       "    <tr>\n",
       "      <th>von Hippel-Lindau Disease</th>\n",
       "      <td>0.096545</td>\n",
       "      <td>0.005471</td>\n",
       "      <td>0.041777</td>\n",
       "      <td>0.123320</td>\n",
       "      <td>0.0</td>\n",
       "      <td>0.000000</td>\n",
       "      <td>0.0</td>\n",
       "      <td>0.000000</td>\n",
       "      <td>0.083477</td>\n",
       "      <td>0.019327</td>\n",
       "      <td>...</td>\n",
       "      <td>0.017371</td>\n",
       "      <td>0.307196</td>\n",
       "      <td>0.000000</td>\n",
       "      <td>0.105127</td>\n",
       "      <td>0.149973</td>\n",
       "      <td>1.000000</td>\n",
       "      <td>0.000000</td>\n",
       "      <td>0.000000</td>\n",
       "      <td>0.000000</td>\n",
       "      <td>0.000000</td>\n",
       "    </tr>\n",
       "    <tr>\n",
       "      <th>von Willebrand Disease, Type 1</th>\n",
       "      <td>0.000000</td>\n",
       "      <td>0.000000</td>\n",
       "      <td>0.245817</td>\n",
       "      <td>0.000000</td>\n",
       "      <td>0.0</td>\n",
       "      <td>0.000000</td>\n",
       "      <td>0.0</td>\n",
       "      <td>0.000000</td>\n",
       "      <td>0.000000</td>\n",
       "      <td>0.000000</td>\n",
       "      <td>...</td>\n",
       "      <td>0.000000</td>\n",
       "      <td>0.000000</td>\n",
       "      <td>0.000000</td>\n",
       "      <td>0.000000</td>\n",
       "      <td>0.000000</td>\n",
       "      <td>0.000000</td>\n",
       "      <td>1.000000</td>\n",
       "      <td>0.636481</td>\n",
       "      <td>0.960837</td>\n",
       "      <td>0.308643</td>\n",
       "    </tr>\n",
       "    <tr>\n",
       "      <th>von Willebrand Disease, Type 2</th>\n",
       "      <td>0.000000</td>\n",
       "      <td>0.014201</td>\n",
       "      <td>0.250899</td>\n",
       "      <td>0.000000</td>\n",
       "      <td>0.0</td>\n",
       "      <td>0.000000</td>\n",
       "      <td>0.0</td>\n",
       "      <td>0.000000</td>\n",
       "      <td>0.018416</td>\n",
       "      <td>0.232588</td>\n",
       "      <td>...</td>\n",
       "      <td>0.061255</td>\n",
       "      <td>0.000000</td>\n",
       "      <td>0.000000</td>\n",
       "      <td>0.000000</td>\n",
       "      <td>0.124864</td>\n",
       "      <td>0.000000</td>\n",
       "      <td>0.636481</td>\n",
       "      <td>1.000000</td>\n",
       "      <td>0.662424</td>\n",
       "      <td>0.515627</td>\n",
       "    </tr>\n",
       "    <tr>\n",
       "      <th>von Willebrand Disease, Type 3</th>\n",
       "      <td>0.000000</td>\n",
       "      <td>0.000000</td>\n",
       "      <td>0.236190</td>\n",
       "      <td>0.000000</td>\n",
       "      <td>0.0</td>\n",
       "      <td>0.000000</td>\n",
       "      <td>0.0</td>\n",
       "      <td>0.000000</td>\n",
       "      <td>0.012146</td>\n",
       "      <td>0.224191</td>\n",
       "      <td>...</td>\n",
       "      <td>0.024507</td>\n",
       "      <td>0.000000</td>\n",
       "      <td>0.000000</td>\n",
       "      <td>0.000000</td>\n",
       "      <td>0.044953</td>\n",
       "      <td>0.000000</td>\n",
       "      <td>0.960837</td>\n",
       "      <td>0.662424</td>\n",
       "      <td>1.000000</td>\n",
       "      <td>0.296556</td>\n",
       "    </tr>\n",
       "    <tr>\n",
       "      <th>von Willebrand Diseases</th>\n",
       "      <td>0.000000</td>\n",
       "      <td>0.000000</td>\n",
       "      <td>0.087319</td>\n",
       "      <td>0.014567</td>\n",
       "      <td>0.0</td>\n",
       "      <td>0.000275</td>\n",
       "      <td>0.0</td>\n",
       "      <td>0.355552</td>\n",
       "      <td>0.000019</td>\n",
       "      <td>0.000000</td>\n",
       "      <td>...</td>\n",
       "      <td>0.008384</td>\n",
       "      <td>0.000000</td>\n",
       "      <td>0.000000</td>\n",
       "      <td>0.000000</td>\n",
       "      <td>0.044782</td>\n",
       "      <td>0.000000</td>\n",
       "      <td>0.308643</td>\n",
       "      <td>0.515627</td>\n",
       "      <td>0.296556</td>\n",
       "      <td>1.000000</td>\n",
       "    </tr>\n",
       "  </tbody>\n",
       "</table>\n",
       "<p>4662 rows × 4662 columns</p>\n",
       "</div>"
      ],
      "text/plain": [
       "disease_2                               22q11 Deletion Syndrome  \\\n",
       "disease_1                                                         \n",
       "22q11 Deletion Syndrome                                1.000000   \n",
       "46, XX Disorders of Sex Development                    0.000000   \n",
       "ACTH Syndrome, Ectopic                                 0.000000   \n",
       "ACTH-Secreting Pituitary Adenoma                       0.000000   \n",
       "AIDS Arteritis, Central Nervous System                 0.000000   \n",
       "...                                                         ...   \n",
       "von Hippel-Lindau Disease                              0.096545   \n",
       "von Willebrand Disease, Type 1                         0.000000   \n",
       "von Willebrand Disease, Type 2                         0.000000   \n",
       "von Willebrand Disease, Type 3                         0.000000   \n",
       "von Willebrand Diseases                                0.000000   \n",
       "\n",
       "disease_2                               46, XX Disorders of Sex Development  \\\n",
       "disease_1                                                                     \n",
       "22q11 Deletion Syndrome                                            0.000000   \n",
       "46, XX Disorders of Sex Development                                1.000000   \n",
       "ACTH Syndrome, Ectopic                                             0.135159   \n",
       "ACTH-Secreting Pituitary Adenoma                                   0.000000   \n",
       "AIDS Arteritis, Central Nervous System                             0.000000   \n",
       "...                                                                     ...   \n",
       "von Hippel-Lindau Disease                                          0.005471   \n",
       "von Willebrand Disease, Type 1                                     0.000000   \n",
       "von Willebrand Disease, Type 2                                     0.014201   \n",
       "von Willebrand Disease, Type 3                                     0.000000   \n",
       "von Willebrand Diseases                                            0.000000   \n",
       "\n",
       "disease_2                               ACTH Syndrome, Ectopic  \\\n",
       "disease_1                                                        \n",
       "22q11 Deletion Syndrome                               0.000000   \n",
       "46, XX Disorders of Sex Development                   0.135159   \n",
       "ACTH Syndrome, Ectopic                                1.000000   \n",
       "ACTH-Secreting Pituitary Adenoma                      0.000000   \n",
       "AIDS Arteritis, Central Nervous System                0.000000   \n",
       "...                                                        ...   \n",
       "von Hippel-Lindau Disease                             0.041777   \n",
       "von Willebrand Disease, Type 1                        0.245817   \n",
       "von Willebrand Disease, Type 2                        0.250899   \n",
       "von Willebrand Disease, Type 3                        0.236190   \n",
       "von Willebrand Diseases                               0.087319   \n",
       "\n",
       "disease_2                               ACTH-Secreting Pituitary Adenoma  \\\n",
       "disease_1                                                                  \n",
       "22q11 Deletion Syndrome                                         0.000000   \n",
       "46, XX Disorders of Sex Development                             0.000000   \n",
       "ACTH Syndrome, Ectopic                                          0.000000   \n",
       "ACTH-Secreting Pituitary Adenoma                                1.000000   \n",
       "AIDS Arteritis, Central Nervous System                          0.000000   \n",
       "...                                                                  ...   \n",
       "von Hippel-Lindau Disease                                       0.123320   \n",
       "von Willebrand Disease, Type 1                                  0.000000   \n",
       "von Willebrand Disease, Type 2                                  0.000000   \n",
       "von Willebrand Disease, Type 3                                  0.000000   \n",
       "von Willebrand Diseases                                         0.014567   \n",
       "\n",
       "disease_2                               AIDS Arteritis, Central Nervous System  \\\n",
       "disease_1                                                                        \n",
       "22q11 Deletion Syndrome                                                    0.0   \n",
       "46, XX Disorders of Sex Development                                        0.0   \n",
       "ACTH Syndrome, Ectopic                                                     0.0   \n",
       "ACTH-Secreting Pituitary Adenoma                                           0.0   \n",
       "AIDS Arteritis, Central Nervous System                                     1.0   \n",
       "...                                                                        ...   \n",
       "von Hippel-Lindau Disease                                                  0.0   \n",
       "von Willebrand Disease, Type 1                                             0.0   \n",
       "von Willebrand Disease, Type 2                                             0.0   \n",
       "von Willebrand Disease, Type 3                                             0.0   \n",
       "von Willebrand Diseases                                                    0.0   \n",
       "\n",
       "disease_2                               AIDS Dementia Complex  \\\n",
       "disease_1                                                       \n",
       "22q11 Deletion Syndrome                              0.100250   \n",
       "46, XX Disorders of Sex Development                  0.038676   \n",
       "ACTH Syndrome, Ectopic                               0.085465   \n",
       "ACTH-Secreting Pituitary Adenoma                     0.000000   \n",
       "AIDS Arteritis, Central Nervous System               0.054500   \n",
       "...                                                       ...   \n",
       "von Hippel-Lindau Disease                            0.000000   \n",
       "von Willebrand Disease, Type 1                       0.000000   \n",
       "von Willebrand Disease, Type 2                       0.000000   \n",
       "von Willebrand Disease, Type 3                       0.000000   \n",
       "von Willebrand Diseases                              0.000275   \n",
       "\n",
       "disease_2                               AIDS-Associated Nephropathy  \\\n",
       "disease_1                                                             \n",
       "22q11 Deletion Syndrome                                         0.0   \n",
       "46, XX Disorders of Sex Development                             0.0   \n",
       "ACTH Syndrome, Ectopic                                          0.0   \n",
       "ACTH-Secreting Pituitary Adenoma                                0.0   \n",
       "AIDS Arteritis, Central Nervous System                          0.0   \n",
       "...                                                             ...   \n",
       "von Hippel-Lindau Disease                                       0.0   \n",
       "von Willebrand Disease, Type 1                                  0.0   \n",
       "von Willebrand Disease, Type 2                                  0.0   \n",
       "von Willebrand Disease, Type 3                                  0.0   \n",
       "von Willebrand Diseases                                         0.0   \n",
       "\n",
       "disease_2                               AIDS-Related Complex  \\\n",
       "disease_1                                                      \n",
       "22q11 Deletion Syndrome                             0.000000   \n",
       "46, XX Disorders of Sex Development                 0.000000   \n",
       "ACTH Syndrome, Ectopic                              0.000000   \n",
       "ACTH-Secreting Pituitary Adenoma                    0.000000   \n",
       "AIDS Arteritis, Central Nervous System              0.000000   \n",
       "...                                                      ...   \n",
       "von Hippel-Lindau Disease                           0.000000   \n",
       "von Willebrand Disease, Type 1                      0.000000   \n",
       "von Willebrand Disease, Type 2                      0.000000   \n",
       "von Willebrand Disease, Type 3                      0.000000   \n",
       "von Willebrand Diseases                             0.355552   \n",
       "\n",
       "disease_2                               AIDS-Related Opportunistic Infections  \\\n",
       "disease_1                                                                       \n",
       "22q11 Deletion Syndrome                                              0.000000   \n",
       "46, XX Disorders of Sex Development                                  0.001333   \n",
       "ACTH Syndrome, Ectopic                                               0.000000   \n",
       "ACTH-Secreting Pituitary Adenoma                                     0.022177   \n",
       "AIDS Arteritis, Central Nervous System                               0.000000   \n",
       "...                                                                       ...   \n",
       "von Hippel-Lindau Disease                                            0.083477   \n",
       "von Willebrand Disease, Type 1                                       0.000000   \n",
       "von Willebrand Disease, Type 2                                       0.018416   \n",
       "von Willebrand Disease, Type 3                                       0.012146   \n",
       "von Willebrand Diseases                                              0.000019   \n",
       "\n",
       "disease_2                               Abdominal Abscess  ...  \\\n",
       "disease_1                                                  ...   \n",
       "22q11 Deletion Syndrome                          0.000000  ...   \n",
       "46, XX Disorders of Sex Development              0.050325  ...   \n",
       "ACTH Syndrome, Ectopic                           0.036544  ...   \n",
       "ACTH-Secreting Pituitary Adenoma                 0.054142  ...   \n",
       "AIDS Arteritis, Central Nervous System           0.000000  ...   \n",
       "...                                                   ...  ...   \n",
       "von Hippel-Lindau Disease                        0.019327  ...   \n",
       "von Willebrand Disease, Type 1                   0.000000  ...   \n",
       "von Willebrand Disease, Type 2                   0.232588  ...   \n",
       "von Willebrand Disease, Type 3                   0.224191  ...   \n",
       "von Willebrand Diseases                          0.000000  ...   \n",
       "\n",
       "disease_2                               alpha 1-Antitrypsin Deficiency  \\\n",
       "disease_1                                                                \n",
       "22q11 Deletion Syndrome                                       0.000000   \n",
       "46, XX Disorders of Sex Development                           0.000000   \n",
       "ACTH Syndrome, Ectopic                                        0.426354   \n",
       "ACTH-Secreting Pituitary Adenoma                              0.000000   \n",
       "AIDS Arteritis, Central Nervous System                        0.000000   \n",
       "...                                                                ...   \n",
       "von Hippel-Lindau Disease                                     0.017371   \n",
       "von Willebrand Disease, Type 1                                0.000000   \n",
       "von Willebrand Disease, Type 2                                0.061255   \n",
       "von Willebrand Disease, Type 3                                0.024507   \n",
       "von Willebrand Diseases                                       0.008384   \n",
       "\n",
       "disease_2                               alpha-Mannosidosis  alpha-Thalassemia  \\\n",
       "disease_1                                                                       \n",
       "22q11 Deletion Syndrome                           0.111635           0.143555   \n",
       "46, XX Disorders of Sex Development               0.000000           0.000000   \n",
       "ACTH Syndrome, Ectopic                            0.000000           0.000000   \n",
       "ACTH-Secreting Pituitary Adenoma                  0.000000           0.000000   \n",
       "AIDS Arteritis, Central Nervous System            0.000000           0.000000   \n",
       "...                                                    ...                ...   \n",
       "von Hippel-Lindau Disease                         0.307196           0.000000   \n",
       "von Willebrand Disease, Type 1                    0.000000           0.000000   \n",
       "von Willebrand Disease, Type 2                    0.000000           0.000000   \n",
       "von Willebrand Disease, Type 3                    0.000000           0.000000   \n",
       "von Willebrand Diseases                           0.000000           0.000000   \n",
       "\n",
       "disease_2                               beta-Mannosidosis  beta-Thalassemia  \\\n",
       "disease_1                                                                     \n",
       "22q11 Deletion Syndrome                          0.422251          0.064720   \n",
       "46, XX Disorders of Sex Development              0.000000          0.005378   \n",
       "ACTH Syndrome, Ectopic                           0.000000          0.160612   \n",
       "ACTH-Secreting Pituitary Adenoma                 0.000000          0.030338   \n",
       "AIDS Arteritis, Central Nervous System           0.000000          0.000000   \n",
       "...                                                   ...               ...   \n",
       "von Hippel-Lindau Disease                        0.105127          0.149973   \n",
       "von Willebrand Disease, Type 1                   0.000000          0.000000   \n",
       "von Willebrand Disease, Type 2                   0.000000          0.124864   \n",
       "von Willebrand Disease, Type 3                   0.000000          0.044953   \n",
       "von Willebrand Diseases                          0.000000          0.044782   \n",
       "\n",
       "disease_2                               von Hippel-Lindau Disease  \\\n",
       "disease_1                                                           \n",
       "22q11 Deletion Syndrome                                  0.096545   \n",
       "46, XX Disorders of Sex Development                      0.005471   \n",
       "ACTH Syndrome, Ectopic                                   0.041777   \n",
       "ACTH-Secreting Pituitary Adenoma                         0.123320   \n",
       "AIDS Arteritis, Central Nervous System                   0.000000   \n",
       "...                                                           ...   \n",
       "von Hippel-Lindau Disease                                1.000000   \n",
       "von Willebrand Disease, Type 1                           0.000000   \n",
       "von Willebrand Disease, Type 2                           0.000000   \n",
       "von Willebrand Disease, Type 3                           0.000000   \n",
       "von Willebrand Diseases                                  0.000000   \n",
       "\n",
       "disease_2                               von Willebrand Disease, Type 1  \\\n",
       "disease_1                                                                \n",
       "22q11 Deletion Syndrome                                       0.000000   \n",
       "46, XX Disorders of Sex Development                           0.000000   \n",
       "ACTH Syndrome, Ectopic                                        0.245817   \n",
       "ACTH-Secreting Pituitary Adenoma                              0.000000   \n",
       "AIDS Arteritis, Central Nervous System                        0.000000   \n",
       "...                                                                ...   \n",
       "von Hippel-Lindau Disease                                     0.000000   \n",
       "von Willebrand Disease, Type 1                                1.000000   \n",
       "von Willebrand Disease, Type 2                                0.636481   \n",
       "von Willebrand Disease, Type 3                                0.960837   \n",
       "von Willebrand Diseases                                       0.308643   \n",
       "\n",
       "disease_2                               von Willebrand Disease, Type 2  \\\n",
       "disease_1                                                                \n",
       "22q11 Deletion Syndrome                                       0.000000   \n",
       "46, XX Disorders of Sex Development                           0.014201   \n",
       "ACTH Syndrome, Ectopic                                        0.250899   \n",
       "ACTH-Secreting Pituitary Adenoma                              0.000000   \n",
       "AIDS Arteritis, Central Nervous System                        0.000000   \n",
       "...                                                                ...   \n",
       "von Hippel-Lindau Disease                                     0.000000   \n",
       "von Willebrand Disease, Type 1                                0.636481   \n",
       "von Willebrand Disease, Type 2                                1.000000   \n",
       "von Willebrand Disease, Type 3                                0.662424   \n",
       "von Willebrand Diseases                                       0.515627   \n",
       "\n",
       "disease_2                               von Willebrand Disease, Type 3  \\\n",
       "disease_1                                                                \n",
       "22q11 Deletion Syndrome                                       0.000000   \n",
       "46, XX Disorders of Sex Development                           0.000000   \n",
       "ACTH Syndrome, Ectopic                                        0.236190   \n",
       "ACTH-Secreting Pituitary Adenoma                              0.000000   \n",
       "AIDS Arteritis, Central Nervous System                        0.000000   \n",
       "...                                                                ...   \n",
       "von Hippel-Lindau Disease                                     0.000000   \n",
       "von Willebrand Disease, Type 1                                0.960837   \n",
       "von Willebrand Disease, Type 2                                0.662424   \n",
       "von Willebrand Disease, Type 3                                1.000000   \n",
       "von Willebrand Diseases                                       0.296556   \n",
       "\n",
       "disease_2                               von Willebrand Diseases  \n",
       "disease_1                                                        \n",
       "22q11 Deletion Syndrome                                0.000000  \n",
       "46, XX Disorders of Sex Development                    0.000000  \n",
       "ACTH Syndrome, Ectopic                                 0.087319  \n",
       "ACTH-Secreting Pituitary Adenoma                       0.014567  \n",
       "AIDS Arteritis, Central Nervous System                 0.000000  \n",
       "...                                                         ...  \n",
       "von Hippel-Lindau Disease                              0.000000  \n",
       "von Willebrand Disease, Type 1                         0.308643  \n",
       "von Willebrand Disease, Type 2                         0.515627  \n",
       "von Willebrand Disease, Type 3                         0.296556  \n",
       "von Willebrand Diseases                                1.000000  \n",
       "\n",
       "[4662 rows x 4662 columns]"
      ]
     },
     "execution_count": 38,
     "metadata": {},
     "output_type": "execute_result"
    }
   ],
   "source": [
    "pivot_cosine_df"
   ]
  },
  {
   "cell_type": "code",
   "execution_count": 19,
   "metadata": {},
   "outputs": [],
   "source": [
    "#データフレーム化\n",
    "cosine_df = pd.DataFrame(cosine_similarity_list, columns=[\"disease_1\", \"disease_2\", \"cosine_similarity\"])\n",
    "cosine_df = cosine_df.sort_values(\"cosine_similarity\", ascending=False).reset_index(drop=True)\n",
    "\n",
    "pivot_cosine_df = cosine_df.pivot(index='disease_1', columns='disease_2', values='cosine_similarity')#.fillna(0)"
   ]
  },
  {
   "cell_type": "code",
   "execution_count": 20,
   "metadata": {},
   "outputs": [
    {
     "data": {
      "text/plain": [
       "(21734244, 4662)"
      ]
     },
     "execution_count": 20,
     "metadata": {},
     "output_type": "execute_result"
    }
   ],
   "source": [
    "len(cosine_df), len(pivot_cosine_df)"
   ]
  },
  {
   "cell_type": "code",
   "execution_count": 21,
   "metadata": {},
   "outputs": [],
   "source": [
    "#インデックスを取得\n",
    "pivot_index = pivot_cosine_df.index.tolist()"
   ]
  },
  {
   "cell_type": "code",
   "execution_count": 22,
   "metadata": {
    "scrolled": false
   },
   "outputs": [],
   "source": [
    "#「同じ疾患同士」「順序が逆になっているだけで同じペアの片方」を削除\n",
    "\n",
    "#アレイに変換\n",
    "recent_array = np.array(pivot_cosine_df)\n",
    "\n",
    "#下三角行列を取得する\n",
    "#numpy.tril()の引数にnumpy.ndarrayを指定すると、対角線より上の成分をゼロとしたnumpy.ndarrayが返される。\n",
    "#対角線のコサイン値＝１は不要なので、この対角線箇所も含めてゼロにしたい。\n",
    "#numpy.tril()の第二引数のkで、境界となる対角線の位置が指定できる（正の値だと上側（右側）、負の値だと下側（左側）に移動する）\n",
    "\n",
    "recent_array = np.tril(recent_array, k=-1) \n",
    "\n",
    "#データフレームにする　対角線含む上の値がゼロになっているか確認\n",
    "repivot_cosine_df= pd.DataFrame(recent_array, index=pivot_cosine_df.index, columns=pivot_cosine_df.columns)\n"
   ]
  },
  {
   "cell_type": "code",
   "execution_count": 23,
   "metadata": {},
   "outputs": [],
   "source": [
    "#下三角行列のうち、コサイン値ゼロ以外の値の位置を取得\n",
    "recent_array_index_list = [[value_0,\n",
    "                            value_1] for value_0, value_1 in zip(list(np.where(recent_array>0)[0]),\n",
    "                                                                 list(np.where(recent_array>0)[1]))]\n"
   ]
  },
  {
   "cell_type": "code",
   "execution_count": 24,
   "metadata": {},
   "outputs": [
    {
     "data": {
      "text/plain": [
       "[[2, 1], [5, 0], [5, 1]]"
      ]
     },
     "execution_count": 24,
     "metadata": {},
     "output_type": "execute_result"
    }
   ],
   "source": [
    "recent_array_index_list[:3]"
   ]
  },
  {
   "cell_type": "code",
   "execution_count": 25,
   "metadata": {},
   "outputs": [
    {
     "data": {
      "text/plain": [
       "6313780"
      ]
     },
     "execution_count": 25,
     "metadata": {},
     "output_type": "execute_result"
    }
   ],
   "source": [
    "len(recent_array_index_list)"
   ]
  },
  {
   "cell_type": "code",
   "execution_count": 26,
   "metadata": {
    "scrolled": false
   },
   "outputs": [
    {
     "data": {
      "application/vnd.jupyter.widget-view+json": {
       "model_id": "f772827082394a158acaeced4ccf2634",
       "version_major": 2,
       "version_minor": 0
      },
      "text/plain": [
       "  0%|          | 0/6313780 [00:00<?, ?it/s]"
      ]
     },
     "metadata": {},
     "output_type": "display_data"
    }
   ],
   "source": [
    "#元の（半分ゼロにする前の）行列で同じ位置を指定し、そのインデックス（疾患ペア）と値（コサイン値）を取得\n",
    "#疾患a, 疾患b, abのコサイン値\n",
    "repivot_pair = [ [pivot_index[i[0]],\n",
    "                  pivot_index[i[1]], \n",
    "                  repivot_cosine_df.iloc[i[0], i[1]]] for i in tqdm(recent_array_index_list)]\n",
    "\n",
    "# 作成されるデータは\n",
    "#    「同じ疾患同士」「順序が逆になっただけの同じペアのうちの片方」「コサイン値ゼロ」これらを除いたデータ"
   ]
  },
  {
   "cell_type": "code",
   "execution_count": 27,
   "metadata": {},
   "outputs": [],
   "source": [
    "repivot_pair_df = pd.DataFrame(repivot_pair, columns=[\"disease_1\", \"disease_2\", \"cosine_similarity\"])"
   ]
  },
  {
   "cell_type": "code",
   "execution_count": 28,
   "metadata": {},
   "outputs": [
    {
     "data": {
      "text/plain": [
       "6313780"
      ]
     },
     "execution_count": 28,
     "metadata": {},
     "output_type": "execute_result"
    }
   ],
   "source": [
    "len(repivot_pair_df)"
   ]
  },
  {
   "cell_type": "code",
   "execution_count": 30,
   "metadata": {},
   "outputs": [
    {
     "name": "stdout",
     "output_type": "stream",
     "text": [
      "1567690\n",
      "766688\n",
      "136406\n",
      "1567690\n",
      "4658\n",
      "1.0 0.10000021887943857\n",
      "1567414\n",
      "4658\n",
      "0.9999999999999998 0.10000021887943857\n"
     ]
    }
   ],
   "source": [
    "print(len(repivot_pair_df[repivot_pair_df[\"cosine_similarity\"]>0.1]))\n",
    "print(len(repivot_pair_df[repivot_pair_df[\"cosine_similarity\"]>0.2]))\n",
    "print(len(repivot_pair_df[repivot_pair_df[\"cosine_similarity\"]>0.5]))\n",
    "\n",
    "cos1 = repivot_pair_df[repivot_pair_df[\"cosine_similarity\"]>0.1]\n",
    "print(len(cos1))\n",
    "print(len(set(cos1[\"disease_1\"].values.tolist() + cos1[\"disease_2\"].values.tolist())))\n",
    "print(cos1[\"cosine_similarity\"].max(), cos1[\"cosine_similarity\"].min())\n",
    "\n",
    "cos1 = repivot_pair_df[ (repivot_pair_df[\"cosine_similarity\"]>0.1) & (repivot_pair_df[\"cosine_similarity\"]<1)]\n",
    "print(len(cos1))\n",
    "print(len(set(cos1[\"disease_1\"].values.tolist() + cos1[\"disease_2\"].values.tolist())))\n",
    "print(cos1[\"cosine_similarity\"].max(), cos1[\"cosine_similarity\"].min())"
   ]
  },
  {
   "cell_type": "code",
   "execution_count": 31,
   "metadata": {},
   "outputs": [],
   "source": [
    "hsdn = repivot_pair_df\n",
    "#保存\n",
    "hsdn.to_csv(\"hsdn.csv\", index=False)"
   ]
  },
  {
   "cell_type": "code",
   "execution_count": 52,
   "metadata": {},
   "outputs": [
    {
     "ename": "NameError",
     "evalue": "name 'repivot_pair_df' is not defined",
     "output_type": "error",
     "traceback": [
      "\u001b[0;31m---------------------------------------------------------------------------\u001b[0m",
      "\u001b[0;31mNameError\u001b[0m                                 Traceback (most recent call last)",
      "\u001b[0;32m<ipython-input-52-2ce1f77ad6b8>\u001b[0m in \u001b[0;36m<module>\u001b[0;34m\u001b[0m\n\u001b[1;32m      1\u001b[0m \u001b[0;31m# TF-IDFした後で、正のコサイン類似度を持つ疾患-疾患ペアの数は？\u001b[0m\u001b[0;34m\u001b[0m\u001b[0;34m\u001b[0m\u001b[0;34m\u001b[0m\u001b[0m\n\u001b[0;32m----> 2\u001b[0;31m \u001b[0mprint\u001b[0m\u001b[0;34m(\u001b[0m\u001b[0mlen\u001b[0m\u001b[0;34m(\u001b[0m\u001b[0mrepivot_pair_df\u001b[0m\u001b[0;34m)\u001b[0m\u001b[0;34m)\u001b[0m\u001b[0;34m\u001b[0m\u001b[0;34m\u001b[0m\u001b[0m\n\u001b[0m",
      "\u001b[0;31mNameError\u001b[0m: name 'repivot_pair_df' is not defined"
     ]
    }
   ],
   "source": [
    "# TF-IDFした後で、正のコサイン類似度を持つ疾患-疾患ペアの数は？\n",
    "print(len(repivot_pair_df))"
   ]
  },
  {
   "cell_type": "code",
   "execution_count": 54,
   "metadata": {},
   "outputs": [
    {
     "name": "stdout",
     "output_type": "stream",
     "text": [
      "b_ycut 4891408 4304\n",
      "b_ncut 7403646 4304\n",
      "our_ycut 6313780 4662\n",
      "our_ncut 9115843 4662\n"
     ]
    }
   ],
   "source": [
    "#2021MeSH\n",
    "os.chdir('/home/admin_user/デスクトップ/pubmed_after_cutoff')\n",
    "\n",
    "b_ycut = pd.read_csv(\"barabasi_hsdn.csv\")\n",
    "b_ncut = pd.read_csv(\"barabasi_uncutoff_hsdn.csv\")\n",
    "\n",
    "our_ycut= pd.read_csv(\"hsdn.csv\") #repivot_pair_df\n",
    "our_ncut = pd.read_csv(\"uncutoff_hsdn.csv\") #our_try\n",
    "\n",
    "df_list = [\"b_ycut\", \"b_ncut\", \"our_ycut\", \"our_ncut\"]\n",
    "#数\n",
    "for i in df_list:\n",
    "    print(i, len(eval(i)), len(set(eval(i)[\"disease_1\"].values.tolist() + eval(i)[\"disease_2\"].values.tolist())))"
   ]
  },
  {
   "cell_type": "code",
   "execution_count": null,
   "metadata": {},
   "outputs": [],
   "source": []
  },
  {
   "cell_type": "code",
   "execution_count": 51,
   "metadata": {},
   "outputs": [
    {
     "data": {
      "text/plain": [
       "['Diabetes Mellitus, Type 1',\n",
       " 'Diabetes Mellitus, Type 2',\n",
       " 'Schizophrenia',\n",
       " 'Arthritis, Rheumatoid']"
      ]
     },
     "execution_count": 51,
     "metadata": {},
     "output_type": "execute_result"
    }
   ],
   "source": [
    "disease_name = [\"Diabetes Mellitus, Type 1\", \"Diabetes Mellitus, Type 2\", \"Schizophrenia\", \"Arthritis, Rheumatoid\"]\n",
    "disease_name"
   ]
  },
  {
   "cell_type": "code",
   "execution_count": 54,
   "metadata": {},
   "outputs": [
    {
     "name": "stdout",
     "output_type": "stream",
     "text": [
      "Diabetes Mellitus, Type 1\n",
      "3 25\n",
      "--------\n",
      "Diabetes Mellitus, Type 2\n",
      "25 75\n",
      "--------\n",
      "Schizophrenia\n",
      "19 7\n",
      "--------\n",
      "Arthritis, Rheumatoid\n",
      "10 155\n",
      "--------\n"
     ]
    }
   ],
   "source": [
    "disease_name = [\"Diabetes Mellitus, Type 1\", \"Diabetes Mellitus, Type 2\", \"Schizophrenia\", \"Arthritis, Rheumatoid\"]\n",
    "for i in disease_name[:]:\n",
    "    print(i)\n",
    "    val_1 = len(repivot_pair_df[(repivot_pair_df[\"disease_1\"] == i) &(repivot_pair_df[\"cosine_similarity\"] > 0.5) ].sort_values(\"cosine_similarity\",ascending=False))\n",
    "    val_2 = len(repivot_pair_df[(repivot_pair_df[\"disease_2\"] == i) &(repivot_pair_df[\"cosine_similarity\"] > 0.5) ].sort_values(\"cosine_similarity\",ascending=False))\n",
    "    print(val_1, val_2)\n",
    "    print(\"--------\")"
   ]
  },
  {
   "cell_type": "code",
   "execution_count": 340,
   "metadata": {},
   "outputs": [
    {
     "name": "stdout",
     "output_type": "stream",
     "text": [
      "Diabetes Mellitus, Type 1 -> 134 411 545\n",
      "Diabetes Mellitus, Type 2 -> 175 547 722\n",
      "Schizophrenia -> 232 43 275\n",
      "Arthritis, Rheumatoid -> 90 1370 1460\n"
     ]
    }
   ],
   "source": [
    "disease_name = [\"Diabetes Mellitus, Type 1\", \"Diabetes Mellitus, Type 2\", \"Schizophrenia\", \"Arthritis, Rheumatoid\"]\n",
    "for i in disease_name[:]:\n",
    "    #print(i)\n",
    "    val_df = pd.DataFrame()\n",
    "    val_1 = repivot_pair_df[(repivot_pair_df[\"disease_1\"] == i) &(repivot_pair_df[\"cosine_similarity\"] > 0.1) ].sort_values(\"cosine_similarity\",ascending=False)\n",
    "    val_2 = repivot_pair_df[(repivot_pair_df[\"disease_2\"] == i) &(repivot_pair_df[\"cosine_similarity\"] > 0.1) ].sort_values(\"cosine_similarity\",ascending=False)\n",
    "    val_2 = val_2.rename(columns={\"disease_1\":\"disease_2\", \"disease_2\":\"disease_1\"})\n",
    "    val_df = pd.concat([val_df, val_1, val_2]).reset_index(drop=True)\n",
    "    #val_df.to_csv(i+\".csv\", index=False)    \n",
    "    #print(i+\".csv\", len(val_df))\n",
    "    print(i, \"->\", len(val_1), len(val_2), len(val_df))"
   ]
  },
  {
   "cell_type": "markdown",
   "metadata": {},
   "source": [
    "disease_name = [\"Diabetes Mellitus, Type 1\", \"Diabetes Mellitus, Type 2\", \"Schizophrenia\", \"Arthritis, Rheumatoid\"]\n",
    "for i in disease_name[:]:\n",
    "    #print(i)\n",
    "    val_df = pd.DataFrame()\n",
    "    val_1 = repivot_pair_df[(repivot_pair_df[\"disease_1\"] == i) &(repivot_pair_df[\"cosine_similarity\"] > 0.5) ].sort_values(\"cosine_similarity\",ascending=False)\n",
    "    val_2 = repivot_pair_df[(repivot_pair_df[\"disease_2\"] == i) &(repivot_pair_df[\"cosine_similarity\"] > 0.5) ].sort_values(\"cosine_similarity\",ascending=False)\n",
    "    val_2 = val_2.rename(columns={\"disease_1\":\"disease_2\", \"disease_2\":\"disease_1\"})\n",
    "    val_df = pd.concat([val_df, val_1, val_2]).reset_index(drop=True)\n",
    "    #val_df.to_csv(i+\".csv\", index=False)    \n",
    "    #print(i+\".csv\", len(val_df))\n",
    "    print(i, \"->\", len(val_1), len(val_2), len(val_df))"
   ]
  },
  {
   "cell_type": "code",
   "execution_count": 349,
   "metadata": {},
   "outputs": [
    {
     "data": {
      "text/plain": [
       "[['Non-Medical Public and Private Facilities', 'J03'],\n",
       " ['Amino Acids, Peptides, and Proteins', 'D12'],\n",
       " ['Anesthesia and Analgesia', 'E03']]"
      ]
     },
     "execution_count": 349,
     "metadata": {},
     "output_type": "execute_result"
    }
   ],
   "source": [
    "tree_cate = [ [mesh[1], mesh[-1][0]] for mesh in mesh_list for s in mesh[-1] if len(s) == 3 ]\n",
    "tree_cate[:3]"
   ]
  },
  {
   "cell_type": "code",
   "execution_count": 351,
   "metadata": {},
   "outputs": [
    {
     "name": "stdout",
     "output_type": "stream",
     "text": [
      "Diabetes Mellitus, Type 1 545 => 1319\n",
      "Diabetes Mellitus, Type 2 722 => 1705\n",
      "Schizophrenia 275 => 714\n",
      "Arthritis, Rheumatoid 1460 => 3187\n"
     ]
    }
   ],
   "source": [
    "\n",
    "disease_name = [\"Diabetes Mellitus, Type 1\", \"Diabetes Mellitus, Type 2\", \"Schizophrenia\", \"Arthritis, Rheumatoid\"]\n",
    "for i in disease_name[:]:\n",
    "    #print(i)\n",
    "    val_df = pd.DataFrame()\n",
    "    val_4 = pd.DataFrame()\n",
    "    val_1 = repivot_pair_df[(repivot_pair_df[\"disease_1\"] == i) &(repivot_pair_df[\"cosine_similarity\"] > 0.1) ].sort_values(\"cosine_similarity\",ascending=False)\n",
    "    val_2 = repivot_pair_df[(repivot_pair_df[\"disease_2\"] == i) &(repivot_pair_df[\"cosine_similarity\"] > 0.1) ].sort_values(\"cosine_similarity\",ascending=False)\n",
    "    val_2 = val_2.rename(columns={\"disease_1\":\"disease_2\", \"disease_2\":\"disease_1\"})\n",
    "    val_3= pd.concat([val_df, val_1, val_2]).reset_index(drop=True)    \n",
    "    #print(len(val_3))\n",
    "    \n",
    "    #ユニークな疾患名がどのメッシュカテゴリーに含まれるか\n",
    "    disease_category = []\n",
    "    for  disease in val_3[\"disease_2\"]:\n",
    "        for mesh in mesh_list:\n",
    "            if disease == mesh[1]:\n",
    "                #print(i)\n",
    "                #print([m[:3] for m in mesh[-1]])\n",
    "                disease_category.extend ([[disease, m[:3]] for m in mesh[-1]])\n",
    "                \n",
    "    val_4 = pd.merge(val_3, pd.DataFrame(disease_category, columns=[\"disease_2\", \"treecode\"]), on=\"disease_2\")\n",
    "    \n",
    "    val_4[\"treename\"]=0\n",
    "    for enu, code in enumerate(val_4[\"treecode\"]):\n",
    "        for cate_num in tree_cate:\n",
    "            if code == cate_num[0]:\n",
    "                val_4[\"treename\"][enu] = cate_num[1]\n",
    "    \n",
    "    print(i, len(val_3), \"=>\", len(val_4))"
   ]
  },
  {
   "cell_type": "markdown",
   "metadata": {},
   "source": [
    "disease_name = [\"Diabetes Mellitus, Type 1\", \"Diabetes Mellitus, Type 2\", \"Schizophrenia\", \"Arthritis, Rheumatoid\"]\n",
    "for i in disease_name[:]:\n",
    "    val_df = pd.DataFrame()\n",
    "    val_4 = pd.DataFrame()\n",
    "    val_1 = repivot_pair_df[(repivot_pair_df[\"disease_1\"] == i) &(repivot_pair_df[\"cosine_similarity\"] > 0.5) ].sort_values(\"cosine_similarity\",ascending=False)\n",
    "    val_2 = repivot_pair_df[(repivot_pair_df[\"disease_2\"] == i) &(repivot_pair_df[\"cosine_similarity\"] > 0.5) ].sort_values(\"cosine_similarity\",ascending=False)\n",
    "    val_2 = val_2.rename(columns={\"disease_1\":\"disease_2\", \"disease_2\":\"disease_1\"})\n",
    "    val_3= pd.concat([val_df, val_1, val_2]).reset_index(drop=True)    \n",
    "    print(i, len(val_3),len(val_3[~val_3.duplicated()]))"
   ]
  },
  {
   "cell_type": "code",
   "execution_count": 585,
   "metadata": {
    "scrolled": true
   },
   "outputs": [
    {
     "name": "stderr",
     "output_type": "stream",
     "text": [
      "<ipython-input-585-5a98201f54fd>:26: SettingWithCopyWarning: \n",
      "A value is trying to be set on a copy of a slice from a DataFrame\n",
      "\n",
      "See the caveats in the documentation: https://pandas.pydata.org/pandas-docs/stable/user_guide/indexing.html#returning-a-view-versus-a-copy\n",
      "  val_4[\"treename\"][enu] = code[:3]\n",
      "/home/admin_user/anaconda3/lib/python3.8/site-packages/pandas/core/indexing.py:1637: SettingWithCopyWarning: \n",
      "A value is trying to be set on a copy of a slice from a DataFrame\n",
      "\n",
      "See the caveats in the documentation: https://pandas.pydata.org/pandas-docs/stable/user_guide/indexing.html#returning-a-view-versus-a-copy\n",
      "  self._setitem_single_block(indexer, value, name)\n"
     ]
    },
    {
     "name": "stdout",
     "output_type": "stream",
     "text": [
      "Diabetes Mellitus, Type 1 545 => 1319\n"
     ]
    },
    {
     "name": "stderr",
     "output_type": "stream",
     "text": [
      "<ipython-input-585-5a98201f54fd>:26: SettingWithCopyWarning: \n",
      "A value is trying to be set on a copy of a slice from a DataFrame\n",
      "\n",
      "See the caveats in the documentation: https://pandas.pydata.org/pandas-docs/stable/user_guide/indexing.html#returning-a-view-versus-a-copy\n",
      "  val_4[\"treename\"][enu] = code[:3]\n",
      "/home/admin_user/anaconda3/lib/python3.8/site-packages/pandas/core/indexing.py:1637: SettingWithCopyWarning: \n",
      "A value is trying to be set on a copy of a slice from a DataFrame\n",
      "\n",
      "See the caveats in the documentation: https://pandas.pydata.org/pandas-docs/stable/user_guide/indexing.html#returning-a-view-versus-a-copy\n",
      "  self._setitem_single_block(indexer, value, name)\n"
     ]
    },
    {
     "name": "stdout",
     "output_type": "stream",
     "text": [
      "Diabetes Mellitus, Type 2 722 => 1705\n"
     ]
    },
    {
     "name": "stderr",
     "output_type": "stream",
     "text": [
      "<ipython-input-585-5a98201f54fd>:26: SettingWithCopyWarning: \n",
      "A value is trying to be set on a copy of a slice from a DataFrame\n",
      "\n",
      "See the caveats in the documentation: https://pandas.pydata.org/pandas-docs/stable/user_guide/indexing.html#returning-a-view-versus-a-copy\n",
      "  val_4[\"treename\"][enu] = code[:3]\n",
      "/home/admin_user/anaconda3/lib/python3.8/site-packages/pandas/core/indexing.py:1637: SettingWithCopyWarning: \n",
      "A value is trying to be set on a copy of a slice from a DataFrame\n",
      "\n",
      "See the caveats in the documentation: https://pandas.pydata.org/pandas-docs/stable/user_guide/indexing.html#returning-a-view-versus-a-copy\n",
      "  self._setitem_single_block(indexer, value, name)\n"
     ]
    },
    {
     "name": "stdout",
     "output_type": "stream",
     "text": [
      "Schizophrenia 275 => 714\n"
     ]
    },
    {
     "name": "stderr",
     "output_type": "stream",
     "text": [
      "<ipython-input-585-5a98201f54fd>:26: SettingWithCopyWarning: \n",
      "A value is trying to be set on a copy of a slice from a DataFrame\n",
      "\n",
      "See the caveats in the documentation: https://pandas.pydata.org/pandas-docs/stable/user_guide/indexing.html#returning-a-view-versus-a-copy\n",
      "  val_4[\"treename\"][enu] = code[:3]\n",
      "/home/admin_user/anaconda3/lib/python3.8/site-packages/pandas/core/indexing.py:1637: SettingWithCopyWarning: \n",
      "A value is trying to be set on a copy of a slice from a DataFrame\n",
      "\n",
      "See the caveats in the documentation: https://pandas.pydata.org/pandas-docs/stable/user_guide/indexing.html#returning-a-view-versus-a-copy\n",
      "  self._setitem_single_block(indexer, value, name)\n"
     ]
    },
    {
     "name": "stdout",
     "output_type": "stream",
     "text": [
      "Arthritis, Rheumatoid 1460 => 3187\n"
     ]
    }
   ],
   "source": [
    "tree_cate = sorted([ [item, mesh[1]] for mesh in mesh_list for item in mesh[-1] if (len(item) == 3) ] )\n",
    "\n",
    "disease_name = [\"Diabetes Mellitus, Type 1\", \"Diabetes Mellitus, Type 2\", \"Schizophrenia\", \"Arthritis, Rheumatoid\"]\n",
    "for i in disease_name[:]:\n",
    "    #print(i)\n",
    "    val_df = pd.DataFrame()\n",
    "    val_4 = pd.DataFrame()\n",
    "    val_1 = repivot_pair_df[(repivot_pair_df[\"disease_1\"] == i) &(repivot_pair_df[\"cosine_similarity\"] > 0.1) ].sort_values(\"cosine_similarity\",ascending=False)\n",
    "    val_2 = repivot_pair_df[(repivot_pair_df[\"disease_2\"] == i) &(repivot_pair_df[\"cosine_similarity\"] > 0.1) ].sort_values(\"cosine_similarity\",ascending=False)\n",
    "    val_2 = val_2.rename(columns={\"disease_1\":\"disease_2\", \"disease_2\":\"disease_1\"})\n",
    "    val_3= pd.concat([val_df, val_1, val_2]).reset_index(drop=True)    \n",
    "    #print(len(val_3))\n",
    "    \n",
    "    #ユニークな疾患名がどのメッシュカテゴリーに含まれるか\n",
    "    disease_category = []\n",
    "    for  disease in val_3[\"disease_2\"]:\n",
    "        for mesh in mesh_list:\n",
    "            if disease == mesh[1]:\n",
    "                disease_category.extend ([[disease, m] for m in mesh[-1]])\n",
    "                \n",
    "    val_4 = pd.merge(val_3, pd.DataFrame(disease_category, columns=[\"disease_2\", \"treecode\"]), on=\"disease_2\")\n",
    "    \n",
    "    val_4[\"treename\"]=0\n",
    "    for enu, code in enumerate(val_4[\"treecode\"]):\n",
    "        val_4[\"treename\"][enu] = code[:3]\n",
    "    \n",
    "    val_4.to_csv(i+\"_01_all.csv\", index=False)\n",
    "    print(i, len(val_3), \"=>\", len(val_4))"
   ]
  },
  {
   "cell_type": "code",
   "execution_count": 572,
   "metadata": {},
   "outputs": [
    {
     "name": "stdout",
     "output_type": "stream",
     "text": [
      "Sheet の数: 2 ['Sheet1', 'Sheet2']\n",
      "Sheet name: Sheet2\n"
     ]
    },
    {
     "data": {
      "text/html": [
       "<div>\n",
       "<style scoped>\n",
       "    .dataframe tbody tr th:only-of-type {\n",
       "        vertical-align: middle;\n",
       "    }\n",
       "\n",
       "    .dataframe tbody tr th {\n",
       "        vertical-align: top;\n",
       "    }\n",
       "\n",
       "    .dataframe thead th {\n",
       "        text-align: right;\n",
       "    }\n",
       "</style>\n",
       "<table border=\"1\" class=\"dataframe\">\n",
       "  <thead>\n",
       "    <tr style=\"text-align: right;\">\n",
       "      <th></th>\n",
       "      <th>ja</th>\n",
       "      <th>en</th>\n",
       "      <th>treecode</th>\n",
       "    </tr>\n",
       "  </thead>\n",
       "  <tbody>\n",
       "    <tr>\n",
       "      <th>0</th>\n",
       "      <td>胃</td>\n",
       "      <td>Stomach</td>\n",
       "      <td>A03.556.875.875</td>\n",
       "    </tr>\n",
       "    <tr>\n",
       "      <th>1</th>\n",
       "      <td>胃</td>\n",
       "      <td>Gastrointestinal Diseases</td>\n",
       "      <td>C06.405</td>\n",
       "    </tr>\n",
       "    <tr>\n",
       "      <th>2</th>\n",
       "      <td>肝臓</td>\n",
       "      <td>Liver</td>\n",
       "      <td>A03.620</td>\n",
       "    </tr>\n",
       "    <tr>\n",
       "      <th>3</th>\n",
       "      <td>肝臓</td>\n",
       "      <td>Liver Diseases</td>\n",
       "      <td>C06.552</td>\n",
       "    </tr>\n",
       "    <tr>\n",
       "      <th>4</th>\n",
       "      <td>筋肉</td>\n",
       "      <td>Muscles</td>\n",
       "      <td>A02.633</td>\n",
       "    </tr>\n",
       "    <tr>\n",
       "      <th>5</th>\n",
       "      <td>筋肉</td>\n",
       "      <td>Muscles</td>\n",
       "      <td>A10.690</td>\n",
       "    </tr>\n",
       "    <tr>\n",
       "      <th>6</th>\n",
       "      <td>筋肉</td>\n",
       "      <td>Muscular Diseases</td>\n",
       "      <td>C05.651</td>\n",
       "    </tr>\n",
       "    <tr>\n",
       "      <th>7</th>\n",
       "      <td>筋肉</td>\n",
       "      <td>Muscular Diseases</td>\n",
       "      <td>C10.668.491</td>\n",
       "    </tr>\n",
       "    <tr>\n",
       "      <th>8</th>\n",
       "      <td>骨格</td>\n",
       "      <td>Bone and Bones</td>\n",
       "      <td>A02.835.232</td>\n",
       "    </tr>\n",
       "    <tr>\n",
       "      <th>9</th>\n",
       "      <td>骨格</td>\n",
       "      <td>Bone and Bones</td>\n",
       "      <td>A10.165.265</td>\n",
       "    </tr>\n",
       "  </tbody>\n",
       "</table>\n",
       "</div>"
      ],
      "text/plain": [
       "    ja                           en         treecode\n",
       "0   胃                      Stomach   A03.556.875.875\n",
       "1   胃    Gastrointestinal Diseases           C06.405\n",
       "2  肝臓                        Liver           A03.620\n",
       "3  肝臓               Liver Diseases           C06.552\n",
       "4  筋肉                      Muscles           A02.633\n",
       "5  筋肉                      Muscles           A10.690\n",
       "6  筋肉            Muscular Diseases           C05.651\n",
       "7  筋肉            Muscular Diseases       C10.668.491\n",
       "8  骨格               Bone and Bones       A02.835.232\n",
       "9  骨格               Bone and Bones       A10.165.265"
      ]
     },
     "execution_count": 572,
     "metadata": {},
     "output_type": "execute_result"
    }
   ],
   "source": [
    "os.chdir('/home/admin_user')\n",
    "import openpyxl\n",
    "\n",
    "import pandas as pd\n",
    "#input file name\n",
    "input_file_name = 'category.xlsx'\n",
    "#xls book Open (xls, xlsxのどちらでも可能)\n",
    "input_book = pd.ExcelFile(input_file_name)\n",
    "#sheet_namesメソッドでExcelブック内の各シートの名前をリストで取得できる\n",
    "input_sheet_name = input_book.sheet_names\n",
    "#lenでシートの総数を確認\n",
    "num_sheet = len(input_sheet_name)\n",
    "#シートの数とシートの名前のリストの表示\n",
    "print (\"Sheet の数:\", num_sheet, input_sheet_name)\n",
    "input_sheet_df = input_book.parse(input_sheet_name[1])\n",
    "\n",
    "#読み込んだシート名の確認\n",
    "print(\"Sheet name:\", input_sheet_name[1])\n",
    "#読み込んだシートの先頭10行を表示\n",
    "input_sheet_df.head(10)"
   ]
  },
  {
   "cell_type": "code",
   "execution_count": null,
   "metadata": {},
   "outputs": [],
   "source": []
  },
  {
   "cell_type": "code",
   "execution_count": 593,
   "metadata": {
    "scrolled": false
   },
   "outputs": [
    {
     "name": "stdout",
     "output_type": "stream",
     "text": [
      "Diabetes Mellitus, Type 1 1319 545\n",
      "Diabetes Mellitus, Type 2 1705 722\n",
      "Schizophrenia 714 275\n",
      "Arthritis, Rheumatoid 3187 1460\n"
     ]
    }
   ],
   "source": [
    "\n",
    "\n",
    "for i in disease_name:\n",
    "    print(i, len(pd.read_csv(str(i)+\"_01_all.csv\")), pd.read_csv(str(i)+\"_01_all.csv\")[\"disease_2\"].nunique())\n"
   ]
  },
  {
   "cell_type": "code",
   "execution_count": 640,
   "metadata": {},
   "outputs": [
    {
     "data": {
      "text/html": [
       "<div>\n",
       "<style scoped>\n",
       "    .dataframe tbody tr th:only-of-type {\n",
       "        vertical-align: middle;\n",
       "    }\n",
       "\n",
       "    .dataframe tbody tr th {\n",
       "        vertical-align: top;\n",
       "    }\n",
       "\n",
       "    .dataframe thead th {\n",
       "        text-align: right;\n",
       "    }\n",
       "</style>\n",
       "<table border=\"1\" class=\"dataframe\">\n",
       "  <thead>\n",
       "    <tr style=\"text-align: right;\">\n",
       "      <th></th>\n",
       "      <th>disease_2</th>\n",
       "      <th>treecode</th>\n",
       "    </tr>\n",
       "  </thead>\n",
       "  <tbody>\n",
       "    <tr>\n",
       "      <th>0</th>\n",
       "      <td>Albuminuria</td>\n",
       "      <td>C12.777.934.734.269</td>\n",
       "    </tr>\n",
       "    <tr>\n",
       "      <th>1</th>\n",
       "      <td>Albuminuria</td>\n",
       "      <td>C13.351.968.934.734.269</td>\n",
       "    </tr>\n",
       "    <tr>\n",
       "      <th>2</th>\n",
       "      <td>Albuminuria</td>\n",
       "      <td>C23.888.942.750.269</td>\n",
       "    </tr>\n",
       "  </tbody>\n",
       "</table>\n",
       "</div>"
      ],
      "text/plain": [
       "     disease_2                 treecode\n",
       "0  Albuminuria      C12.777.934.734.269\n",
       "1  Albuminuria  C13.351.968.934.734.269\n",
       "2  Albuminuria      C23.888.942.750.269"
      ]
     },
     "execution_count": 640,
     "metadata": {},
     "output_type": "execute_result"
    }
   ],
   "source": [
    "test_df = pd.read_csv(\"Diabetes Mellitus, Type 1_01_all.csv\")[[\"disease_2\", \"treecode\"]]\n",
    "test_df[:3]"
   ]
  },
  {
   "cell_type": "code",
   "execution_count": 641,
   "metadata": {
    "scrolled": true
   },
   "outputs": [
    {
     "data": {
      "text/html": [
       "<div>\n",
       "<style scoped>\n",
       "    .dataframe tbody tr th:only-of-type {\n",
       "        vertical-align: middle;\n",
       "    }\n",
       "\n",
       "    .dataframe tbody tr th {\n",
       "        vertical-align: top;\n",
       "    }\n",
       "\n",
       "    .dataframe thead th {\n",
       "        text-align: right;\n",
       "    }\n",
       "</style>\n",
       "<table border=\"1\" class=\"dataframe\">\n",
       "  <thead>\n",
       "    <tr style=\"text-align: right;\">\n",
       "      <th></th>\n",
       "      <th>ja</th>\n",
       "      <th>en</th>\n",
       "      <th>treecode</th>\n",
       "    </tr>\n",
       "  </thead>\n",
       "  <tbody>\n",
       "    <tr>\n",
       "      <th>0</th>\n",
       "      <td>胃</td>\n",
       "      <td>Stomach</td>\n",
       "      <td>A03.556.875.875</td>\n",
       "    </tr>\n",
       "    <tr>\n",
       "      <th>1</th>\n",
       "      <td>胃</td>\n",
       "      <td>Gastrointestinal Diseases</td>\n",
       "      <td>C06.405</td>\n",
       "    </tr>\n",
       "    <tr>\n",
       "      <th>2</th>\n",
       "      <td>肝臓</td>\n",
       "      <td>Liver</td>\n",
       "      <td>A03.620</td>\n",
       "    </tr>\n",
       "  </tbody>\n",
       "</table>\n",
       "</div>"
      ],
      "text/plain": [
       "    ja                           en         treecode\n",
       "0   胃                      Stomach   A03.556.875.875\n",
       "1   胃    Gastrointestinal Diseases           C06.405\n",
       "2  肝臓                        Liver           A03.620"
      ]
     },
     "execution_count": 641,
     "metadata": {},
     "output_type": "execute_result"
    }
   ],
   "source": [
    "input_sheet_df[:3]"
   ]
  },
  {
   "cell_type": "code",
   "execution_count": 655,
   "metadata": {},
   "outputs": [
    {
     "name": "stdout",
     "output_type": "stream",
     "text": [
      "333\n",
      "273\n",
      "60\n"
     ]
    }
   ],
   "source": [
    "a = sample_df[[0,1]]\n",
    "print(len(a))\n",
    "print(len(a[~a.duplicated(keep=False)]))\n",
    "print(len(a[a.duplicated(keep=False)]))"
   ]
  },
  {
   "cell_type": "code",
   "execution_count": 671,
   "metadata": {},
   "outputs": [
    {
     "name": "stdout",
     "output_type": "stream",
     "text": [
      "333\n"
     ]
    },
    {
     "data": {
      "text/plain": [
       "<AxesSubplot:ylabel='None'>"
      ]
     },
     "execution_count": 671,
     "metadata": {},
     "output_type": "execute_result"
    },
    {
     "data": {
      "image/png": "[encoded data removed]",
      "text/plain": [
       "<Figure size 432x288 with 1 Axes>"
      ]
     },
     "metadata": {},
     "output_type": "display_data"
    }
   ],
   "source": [
    "sample_df=pd.DataFrame()\n",
    "for i in test_df.values.tolist():\n",
    "    for s in input_sheet_df.values.tolist():\n",
    "        if s[-1] in i[-1]:\n",
    "            sample_df = pd.concat([sample_df, pd.DataFrame([i[0],i[-1],s[0],s[1],s[-1]]).T] )\n",
    "print(len(sample_df))            \n",
    "sample_df[[3]].to_csv"
   ]
  },
  {
   "cell_type": "code",
   "execution_count": 673,
   "metadata": {},
   "outputs": [],
   "source": [
    "sample_df.to_excel('Diabetes Mellitus, Type 1_category.xlsx', index=False, header=False)"
   ]
  },
  {
   "cell_type": "code",
   "execution_count": 674,
   "metadata": {},
   "outputs": [
    {
     "data": {
      "text/plain": [
       "'/home/admin_user'"
      ]
     },
     "execution_count": 674,
     "metadata": {},
     "output_type": "execute_result"
    }
   ],
   "source": [
    "os.getcwd()"
   ]
  },
  {
   "cell_type": "markdown",
   "metadata": {},
   "source": [
    "#cosine>0.1\n",
    "disease_name = [\"Diabetes Mellitus, Type 1\", \"Diabetes Mellitus, Type 2\", \"Schizophrenia\", \"Arthritis, Rheumatoid\"]\n",
    "for i in disease_name:\n",
    "    pd.read_csv(str(i)+\"_01.csv\")[\"treecode\"].value_counts().plot.pie()\n",
    "    print(i)\n",
    "    plt.show()\n"
   ]
  },
  {
   "cell_type": "markdown",
   "metadata": {},
   "source": [
    "#cosine>0.5\n",
    "disease_name = [\"Diabetes Mellitus, Type 1\", \"Diabetes Mellitus, Type 2\", \"Schizophrenia\", \"Arthritis, Rheumatoid\"]\n",
    "for i in disease_name:\n",
    "    pd.read_csv(str(i)+\"_tree.csv\")[\"treecode\"].value_counts().plot.pie()\n",
    "    print(i)\n",
    "    plt.show()"
   ]
  },
  {
   "cell_type": "code",
   "execution_count": 564,
   "metadata": {
    "scrolled": true
   },
   "outputs": [
    {
     "name": "stdout",
     "output_type": "stream",
     "text": [
      "['D065309', 'Atypical Squamous Cells of the Cervix', ['A11.436.123', 'C04.834.818.249', 'C13.351.500.852.593.074.249', 'C23.149.500']]\n",
      "['D065309', 'Atypical Squamous Cells of the Cervix', ['A11.436.123', 'C04.834.818.249', 'C13.351.500.852.593.074.249', 'C23.149.500']]\n",
      "['D065309', 'Atypical Squamous Cells of the Cervix', ['A11.436.123', 'C04.834.818.249', 'C13.351.500.852.593.074.249', 'C23.149.500']]\n",
      "['D065309', 'Atypical Squamous Cells of the Cervix', ['A11.436.123', 'C04.834.818.249', 'C13.351.500.852.593.074.249', 'C23.149.500']]\n",
      "['D000072662', 'Margins of Excision', ['A10.830', 'C23.149.625']]\n",
      "['D000072662', 'Margins of Excision', ['A10.830', 'C23.149.625']]\n",
      "['D048629', 'Micronuclei, Chromosome-Defective', ['A11.284.430.106.570', 'A11.284.430.214.190.875.117.570', 'C23.550.210.570', 'G05.365.590.175.570']]\n",
      "['D048629', 'Micronuclei, Chromosome-Defective', ['A11.284.430.106.570', 'A11.284.430.214.190.875.117.570', 'C23.550.210.570', 'G05.365.590.175.570']]\n",
      "['D048629', 'Micronuclei, Chromosome-Defective', ['A11.284.430.106.570', 'A11.284.430.214.190.875.117.570', 'C23.550.210.570', 'G05.365.590.175.570']]\n",
      "['D048629', 'Micronuclei, Chromosome-Defective', ['A11.284.430.106.570', 'A11.284.430.214.190.875.117.570', 'C23.550.210.570', 'G05.365.590.175.570']]\n"
     ]
    }
   ],
   "source": [
    "for i in pd.read_csv(\"Diabetes Mellitus, Type 2_01.csv\")[\"disease_2\"]:\n",
    "    for mesh in mesh_list:\n",
    "        if (i==mesh[1]):\n",
    "            for ms in mesh[-1]:\n",
    "                if \"A\" in ms:\n",
    "                    print(mesh)\n",
    "                    break;"
   ]
  },
  {
   "cell_type": "code",
   "execution_count": null,
   "metadata": {},
   "outputs": [],
   "source": [
    "words_ja = [\"脳\",\"肝臓\",\"胆嚢\",\"腎臓\",\"膵臓\",\"脾臓\",\"心臓\",\"心臓血管\",\"末梢神経\",\"虫垂\",\"大腸\",\"小腸\",\n",
    "            \"肺\",\"目\",\"胃\",\"脂肪組織\",\"生殖腺\",\"筋肉\",\"骨格\",\"皮膚\"]"
   ]
  },
  {
   "cell_type": "code",
   "execution_count": 560,
   "metadata": {
    "scrolled": true
   },
   "outputs": [
    {
     "name": "stdout",
     "output_type": "stream",
     "text": [
      "脳 | Brain | A08.186.211\n",
      "肝臓 | Liver | A03.620\n",
      "胆嚢 | Gallbladder | A03.159.439\n",
      "腎臓 | Kidney | A05.810.453\n",
      "膵臓 | Pancreas | A03.734\n",
      "脾臓 | Spleen | A10.549.700\n",
      "脾臓 | Spleen | A15.382.520.604.700\n",
      "心臓 | Heart | A07.541\n",
      "心臓血管 | Cardiovascular System | A07\n",
      "末梢神経 | Peripheral Nerves | A08.800.800\n",
      "虫垂 | Appendix | A03.556.124.526.209.290\n",
      "虫垂 | Appendix | A03.556.249.249.209.290\n",
      "大腸 | Intestine, Large | A03.556.124.526\n",
      "大腸 | Intestine, Large | A03.556.249.249\n",
      "小腸 | Intestine, Small | A03.556.124.684\n",
      "肺 | Lung | A04.411\n",
      "目 | Eye | A01.456.505.420\n",
      "目 | Eye | A09.371\n",
      "胃 | Stomach | A03.556.875.875\n",
      "脂肪組織 | Adipose Tissue | A10.165.114\n",
      "生殖腺 | Gonads | A05.360.576\n",
      "生殖腺 | Gonads | A06.300.312\n",
      "筋肉 | Muscles | A02.633\n",
      "筋肉 | Muscles | A10.690\n",
      "骨格 | Bone and Bones | A02.835.232\n",
      "骨格 | Bone and Bones | A10.165.265\n",
      "皮膚 | Skin | A17.815\n"
     ]
    }
   ],
   "source": [
    "words_ja = [\"脳\",\"肝臓\",\"胆嚢\",\"腎臓\",\"膵臓\",\"脾臓\",\"心臓\",\"心臓血管\",\"末梢神経\",\"虫垂\",\"大腸\",\"小腸\",\n",
    "            \"肺\",\"目\",\"胃\",\"脂肪組織\",\"生殖腺\",\"筋肉\",\"骨格\",\"皮膚\"]\n",
    "words = [\"Brain\",\"Liver\",\"Gallbladder\",\"Kidney\",\"Pancreas\",\"Spleen\",\"Heart\",\"Cardiovascular System\",\"Peripheral Nerves\",\"Appendix\",\n",
    "         \"Intestine, Large\",\"Intestine, Small\",\"Lung\",\"Eye\",\"Stomach\",\"Adipose Tissue\",\"Gonads\",\"Muscles\",\"Bone and Bones\",\"Skin\"]\n",
    "category_list = []\n",
    "for enu, (word_ja, word) in enumerate(zip(words_ja, words)):\n",
    "    for i in mesh_list:       \n",
    "        if word == i[1]:\n",
    "            #print(word_ja,\"|\",i[1],\"|\",i[-1])\n",
    "            for item in i[-1]:\n",
    "                print(word_ja,\"|\",i[1],\"|\",item)"
   ]
  },
  {
   "cell_type": "code",
   "execution_count": 561,
   "metadata": {},
   "outputs": [
    {
     "name": "stdout",
     "output_type": "stream",
     "text": [
      "脳 | Brain Diseases | C10.228.140\n",
      "肝臓 | Liver Diseases | C06.552\n",
      "胆嚢 | Gallbladder Diseases | C06.130.564\n",
      "腎臓 | Kidney Diseases | C12.777.419\n",
      "腎臓 | Kidney Diseases | C13.351.968.419\n",
      "膵臓 | Pancreatic Diseases | C06.689\n",
      "脾臓 | Splenic Diseases | C15.604.744\n",
      "心臓 | Heart Diseases | C14.280\n",
      "心臓血管 | Cardiovascular Diseases | C14\n",
      "小腸 | Intestinal Diseases | C06.405.469\n",
      "肺 | Lung Diseases | C08.381\n",
      "目 | Eye Diseases | C11\n",
      "筋肉 | Muscular Diseases | C05.651\n",
      "筋肉 | Muscular Diseases | C10.668.491\n",
      "骨格 | Bone Diseases | C05.116\n",
      "皮膚 | Skin Diseases | C17.800\n"
     ]
    }
   ],
   "source": [
    "words = [\"Brain\",\"Liver\",\"Gallbladder\",\"Kidney\",\"Pancreatic\",\"Splenic\",\"Heart\",\"Cardiovascular\",\"Peripheral Nerv\",\"Append\",\n",
    "         \"Colon\",\"Intestinal\",\"Lung\",\"Eye\",\"Gastr\",\"Adipose Tissue\",\"Gonadal\",\"Muscular\",\"Bone\",\"Skin\"]\n",
    "\n",
    "for enu, (word_ja, word) in enumerate(zip(words_ja, words)):\n",
    "    for i in mesh_df.values.tolist(): \n",
    "        if (word+\" Diseases\" in i[1]) & (i[1].startswith(word)) & (i[1].endswith(\"Diseases\")):\n",
    "            #print(word_ja,\"|\",i[1],\"|\",i[-1])\n",
    "            for item in i[-1]:\n",
    "                print(word_ja,\"|\",i[1],\"|\",item)\n"
   ]
  },
  {
   "cell_type": "code",
   "execution_count": 562,
   "metadata": {},
   "outputs": [
    {
     "name": "stdout",
     "output_type": "stream",
     "text": [
      "脳 | Brain Diseases | ['C10.228.140']\n",
      "脳 | Brain Diseases, Metabolic | ['C10.228.140.163', 'C18.452.132']\n",
      "脳 | Brain Diseases, Metabolic, Inborn | ['C10.228.140.163.100', 'C16.320.565.189', 'C18.452.132.100', 'C18.452.648.189']\n",
      "肝臓 | Liver Diseases | ['C06.552']\n",
      "肝臓 | Liver Diseases, Alcoholic | ['C06.552.645', 'C25.775.100.087.645']\n",
      "肝臓 | Liver Diseases, Parasitic | ['C01.610.518', 'C06.552.664']\n",
      "胆嚢 | Gallbladder Diseases | ['C06.130.564']\n",
      "腎臓 | Kidney Diseases | ['C12.777.419', 'C13.351.968.419']\n",
      "腎臓 | Polycystic Kidney Diseases | ['C12.777.419.403.875', 'C13.351.968.419.403.875', 'C16.131.077.717', 'C16.320.184.625']\n",
      "腎臓 | Kidney Diseases, Cystic | ['C12.777.419.403', 'C13.351.968.419.403']\n",
      "腎臓 | National Institute of Diabetes and Digestive and Kidney Diseases (U.S.) | ['I01.409.418.750.600.650.496.450', 'N03.540.052.750.450', 'N03.540.348.500.500.600.650.496.450']\n",
      "膵臓 | Pancreatic Diseases | ['C06.689']\n",
      "脾臓 | Splenic Diseases | ['C15.604.744']\n",
      "心臓 | Heart Conduction System | ['A07.541.409']\n",
      "心臓 | Heart Diseases | ['C14.280']\n",
      "心臓 | Heart Valve Diseases | ['C14.280.484']\n",
      "心臓血管 | Cardiovascular Diseases | ['C14']\n",
      "心臓血管 | Cardiovascular System | ['A07']\n",
      "末梢神経 | Peripheral Nervous System Diseases | ['C10.668.829']\n",
      "末梢神経 | Peripheral Nervous System Neoplasms | ['C04.588.614.596', 'C10.551.775', 'C10.668.829.725']\n",
      "末梢神経 | Peripheral Nervous System | ['A08.800']\n",
      "末梢神経 | Peripheral Nervous System Agents | ['D27.505.696.663']\n",
      "大腸 | Colonic Diseases | ['C06.405.469.158']\n",
      "大腸 | Colonic Diseases, Functional | ['C06.405.469.158.272']\n",
      "小腸 | Intestinal Diseases | ['C06.405.469']\n",
      "小腸 | Intestinal Diseases, Parasitic | ['C01.610.432', 'C06.405.469.452']\n",
      "肺 | Lung Diseases | ['C08.381']\n",
      "肺 | Lung Diseases, Fungal | ['C01.150.703.534', 'C01.748.435', 'C08.381.472', 'C08.730.435']\n",
      "肺 | Lung Diseases, Obstructive | ['C08.381.495']\n",
      "肺 | Lung Diseases, Parasitic | ['C01.610.582', 'C01.748.450', 'C08.381.517', 'C08.730.450']\n",
      "肺 | Lung Diseases, Interstitial | ['C08.381.483']\n",
      "目 | Eye Diseases | ['C11']\n",
      "目 | Eyelid Diseases | ['C11.338']\n",
      "目 | Eye Diseases, Hereditary | ['C11.270', 'C16.320.290']\n",
      "胃 | Gastrointestinal Diseases | ['C06.405']\n",
      "生殖腺 | Gonadal Disorders | ['C19.391']\n",
      "筋肉 | Muscular Diseases | ['C05.651', 'C10.668.491']\n",
      "筋肉 | Muscular Disorders, Atrophic | ['C05.651.534', 'C10.668.491.175']\n",
      "骨格 | Bone Marrow Failure Disorders | ['C15.378.190.223']\n",
      "骨格 | Bone Diseases | ['C05.116']\n",
      "骨格 | Bone Diseases, Developmental | ['C05.116.099']\n",
      "骨格 | Bone Diseases, Endocrine | ['C05.116.132', 'C19.149']\n",
      "骨格 | Bone Diseases, Infectious | ['C01.160', 'C05.116.165']\n",
      "骨格 | Bone Diseases, Metabolic | ['C05.116.198', 'C18.452.104']\n",
      "骨格 | Bone Marrow Diseases | ['C15.378.190']\n",
      "皮膚 | Skin Diseases | ['C17.800']\n",
      "皮膚 | Skin Diseases, Vesiculobullous | ['C17.800.865']\n",
      "皮膚 | Skin Diseases, Genetic | ['C16.320.850', 'C17.800.827']\n",
      "皮膚 | Skin Diseases, Infectious | ['C01.800', 'C17.800.838']\n",
      "皮膚 | Skin Diseases, Metabolic | ['C17.800.849', 'C18.452.880']\n",
      "皮膚 | Skin Diseases, Parasitic | ['C01.610.858', 'C17.800.838.775']\n",
      "皮膚 | Skin Diseases, Bacterial | ['C01.150.252.819', 'C01.800.720', 'C17.800.838.765']\n",
      "皮膚 | Skin Diseases, Viral | ['C01.925.825', 'C17.800.838.790']\n",
      "皮膚 | Skin and Connective Tissue Diseases | ['C17']\n",
      "皮膚 | Skin Diseases, Eczematous | ['C17.800.815']\n",
      "皮膚 | Skin Diseases, Papulosquamous | ['C17.800.859']\n",
      "皮膚 | Skin Diseases, Vascular | ['C17.800.862']\n",
      "皮膚 | National Institute of Arthritis and Musculoskeletal and Skin Diseases (U.S.) | ['I01.409.418.750.600.650.496.425', 'N03.540.052.750.425', 'N03.540.348.500.500.600.650.496.425']\n"
     ]
    }
   ],
   "source": [
    "words = [\"Brain\",\"Liver\",\"Gallbladder\",\"Kidney\",\"Pancreatic\",\"Splenic\",\"Heart\",\"Cardiovascular\",\"Peripheral Nerv\",\"Append\",\n",
    "         \"Colon\",\"Intestinal\",\"Lung\",\"Eye\",\"Gastr\",\"Adipose Tissue\",\"Gonadal\",\"Muscular\",\"Bone\",\"Skin\"]\n",
    "\n",
    "for enu, (word_ja, word) in enumerate(zip(words_ja, words)):\n",
    "    for i in mesh_df.values.tolist(): \n",
    "        if word+\" Diseases\" in i[1]:\n",
    "            print(word_ja,\"|\",i[1],\"|\",i[-1])\n",
    "\n",
    "            \n",
    "        elif (word in i[1]) & (\" Diseases\" in i[1]):\n",
    "            print(word_ja,\"|\",i[1],\"|\",i[-1])\n",
    "\n",
    "        elif (word in i[1]) & (\" Disorders\" in i[1]):\n",
    "            print(word_ja,\"|\",i[1],\"|\",i[-1])\n",
    "\n",
    "\n",
    "        elif (word in i[1]) & (\" System\" in i[1]):\n",
    "            print(word_ja,\"|\",i[1],\"|\",i[-1])\n",
    "\n"
   ]
  },
  {
   "cell_type": "markdown",
   "metadata": {},
   "source": [
    "    Brain ['Brain Diseases', ['C10.228.140']]\n",
    "    Liver ['Liver Diseases', ['C06.552']]\n",
    "    Gallbladder ['Gallbladder Diseases', ['C06.130.564']]\n",
    "    Kidney ['Kidney Diseases', ['C12.777.419', 'C13.351.968.419']]\n",
    "    Heart ['Heart Diseases', ['C14.280']]\n",
    "    Cardiovascular ['Cardiovascular Diseases', ['C14']]\n",
    "    --------------------\n",
    "4 Pancreas\n",
    "5 Spleen\n",
    "8 Peripheral Nerves\n",
    "9 Appendix"
   ]
  },
  {
   "cell_type": "markdown",
   "metadata": {},
   "source": [
    "\n",
    "disease_name = [\"Diabetes Mellitus, Type 1\", \"Diabetes Mellitus, Type 2\", \"Schizophrenia\", \"Arthritis, Rheumatoid\"]\n",
    "for i in disease_name[:]:\n",
    "    #print(i)\n",
    "    val_df = pd.DataFrame()\n",
    "    val_4 = pd.DataFrame()\n",
    "    val_1 = repivot_pair_df[(repivot_pair_df[\"disease_1\"] == i) &(repivot_pair_df[\"cosine_similarity\"] > 0.5) ].sort_values(\"cosine_similarity\",ascending=False)\n",
    "    val_2 = repivot_pair_df[(repivot_pair_df[\"disease_2\"] == i) &(repivot_pair_df[\"cosine_similarity\"] > 0.5) ].sort_values(\"cosine_similarity\",ascending=False)\n",
    "    val_2 = val_2.rename(columns={\"disease_1\":\"disease_2\", \"disease_2\":\"disease_1\"})\n",
    "    val_3= pd.concat([val_df, val_1, val_2]).reset_index(drop=True)    \n",
    "    print(len(val_3))\n",
    "    \n",
    "    #ユニークな疾患名がどのメッシュカテゴリーに含まれるか\n",
    "    disease_category = []\n",
    "    for  disease in val_3[\"disease_2\"]:\n",
    "        for mesh in mesh_list:\n",
    "            if disease == mesh[1]:\n",
    "                #print(i)\n",
    "                #print([m[:3] for m in mesh[-1]])\n",
    "                disease_category.extend ([[disease, m[:3]] for m in mesh[-1]])\n",
    "                \n",
    "    val_4 = pd.merge(val_3, pd.DataFrame(disease_category, columns=[\"disease_2\", \"treecode\"]), on=\"disease_2\")\n",
    "    \n",
    "    val_4[\"treename\"]=0\n",
    "    for enu, code in enumerate(val_4[\"treecode\"]):\n",
    "        for cate_num in tree_cate:\n",
    "            if code == cate_num[0]:\n",
    "                val_4[\"treename\"][enu] = cate_num[1]\n",
    "    \n",
    "    #val_4[\"category\"] = val_4[\"treecode\"]+\"_\"+val_4[\"treename\"]\n",
    "    val_4.to_csv(i+\"_tree.csv\", index=False)\n",
    "    print(i+\"_tree.csv\", len(val_4))"
   ]
  },
  {
   "cell_type": "code",
   "execution_count": 199,
   "metadata": {
    "scrolled": false
   },
   "outputs": [
    {
     "name": "stdout",
     "output_type": "stream",
     "text": [
      "                   disease_1    disease_2  cosine_similarity treecode\n",
      "0  Diabetes Mellitus, Type 1  Albuminuria             0.9404      C12\n",
      "1  Diabetes Mellitus, Type 1  Albuminuria             0.9404      C13\n",
      "2  Diabetes Mellitus, Type 1  Albuminuria             0.9404      C23\n"
     ]
    },
    {
     "data": {
      "text/plain": [
       "<AxesSubplot:ylabel='treecode'>"
      ]
     },
     "execution_count": 199,
     "metadata": {},
     "output_type": "execute_result"
    },
    {
     "data": {
      "image/png": "[encoded data removed]",
      "text/plain": [
       "<Figure size 432x288 with 1 Axes>"
      ]
     },
     "metadata": {},
     "output_type": "display_data"
    }
   ],
   "source": [
    "DF = pd.read_csv(\"Diabetes Mellitus, Type 1_tree.csv\")\n",
    "DF[\"treecode\"].value_counts().plot.pie()"
   ]
  },
  {
   "cell_type": "code",
   "execution_count": 296,
   "metadata": {},
   "outputs": [
    {
     "data": {
      "text/plain": [
       "<AxesSubplot:ylabel='treecode'>"
      ]
     },
     "execution_count": 296,
     "metadata": {},
     "output_type": "execute_result"
    },
    {
     "data": {
      "image/png": "[encoded data removed]",
      "text/plain": [
       "<Figure size 432x288 with 1 Axes>"
      ]
     },
     "metadata": {},
     "output_type": "display_data"
    }
   ],
   "source": [
    "DF = pd.read_csv(\"Diabetes Mellitus, Type 2_tree.csv\")\n",
    "DF[\"treecode\"].value_counts().plot.pie()"
   ]
  },
  {
   "cell_type": "code",
   "execution_count": 295,
   "metadata": {},
   "outputs": [
    {
     "data": {
      "text/plain": [
       "<AxesSubplot:ylabel='treecode'>"
      ]
     },
     "execution_count": 295,
     "metadata": {},
     "output_type": "execute_result"
    },
    {
     "data": {
      "image/png": "[encoded data removed]",
      "text/plain": [
       "<Figure size 432x288 with 1 Axes>"
      ]
     },
     "metadata": {},
     "output_type": "display_data"
    }
   ],
   "source": [
    "DF = pd.read_csv(\"Arthritis, Rheumatoid_tree.csv\")\n",
    "DF[\"treecode\"].value_counts().plot.pie()"
   ]
  },
  {
   "cell_type": "code",
   "execution_count": null,
   "metadata": {},
   "outputs": [],
   "source": [
    "#コサイン値1の疾患ペア（同じ疾患同士は除く）から、ユニークな疾患名を抽出\n",
    "\n",
    "cos1_disease_name = list(set( [i[0] for i in repivot_pair  if i[-1]==1] + [i[1] for i in repivot_pair if i[-1]==1] ))\n",
    "#3桁のメッシュ＝メッシュカテゴリー　を抽出\n",
    "tree_cate = [ [mesh[1], mesh[-1][0]] for mesh in mesh_list for s in mesh[-1] if len(s) == 3 ]\n",
    "\n",
    "#ユニークな疾患名がどのメッシュカテゴリーに含まれるか調査\n",
    "cos1_disease_category = []\n",
    "for  i in cos1_disease_name:\n",
    "    for mesh in mesh_list:\n",
    "        if i == mesh[1]:\n",
    "            cos1_disease_category.extend ([m[:3] for m in mesh[-1]])\n",
    "            \n",
    "cos1_disease_category_set = []\n",
    "for i in cos1_disease_category:\n",
    "    for mesh in tree_cate:\n",
    "        if i==mesh[-1]:\n",
    "            cos1_disease_category_set.append(mesh )\n",
    "\n",
    "print(pd.Series( pd.DataFrame(cos1_disease_category_set)[1] +\" \"+ pd.DataFrame(cos1_disease_category_set)[0] ).value_counts())\n",
    "pd.DataFrame(cos1_disease_category_set)[1].value_counts().plot.bar()"
   ]
  },
  {
   "cell_type": "code",
   "execution_count": null,
   "metadata": {},
   "outputs": [],
   "source": []
  }
 ],
 "metadata": {
  "kernelspec": {
   "display_name": "Python 3",
   "language": "python",
   "name": "python3"
  },
  "language_info": {
   "codemirror_mode": {
    "name": "ipython",
    "version": 3
   },
   "file_extension": ".py",
   "mimetype": "text/x-python",
   "name": "python",
   "nbconvert_exporter": "python",
   "pygments_lexer": "ipython3",
   "version": "3.8.8"
  }
 },
 "nbformat": 4,
 "nbformat_minor": 2
}
