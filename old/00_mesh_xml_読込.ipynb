{
 "cells": [
  {
   "cell_type": "code",
   "execution_count": 1,
   "metadata": {},
   "outputs": [],
   "source": [
    "import math\n",
    "import matplotlib.pyplot as plt\n",
    "import matplotlib.cm as cm\n",
    "import numpy as np\n",
    "import pandas as pd\n",
    "import requests #HTTP通信\n",
    "import urllib.parse #URLの解釈(パース)\n",
    "import uuid #重複しないIDを作る\n",
    "import xml.etree.ElementTree as ET #XMLを解析\n",
    "from collections import OrderedDict\n",
    "from tqdm import tqdm"
   ]
  },
  {
   "cell_type": "code",
   "execution_count": 5,
   "metadata": {},
   "outputs": [],
   "source": [
    "#2021メッシュ読込\n",
    "import os\n",
    "#全タームのxmlファイルから作成\n",
    "os.chdir('/home/admin_user/')\n",
    "tree = ET.parse('desc2021.xml')# 返値はElementTree型\n",
    "root = tree.getroot()"
   ]
  },
  {
   "cell_type": "code",
   "execution_count": 6,
   "metadata": {},
   "outputs": [
    {
     "name": "stdout",
     "output_type": "stream",
     "text": [
      "29917\n"
     ]
    }
   ],
   "source": [
    "#読み込んだメッシュをリストにしておく\n",
    "mesh_list_2021 = [[ root[i][0].text, root[i][1][0].text, [i.text for i in root[i].iter('TreeNumber')] ] for i in range(len(root))]\n",
    "print(len(mesh_list_2021))"
   ]
  },
  {
   "cell_type": "code",
   "execution_count": 7,
   "metadata": {},
   "outputs": [],
   "source": [
    "#pickle保存\n",
    "import pickle\n",
    "with open('mesh_list_2021.pickle', 'wb') as f:\n",
    "    pickle.dump(mesh_list_2021, f)"
   ]
  }
 ],
 "metadata": {
  "kernelspec": {
   "display_name": "Python 3 (ipykernel)",
   "language": "python",
   "name": "python3"
  },
  "language_info": {
   "codemirror_mode": {
    "name": "ipython",
    "version": 3
   },
   "file_extension": ".py",
   "mimetype": "text/x-python",
   "name": "python",
   "nbconvert_exporter": "python",
   "pygments_lexer": "ipython3",
   "version": "3.8.13"
  }
 },
 "nbformat": 4,
 "nbformat_minor": 4
}
