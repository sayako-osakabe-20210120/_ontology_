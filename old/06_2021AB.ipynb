{
 "cells": [
  {
   "cell_type": "code",
   "execution_count": 1,
   "id": "952baded",
   "metadata": {},
   "outputs": [],
   "source": [
    "# ライブラリ読み込み\n",
    "import pandas as pd\n",
    "import numpy as np\n",
    "import matplotlib.pyplot as plt\n",
    "import pronto\n",
    "import copy\n",
    "import networkx as nx\n",
    "import os\n",
    "import pickle\n",
    "import glob\n",
    "import gzip\n",
    "from tqdm.notebook import tqdm\n",
    "import itertools\n",
    "#from collections import OrderedDict\n",
    "#import collections\n",
    "#from collections import Counter"
   ]
  },
  {
   "cell_type": "code",
   "execution_count": 2,
   "id": "ad1b6948",
   "metadata": {},
   "outputs": [],
   "source": [
    "#current\n",
    "os.chdir(\"/home/admin_user/デスクトップ/UMLS2021AB\")\n",
    "\n",
    "#file_1 : pronto.Ontology.from_obo_library(\"hp.obo\")\n",
    "file_2 = \"phenotype.hpoa\"\n",
    "file_3 = \"CTD_diseases.tsv.gz\"\n",
    "file_4 = \"MRFILES.RRF.gz\"\n",
    "file_5 = \"MRSTY.RRF.gz\"\n",
    "file_6 = \"MRCONSO.RRF.aa.gz\"\n",
    "file_7 = \"MRCONSO.RRF.ab.gz\"\n",
    "file_8 = \"SRFIL\""
   ]
  },
  {
   "cell_type": "code",
   "execution_count": 3,
   "id": "c80f0d52",
   "metadata": {},
   "outputs": [],
   "source": [
    "#HPOオントロジー"
   ]
  },
  {
   "cell_type": "code",
   "execution_count": 4,
   "id": "4e44c926",
   "metadata": {},
   "outputs": [
    {
     "name": "stderr",
     "output_type": "stream",
     "text": [
      "/home/admin_user/anaconda3/lib/python3.8/site-packages/pronto/ontology.py:206: UnicodeWarning: unsound encoding, assuming ISO-8859-1 (73% confidence)\n",
      "  return cls(\n"
     ]
    },
    {
     "name": "stdout",
     "output_type": "stream",
     "text": [
      "16601\n"
     ]
    }
   ],
   "source": [
    "# 'hp.obo'読み込み　タームを取り出す\n",
    "ont = pronto.Ontology.from_obo_library(\"hp.obo\")\n",
    "print(len(ont))"
   ]
  },
  {
   "cell_type": "code",
   "execution_count": 5,
   "id": "0aa3a475",
   "metadata": {},
   "outputs": [
    {
     "name": "stdout",
     "output_type": "stream",
     "text": [
      "HPの数: 11600 CUIの数: 12868 マッピングの数: 13017 13017\n"
     ]
    }
   ],
   "source": [
    "#HPOオントロジー中で XREFにUMLSを持つもの(UMLSへのマッピングの数)\n",
    "\n",
    "hp=[]\n",
    "umls = []\n",
    "hp_umls=[]\n",
    "hp_cui = []\n",
    "\n",
    "for term in ont.terms():\n",
    "#    if term.obsolete == False: #廃止タームを除く場合\n",
    "        for each_xref in term.xrefs:\n",
    "            if (\"Xref('UMLS:\" in str(each_xref)):\n",
    "                cui = str(each_xref).replace(\"Xref('UMLS:\", \"\").replace(\"')\", \"\")\n",
    "                hp.append(term.id) #HPO_id\n",
    "                umls.append( cui) #CUI\n",
    "                hp_umls.append([term.id, cui]) #HPO_id, CUI\n",
    "                hp_cui.append([term.name + '(' + term.id + ')', term.id, cui]) #HPO_id, HPO_name, CUI\n",
    "                \n",
    "hp = sorted(list(set(hp)))\n",
    "umls = sorted(list(set(umls)))\n",
    "hp_umls = sorted(list(map(list, set(map(tuple, hp_umls)))))\n",
    "hp_cui = sorted(list(map(list, set(map(tuple, hp_cui)))))\n",
    "\n",
    "print(\"HPの数:\", len(hp), \"CUIの数:\", len(umls), \"マッピングの数:\", len(hp_umls) ,len(hp_cui) )\n",
    "\n",
    "#廃止タームを除外  HPの数: 11599 CUIの数: 12867 マッピングの数: 13016"
   ]
  },
  {
   "cell_type": "code",
   "execution_count": 6,
   "id": "3b009eb1",
   "metadata": {
    "scrolled": true
   },
   "outputs": [
    {
     "name": "stdout",
     "output_type": "stream",
     "text": [
      "phenotype.hpoa\n",
      "hpoaのアノテーション総数: 120331\n",
      "hpoaのOMIMの種類数: 8120\n",
      "hpoaのHPOの種類数: 8041\n"
     ]
    }
   ],
   "source": [
    "#'phenotype.hpoa'読み込み\n",
    "print(file_2)\n",
    "phenotype_df = pd.read_csv(file_2, header=4, sep=\"\\t\", engine=\"python\")\n",
    "#列名#DatabaseIDをOMIM に絞る\n",
    "phenotype_df = phenotype_df[phenotype_df[\"#DatabaseID\"].str.contains(\"OMIM\")]\n",
    "phenotype_df = phenotype_df.rename(columns={'#DatabaseID': \"OMIM\", \"HPO_ID\":\"HP\"})\n",
    "phenotype_df = phenotype_df[[\"HP\", \"OMIM\"]]\n",
    "print(\"hpoaのアノテーション総数:\", len(phenotype_df))\n",
    "print(\"hpoaのOMIMの種類数:\", phenotype_df[\"OMIM\"].nunique())\n",
    "print(\"hpoaのHPOの種類数:\", phenotype_df[\"HP\"].nunique())"
   ]
  },
  {
   "cell_type": "code",
   "execution_count": 7,
   "id": "1bb2df76",
   "metadata": {},
   "outputs": [
    {
     "name": "stdout",
     "output_type": "stream",
     "text": [
      "phenotype.hpoaにあるHPOからのCUIマッピング: 117950\n",
      "そのHPOの数: 7125\n",
      "そのOMIMの数: 8120\n"
     ]
    }
   ],
   "source": [
    "#phenotype.hpoaにあるHPOのCUIマッピング\n",
    "\n",
    "#XREFにUMLSを持つHPO\n",
    "hp_df = pd.DataFrame(hp, columns=[\"HP\"]) \n",
    "#phenotype_dfと合わせる\n",
    "print(\"phenotype.hpoaにあるHPOからのCUIマッピング:\", len(pd.merge(phenotype_df, hp_df)))\n",
    "print(\"そのHPOの数:\", pd.merge(phenotype_df, hp_df)[\"HP\"].nunique())\n",
    "print(\"そのOMIMの数:\", pd.merge(phenotype_df, hp_df)[\"OMIM\"].nunique())"
   ]
  },
  {
   "cell_type": "code",
   "execution_count": null,
   "id": "92545de0",
   "metadata": {},
   "outputs": [],
   "source": []
  },
  {
   "cell_type": "code",
   "execution_count": 8,
   "id": "4049eb60",
   "metadata": {},
   "outputs": [],
   "source": [
    "#CTD"
   ]
  },
  {
   "cell_type": "code",
   "execution_count": 9,
   "id": "2e4b7128",
   "metadata": {},
   "outputs": [
    {
     "name": "stdout",
     "output_type": "stream",
     "text": [
      "CTD_diseases.tsv.gz\n",
      "CTDレコード件数: 13144\n",
      "AltDiseaseIDsを持つレコード件数: 6595\n"
     ]
    }
   ],
   "source": [
    "print(file_3) #2011検証と共通\n",
    "all_ctd = pd.read_csv(file_3, sep='\\t', header=27)\n",
    "all_ctd = all_ctd[1:]\n",
    "print(\"CTDレコード件数:\", len(all_ctd))\n",
    "\n",
    "#ctd = ctd.rename(columns={\"# DiseaseName\": \"DiseaseName\"}) #列名変更\n",
    "ctd = all_ctd[[\"DiseaseID\", \"AltDiseaseIDs\"]] #列を限定（→重複データなし ctd[~ctd.duplicated()]）\n",
    "#DAltDiseaseIDsを持つものに限定\n",
    "ctd = ctd[ctd[\"AltDiseaseIDs\"].notna()]\n",
    "ctd = ctd.reset_index(drop=True)\n",
    "print(\"AltDiseaseIDsを持つレコード件数:\", len(ctd))\n",
    "\n"
   ]
  },
  {
   "cell_type": "code",
   "execution_count": 10,
   "id": "59352c76",
   "metadata": {},
   "outputs": [
    {
     "name": "stdout",
     "output_type": "stream",
     "text": [
      "3330\n"
     ]
    }
   ],
   "source": [
    "#DiseaseIDかAltDiseaseIDs に MESHかOMIMを持つレコードを探し、そのインデックス番号を取得\n",
    "\n",
    "#「MeSH」\n",
    "m_o_map_index = [ enu for enu, i in enumerate(ctd.values.tolist()) if ((\"MESH\" in i[0]) & (\"OMIM\" in i[1])) | ((\"OMIM\" in i[0]) & (\"MESH\" in i[1]))]\n",
    "\n",
    "#インデックス番号でctdをサイズダウン\n",
    "m_o_map = ctd.iloc[m_o_map_index]\n",
    "m_o_map = m_o_map.reset_index(drop=True)\n",
    "print(len(m_o_map))\n",
    "\n",
    "#AltDiseaseIDs列のデータを要素に分割\n",
    "m_o_map[\"AltDiseaseIDs\"] = m_o_map[\"AltDiseaseIDs\"].str.split(\"|\")"
   ]
  },
  {
   "cell_type": "code",
   "execution_count": 11,
   "id": "b79b69ab",
   "metadata": {},
   "outputs": [
    {
     "name": "stdout",
     "output_type": "stream",
     "text": [
      "MESH\n",
      "MeSH-OMIMマッピングの数: 4051\n",
      "MESHの数: 3330\n",
      "OMIMの数: 4051\n"
     ]
    }
   ],
   "source": [
    "#m_o_mapは DiseaseID(MESH)：AltDiseaseIDs(他)＝１：n なので, DiseaseID(MESH)：AltDiseaseIDs(OMIM)=１：１に絞り込む\n",
    "each_m_o_map = [ [m_o[0], each_id] for m_o in m_o_map.values.tolist() for each_id in m_o[1] if \"OMIM\" in each_id ]\n",
    "each_m_o_map_df = pd.DataFrame(each_m_o_map, columns=[\"MESH\", \"OMIM\"])\n",
    "print(\"MESH\")\n",
    "print(\"MeSH-OMIMマッピングの数:\", len(each_m_o_map_df))\n",
    "print(\"MESHの数:\", len(each_m_o_map_df[\"MESH\"].unique()))\n",
    "print(\"OMIMの数:\", len(each_m_o_map_df[\"OMIM\"].unique()))"
   ]
  },
  {
   "cell_type": "code",
   "execution_count": 12,
   "id": "84e2988d",
   "metadata": {},
   "outputs": [],
   "source": [
    "ctd = each_m_o_map_df"
   ]
  },
  {
   "cell_type": "code",
   "execution_count": 13,
   "id": "de87f862",
   "metadata": {
    "scrolled": true
   },
   "outputs": [
    {
     "name": "stdout",
     "output_type": "stream",
     "text": [
      "phenotype.hpoaのアノテーション総数: 120331 HP: 8041 OMIM: 8120\n",
      "CTDでマッピングされるMESH-OMIM: マッピング数: 4051 MESH: 3330 OMIM: 4051\n"
     ]
    }
   ],
   "source": [
    "print(\"phenotype.hpoaのアノテーション総数:\", len(phenotype_df), \"HP:\", phenotype_df[\"HP\"].nunique(), \"OMIM:\", phenotype_df[\"OMIM\"].nunique() )\n",
    "print('CTDでマッピングされるMESH-OMIM:', \"マッピング数:\", len(ctd), \"MESH:\", ctd[\"MESH\"].nunique(), \"OMIM:\", ctd[\"OMIM\"].nunique())"
   ]
  },
  {
   "cell_type": "code",
   "execution_count": null,
   "id": "dcd18846",
   "metadata": {},
   "outputs": [],
   "source": []
  },
  {
   "cell_type": "code",
   "execution_count": 14,
   "id": "907f0ec1",
   "metadata": {},
   "outputs": [],
   "source": [
    "#2012AA セマンティックタイプから,T184-CUI-HPOを調査"
   ]
  },
  {
   "cell_type": "code",
   "execution_count": 15,
   "id": "be88ecb9",
   "metadata": {},
   "outputs": [
    {
     "name": "stdout",
     "output_type": "stream",
     "text": [
      "MRFILES.RRF.gz\n"
     ]
    }
   ],
   "source": [
    "print(file_4)\n",
    "mrfiles = pd.read_csv(file_4, sep=\"\\|\", header=None, engine=\"python\")\n",
    "mrfiles.columns=[\"FIL\", \"DES\", \"FMT\", \"CLS\", \"RWS\" ,\"BTS\", 0]\n",
    "mrfiles = mrfiles.iloc[:,:-1]\n",
    "\n",
    "#FILがファイル名, FMTが列名\n",
    "mrfiles[\"FMT_split\"] = mrfiles [\"FMT\"].str.split(\",\")"
   ]
  },
  {
   "cell_type": "code",
   "execution_count": 16,
   "id": "e13edf5a",
   "metadata": {},
   "outputs": [
    {
     "name": "stdout",
     "output_type": "stream",
     "text": [
      "18 ['CUI', 'LAT', 'TS', 'LUI', 'STT', 'SUI', 'ISPREF', 'AUI', 'SAUI', 'SCUI', 'SDUI', 'SAB', 'TTY', 'CODE', 'STR', 'SRL', 'SUPPRESS', 'CVF']\n",
      "6 ['CUI', 'TUI', 'STN', 'STY', 'ATUI', 'CVF']\n"
     ]
    }
   ],
   "source": [
    "#列名取得\n",
    "conso_col = mrfiles[mrfiles [\"FIL\"] ==\"MRCONSO.RRF\"][\"FMT_split\"].values.tolist()[0] #2MRCONSO.RRF の列名\n",
    "mrsty_col = mrfiles[mrfiles [\"FIL\"] ==\"MRSTY.RRF\"][\"FMT_split\"].values.tolist()[0] #3\"MRSTY.RRF\"の列名\n",
    "print(len(conso_col), conso_col)\n",
    "print(len(mrsty_col), mrsty_col)"
   ]
  },
  {
   "cell_type": "code",
   "execution_count": 17,
   "id": "7abd909b",
   "metadata": {},
   "outputs": [
    {
     "name": "stdout",
     "output_type": "stream",
     "text": [
      "MRSTY.RRF.gz\n",
      "4864162\n"
     ]
    }
   ],
   "source": [
    "#3 MRSTY.RRF \tSemantic Types→セマンティックタイプ\n",
    "print(file_5)\n",
    "mrsty_org = pd.read_csv(file_5, sep=\"\\|\", header=None, engine=\"python\")\n",
    "mrsty_org.columns = mrsty_col + [0]\n",
    "mrsty_org = mrsty_org.iloc[:,:len(mrsty_col)]\n",
    "#データがあるのはCUI, TUI列のみだったので２列だけに絞る\n",
    "mrsty_org = mrsty_org[[\"CUI\", \"TUI\"]]\n",
    "print(len(mrsty_org))"
   ]
  },
  {
   "cell_type": "code",
   "execution_count": 18,
   "id": "e99d5faf",
   "metadata": {},
   "outputs": [
    {
     "name": "stdout",
     "output_type": "stream",
     "text": [
      "mrsty.rrf のうち T184_CUI: 14281\n",
      "T184_CUI 紐づけらるHPO: 216\n",
      "phenotype_dfのHPOのうち T184にあたるHPOの件数: 176\n"
     ]
    }
   ],
   "source": [
    "#T184を持つCUI\n",
    "t184_cui = mrsty_org[ mrsty_org[\"TUI\"] == \"T184\"][\"CUI\"].values.tolist()\n",
    "print(\"mrsty.rrf のうち T184_CUI:\", len(t184_cui))\n",
    "\n",
    "#UMLSのT184に紐づけられたCUI。HPOオントロジーではHPOとCUIが紐づけられているので、CUIを使ってT184とHPOがマッピングできる\n",
    "#HPO_CUIのペアのうち、T184_CUIとペアになっているHPOを取り出す\n",
    "t184_hp = sorted(list(set([ i[0] for i in hp_umls  if i[1] in t184_cui])))\n",
    "print(\"T184_CUI 紐づけらるHPO:\", len(t184_hp))\n",
    "\n",
    "#subsetのHPOのうち T184にあたるHPOの件数\n",
    "print(\"phenotype_dfのHPOのうち T184にあたるHPOの件数:\", len(set(phenotype_df[\"HP\"].values.tolist()) & set(t184_hp)))"
   ]
  },
  {
   "cell_type": "code",
   "execution_count": 19,
   "id": "71c436d9",
   "metadata": {},
   "outputs": [
    {
     "name": "stdout",
     "output_type": "stream",
     "text": [
      "7238 HP: 176 OMIM: 3509\n"
     ]
    }
   ],
   "source": [
    "#アノテーションデータをT184_HPOで絞り込む\n",
    "t184_index = [enu for enu, i in enumerate(phenotype_df[\"HP\"])  if i in t184_hp]\n",
    "phenotype_df_t184= phenotype_df.iloc[t184_index].reset_index(drop=True)\n",
    "print(len(phenotype_df_t184), \"HP:\", phenotype_df_t184[\"HP\"].nunique(), \"OMIM:\", phenotype_df_t184[\"OMIM\"].nunique())"
   ]
  },
  {
   "cell_type": "code",
   "execution_count": 20,
   "id": "7f4d4bf7",
   "metadata": {},
   "outputs": [
    {
     "name": "stdout",
     "output_type": "stream",
     "text": [
      "3509 4051\n"
     ]
    }
   ],
   "source": [
    "print(phenotype_df_t184[\"OMIM\"].nunique(), ctd[\"OMIM\"].nunique())"
   ]
  },
  {
   "cell_type": "code",
   "execution_count": 21,
   "id": "3849bfdf",
   "metadata": {},
   "outputs": [
    {
     "name": "stdout",
     "output_type": "stream",
     "text": [
      "3645\n"
     ]
    },
    {
     "data": {
      "text/plain": [
       "[['HP', 165], ['OMIM', 1669], ['MESH', 1431]]"
      ]
     },
     "execution_count": 21,
     "metadata": {},
     "output_type": "execute_result"
    }
   ],
   "source": [
    "#アノテーションデータを症状タームで限定した（T184にあたるHPOのみ）\n",
    "#さらに疾患タームで限定する（MESHに置換できるOMIMのみ）\n",
    "#subset\n",
    "\n",
    "subset = pd.merge(phenotype_df_t184, ctd)\n",
    "print(len(subset))\n",
    "[ [i, subset[i].nunique()] for i in subset.columns]"
   ]
  },
  {
   "cell_type": "code",
   "execution_count": 22,
   "id": "8be56251",
   "metadata": {},
   "outputs": [
    {
     "name": "stdout",
     "output_type": "stream",
     "text": [
      "3368\n"
     ]
    },
    {
     "data": {
      "text/plain": [
       "1     3211\n",
       "2      107\n",
       "3       21\n",
       "4       13\n",
       "5        7\n",
       "6        3\n",
       "8        2\n",
       "7        2\n",
       "10       1\n",
       "12       1\n",
       "Name: co_occurrence, dtype: int64"
      ]
     },
     "execution_count": 22,
     "metadata": {},
     "output_type": "execute_result"
    }
   ],
   "source": [
    "#MESH-HPOを疾患-症状の共起データとし、症状HPOを共有する疾患ー疾患ネットワークを作る\n",
    "co_occ_pair = pd.DataFrame(subset.groupby(['HP', 'MESH']).size()).reset_index()\n",
    "co_occ_pair = co_occ_pair.rename(columns={0:'co_occurrence'})\n",
    "co_occ_pair = co_occ_pair.sort_values(by = \"co_occurrence\", ascending=False).reset_index(drop=True)\n",
    "print(len(co_occ_pair))\n",
    "co_occ_pair[\"co_occurrence\"].value_counts()"
   ]
  },
  {
   "cell_type": "code",
   "execution_count": 23,
   "id": "5a20acc7",
   "metadata": {},
   "outputs": [],
   "source": [
    "#HPO_IDでグルーピング　同じHPOを持つMESH同士がまとまる\n",
    "group = co_occ_pair.groupby(\"HP\").agg({\"MESH\":list}) "
   ]
  },
  {
   "cell_type": "code",
   "execution_count": 24,
   "id": "fa37efef",
   "metadata": {},
   "outputs": [
    {
     "data": {
      "application/vnd.jupyter.widget-view+json": {
       "model_id": "78d7c1cefe06450ab3a2ff4e41855e96",
       "version_major": 2,
       "version_minor": 0
      },
      "text/plain": [
       "  0%|          | 0/165 [00:00<?, ?it/s]"
      ]
     },
     "metadata": {},
     "output_type": "display_data"
    },
    {
     "name": "stdout",
     "output_type": "stream",
     "text": [
      "182161 ---> 173069\n"
     ]
    }
   ],
   "source": [
    "#HPOごとに、そのHPOを共有するMESH同士をつなげる\n",
    "\n",
    "bm_pair = []\n",
    "for mesh in tqdm(group[\"MESH\"]):\n",
    "    \n",
    "    #omimの組み合わせを作る\n",
    "    pairs = list(itertools.combinations(mesh, 2))\n",
    "    \n",
    "    #その組み合わせからペアを取り出す\n",
    "    for each_pair in pairs:\n",
    "        bm_pair.append(each_pair)\n",
    "\n",
    "benchmark_pair = list(set(bm_pair))\n",
    "print(len(bm_pair), \"--->\", len(benchmark_pair))"
   ]
  },
  {
   "cell_type": "code",
   "execution_count": 25,
   "id": "a0448ae0",
   "metadata": {},
   "outputs": [
    {
     "name": "stdout",
     "output_type": "stream",
     "text": [
      "benchmark: Name: \n",
      "Type: Graph\n",
      "Number of nodes: 1424\n",
      "Number of edges: 165320\n",
      "Average degree: 232.1910 \n",
      "\n"
     ]
    }
   ],
   "source": [
    "#エッジリスト用データフレームにする\n",
    "benchmark = pd.DataFrame(list(benchmark_pair), columns=[\"disease_1\", \"disease_2\"] )\n",
    "\n",
    "#エッジリスト読込・ネットワーク作成\n",
    "\n",
    "import networkx as nx\n",
    "bench_G = nx.from_pandas_edgelist(benchmark, \"disease_1\", \"disease_2\" )\n",
    "\n",
    "print(\"benchmark:\", nx.info(bench_G), \"\\n\")"
   ]
  },
  {
   "cell_type": "code",
   "execution_count": 26,
   "id": "e9698f82",
   "metadata": {},
   "outputs": [],
   "source": [
    "#セマンティックネットワークの再構築"
   ]
  },
  {
   "cell_type": "code",
   "execution_count": 27,
   "id": "78ce8e2e",
   "metadata": {
    "scrolled": false
   },
   "outputs": [
    {
     "name": "stdout",
     "output_type": "stream",
     "text": [
      "MRCONSO.RRF.aa.gz\n"
     ]
    }
   ],
   "source": [
    "print(file_6)\n",
    "mrconso_aa_org = pd.read_csv(file_6, sep=\"\\|\", header=None, engine=\"python\")\n",
    "mrconso_aa_org.columns= conso_col + [0]\n",
    "mrconso_aa_org = mrconso_aa_org.iloc[:,:len(conso_col)]"
   ]
  },
  {
   "cell_type": "code",
   "execution_count": 28,
   "id": "1c597170",
   "metadata": {},
   "outputs": [
    {
     "name": "stdout",
     "output_type": "stream",
     "text": [
      "MRCONSO.RRF.ab.gz\n"
     ]
    }
   ],
   "source": [
    "print(file_7)\n",
    "mrconso_ab_org = pd.read_csv(file_7, sep=\"\\|\", header=None, engine=\"python\")\n",
    "mrconso_ab_org = mrconso_ab_org.reset_index() #必要\n",
    "mrconso_ab_org.columns=conso_col + [0]\n",
    "mrconso_ab_org = mrconso_ab_org.iloc[:,:len(conso_col)]\n"
   ]
  },
  {
   "cell_type": "code",
   "execution_count": 29,
   "id": "f9d84c5f",
   "metadata": {},
   "outputs": [
    {
     "name": "stdout",
     "output_type": "stream",
     "text": [
      "18 ['C1507708', 'ENG', 'S', 'L8533703', 'PF', 'S10618931', 'Y', 'A18343928', nan, '35548-7', nan, 'LNC', 'LC', '35548-7', 'Fusarium moniliforme IgG Ab [Mass/volume] in Serum', '0', 'N', nan]\n"
     ]
    }
   ],
   "source": [
    "#mrconso_aa_orgの最後の行のデータの続きが mrconso_ab_orgの一行目にある。\n",
    "#データをくっつけて一行にする\n",
    "data = [i for i in mrconso_aa_org[-1:].values.tolist()[0]] +  [i for i in mrconso_ab_org[:1].values.tolist()[0]]\n",
    "#[[enu,i] for enu, i in enumerate(data)]\n",
    "\n",
    "rewrite_data = data[:3] + [str(data[3])+ str(data[18])] + data[19:-3]\n",
    "print(len(rewrite_data), rewrite_data)"
   ]
  },
  {
   "cell_type": "code",
   "execution_count": 30,
   "id": "b46f8778",
   "metadata": {},
   "outputs": [],
   "source": [
    "tmp_df = pd.DataFrame(data=rewrite_data).T\n",
    "tmp_df.columns=conso_col"
   ]
  },
  {
   "cell_type": "code",
   "execution_count": 31,
   "id": "e6f2be3b",
   "metadata": {},
   "outputs": [
    {
     "name": "stdout",
     "output_type": "stream",
     "text": [
      "8683998 8683997 7859674 7859674\n"
     ]
    }
   ],
   "source": [
    "#データフレーム調整\n",
    "mrconso_aa = mrconso_aa_org[:-1]\n",
    "mrconso_ab = mrconso_ab_org.append(tmp_df)[1:].sort_index() #mrconso_ab_org.update(df)\n",
    "print(len(mrconso_aa_org), len(mrconso_aa), len(mrconso_ab_org), len(mrconso_ab) )"
   ]
  },
  {
   "cell_type": "code",
   "execution_count": 32,
   "id": "47b375f2",
   "metadata": {
    "scrolled": true
   },
   "outputs": [
    {
     "name": "stdout",
     "output_type": "stream",
     "text": [
      "16543671\n"
     ]
    }
   ],
   "source": [
    "#mrconso_aa, mrconso_ab 合体\n",
    "conso = pd.concat([mrconso_aa, mrconso_ab ] )\n",
    "conso = conso.reset_index(drop=True)\n",
    "print(len(conso))#hpo[\"LAT\"].unique() #ENGのみ\n",
    "#conso.to_csv(\"conso_2021AB.csv\", index=False)"
   ]
  },
  {
   "cell_type": "code",
   "execution_count": 33,
   "id": "41930d46",
   "metadata": {},
   "outputs": [],
   "source": [
    "conso.to_csv(\"conso_2021AB.csv\", index=False)"
   ]
  },
  {
   "cell_type": "code",
   "execution_count": 34,
   "id": "f7a0874c",
   "metadata": {},
   "outputs": [
    {
     "data": {
      "text/plain": [
       "273619"
      ]
     },
     "execution_count": 34,
     "metadata": {},
     "output_type": "execute_result"
    }
   ],
   "source": [
    "#CUI, HPO, STR(ターム名）\n",
    "\n",
    "#HPO ONTOLOGY の HPO-CUI\n",
    "hp_umls_df = pd.DataFrame(hp_umls, columns=[\"HPO\", \"CUI\"])\n",
    "#CONSO の CUI-STR(各ソースでの名前) と合わせる\n",
    "conso_hp_cui = pd.merge(hp_umls_df, conso[[\"CUI\", \"STR\"]] ) #CUI-STR(各ソースでの名前)\n",
    "conso_hp_cui = conso_hp_cui[~conso_hp_cui.duplicated()]\n",
    "len(conso_hp_cui)"
   ]
  },
  {
   "cell_type": "code",
   "execution_count": 35,
   "id": "01345e0b",
   "metadata": {},
   "outputs": [
    {
     "name": "stdout",
     "output_type": "stream",
     "text": [
      "273952 12712 33 11486\n"
     ]
    },
    {
     "data": {
      "text/html": [
       "<div>\n",
       "<style scoped>\n",
       "    .dataframe tbody tr th:only-of-type {\n",
       "        vertical-align: middle;\n",
       "    }\n",
       "\n",
       "    .dataframe tbody tr th {\n",
       "        vertical-align: top;\n",
       "    }\n",
       "\n",
       "    .dataframe thead th {\n",
       "        text-align: right;\n",
       "    }\n",
       "</style>\n",
       "<table border=\"1\" class=\"dataframe\">\n",
       "  <thead>\n",
       "    <tr style=\"text-align: right;\">\n",
       "      <th></th>\n",
       "      <th>CUI</th>\n",
       "      <th>TUI</th>\n",
       "      <th>HPO</th>\n",
       "      <th>STR</th>\n",
       "    </tr>\n",
       "  </thead>\n",
       "  <tbody>\n",
       "    <tr>\n",
       "      <th>0</th>\n",
       "      <td>C0000731</td>\n",
       "      <td>T033</td>\n",
       "      <td>HP:0003270</td>\n",
       "      <td>ABDOMENAREN BOLUMEN ALDAKETA/ABDOMEN HAUNDITZEA</td>\n",
       "    </tr>\n",
       "    <tr>\n",
       "      <th>1</th>\n",
       "      <td>C0000731</td>\n",
       "      <td>T033</td>\n",
       "      <td>HP:0003270</td>\n",
       "      <td>Břišní distenze</td>\n",
       "    </tr>\n",
       "    <tr>\n",
       "      <th>2</th>\n",
       "      <td>C0000731</td>\n",
       "      <td>T033</td>\n",
       "      <td>HP:0003270</td>\n",
       "      <td>Vzedmuté břicho</td>\n",
       "    </tr>\n",
       "    <tr>\n",
       "      <th>3</th>\n",
       "      <td>C0000731</td>\n",
       "      <td>T033</td>\n",
       "      <td>HP:0003270</td>\n",
       "      <td>Zduřené břicho</td>\n",
       "    </tr>\n",
       "    <tr>\n",
       "      <th>4</th>\n",
       "      <td>C0000731</td>\n",
       "      <td>T033</td>\n",
       "      <td>HP:0003270</td>\n",
       "      <td>AEndring af abdom omfang/udspiling</td>\n",
       "    </tr>\n",
       "  </tbody>\n",
       "</table>\n",
       "</div>"
      ],
      "text/plain": [
       "        CUI   TUI         HPO                                              STR\n",
       "0  C0000731  T033  HP:0003270  ABDOMENAREN BOLUMEN ALDAKETA/ABDOMEN HAUNDITZEA\n",
       "1  C0000731  T033  HP:0003270                                  Břišní distenze\n",
       "2  C0000731  T033  HP:0003270                                  Vzedmuté břicho\n",
       "3  C0000731  T033  HP:0003270                                   Zduřené břicho\n",
       "4  C0000731  T033  HP:0003270               AEndring af abdom omfang/udspiling"
      ]
     },
     "execution_count": 35,
     "metadata": {},
     "output_type": "execute_result"
    }
   ],
   "source": [
    "#セマンティックデータ(CUI-TUI) と合わせる\n",
    "#CUI-TUI-HPO-STR(C各ソースでの名前）がつながる\n",
    "semtypes = pd.merge(mrsty_org, conso_hp_cui ) \n",
    "print(len(semtypes), len(semtypes[\"CUI\"].unique()), len(semtypes[\"TUI\"].unique()), len(semtypes[\"HPO\"].unique()))\n",
    "semtypes[:5]"
   ]
  },
  {
   "cell_type": "code",
   "execution_count": 36,
   "id": "f2fefbb5",
   "metadata": {},
   "outputs": [
    {
     "name": "stdout",
     "output_type": "stream",
     "text": [
      "273952\n"
     ]
    }
   ],
   "source": [
    "#HPO名を割り当てる\n",
    "semtypes[\"HPO_name\"] = [ont[i].name for i in semtypes[\"HPO\"]]\n",
    "semtypes[\"HPO_id_name\"] = [ont[i].name + '(' + i + ')' for i in semtypes[\"HPO\"]]\n",
    "semtypes[\"CUI_STR\"] = [ i[0] + '(' + i[1] + ')' for i in semtypes[[\"CUI\", \"STR\"]].values.tolist() ]\n",
    "semtypes = semtypes[[\"HPO_id_name\", \"HPO\", \"CUI\", \"CUI_STR\",\"TUI\"]]\n",
    "print(len(semtypes))"
   ]
  },
  {
   "cell_type": "code",
   "execution_count": 37,
   "id": "0b3033ec",
   "metadata": {},
   "outputs": [
    {
     "data": {
      "text/html": [
       "<div>\n",
       "<style scoped>\n",
       "    .dataframe tbody tr th:only-of-type {\n",
       "        vertical-align: middle;\n",
       "    }\n",
       "\n",
       "    .dataframe tbody tr th {\n",
       "        vertical-align: top;\n",
       "    }\n",
       "\n",
       "    .dataframe thead th {\n",
       "        text-align: right;\n",
       "    }\n",
       "</style>\n",
       "<table border=\"1\" class=\"dataframe\">\n",
       "  <thead>\n",
       "    <tr style=\"text-align: right;\">\n",
       "      <th></th>\n",
       "      <th>HPO_id_name</th>\n",
       "      <th>HPO</th>\n",
       "      <th>CUI</th>\n",
       "      <th>CUI_STR</th>\n",
       "      <th>TUI</th>\n",
       "    </tr>\n",
       "  </thead>\n",
       "  <tbody>\n",
       "    <tr>\n",
       "      <th>0</th>\n",
       "      <td>Abdominal distention(HP:0003270)</td>\n",
       "      <td>HP:0003270</td>\n",
       "      <td>C0000731</td>\n",
       "      <td>C0000731(ABDOMENAREN BOLUMEN ALDAKETA/ABDOMEN ...</td>\n",
       "      <td>T033</td>\n",
       "    </tr>\n",
       "    <tr>\n",
       "      <th>1</th>\n",
       "      <td>Abdominal distention(HP:0003270)</td>\n",
       "      <td>HP:0003270</td>\n",
       "      <td>C0000731</td>\n",
       "      <td>C0000731(Břišní distenze)</td>\n",
       "      <td>T033</td>\n",
       "    </tr>\n",
       "    <tr>\n",
       "      <th>2</th>\n",
       "      <td>Abdominal distention(HP:0003270)</td>\n",
       "      <td>HP:0003270</td>\n",
       "      <td>C0000731</td>\n",
       "      <td>C0000731(Vzedmuté břicho)</td>\n",
       "      <td>T033</td>\n",
       "    </tr>\n",
       "    <tr>\n",
       "      <th>3</th>\n",
       "      <td>Abdominal distention(HP:0003270)</td>\n",
       "      <td>HP:0003270</td>\n",
       "      <td>C0000731</td>\n",
       "      <td>C0000731(Zduřené břicho)</td>\n",
       "      <td>T033</td>\n",
       "    </tr>\n",
       "    <tr>\n",
       "      <th>4</th>\n",
       "      <td>Abdominal distention(HP:0003270)</td>\n",
       "      <td>HP:0003270</td>\n",
       "      <td>C0000731</td>\n",
       "      <td>C0000731(AEndring af abdom omfang/udspiling)</td>\n",
       "      <td>T033</td>\n",
       "    </tr>\n",
       "  </tbody>\n",
       "</table>\n",
       "</div>"
      ],
      "text/plain": [
       "                        HPO_id_name         HPO       CUI  \\\n",
       "0  Abdominal distention(HP:0003270)  HP:0003270  C0000731   \n",
       "1  Abdominal distention(HP:0003270)  HP:0003270  C0000731   \n",
       "2  Abdominal distention(HP:0003270)  HP:0003270  C0000731   \n",
       "3  Abdominal distention(HP:0003270)  HP:0003270  C0000731   \n",
       "4  Abdominal distention(HP:0003270)  HP:0003270  C0000731   \n",
       "\n",
       "                                             CUI_STR   TUI  \n",
       "0  C0000731(ABDOMENAREN BOLUMEN ALDAKETA/ABDOMEN ...  T033  \n",
       "1                          C0000731(Břišní distenze)  T033  \n",
       "2                          C0000731(Vzedmuté břicho)  T033  \n",
       "3                           C0000731(Zduřené břicho)  T033  \n",
       "4       C0000731(AEndring af abdom omfang/udspiling)  T033  "
      ]
     },
     "execution_count": 37,
     "metadata": {},
     "output_type": "execute_result"
    }
   ],
   "source": [
    "semtypes[:5]"
   ]
  },
  {
   "cell_type": "code",
   "execution_count": 38,
   "id": "138ab8e5",
   "metadata": {},
   "outputs": [
    {
     "data": {
      "text/html": [
       "<div>\n",
       "<style scoped>\n",
       "    .dataframe tbody tr th:only-of-type {\n",
       "        vertical-align: middle;\n",
       "    }\n",
       "\n",
       "    .dataframe tbody tr th {\n",
       "        vertical-align: top;\n",
       "    }\n",
       "\n",
       "    .dataframe thead th {\n",
       "        text-align: right;\n",
       "    }\n",
       "</style>\n",
       "<table border=\"1\" class=\"dataframe\">\n",
       "  <thead>\n",
       "    <tr style=\"text-align: right;\">\n",
       "      <th></th>\n",
       "      <th>HPO_id_name</th>\n",
       "      <th>HPO</th>\n",
       "      <th>CUI</th>\n",
       "      <th>CUI_STR</th>\n",
       "      <th>TUI</th>\n",
       "    </tr>\n",
       "  </thead>\n",
       "  <tbody>\n",
       "    <tr>\n",
       "      <th>0</th>\n",
       "      <td>Abdominal distention(HP:0003270)</td>\n",
       "      <td>HP:0003270</td>\n",
       "      <td>C0000731</td>\n",
       "      <td>C0000731(ABDOMENAREN BOLUMEN ALDAKETA/ABDOMEN ...</td>\n",
       "      <td>T033</td>\n",
       "    </tr>\n",
       "    <tr>\n",
       "      <th>1</th>\n",
       "      <td>Abdominal distention(HP:0003270)</td>\n",
       "      <td>HP:0003270</td>\n",
       "      <td>C0000731</td>\n",
       "      <td>C0000731(Břišní distenze)</td>\n",
       "      <td>T033</td>\n",
       "    </tr>\n",
       "    <tr>\n",
       "      <th>2</th>\n",
       "      <td>Abdominal distention(HP:0003270)</td>\n",
       "      <td>HP:0003270</td>\n",
       "      <td>C0000731</td>\n",
       "      <td>C0000731(Vzedmuté břicho)</td>\n",
       "      <td>T033</td>\n",
       "    </tr>\n",
       "    <tr>\n",
       "      <th>3</th>\n",
       "      <td>Abdominal distention(HP:0003270)</td>\n",
       "      <td>HP:0003270</td>\n",
       "      <td>C0000731</td>\n",
       "      <td>C0000731(Zduřené břicho)</td>\n",
       "      <td>T033</td>\n",
       "    </tr>\n",
       "    <tr>\n",
       "      <th>4</th>\n",
       "      <td>Abdominal distention(HP:0003270)</td>\n",
       "      <td>HP:0003270</td>\n",
       "      <td>C0000731</td>\n",
       "      <td>C0000731(AEndring af abdom omfang/udspiling)</td>\n",
       "      <td>T033</td>\n",
       "    </tr>\n",
       "  </tbody>\n",
       "</table>\n",
       "</div>"
      ],
      "text/plain": [
       "                        HPO_id_name         HPO       CUI  \\\n",
       "0  Abdominal distention(HP:0003270)  HP:0003270  C0000731   \n",
       "1  Abdominal distention(HP:0003270)  HP:0003270  C0000731   \n",
       "2  Abdominal distention(HP:0003270)  HP:0003270  C0000731   \n",
       "3  Abdominal distention(HP:0003270)  HP:0003270  C0000731   \n",
       "4  Abdominal distention(HP:0003270)  HP:0003270  C0000731   \n",
       "\n",
       "                                             CUI_STR   TUI  \n",
       "0  C0000731(ABDOMENAREN BOLUMEN ALDAKETA/ABDOMEN ...  T033  \n",
       "1                          C0000731(Břišní distenze)  T033  \n",
       "2                          C0000731(Vzedmuté břicho)  T033  \n",
       "3                           C0000731(Zduřené břicho)  T033  \n",
       "4       C0000731(AEndring af abdom omfang/udspiling)  T033  "
      ]
     },
     "execution_count": 38,
     "metadata": {},
     "output_type": "execute_result"
    }
   ],
   "source": [
    "semtypes[:5]"
   ]
  },
  {
   "cell_type": "code",
   "execution_count": 39,
   "id": "4f0d443b",
   "metadata": {},
   "outputs": [
    {
     "name": "stdout",
     "output_type": "stream",
     "text": [
      "SRFIL\n"
     ]
    }
   ],
   "source": [
    "#TUI名を割り当てる\n",
    "#https://lhncbc.nlm.nih.gov/semanticnetwork/SemanticNetworkArchive.html\n",
    "#SN_2012AA - SRDEF, SRFIL\n",
    "#SRFILファイルから　SRDEFファイルの列名をS取得\n",
    "\n",
    "print(file_8)\n",
    "srfil = pd.read_table(file_8, sep=\"\\|\", header=None, engine='python')\n",
    "srfil[\"col_name\"] = srfil [2].str.split(\",\")\n",
    "srdef_col = srfil[srfil [0] ==\"SRDEF\"][\"col_name\"].values.tolist()[0] \n",
    "\n",
    "srdef = pd.read_table(\"SRDEF\", sep=\"\\|\", header=None, engine='python')\n",
    "srdef.columns= srdef_col+[0]\n",
    "srdef = srdef.iloc[:, :-1]\n",
    "srdef[ (srdef[\"RT\"] == \"STY\") & (srdef[\"UI\"] == \"T184\")]\n",
    "\n",
    "tui_name = srdef[ (srdef[\"RT\"] == \"STY\") ][[\"UI\", \"STY/RL\"]]\n",
    "tui_name = tui_name.rename(columns={\"UI\":\"TUI\", \"STY/RL\":\"TUI_name\"})\n"
   ]
  },
  {
   "cell_type": "code",
   "execution_count": 40,
   "id": "6a4d28df",
   "metadata": {},
   "outputs": [
    {
     "name": "stdout",
     "output_type": "stream",
     "text": [
      "273952\n"
     ]
    },
    {
     "data": {
      "text/plain": [
       "[['HPO_id_name', 11486],\n",
       " ['HPO', 11486],\n",
       " ['CUI', 12712],\n",
       " ['CUI_STR', 261353],\n",
       " ['TUI', 33],\n",
       " ['TUI_name', 33]]"
      ]
     },
     "execution_count": 40,
     "metadata": {},
     "output_type": "execute_result"
    }
   ],
   "source": [
    "df = pd.merge(semtypes, tui_name)\n",
    "print(len(df))\n",
    "[ [i, df[i].nunique()] for i in df.columns]"
   ]
  },
  {
   "cell_type": "code",
   "execution_count": 41,
   "id": "f8157a78",
   "metadata": {},
   "outputs": [
    {
     "data": {
      "text/plain": [
       "33"
      ]
     },
     "execution_count": 41,
     "metadata": {},
     "output_type": "execute_result"
    }
   ],
   "source": [
    "#集計\n",
    "shukei_df = df.groupby([\"TUI\", \"TUI_name\"]).agg({'CUI':list, \"HPO\":list})\n",
    "\n",
    "shukei_df[\"CUI\"] = [list(set(i)) for i in shukei_df[\"CUI\"]]\n",
    "shukei_df[\"HPO\"] = [list(set(i)) for i in shukei_df[\"HPO\"]]\n",
    "\n",
    "shukei_df[\"CUI_num\"] = [len(i) for i in shukei_df[\"CUI\"]]\n",
    "shukei_df[\"HPO_num\"] = [len(i) for i in shukei_df[\"HPO\"]]\n",
    "\n",
    "shukei_df = shukei_df.reset_index()\n",
    "len(shukei_df)"
   ]
  },
  {
   "cell_type": "code",
   "execution_count": 42,
   "id": "3f3b780d",
   "metadata": {},
   "outputs": [
    {
     "data": {
      "text/html": [
       "<div>\n",
       "<style scoped>\n",
       "    .dataframe tbody tr th:only-of-type {\n",
       "        vertical-align: middle;\n",
       "    }\n",
       "\n",
       "    .dataframe tbody tr th {\n",
       "        vertical-align: top;\n",
       "    }\n",
       "\n",
       "    .dataframe thead th {\n",
       "        text-align: right;\n",
       "    }\n",
       "</style>\n",
       "<table border=\"1\" class=\"dataframe\">\n",
       "  <thead>\n",
       "    <tr style=\"text-align: right;\">\n",
       "      <th></th>\n",
       "      <th>TUI</th>\n",
       "      <th>TUI_name</th>\n",
       "      <th>CUI_num</th>\n",
       "    </tr>\n",
       "  </thead>\n",
       "  <tbody>\n",
       "    <tr>\n",
       "      <th>0</th>\n",
       "      <td>T033</td>\n",
       "      <td>Finding</td>\n",
       "      <td>5164</td>\n",
       "    </tr>\n",
       "    <tr>\n",
       "      <th>1</th>\n",
       "      <td>T190</td>\n",
       "      <td>Anatomical Abnormality</td>\n",
       "      <td>3005</td>\n",
       "    </tr>\n",
       "    <tr>\n",
       "      <th>2</th>\n",
       "      <td>T047</td>\n",
       "      <td>Disease or Syndrome</td>\n",
       "      <td>2147</td>\n",
       "    </tr>\n",
       "    <tr>\n",
       "      <th>3</th>\n",
       "      <td>T019</td>\n",
       "      <td>Congenital Abnormality</td>\n",
       "      <td>951</td>\n",
       "    </tr>\n",
       "    <tr>\n",
       "      <th>4</th>\n",
       "      <td>T191</td>\n",
       "      <td>Neoplastic Process</td>\n",
       "      <td>517</td>\n",
       "    </tr>\n",
       "    <tr>\n",
       "      <th>5</th>\n",
       "      <td>T046</td>\n",
       "      <td>Pathologic Function</td>\n",
       "      <td>383</td>\n",
       "    </tr>\n",
       "    <tr>\n",
       "      <th>6</th>\n",
       "      <td>T184</td>\n",
       "      <td>Sign or Symptom</td>\n",
       "      <td>218</td>\n",
       "    </tr>\n",
       "    <tr>\n",
       "      <th>7</th>\n",
       "      <td>T048</td>\n",
       "      <td>Mental or Behavioral Dysfunction</td>\n",
       "      <td>127</td>\n",
       "    </tr>\n",
       "    <tr>\n",
       "      <th>8</th>\n",
       "      <td>T037</td>\n",
       "      <td>Injury or Poisoning</td>\n",
       "      <td>39</td>\n",
       "    </tr>\n",
       "    <tr>\n",
       "      <th>9</th>\n",
       "      <td>T020</td>\n",
       "      <td>Acquired Abnormality</td>\n",
       "      <td>34</td>\n",
       "    </tr>\n",
       "  </tbody>\n",
       "</table>\n",
       "</div>"
      ],
      "text/plain": [
       "    TUI                          TUI_name  CUI_num\n",
       "0  T033                           Finding     5164\n",
       "1  T190            Anatomical Abnormality     3005\n",
       "2  T047               Disease or Syndrome     2147\n",
       "3  T019            Congenital Abnormality      951\n",
       "4  T191                Neoplastic Process      517\n",
       "5  T046               Pathologic Function      383\n",
       "6  T184                   Sign or Symptom      218\n",
       "7  T048  Mental or Behavioral Dysfunction      127\n",
       "8  T037               Injury or Poisoning       39\n",
       "9  T020              Acquired Abnormality       34"
      ]
     },
     "execution_count": 42,
     "metadata": {},
     "output_type": "execute_result"
    }
   ],
   "source": [
    "cui_freq = shukei_df[[\"TUI\", \"TUI_name\", \"CUI_num\"]].sort_values(\"CUI_num\", ascending=False).reset_index(drop=True)\n",
    "cui_freq[:10]"
   ]
  },
  {
   "cell_type": "code",
   "execution_count": 43,
   "id": "33fdce2a",
   "metadata": {},
   "outputs": [
    {
     "data": {
      "text/html": [
       "<div>\n",
       "<style scoped>\n",
       "    .dataframe tbody tr th:only-of-type {\n",
       "        vertical-align: middle;\n",
       "    }\n",
       "\n",
       "    .dataframe tbody tr th {\n",
       "        vertical-align: top;\n",
       "    }\n",
       "\n",
       "    .dataframe thead th {\n",
       "        text-align: right;\n",
       "    }\n",
       "</style>\n",
       "<table border=\"1\" class=\"dataframe\">\n",
       "  <thead>\n",
       "    <tr style=\"text-align: right;\">\n",
       "      <th></th>\n",
       "      <th>TUI</th>\n",
       "      <th>TUI_name</th>\n",
       "      <th>HPO_num</th>\n",
       "    </tr>\n",
       "  </thead>\n",
       "  <tbody>\n",
       "    <tr>\n",
       "      <th>0</th>\n",
       "      <td>T033</td>\n",
       "      <td>Finding</td>\n",
       "      <td>4644</td>\n",
       "    </tr>\n",
       "    <tr>\n",
       "      <th>1</th>\n",
       "      <td>T190</td>\n",
       "      <td>Anatomical Abnormality</td>\n",
       "      <td>2964</td>\n",
       "    </tr>\n",
       "    <tr>\n",
       "      <th>2</th>\n",
       "      <td>T047</td>\n",
       "      <td>Disease or Syndrome</td>\n",
       "      <td>2069</td>\n",
       "    </tr>\n",
       "    <tr>\n",
       "      <th>3</th>\n",
       "      <td>T019</td>\n",
       "      <td>Congenital Abnormality</td>\n",
       "      <td>944</td>\n",
       "    </tr>\n",
       "    <tr>\n",
       "      <th>4</th>\n",
       "      <td>T191</td>\n",
       "      <td>Neoplastic Process</td>\n",
       "      <td>498</td>\n",
       "    </tr>\n",
       "    <tr>\n",
       "      <th>5</th>\n",
       "      <td>T046</td>\n",
       "      <td>Pathologic Function</td>\n",
       "      <td>371</td>\n",
       "    </tr>\n",
       "    <tr>\n",
       "      <th>6</th>\n",
       "      <td>T184</td>\n",
       "      <td>Sign or Symptom</td>\n",
       "      <td>216</td>\n",
       "    </tr>\n",
       "    <tr>\n",
       "      <th>7</th>\n",
       "      <td>T048</td>\n",
       "      <td>Mental or Behavioral Dysfunction</td>\n",
       "      <td>120</td>\n",
       "    </tr>\n",
       "    <tr>\n",
       "      <th>8</th>\n",
       "      <td>T037</td>\n",
       "      <td>Injury or Poisoning</td>\n",
       "      <td>38</td>\n",
       "    </tr>\n",
       "    <tr>\n",
       "      <th>9</th>\n",
       "      <td>T020</td>\n",
       "      <td>Acquired Abnormality</td>\n",
       "      <td>34</td>\n",
       "    </tr>\n",
       "    <tr>\n",
       "      <th>10</th>\n",
       "      <td>T049</td>\n",
       "      <td>Cell or Molecular Dysfunction</td>\n",
       "      <td>27</td>\n",
       "    </tr>\n",
       "  </tbody>\n",
       "</table>\n",
       "</div>"
      ],
      "text/plain": [
       "     TUI                          TUI_name  HPO_num\n",
       "0   T033                           Finding     4644\n",
       "1   T190            Anatomical Abnormality     2964\n",
       "2   T047               Disease or Syndrome     2069\n",
       "3   T019            Congenital Abnormality      944\n",
       "4   T191                Neoplastic Process      498\n",
       "5   T046               Pathologic Function      371\n",
       "6   T184                   Sign or Symptom      216\n",
       "7   T048  Mental or Behavioral Dysfunction      120\n",
       "8   T037               Injury or Poisoning       38\n",
       "9   T020              Acquired Abnormality       34\n",
       "10  T049     Cell or Molecular Dysfunction       27"
      ]
     },
     "execution_count": 43,
     "metadata": {},
     "output_type": "execute_result"
    }
   ],
   "source": [
    "hpid_freq= shukei_df[[\"TUI\", \"TUI_name\", \"HPO_num\"]].sort_values(\"HPO_num\", ascending=False).reset_index(drop=True)\n",
    "hpid_freq[:11]"
   ]
  }
 ],
 "metadata": {
  "kernelspec": {
   "display_name": "Python 3",
   "language": "python",
   "name": "python3"
  },
  "language_info": {
   "codemirror_mode": {
    "name": "ipython",
    "version": 3
   },
   "file_extension": ".py",
   "mimetype": "text/x-python",
   "name": "python",
   "nbconvert_exporter": "python",
   "pygments_lexer": "ipython3",
   "version": "3.8.8"
  }
 },
 "nbformat": 4,
 "nbformat_minor": 5
}
